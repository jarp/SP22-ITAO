{
 "cells": [
  {
   "cell_type": "markdown",
   "metadata": {},
   "source": [
    "## Nested Conditionals"
   ]
  },
  {
   "cell_type": "code",
   "execution_count": 1,
   "metadata": {},
   "outputs": [
    {
     "name": "stdout",
     "output_type": "stream",
     "text": [
      "well at least a is greater than b\n",
      "done...\n"
     ]
    }
   ],
   "source": [
    "a = 1000000000\n",
    "b = 5000000\n",
    "c = 2000\n",
    "if a > b:\n",
    "    if a < c:\n",
    "        print(\"The value of a is between b and c\")\n",
    "    print(\"well at least a is greater than b\")\n",
    "print('done...')"
   ]
  },
  {
   "cell_type": "code",
   "execution_count": 2,
   "metadata": {},
   "outputs": [
    {
     "name": "stdout",
     "output_type": "stream",
     "text": [
      "The value of a is NOT NOT NOT between b and c\n"
     ]
    }
   ],
   "source": [
    "a = 50\n",
    "b = 5\n",
    "c = 20\n",
    "if a > b:\n",
    "    if a < c:\n",
    "        print(\"The value of a is between b and c\")\n",
    "    else:\n",
    "        print(\"The value of a is NOT NOT NOT between b and c\")\n",
    "elif a < b:\n",
    "    print (\"The value of a is less than b\")\n",
    "else:\n",
    "    print(\"The value of a is same as b\")"
   ]
  },
  {
   "cell_type": "markdown",
   "metadata": {},
   "source": [
    "## while loop"
   ]
  },
  {
   "cell_type": "code",
   "execution_count": null,
   "metadata": {},
   "outputs": [],
   "source": [
    "i = 0\n",
    "# loops until expression evaluates to false\n",
    "while( i < 10000 ):\n",
    "    print(\"'{} < 10' => {}\".format(i, i < 10))\n",
    "    i = i + 1\n",
    "print(\"Thank you!\")"
   ]
  },
  {
   "cell_type": "markdown",
   "metadata": {},
   "source": [
    "### Infinite loop"
   ]
  },
  {
   "cell_type": "code",
   "execution_count": null,
   "metadata": {},
   "outputs": [],
   "source": [
    "i = 0\n",
    "while(i < 10):\n",
    "    x = i + 1    \n",
    "    \n",
    "print('wat')"
   ]
  },
  {
   "cell_type": "markdown",
   "metadata": {},
   "source": [
    "## Practice #4: Keep guessing!\n",
    "\n",
    "Write a program that allows the user to guess the answer to the question, “Which U.S. president was born on July 4?”\n",
    "\n",
    "Sample Interaction\n",
    "\n",
    "Which US president was born on July 4th?: Barack Obama\n",
    "\n",
    "Enter another guess: Bill Clinton\n",
    "\n",
    "Enter another guess: George Bush\n",
    "\n",
    "Enter another guess: Calvin Coolidge\n",
    "\n",
    "answer = \"Calvin Coolidge\"\n",
    "guess = \"\"Thank you!"
   ]
  },
  {
   "cell_type": "code",
   "execution_count": 4,
   "metadata": {},
   "outputs": [
    {
     "name": "stdout",
     "output_type": "stream",
     "text": [
      "Which US president was born on July 4th? (attempt 1)jack\n",
      "Which US president was born on July 4th? (attempt 2)nill\n",
      "Which US president was born on July 4th? (attempt 3)jonny\n",
      "you got your three attempts\n"
     ]
    }
   ],
   "source": [
    "answer = \"Calvin Coolidge\"\n",
    "correct = False\n",
    "attempts = 0\n",
    "\n",
    "while not correct:\n",
    "    attempts += 1\n",
    "    response =  input(f\"Which US president was born on July 4th? (attempt {attempts})\")\n",
    "    if response == answer:\n",
    "        print(\"correct!\")\n",
    "        correct = True\n",
    "    elif attempts >= 3:\n",
    "        print(\"you got your three attempts\")\n",
    "        break\n",
    "    "
   ]
  },
  {
   "cell_type": "markdown",
   "metadata": {},
   "source": [
    "## Modified Practice #4: Limited guesses with hints\n",
    "\n",
    "Write a program that allows the user ten tries to answer the question, “Which U.S. president was born on July 4?”\n",
    "\n",
    "After three incorrect guesses, the program should display the hint, “He once said, ‘If you don’t say anything, you won’t be called upon to repeat it.’”\n",
    "\n",
    "After seven incorrect guesses, the program should give the hint, “His nickname was ‘Silent Cal.’\n"
   ]
  },
  {
   "cell_type": "code",
   "execution_count": 6,
   "metadata": {},
   "outputs": [
    {
     "name": "stdout",
     "output_type": "stream",
     "text": [
      "Which US president was born on July 4th? (attempt 1)asdf\n",
      "Which US president was born on July 4th? (attempt 2)asdf\n",
      "Which US president was born on July 4th? (attempt 3)Calvin Coolidge\n",
      "correct!\n"
     ]
    }
   ],
   "source": [
    "hint1 = \"He once said, ‘If you don’t say anything, you won’t be called upon to repeat it.\"\n",
    "hint2 = \"His nickname was 'Silent Cal'\"\n",
    "\n",
    "answer = \"Calvin Coolidge\"\n",
    "\n",
    "answer_is_incorrect = True\n",
    "attempts = 0\n",
    "\n",
    "\n",
    "while answer_is_incorrect:\n",
    "    attempts += 1\n",
    "    response =  input(f\"Which US president was born on July 4th? (attempt {attempts})\")\n",
    "    \n",
    "    if response.lower() == answer.lower():\n",
    "        print(\"correct!\")\n",
    "        answer_is_incorrect = False\n",
    "    else:\n",
    "        \n",
    "        # drop the hints if user is struggling...\n",
    "        \n",
    "        if attempts == 3:\n",
    "            print(hint1)\n",
    "        elif attempts == 7:\n",
    "            print(hint2)\n",
    "        elif attempts >= 10:\n",
    "            print(\"sorry, no more attempts for you\")\n",
    "            break\n",
    "    "
   ]
  },
  {
   "cell_type": "markdown",
   "metadata": {},
   "source": [
    "## for loop"
   ]
  },
  {
   "cell_type": "code",
   "execution_count": 7,
   "metadata": {},
   "outputs": [
    {
     "name": "stdout",
     "output_type": "stream",
     "text": [
      "0\n",
      "1\n",
      "2\n",
      "3\n",
      "4\n",
      "5\n",
      "6\n",
      "7\n",
      "8\n",
      "9\n"
     ]
    }
   ],
   "source": [
    "for i in range(10):\n",
    "    print(i)"
   ]
  },
  {
   "cell_type": "code",
   "execution_count": 9,
   "metadata": {},
   "outputs": [
    {
     "name": "stdout",
     "output_type": "stream",
     "text": [
      "Jack is ok\n",
      "Jill is ok\n",
      "Jane is ok\n",
      "Jim is ok\n"
     ]
    }
   ],
   "source": [
    "names = ['Jack', 'Jill', 'Jane', 'Jim']\n",
    "for name in names:\n",
    "    print(f\"{name} is ok\")"
   ]
  },
  {
   "cell_type": "markdown",
   "metadata": {},
   "source": [
    "### Practice #5 Printing odd numbers betwen 0 and 15 (excluded)"
   ]
  },
  {
   "cell_type": "code",
   "execution_count": 10,
   "metadata": {},
   "outputs": [
    {
     "name": "stdout",
     "output_type": "stream",
     "text": [
      "1\n",
      "3\n",
      "5\n",
      "7\n",
      "9\n",
      "11\n",
      "13\n"
     ]
    }
   ],
   "source": [
    "for i in range(15):\n",
    "    if i % 2 == 1:\n",
    "        print(i)"
   ]
  },
  {
   "cell_type": "markdown",
   "metadata": {},
   "source": [
    "### Practice #5: Write a program to accept a number n and prints the sum of first n positive integers\n",
    "\n",
    "###### Sample Interaction:\n",
    "\n",
    "Enter a number: 5\n",
    "\n",
    "The sum of first 5 numbers is 15\n"
   ]
  },
  {
   "cell_type": "code",
   "execution_count": 17,
   "metadata": {},
   "outputs": [
    {
     "name": "stdout",
     "output_type": "stream",
     "text": [
      "give me a number: 5\n",
      "adding 0 to 0\n",
      "adding 1 to 0\n",
      "adding 2 to 1\n",
      "adding 3 to 3\n",
      "adding 4 to 6\n",
      "adding 5 to 10\n",
      "15\n"
     ]
    }
   ],
   "source": [
    "limit = int(input(\"give me a number: \"))\n",
    "total = 0\n",
    "\n",
    "for i in range(limit+1):\n",
    "    print(f\"adding {i} to {total}\")\n",
    "    total = total + i\n",
    "\n",
    "\n",
    "print(total)"
   ]
  },
  {
   "cell_type": "markdown",
   "metadata": {},
   "source": [
    "## More on range() statement"
   ]
  },
  {
   "cell_type": "code",
   "execution_count": 19,
   "metadata": {},
   "outputs": [],
   "source": [
    "range?"
   ]
  },
  {
   "cell_type": "markdown",
   "metadata": {
    "collapsed": true
   },
   "source": [
    "### range(start, stop, step)"
   ]
  },
  {
   "cell_type": "code",
   "execution_count": 20,
   "metadata": {},
   "outputs": [
    {
     "name": "stdout",
     "output_type": "stream",
     "text": [
      "4\n",
      "7\n",
      "10\n",
      "13\n",
      "16\n",
      "19\n",
      "22\n",
      "25\n",
      "28\n",
      "31\n"
     ]
    }
   ],
   "source": [
    "for i in range(4,34,3):\n",
    "    print(i)\n"
   ]
  },
  {
   "cell_type": "code",
   "execution_count": 21,
   "metadata": {},
   "outputs": [
    {
     "name": "stdout",
     "output_type": "stream",
     "text": [
      "1\n",
      "3\n",
      "5\n",
      "7\n",
      "9\n",
      "11\n",
      "13\n"
     ]
    }
   ],
   "source": [
    "# solution to #5 with range()\n",
    "for i in range(1,15,2):\n",
    "    print(i)"
   ]
  },
  {
   "cell_type": "markdown",
   "metadata": {},
   "source": [
    "## import random"
   ]
  },
  {
   "cell_type": "code",
   "execution_count": 1,
   "metadata": {},
   "outputs": [
    {
     "name": "stdout",
     "output_type": "stream",
     "text": [
      "1382169\n"
     ]
    }
   ],
   "source": [
    "import random\n",
    "print(random.randint(20,4000000))"
   ]
  },
  {
   "cell_type": "code",
   "execution_count": 28,
   "metadata": {},
   "outputs": [],
   "source": [
    "random.randint?"
   ]
  },
  {
   "cell_type": "markdown",
   "metadata": {},
   "source": [
    "## Extra Practice\n",
    "use the random module, looping and flow control to complete the following program"
   ]
  },
  {
   "cell_type": "code",
   "execution_count": 7,
   "metadata": {},
   "outputs": [
    {
     "name": "stdout",
     "output_type": "stream",
     "text": [
      "Pick a number: 1\n",
      "Higher\n",
      "Pick a number: 1\n",
      "can't pick the same number again\n"
     ]
    }
   ],
   "source": [
    "# use random to pick a number between 1 and 10\n",
    "\n",
    "# try to guess the number, return 'higher' or 'lower' if incorrect\n",
    "# celebrate when the correct number is guessed\n",
    "# end the program if the user chooses the same number twice in a row\n",
    "\n",
    "rando = random.randint(1,10)\n",
    "guess = 0\n",
    "while guess != rando:\n",
    "    last_guess = guess\n",
    "    guess = int(input(\"Pick a number: \"))\n",
    "    \n",
    "    if guess == last_guess:\n",
    "        print(\"can't pick the same number again\")\n",
    "        break\n",
    "    elif guess == rando:\n",
    "        print(\"Correct!\")\n",
    "    elif guess < rando:\n",
    "        print(\"Higher\")\n",
    "    else:\n",
    "        print(\"Lower\")\n",
    "        \n",
    "        "
   ]
  }
 ],
 "metadata": {
  "kernelspec": {
   "display_name": "Python 3",
   "language": "python",
   "name": "python3"
  },
  "language_info": {
   "codemirror_mode": {
    "name": "ipython",
    "version": 3
   },
   "file_extension": ".py",
   "mimetype": "text/x-python",
   "name": "python",
   "nbconvert_exporter": "python",
   "pygments_lexer": "ipython3",
   "version": "3.7.4"
  }
 },
 "nbformat": 4,
 "nbformat_minor": 2
}
