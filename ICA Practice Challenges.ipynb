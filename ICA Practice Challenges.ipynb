{
 "cells": [
  {
   "cell_type": "markdown",
   "metadata": {},
   "source": [
    "# ICA 3 Practice"
   ]
  },
  {
   "cell_type": "markdown",
   "metadata": {},
   "source": [
    "You will need to load the datasets `seattle_weather_2015_2016.csv` and `flight_sample.csv` and all required modules to accomplish these tasks. Reference the rendered visualizations to complete these challenges and completed version to check your work."
   ]
  },
  {
   "cell_type": "markdown",
   "metadata": {},
   "source": [
    "## Challenge #1\n",
    "Plot the average Taxi Out per day of week for the following airlines:\n",
    "    \n",
    "    * AA\n",
    "    * UA\n",
    "    * HA"
   ]
  },
  {
   "cell_type": "code",
   "execution_count": null,
   "metadata": {},
   "outputs": [],
   "source": []
  },
  {
   "cell_type": "markdown",
   "metadata": {},
   "source": [
    "## Challenge #2\n",
    "\n",
    "Use a histiogram to compare the taxi out time for AA and DL. Note (in rendered visualizations) the aprox number of buckets the distribution contains and the range of values (maxes out around 300 flights and 60 minutes)\n",
    "\n",
    "Also compare this to HA (a smaller airline)"
   ]
  },
  {
   "cell_type": "code",
   "execution_count": null,
   "metadata": {},
   "outputs": [],
   "source": []
  },
  {
   "cell_type": "markdown",
   "metadata": {},
   "source": [
    "## Challenge #3\n",
    "\n",
    "Create a scatter chart looking for corrolations between hight temperature and precipitation. Use the colorbar to also factor in average windspeed."
   ]
  },
  {
   "cell_type": "code",
   "execution_count": null,
   "metadata": {},
   "outputs": [],
   "source": []
  },
  {
   "cell_type": "markdown",
   "metadata": {},
   "source": [
    "# Challenge #4\n",
    "\n",
    "Group flights by airline and day of week. Then compare the median taxi out times for AA and HA airlines"
   ]
  },
  {
   "cell_type": "code",
   "execution_count": null,
   "metadata": {},
   "outputs": [],
   "source": []
  },
  {
   "cell_type": "markdown",
   "metadata": {},
   "source": [
    "# Challenge #5\n",
    "\n",
    "We want to start looking for any insights into if taxi time is affected by the time during the month the flight lands. We want to break the month into 4 different segments (think early, early mid, late mid, and late).\n",
    "\n",
    "These segments don't exist in the dataset but day of month does. The ``apply()`` function might come in handy.\n",
    "\n",
    "Also you may want to use controls like ``set_ylim()`` and/or ``set_xlim()`` to give your charts some space for a legend. Note the use of a background color in the legend as well."
   ]
  },
  {
   "cell_type": "code",
   "execution_count": null,
   "metadata": {},
   "outputs": [],
   "source": []
  }
 ],
 "metadata": {
  "kernelspec": {
   "display_name": "Python 3",
   "language": "python",
   "name": "python3"
  },
  "language_info": {
   "codemirror_mode": {
    "name": "ipython",
    "version": 3
   },
   "file_extension": ".py",
   "mimetype": "text/x-python",
   "name": "python",
   "nbconvert_exporter": "python",
   "pygments_lexer": "ipython3",
   "version": "3.7.4"
  }
 },
 "nbformat": 4,
 "nbformat_minor": 2
}
