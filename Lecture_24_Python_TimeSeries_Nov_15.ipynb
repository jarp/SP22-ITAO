{
 "cells": [
  {
   "cell_type": "markdown",
   "metadata": {},
   "source": [
    "# Date and Time\n",
    "\n",
    "The date and time information is uniquitous in real-world datasets. It is important to understand how date and time are handled in Python and more specificaally in the `pandas` package.\n",
    "\n",
    "Some of the material discussed here was borrowed from [here](https://github.com/ResearchComputing/Meetup-Fall-2013). "
   ]
  },
  {
   "cell_type": "markdown",
   "metadata": {},
   "source": [
    "## The `datetime` type"
   ]
  },
  {
   "cell_type": "code",
   "execution_count": 1,
   "metadata": {},
   "outputs": [],
   "source": [
    "from datetime import datetime, date, time\n",
    "from datetime import timedelta"
   ]
  },
  {
   "cell_type": "markdown",
   "metadata": {},
   "source": [
    "Note the not so typical way of import statements here. If you want to import specific things you will use it. \n",
    "\n",
    "The interpretation here is that you are importing specific subpackages like `datetime, date, time, timedelta` from the `datetime` package. "
   ]
  },
  {
   "cell_type": "code",
   "execution_count": 2,
   "metadata": {},
   "outputs": [
    {
     "name": "stdout",
     "output_type": "stream",
     "text": [
      "2020-10-27 09:43:07.010167\n",
      "2020 10 27\n",
      "9 43 7\n",
      "10167\n",
      "9 2020\n"
     ]
    }
   ],
   "source": [
    "now = datetime.now()\n",
    "print(now)\n",
    "print(now.year, now.month, now.day)\n",
    "print(now.hour, now.minute, now.second)\n",
    "print(now.microsecond)\n",
    "print(now.hour, now.year)"
   ]
  },
  {
   "cell_type": "code",
   "execution_count": 3,
   "metadata": {},
   "outputs": [
    {
     "name": "stdout",
     "output_type": "stream",
     "text": [
      "2020-11-20 00:00:00\n"
     ]
    }
   ],
   "source": [
    "soon = datetime(2020,day=20, month=11)\n",
    "print(soon)"
   ]
  },
  {
   "cell_type": "markdown",
   "metadata": {},
   "source": [
    "## datetime.timedelta"
   ]
  },
  {
   "cell_type": "code",
   "execution_count": 4,
   "metadata": {},
   "outputs": [
    {
     "name": "stdout",
     "output_type": "stream",
     "text": [
      "<class 'datetime.timedelta'>\n",
      "365\n",
      "0\n"
     ]
    }
   ],
   "source": [
    "delta = datetime(2013,12,3) - datetime(2012,12,3)\n",
    "print(type(delta))\n",
    "print(delta.days)\n",
    "print(delta.seconds)"
   ]
  },
  {
   "cell_type": "code",
   "execution_count": 5,
   "metadata": {},
   "outputs": [
    {
     "name": "stdout",
     "output_type": "stream",
     "text": [
      "2020-10-27 09:43:07.010167\n",
      "2020-10-27 09:53:07.010167\n"
     ]
    }
   ],
   "source": [
    "print(now)\n",
    "print(now + timedelta(seconds=600)) #10 minutes"
   ]
  },
  {
   "cell_type": "markdown",
   "metadata": {},
   "source": [
    "## Converting between strings with strftime, strptime, and dateutil.parser\n",
    "\n",
    "Often times when you load the data from a file you might have to know how to convert a column that is in a string to a DateTime format, or you might want to know how to convert a time to a specific string format. "
   ]
  },
  {
   "cell_type": "markdown",
   "metadata": {},
   "source": [
    "### Converting datetime to a string"
   ]
  },
  {
   "cell_type": "code",
   "execution_count": 6,
   "metadata": {},
   "outputs": [
    {
     "name": "stdout",
     "output_type": "stream",
     "text": [
      "2020-10-27 09:43:07.010167\n",
      "2020-11-20 00:00:00\n"
     ]
    }
   ],
   "source": [
    "print(str(now))\n",
    "print(str(soon))"
   ]
  },
  {
   "cell_type": "markdown",
   "metadata": {},
   "source": [
    "To string with more control... (string format time -> str**f**time)"
   ]
  },
  {
   "cell_type": "markdown",
   "metadata": {},
   "source": [
    "[Documentation](https://docs.python.org/3/library/datetime.html#strftime-and-strptime-behavior) provides the meaning for various behaviors, like `%Y`, `%b`, `%A`, etc. "
   ]
  },
  {
   "cell_type": "code",
   "execution_count": 7,
   "metadata": {},
   "outputs": [
    {
     "name": "stdout",
     "output_type": "stream",
     "text": [
      "2020-Oct-27\n",
      "2020/Oct/27\n",
      "10/27/20\n"
     ]
    }
   ],
   "source": [
    "print(now.strftime('%Y-%b-%d'))\n",
    "print(now.strftime('%Y/%b/%d'))\n",
    "print(now.strftime('%D'))"
   ]
  },
  {
   "cell_type": "code",
   "execution_count": 8,
   "metadata": {},
   "outputs": [
    {
     "name": "stdout",
     "output_type": "stream",
     "text": [
      "Tue, 27 Oct 2020 09:51:03\n"
     ]
    }
   ],
   "source": [
    "now = datetime.now()\n",
    "print(now.strftime('%a, %d %b %Y %H:%M:%S'))"
   ]
  },
  {
   "cell_type": "markdown",
   "metadata": {},
   "source": [
    "### Converting string to a datetime\n",
    "\n",
    "We will use the method str**p**time to parse the time\n"
   ]
  },
  {
   "cell_type": "code",
   "execution_count": 9,
   "metadata": {},
   "outputs": [
    {
     "name": "stdout",
     "output_type": "stream",
     "text": [
      "2018-12-04 00:00:00\n"
     ]
    }
   ],
   "source": [
    "print(datetime.strptime('2018-12-4', '%Y-%m-%d'))"
   ]
  },
  {
   "cell_type": "code",
   "execution_count": 10,
   "metadata": {},
   "outputs": [
    {
     "data": {
      "text/plain": [
       "[datetime.datetime(2018, 12, 19, 5, 26, 39),\n",
       " datetime.datetime(2018, 12, 19, 7, 0, 39),\n",
       " datetime.datetime(2018, 12, 19, 9, 0, 39)]"
      ]
     },
     "execution_count": 10,
     "metadata": {},
     "output_type": "execute_result"
    }
   ],
   "source": [
    "date_list = ['2018-12-19 05:26:39', \n",
    "             '2018-12-19 07:00:39', \n",
    "             '2018-12-19 09:00:39']\n",
    "\n",
    "[ datetime.strptime(x, '%Y-%m-%d %H:%M:%S') for x in date_list ]"
   ]
  },
  {
   "cell_type": "code",
   "execution_count": 11,
   "metadata": {},
   "outputs": [
    {
     "ename": "ValueError",
     "evalue": "time data '2018-12-19 07' does not match format '%Y-%m-%d %H:%M:%S'",
     "output_type": "error",
     "traceback": [
      "\u001b[0;31m---------------------------------------------------------------------------\u001b[0m",
      "\u001b[0;31mValueError\u001b[0m                                Traceback (most recent call last)",
      "\u001b[0;32m<ipython-input-11-6d5a4b91f4e2>\u001b[0m in \u001b[0;36m<module>\u001b[0;34m\u001b[0m\n\u001b[1;32m      3\u001b[0m              '2018-12-19 09:00']\n\u001b[1;32m      4\u001b[0m \u001b[0;34m\u001b[0m\u001b[0m\n\u001b[0;32m----> 5\u001b[0;31m \u001b[0;34m[\u001b[0m\u001b[0mdatetime\u001b[0m\u001b[0;34m.\u001b[0m\u001b[0mstrptime\u001b[0m\u001b[0;34m(\u001b[0m\u001b[0mx\u001b[0m\u001b[0;34m,\u001b[0m \u001b[0;34m'%Y-%m-%d %H:%M:%S'\u001b[0m\u001b[0;34m)\u001b[0m \u001b[0;32mfor\u001b[0m \u001b[0mx\u001b[0m \u001b[0;32min\u001b[0m \u001b[0mdate_list\u001b[0m\u001b[0;34m]\u001b[0m\u001b[0;34m\u001b[0m\u001b[0;34m\u001b[0m\u001b[0m\n\u001b[0m",
      "\u001b[0;32m<ipython-input-11-6d5a4b91f4e2>\u001b[0m in \u001b[0;36m<listcomp>\u001b[0;34m(.0)\u001b[0m\n\u001b[1;32m      3\u001b[0m              '2018-12-19 09:00']\n\u001b[1;32m      4\u001b[0m \u001b[0;34m\u001b[0m\u001b[0m\n\u001b[0;32m----> 5\u001b[0;31m \u001b[0;34m[\u001b[0m\u001b[0mdatetime\u001b[0m\u001b[0;34m.\u001b[0m\u001b[0mstrptime\u001b[0m\u001b[0;34m(\u001b[0m\u001b[0mx\u001b[0m\u001b[0;34m,\u001b[0m \u001b[0;34m'%Y-%m-%d %H:%M:%S'\u001b[0m\u001b[0;34m)\u001b[0m \u001b[0;32mfor\u001b[0m \u001b[0mx\u001b[0m \u001b[0;32min\u001b[0m \u001b[0mdate_list\u001b[0m\u001b[0;34m]\u001b[0m\u001b[0;34m\u001b[0m\u001b[0;34m\u001b[0m\u001b[0m\n\u001b[0m",
      "\u001b[0;32m~/opt/anaconda3/lib/python3.7/_strptime.py\u001b[0m in \u001b[0;36m_strptime_datetime\u001b[0;34m(cls, data_string, format)\u001b[0m\n\u001b[1;32m    575\u001b[0m     \"\"\"Return a class cls instance based on the input string and the\n\u001b[1;32m    576\u001b[0m     format string.\"\"\"\n\u001b[0;32m--> 577\u001b[0;31m     \u001b[0mtt\u001b[0m\u001b[0;34m,\u001b[0m \u001b[0mfraction\u001b[0m\u001b[0;34m,\u001b[0m \u001b[0mgmtoff_fraction\u001b[0m \u001b[0;34m=\u001b[0m \u001b[0m_strptime\u001b[0m\u001b[0;34m(\u001b[0m\u001b[0mdata_string\u001b[0m\u001b[0;34m,\u001b[0m \u001b[0mformat\u001b[0m\u001b[0;34m)\u001b[0m\u001b[0;34m\u001b[0m\u001b[0;34m\u001b[0m\u001b[0m\n\u001b[0m\u001b[1;32m    578\u001b[0m     \u001b[0mtzname\u001b[0m\u001b[0;34m,\u001b[0m \u001b[0mgmtoff\u001b[0m \u001b[0;34m=\u001b[0m \u001b[0mtt\u001b[0m\u001b[0;34m[\u001b[0m\u001b[0;34m-\u001b[0m\u001b[0;36m2\u001b[0m\u001b[0;34m:\u001b[0m\u001b[0;34m]\u001b[0m\u001b[0;34m\u001b[0m\u001b[0;34m\u001b[0m\u001b[0m\n\u001b[1;32m    579\u001b[0m     \u001b[0margs\u001b[0m \u001b[0;34m=\u001b[0m \u001b[0mtt\u001b[0m\u001b[0;34m[\u001b[0m\u001b[0;34m:\u001b[0m\u001b[0;36m6\u001b[0m\u001b[0;34m]\u001b[0m \u001b[0;34m+\u001b[0m \u001b[0;34m(\u001b[0m\u001b[0mfraction\u001b[0m\u001b[0;34m,\u001b[0m\u001b[0;34m)\u001b[0m\u001b[0;34m\u001b[0m\u001b[0;34m\u001b[0m\u001b[0m\n",
      "\u001b[0;32m~/opt/anaconda3/lib/python3.7/_strptime.py\u001b[0m in \u001b[0;36m_strptime\u001b[0;34m(data_string, format)\u001b[0m\n\u001b[1;32m    357\u001b[0m     \u001b[0;32mif\u001b[0m \u001b[0;32mnot\u001b[0m \u001b[0mfound\u001b[0m\u001b[0;34m:\u001b[0m\u001b[0;34m\u001b[0m\u001b[0;34m\u001b[0m\u001b[0m\n\u001b[1;32m    358\u001b[0m         raise ValueError(\"time data %r does not match format %r\" %\n\u001b[0;32m--> 359\u001b[0;31m                          (data_string, format))\n\u001b[0m\u001b[1;32m    360\u001b[0m     \u001b[0;32mif\u001b[0m \u001b[0mlen\u001b[0m\u001b[0;34m(\u001b[0m\u001b[0mdata_string\u001b[0m\u001b[0;34m)\u001b[0m \u001b[0;34m!=\u001b[0m \u001b[0mfound\u001b[0m\u001b[0;34m.\u001b[0m\u001b[0mend\u001b[0m\u001b[0;34m(\u001b[0m\u001b[0;34m)\u001b[0m\u001b[0;34m:\u001b[0m\u001b[0;34m\u001b[0m\u001b[0;34m\u001b[0m\u001b[0m\n\u001b[1;32m    361\u001b[0m         raise ValueError(\"unconverted data remains: %s\" %\n",
      "\u001b[0;31mValueError\u001b[0m: time data '2018-12-19 07' does not match format '%Y-%m-%d %H:%M:%S'"
     ]
    }
   ],
   "source": [
    "date_list = ['2018-12-19 05:26:39', \n",
    "             '2018-12-19 07', \n",
    "             '2018-12-19 09:00']\n",
    "\n",
    "[datetime.strptime(x, '%Y-%m-%d %H:%M:%S') for x in date_list]"
   ]
  },
  {
   "cell_type": "markdown",
   "metadata": {},
   "source": [
    "The above conversion failed because the second time is not formatted like the rest of them, it only has hour information but not the minute and second information. "
   ]
  },
  {
   "cell_type": "markdown",
   "metadata": {},
   "source": [
    "### `dateutil.parser` to the rescue\n",
    "\n",
    "This parse is smart to figure out the format as much as possible. "
   ]
  },
  {
   "cell_type": "code",
   "execution_count": 12,
   "metadata": {},
   "outputs": [
    {
     "name": "stdout",
     "output_type": "stream",
     "text": [
      "2018-04-25 00:00:00\n",
      "2018-04-25 00:00:00\n"
     ]
    }
   ],
   "source": [
    "from dateutil.parser import parse\n",
    "\n",
    "print(parse('2018-04-25'))\n",
    "print(parse('2018/04/25'))"
   ]
  },
  {
   "cell_type": "code",
   "execution_count": 13,
   "metadata": {},
   "outputs": [
    {
     "name": "stdout",
     "output_type": "stream",
     "text": [
      "2018-04-04 11:30:00\n"
     ]
    }
   ],
   "source": [
    "# It smartly parses the text to convert to date time. \n",
    "\n",
    "print(parse('April 4th, 2018 at 11:30am'))"
   ]
  },
  {
   "cell_type": "code",
   "execution_count": 14,
   "metadata": {},
   "outputs": [
    {
     "ename": "ValueError",
     "evalue": "('Unknown string format:', 'tomorrow at 11:30am')",
     "output_type": "error",
     "traceback": [
      "\u001b[0;31m---------------------------------------------------------------------------\u001b[0m",
      "\u001b[0;31mValueError\u001b[0m                                Traceback (most recent call last)",
      "\u001b[0;32m<ipython-input-14-bf96ee33a108>\u001b[0m in \u001b[0;36m<module>\u001b[0;34m\u001b[0m\n\u001b[1;32m      1\u001b[0m \u001b[0;31m# Though it is not super smart\u001b[0m\u001b[0;34m\u001b[0m\u001b[0;34m\u001b[0m\u001b[0;34m\u001b[0m\u001b[0m\n\u001b[1;32m      2\u001b[0m \u001b[0;34m\u001b[0m\u001b[0m\n\u001b[0;32m----> 3\u001b[0;31m \u001b[0mprint\u001b[0m\u001b[0;34m(\u001b[0m\u001b[0mparse\u001b[0m\u001b[0;34m(\u001b[0m\u001b[0;34m'tomorrow at 11:30am'\u001b[0m\u001b[0;34m)\u001b[0m\u001b[0;34m)\u001b[0m\u001b[0;34m\u001b[0m\u001b[0;34m\u001b[0m\u001b[0m\n\u001b[0m",
      "\u001b[0;32m~/opt/anaconda3/lib/python3.7/site-packages/dateutil/parser/_parser.py\u001b[0m in \u001b[0;36mparse\u001b[0;34m(timestr, parserinfo, **kwargs)\u001b[0m\n\u001b[1;32m   1356\u001b[0m         \u001b[0;32mreturn\u001b[0m \u001b[0mparser\u001b[0m\u001b[0;34m(\u001b[0m\u001b[0mparserinfo\u001b[0m\u001b[0;34m)\u001b[0m\u001b[0;34m.\u001b[0m\u001b[0mparse\u001b[0m\u001b[0;34m(\u001b[0m\u001b[0mtimestr\u001b[0m\u001b[0;34m,\u001b[0m \u001b[0;34m**\u001b[0m\u001b[0mkwargs\u001b[0m\u001b[0;34m)\u001b[0m\u001b[0;34m\u001b[0m\u001b[0;34m\u001b[0m\u001b[0m\n\u001b[1;32m   1357\u001b[0m     \u001b[0;32melse\u001b[0m\u001b[0;34m:\u001b[0m\u001b[0;34m\u001b[0m\u001b[0;34m\u001b[0m\u001b[0m\n\u001b[0;32m-> 1358\u001b[0;31m         \u001b[0;32mreturn\u001b[0m \u001b[0mDEFAULTPARSER\u001b[0m\u001b[0;34m.\u001b[0m\u001b[0mparse\u001b[0m\u001b[0;34m(\u001b[0m\u001b[0mtimestr\u001b[0m\u001b[0;34m,\u001b[0m \u001b[0;34m**\u001b[0m\u001b[0mkwargs\u001b[0m\u001b[0;34m)\u001b[0m\u001b[0;34m\u001b[0m\u001b[0;34m\u001b[0m\u001b[0m\n\u001b[0m\u001b[1;32m   1359\u001b[0m \u001b[0;34m\u001b[0m\u001b[0m\n\u001b[1;32m   1360\u001b[0m \u001b[0;34m\u001b[0m\u001b[0m\n",
      "\u001b[0;32m~/opt/anaconda3/lib/python3.7/site-packages/dateutil/parser/_parser.py\u001b[0m in \u001b[0;36mparse\u001b[0;34m(self, timestr, default, ignoretz, tzinfos, **kwargs)\u001b[0m\n\u001b[1;32m    647\u001b[0m \u001b[0;34m\u001b[0m\u001b[0m\n\u001b[1;32m    648\u001b[0m         \u001b[0;32mif\u001b[0m \u001b[0mres\u001b[0m \u001b[0;32mis\u001b[0m \u001b[0;32mNone\u001b[0m\u001b[0;34m:\u001b[0m\u001b[0;34m\u001b[0m\u001b[0;34m\u001b[0m\u001b[0m\n\u001b[0;32m--> 649\u001b[0;31m             \u001b[0;32mraise\u001b[0m \u001b[0mValueError\u001b[0m\u001b[0;34m(\u001b[0m\u001b[0;34m\"Unknown string format:\"\u001b[0m\u001b[0;34m,\u001b[0m \u001b[0mtimestr\u001b[0m\u001b[0;34m)\u001b[0m\u001b[0;34m\u001b[0m\u001b[0;34m\u001b[0m\u001b[0m\n\u001b[0m\u001b[1;32m    650\u001b[0m \u001b[0;34m\u001b[0m\u001b[0m\n\u001b[1;32m    651\u001b[0m         \u001b[0;32mif\u001b[0m \u001b[0mlen\u001b[0m\u001b[0;34m(\u001b[0m\u001b[0mres\u001b[0m\u001b[0;34m)\u001b[0m \u001b[0;34m==\u001b[0m \u001b[0;36m0\u001b[0m\u001b[0;34m:\u001b[0m\u001b[0;34m\u001b[0m\u001b[0;34m\u001b[0m\u001b[0m\n",
      "\u001b[0;31mValueError\u001b[0m: ('Unknown string format:', 'tomorrow at 11:30am')"
     ]
    }
   ],
   "source": [
    "# Though it is not super smart\n",
    "\n",
    "print(parse('tomorrow at 11:30am'))"
   ]
  },
  {
   "cell_type": "code",
   "execution_count": 15,
   "metadata": {},
   "outputs": [
    {
     "name": "stdout",
     "output_type": "stream",
     "text": [
      "2018-12-19 05:26:39\n",
      "2018-12-19 07:00:00\n",
      "2018-12-19 09:00:00\n"
     ]
    }
   ],
   "source": [
    "date_list = ['2018-12-19 05:26:39', \n",
    "             '2018-12-19 07', \n",
    "             '2018-12-19 09:00']\n",
    "\n",
    "dates = [parse(x) for x in date_list]\n",
    "for dt in dates:\n",
    "    print(dt)"
   ]
  },
  {
   "cell_type": "markdown",
   "metadata": {},
   "source": [
    "# Time Series with pandas\n",
    "\n",
    "`pandas` package has a lot of functionality in handling time based data sets. \n",
    "\n",
    "The pandas was developed by people working in finance industry, so it is no wonder they were able to build very efficient methods for handling time series in pandas. "
   ]
  },
  {
   "cell_type": "code",
   "execution_count": 16,
   "metadata": {},
   "outputs": [],
   "source": [
    "import numpy as np\n",
    "import pandas as pd\n",
    "\n",
    "import matplotlib as mpl\n",
    "import matplotlib.pyplot as plt\n",
    "%matplotlib inline\n",
    "\n",
    "plt.style.use('seaborn')"
   ]
  },
  {
   "cell_type": "code",
   "execution_count": 17,
   "metadata": {},
   "outputs": [
    {
     "data": {
      "text/plain": [
       "'Wednesday'"
      ]
     },
     "execution_count": 17,
     "metadata": {},
     "output_type": "execute_result"
    }
   ],
   "source": [
    "date = pd.to_datetime(\"4th July, 2018\")\n",
    "date.strftime('%A')"
   ]
  },
  {
   "cell_type": "code",
   "execution_count": 18,
   "metadata": {},
   "outputs": [
    {
     "data": {
      "text/plain": [
       "Timestamp('2018-11-17 12:30:45')"
      ]
     },
     "execution_count": 18,
     "metadata": {},
     "output_type": "execute_result"
    }
   ],
   "source": [
    "date = pd.to_datetime(\"15th Nov, 2018 at 12:30:45 PM\")\n",
    "date + pd.to_timedelta(2, 'D')"
   ]
  },
  {
   "cell_type": "markdown",
   "metadata": {},
   "source": [
    "The 'D' represented the day, you can use 'M' for the month. The following characters and the corresponding description\n",
    "\n",
    "| Code      | Description |                         \n",
    "|-----------|-------------|\n",
    "|``D``      |Calendar Day |\n",
    "|``W``      |Week |\n",
    "|``M``      |Month |\n",
    "|``Y``      |Year |\n",
    "|``H``      |Hour |\n",
    "|``T``      |Minute |\n",
    "|``S``      |Seconds |\n"
   ]
  },
  {
   "cell_type": "code",
   "execution_count": 19,
   "metadata": {},
   "outputs": [
    {
     "name": "stdout",
     "output_type": "stream",
     "text": [
      "original date:  2018-11-15 12:30:45\n",
      "2018-12-15 22:59:51\n",
      "2018-11-15 12:31:45\n",
      "2018-11-22 12:30:45\n"
     ]
    },
    {
     "name": "stderr",
     "output_type": "stream",
     "text": [
      "/Users/jarp/opt/anaconda3/lib/python3.7/site-packages/pandas/util/_decorators.py:208: FutureWarning: M and Y units are deprecated and will be removed in a future version.\n",
      "  return func(*args, **kwargs)\n",
      "/Users/jarp/opt/anaconda3/lib/python3.7/site-packages/pandas/core/tools/timedeltas.py:134: FutureWarning: M and Y units are deprecated and will be removed in a future version.\n",
      "  result = Timedelta(r, unit)\n"
     ]
    }
   ],
   "source": [
    "print(\"original date: \", date)\n",
    "print(date + pd.to_timedelta(1, 'M'))\n",
    "print(date + pd.to_timedelta(1, 'T'))\n",
    "print(date + pd.to_timedelta(1, 'W'))"
   ]
  },
  {
   "cell_type": "markdown",
   "metadata": {},
   "source": [
    "## Working with Google stock price data\n",
    "\n",
    "This data was extracted from [Yahoo-finance](https://finance.yahoo.com/quote/GOOG/chart?p=GOOG) data. "
   ]
  },
  {
   "cell_type": "code",
   "execution_count": 20,
   "metadata": {},
   "outputs": [
    {
     "data": {
      "text/html": [
       "<div>\n",
       "<style scoped>\n",
       "    .dataframe tbody tr th:only-of-type {\n",
       "        vertical-align: middle;\n",
       "    }\n",
       "\n",
       "    .dataframe tbody tr th {\n",
       "        vertical-align: top;\n",
       "    }\n",
       "\n",
       "    .dataframe thead th {\n",
       "        text-align: right;\n",
       "    }\n",
       "</style>\n",
       "<table border=\"1\" class=\"dataframe\">\n",
       "  <thead>\n",
       "    <tr style=\"text-align: right;\">\n",
       "      <th></th>\n",
       "      <th>Date</th>\n",
       "      <th>Open</th>\n",
       "      <th>High</th>\n",
       "      <th>Low</th>\n",
       "      <th>Close</th>\n",
       "      <th>Adj Close</th>\n",
       "      <th>Volume</th>\n",
       "    </tr>\n",
       "  </thead>\n",
       "  <tbody>\n",
       "    <tr>\n",
       "      <td>0</td>\n",
       "      <td>2007-01-03</td>\n",
       "      <td>231.494354</td>\n",
       "      <td>236.789917</td>\n",
       "      <td>229.065155</td>\n",
       "      <td>232.284210</td>\n",
       "      <td>232.284210</td>\n",
       "      <td>15513200</td>\n",
       "    </tr>\n",
       "    <tr>\n",
       "      <td>1</td>\n",
       "      <td>2007-01-04</td>\n",
       "      <td>232.984665</td>\n",
       "      <td>240.411362</td>\n",
       "      <td>232.661758</td>\n",
       "      <td>240.068588</td>\n",
       "      <td>240.068588</td>\n",
       "      <td>15877700</td>\n",
       "    </tr>\n",
       "    <tr>\n",
       "      <td>2</td>\n",
       "      <td>2007-01-05</td>\n",
       "      <td>239.691040</td>\n",
       "      <td>242.174881</td>\n",
       "      <td>237.510223</td>\n",
       "      <td>242.020889</td>\n",
       "      <td>242.020889</td>\n",
       "      <td>13833500</td>\n",
       "    </tr>\n",
       "    <tr>\n",
       "      <td>3</td>\n",
       "      <td>2007-01-08</td>\n",
       "      <td>242.269272</td>\n",
       "      <td>243.352234</td>\n",
       "      <td>239.542007</td>\n",
       "      <td>240.227554</td>\n",
       "      <td>240.227554</td>\n",
       "      <td>9570600</td>\n",
       "    </tr>\n",
       "    <tr>\n",
       "      <td>4</td>\n",
       "      <td>2007-01-09</td>\n",
       "      <td>241.156509</td>\n",
       "      <td>242.547470</td>\n",
       "      <td>239.045242</td>\n",
       "      <td>241.181351</td>\n",
       "      <td>241.181351</td>\n",
       "      <td>10832700</td>\n",
       "    </tr>\n",
       "  </tbody>\n",
       "</table>\n",
       "</div>"
      ],
      "text/plain": [
       "         Date        Open        High         Low       Close   Adj Close  \\\n",
       "0  2007-01-03  231.494354  236.789917  229.065155  232.284210  232.284210   \n",
       "1  2007-01-04  232.984665  240.411362  232.661758  240.068588  240.068588   \n",
       "2  2007-01-05  239.691040  242.174881  237.510223  242.020889  242.020889   \n",
       "3  2007-01-08  242.269272  243.352234  239.542007  240.227554  240.227554   \n",
       "4  2007-01-09  241.156509  242.547470  239.045242  241.181351  241.181351   \n",
       "\n",
       "     Volume  \n",
       "0  15513200  \n",
       "1  15877700  \n",
       "2  13833500  \n",
       "3   9570600  \n",
       "4  10832700  "
      ]
     },
     "execution_count": 20,
     "metadata": {},
     "output_type": "execute_result"
    }
   ],
   "source": [
    "goog = pd.read_csv(\"./data/Google_Stock_Price.csv\")\n",
    "goog.head()"
   ]
  },
  {
   "cell_type": "code",
   "execution_count": 21,
   "metadata": {},
   "outputs": [
    {
     "data": {
      "text/plain": [
       "Date          object\n",
       "Open         float64\n",
       "High         float64\n",
       "Low          float64\n",
       "Close        float64\n",
       "Adj Close    float64\n",
       "Volume         int64\n",
       "dtype: object"
      ]
     },
     "execution_count": 21,
     "metadata": {},
     "output_type": "execute_result"
    }
   ],
   "source": [
    "goog.dtypes"
   ]
  },
  {
   "cell_type": "code",
   "execution_count": null,
   "metadata": {},
   "outputs": [],
   "source": []
  },
  {
   "cell_type": "markdown",
   "metadata": {},
   "source": [
    "Note that the `Date` column is read as an `object` which is equivalent to a string. However, it'll be a lot more beneficial if we convert it to a datetime format. "
   ]
  },
  {
   "cell_type": "markdown",
   "metadata": {},
   "source": [
    "## `pd.to_datetime` \n",
    "\n",
    "`pd.to_datetime` is used to convert a column read as string to a datetime object. \n",
    "\n",
    "Oftentimes, the `to_datetime()` method is smart to figure out the format of the date, however, sometimes it might be necessary to provide the `format` parameter. [Look](http://pandas.pydata.org/pandas-docs/stable/generated/pandas.to_datetime.html) here for more options. "
   ]
  },
  {
   "cell_type": "code",
   "execution_count": 22,
   "metadata": {},
   "outputs": [
    {
     "data": {
      "text/plain": [
       "Date         datetime64[ns]\n",
       "Open                float64\n",
       "High                float64\n",
       "Low                 float64\n",
       "Close               float64\n",
       "Adj Close           float64\n",
       "Volume                int64\n",
       "dtype: object"
      ]
     },
     "execution_count": 22,
     "metadata": {},
     "output_type": "execute_result"
    }
   ],
   "source": [
    "# Converting the date and replacing it with the same column \n",
    "goog['Date'] = pd.to_datetime(goog['Date'])\n",
    "goog.dtypes"
   ]
  },
  {
   "cell_type": "markdown",
   "metadata": {},
   "source": [
    "Now notice that the `Date` column is no more an object but as a `datetime64` data type. Though, it might not change it visually it has a lot more advantages as we will see later. "
   ]
  },
  {
   "cell_type": "code",
   "execution_count": 23,
   "metadata": {},
   "outputs": [
    {
     "data": {
      "text/html": [
       "<div>\n",
       "<style scoped>\n",
       "    .dataframe tbody tr th:only-of-type {\n",
       "        vertical-align: middle;\n",
       "    }\n",
       "\n",
       "    .dataframe tbody tr th {\n",
       "        vertical-align: top;\n",
       "    }\n",
       "\n",
       "    .dataframe thead th {\n",
       "        text-align: right;\n",
       "    }\n",
       "</style>\n",
       "<table border=\"1\" class=\"dataframe\">\n",
       "  <thead>\n",
       "    <tr style=\"text-align: right;\">\n",
       "      <th></th>\n",
       "      <th>Date</th>\n",
       "      <th>Open</th>\n",
       "      <th>High</th>\n",
       "      <th>Low</th>\n",
       "      <th>Close</th>\n",
       "      <th>Adj Close</th>\n",
       "      <th>Volume</th>\n",
       "    </tr>\n",
       "  </thead>\n",
       "  <tbody>\n",
       "    <tr>\n",
       "      <td>0</td>\n",
       "      <td>2007-01-03</td>\n",
       "      <td>231.494354</td>\n",
       "      <td>236.789917</td>\n",
       "      <td>229.065155</td>\n",
       "      <td>232.284210</td>\n",
       "      <td>232.284210</td>\n",
       "      <td>15513200</td>\n",
       "    </tr>\n",
       "    <tr>\n",
       "      <td>1</td>\n",
       "      <td>2007-01-04</td>\n",
       "      <td>232.984665</td>\n",
       "      <td>240.411362</td>\n",
       "      <td>232.661758</td>\n",
       "      <td>240.068588</td>\n",
       "      <td>240.068588</td>\n",
       "      <td>15877700</td>\n",
       "    </tr>\n",
       "    <tr>\n",
       "      <td>2</td>\n",
       "      <td>2007-01-05</td>\n",
       "      <td>239.691040</td>\n",
       "      <td>242.174881</td>\n",
       "      <td>237.510223</td>\n",
       "      <td>242.020889</td>\n",
       "      <td>242.020889</td>\n",
       "      <td>13833500</td>\n",
       "    </tr>\n",
       "    <tr>\n",
       "      <td>3</td>\n",
       "      <td>2007-01-08</td>\n",
       "      <td>242.269272</td>\n",
       "      <td>243.352234</td>\n",
       "      <td>239.542007</td>\n",
       "      <td>240.227554</td>\n",
       "      <td>240.227554</td>\n",
       "      <td>9570600</td>\n",
       "    </tr>\n",
       "    <tr>\n",
       "      <td>4</td>\n",
       "      <td>2007-01-09</td>\n",
       "      <td>241.156509</td>\n",
       "      <td>242.547470</td>\n",
       "      <td>239.045242</td>\n",
       "      <td>241.181351</td>\n",
       "      <td>241.181351</td>\n",
       "      <td>10832700</td>\n",
       "    </tr>\n",
       "  </tbody>\n",
       "</table>\n",
       "</div>"
      ],
      "text/plain": [
       "        Date        Open        High         Low       Close   Adj Close  \\\n",
       "0 2007-01-03  231.494354  236.789917  229.065155  232.284210  232.284210   \n",
       "1 2007-01-04  232.984665  240.411362  232.661758  240.068588  240.068588   \n",
       "2 2007-01-05  239.691040  242.174881  237.510223  242.020889  242.020889   \n",
       "3 2007-01-08  242.269272  243.352234  239.542007  240.227554  240.227554   \n",
       "4 2007-01-09  241.156509  242.547470  239.045242  241.181351  241.181351   \n",
       "\n",
       "     Volume  \n",
       "0  15513200  \n",
       "1  15877700  \n",
       "2  13833500  \n",
       "3   9570600  \n",
       "4  10832700  "
      ]
     },
     "execution_count": 23,
     "metadata": {},
     "output_type": "execute_result"
    }
   ],
   "source": [
    "goog.head()"
   ]
  },
  {
   "cell_type": "code",
   "execution_count": 24,
   "metadata": {},
   "outputs": [
    {
     "data": {
      "text/plain": [
       "Timestamp('2015-12-31 00:00:00')"
      ]
     },
     "execution_count": 24,
     "metadata": {},
     "output_type": "execute_result"
    }
   ],
   "source": [
    "goog['Date'].max()"
   ]
  },
  {
   "cell_type": "code",
   "execution_count": 25,
   "metadata": {},
   "outputs": [
    {
     "data": {
      "text/plain": [
       "Timestamp('2007-01-03 00:00:00')"
      ]
     },
     "execution_count": 25,
     "metadata": {},
     "output_type": "execute_result"
    }
   ],
   "source": [
    "goog['Date'].min()"
   ]
  },
  {
   "cell_type": "markdown",
   "metadata": {},
   "source": [
    "# Pandas Time Series"
   ]
  },
  {
   "cell_type": "markdown",
   "metadata": {},
   "source": [
    "## Setting the index"
   ]
  },
  {
   "cell_type": "markdown",
   "metadata": {},
   "source": [
    "You can use `set_index` method to set a specific column as an index. \n",
    "\n",
    "In here we are setting `Date` column as a index. "
   ]
  },
  {
   "cell_type": "code",
   "execution_count": 26,
   "metadata": {},
   "outputs": [
    {
     "data": {
      "text/html": [
       "<div>\n",
       "<style scoped>\n",
       "    .dataframe tbody tr th:only-of-type {\n",
       "        vertical-align: middle;\n",
       "    }\n",
       "\n",
       "    .dataframe tbody tr th {\n",
       "        vertical-align: top;\n",
       "    }\n",
       "\n",
       "    .dataframe thead th {\n",
       "        text-align: right;\n",
       "    }\n",
       "</style>\n",
       "<table border=\"1\" class=\"dataframe\">\n",
       "  <thead>\n",
       "    <tr style=\"text-align: right;\">\n",
       "      <th></th>\n",
       "      <th>Open</th>\n",
       "      <th>High</th>\n",
       "      <th>Low</th>\n",
       "      <th>Close</th>\n",
       "      <th>Adj Close</th>\n",
       "      <th>Volume</th>\n",
       "    </tr>\n",
       "    <tr>\n",
       "      <th>Date</th>\n",
       "      <th></th>\n",
       "      <th></th>\n",
       "      <th></th>\n",
       "      <th></th>\n",
       "      <th></th>\n",
       "      <th></th>\n",
       "    </tr>\n",
       "  </thead>\n",
       "  <tbody>\n",
       "    <tr>\n",
       "      <td>2007-01-03</td>\n",
       "      <td>231.494354</td>\n",
       "      <td>236.789917</td>\n",
       "      <td>229.065155</td>\n",
       "      <td>232.284210</td>\n",
       "      <td>232.284210</td>\n",
       "      <td>15513200</td>\n",
       "    </tr>\n",
       "    <tr>\n",
       "      <td>2007-01-04</td>\n",
       "      <td>232.984665</td>\n",
       "      <td>240.411362</td>\n",
       "      <td>232.661758</td>\n",
       "      <td>240.068588</td>\n",
       "      <td>240.068588</td>\n",
       "      <td>15877700</td>\n",
       "    </tr>\n",
       "    <tr>\n",
       "      <td>2007-01-05</td>\n",
       "      <td>239.691040</td>\n",
       "      <td>242.174881</td>\n",
       "      <td>237.510223</td>\n",
       "      <td>242.020889</td>\n",
       "      <td>242.020889</td>\n",
       "      <td>13833500</td>\n",
       "    </tr>\n",
       "    <tr>\n",
       "      <td>2007-01-08</td>\n",
       "      <td>242.269272</td>\n",
       "      <td>243.352234</td>\n",
       "      <td>239.542007</td>\n",
       "      <td>240.227554</td>\n",
       "      <td>240.227554</td>\n",
       "      <td>9570600</td>\n",
       "    </tr>\n",
       "    <tr>\n",
       "      <td>2007-01-09</td>\n",
       "      <td>241.156509</td>\n",
       "      <td>242.547470</td>\n",
       "      <td>239.045242</td>\n",
       "      <td>241.181351</td>\n",
       "      <td>241.181351</td>\n",
       "      <td>10832700</td>\n",
       "    </tr>\n",
       "  </tbody>\n",
       "</table>\n",
       "</div>"
      ],
      "text/plain": [
       "                  Open        High         Low       Close   Adj Close  \\\n",
       "Date                                                                     \n",
       "2007-01-03  231.494354  236.789917  229.065155  232.284210  232.284210   \n",
       "2007-01-04  232.984665  240.411362  232.661758  240.068588  240.068588   \n",
       "2007-01-05  239.691040  242.174881  237.510223  242.020889  242.020889   \n",
       "2007-01-08  242.269272  243.352234  239.542007  240.227554  240.227554   \n",
       "2007-01-09  241.156509  242.547470  239.045242  241.181351  241.181351   \n",
       "\n",
       "              Volume  \n",
       "Date                  \n",
       "2007-01-03  15513200  \n",
       "2007-01-04  15877700  \n",
       "2007-01-05  13833500  \n",
       "2007-01-08   9570600  \n",
       "2007-01-09  10832700  "
      ]
     },
     "execution_count": 26,
     "metadata": {},
     "output_type": "execute_result"
    }
   ],
   "source": [
    "goog.set_index('Date', inplace=True)\n",
    "goog.head()"
   ]
  },
  {
   "cell_type": "markdown",
   "metadata": {},
   "source": [
    "## Indexing by Time\n",
    "\n",
    "DateTime object as an index is very useful for selection, grouping and doing a lot of timeseries manipulations. "
   ]
  },
  {
   "cell_type": "markdown",
   "metadata": {},
   "source": [
    "### Selection based on the index"
   ]
  },
  {
   "cell_type": "code",
   "execution_count": 27,
   "metadata": {},
   "outputs": [
    {
     "data": {
      "text/html": [
       "<div>\n",
       "<style scoped>\n",
       "    .dataframe tbody tr th:only-of-type {\n",
       "        vertical-align: middle;\n",
       "    }\n",
       "\n",
       "    .dataframe tbody tr th {\n",
       "        vertical-align: top;\n",
       "    }\n",
       "\n",
       "    .dataframe thead th {\n",
       "        text-align: right;\n",
       "    }\n",
       "</style>\n",
       "<table border=\"1\" class=\"dataframe\">\n",
       "  <thead>\n",
       "    <tr style=\"text-align: right;\">\n",
       "      <th></th>\n",
       "      <th>Open</th>\n",
       "      <th>High</th>\n",
       "      <th>Low</th>\n",
       "      <th>Close</th>\n",
       "      <th>Adj Close</th>\n",
       "      <th>Volume</th>\n",
       "    </tr>\n",
       "    <tr>\n",
       "      <th>Date</th>\n",
       "      <th></th>\n",
       "      <th></th>\n",
       "      <th></th>\n",
       "      <th></th>\n",
       "      <th></th>\n",
       "      <th></th>\n",
       "    </tr>\n",
       "  </thead>\n",
       "  <tbody>\n",
       "    <tr>\n",
       "      <td>2007-09-11</td>\n",
       "      <td>256.824615</td>\n",
       "      <td>259.139557</td>\n",
       "      <td>256.198669</td>\n",
       "      <td>258.980591</td>\n",
       "      <td>258.980591</td>\n",
       "      <td>5442300</td>\n",
       "    </tr>\n",
       "    <tr>\n",
       "      <td>2007-09-12</td>\n",
       "      <td>258.583160</td>\n",
       "      <td>262.284088</td>\n",
       "      <td>257.823120</td>\n",
       "      <td>259.636322</td>\n",
       "      <td>259.636322</td>\n",
       "      <td>6010800</td>\n",
       "    </tr>\n",
       "    <tr>\n",
       "      <td>2007-09-13</td>\n",
       "      <td>260.336761</td>\n",
       "      <td>261.901581</td>\n",
       "      <td>259.919464</td>\n",
       "      <td>260.694427</td>\n",
       "      <td>260.694427</td>\n",
       "      <td>3806600</td>\n",
       "    </tr>\n",
       "    <tr>\n",
       "      <td>2007-09-14</td>\n",
       "      <td>259.909546</td>\n",
       "      <td>263.421692</td>\n",
       "      <td>259.422699</td>\n",
       "      <td>262.666595</td>\n",
       "      <td>262.666595</td>\n",
       "      <td>5565600</td>\n",
       "    </tr>\n",
       "    <tr>\n",
       "      <td>2007-09-17</td>\n",
       "      <td>261.563782</td>\n",
       "      <td>262.929901</td>\n",
       "      <td>260.341736</td>\n",
       "      <td>260.952759</td>\n",
       "      <td>260.952759</td>\n",
       "      <td>4423400</td>\n",
       "    </tr>\n",
       "    <tr>\n",
       "      <td>2007-09-18</td>\n",
       "      <td>261.558807</td>\n",
       "      <td>266.889130</td>\n",
       "      <td>260.441071</td>\n",
       "      <td>265.905548</td>\n",
       "      <td>265.905548</td>\n",
       "      <td>8486100</td>\n",
       "    </tr>\n",
       "    <tr>\n",
       "      <td>2007-09-19</td>\n",
       "      <td>267.892609</td>\n",
       "      <td>272.949738</td>\n",
       "      <td>267.688934</td>\n",
       "      <td>271.658112</td>\n",
       "      <td>271.658112</td>\n",
       "      <td>11125600</td>\n",
       "    </tr>\n",
       "    <tr>\n",
       "      <td>2007-09-20</td>\n",
       "      <td>271.732635</td>\n",
       "      <td>276.600983</td>\n",
       "      <td>271.250763</td>\n",
       "      <td>274.628815</td>\n",
       "      <td>274.628815</td>\n",
       "      <td>11121800</td>\n",
       "    </tr>\n",
       "  </tbody>\n",
       "</table>\n",
       "</div>"
      ],
      "text/plain": [
       "                  Open        High         Low       Close   Adj Close  \\\n",
       "Date                                                                     \n",
       "2007-09-11  256.824615  259.139557  256.198669  258.980591  258.980591   \n",
       "2007-09-12  258.583160  262.284088  257.823120  259.636322  259.636322   \n",
       "2007-09-13  260.336761  261.901581  259.919464  260.694427  260.694427   \n",
       "2007-09-14  259.909546  263.421692  259.422699  262.666595  262.666595   \n",
       "2007-09-17  261.563782  262.929901  260.341736  260.952759  260.952759   \n",
       "2007-09-18  261.558807  266.889130  260.441071  265.905548  265.905548   \n",
       "2007-09-19  267.892609  272.949738  267.688934  271.658112  271.658112   \n",
       "2007-09-20  271.732635  276.600983  271.250763  274.628815  274.628815   \n",
       "\n",
       "              Volume  \n",
       "Date                  \n",
       "2007-09-11   5442300  \n",
       "2007-09-12   6010800  \n",
       "2007-09-13   3806600  \n",
       "2007-09-14   5565600  \n",
       "2007-09-17   4423400  \n",
       "2007-09-18   8486100  \n",
       "2007-09-19  11125600  \n",
       "2007-09-20  11121800  "
      ]
     },
     "execution_count": 27,
     "metadata": {},
     "output_type": "execute_result"
    }
   ],
   "source": [
    "#Selecting the range of dates \n",
    "goog.loc['2007-09-11': '2007-09-20']"
   ]
  },
  {
   "cell_type": "code",
   "execution_count": 28,
   "metadata": {},
   "outputs": [
    {
     "data": {
      "text/html": [
       "<div>\n",
       "<style scoped>\n",
       "    .dataframe tbody tr th:only-of-type {\n",
       "        vertical-align: middle;\n",
       "    }\n",
       "\n",
       "    .dataframe tbody tr th {\n",
       "        vertical-align: top;\n",
       "    }\n",
       "\n",
       "    .dataframe thead th {\n",
       "        text-align: right;\n",
       "    }\n",
       "</style>\n",
       "<table border=\"1\" class=\"dataframe\">\n",
       "  <thead>\n",
       "    <tr style=\"text-align: right;\">\n",
       "      <th></th>\n",
       "      <th>Open</th>\n",
       "      <th>High</th>\n",
       "      <th>Low</th>\n",
       "      <th>Close</th>\n",
       "      <th>Adj Close</th>\n",
       "      <th>Volume</th>\n",
       "    </tr>\n",
       "    <tr>\n",
       "      <th>Date</th>\n",
       "      <th></th>\n",
       "      <th></th>\n",
       "      <th></th>\n",
       "      <th></th>\n",
       "      <th></th>\n",
       "      <th></th>\n",
       "    </tr>\n",
       "  </thead>\n",
       "  <tbody>\n",
       "    <tr>\n",
       "      <td>2015-11-09</td>\n",
       "      <td>730.200012</td>\n",
       "      <td>734.710022</td>\n",
       "      <td>719.429993</td>\n",
       "      <td>724.890015</td>\n",
       "      <td>724.890015</td>\n",
       "      <td>2069800</td>\n",
       "    </tr>\n",
       "    <tr>\n",
       "      <td>2015-11-10</td>\n",
       "      <td>724.400024</td>\n",
       "      <td>730.590027</td>\n",
       "      <td>718.500000</td>\n",
       "      <td>728.320007</td>\n",
       "      <td>728.320007</td>\n",
       "      <td>1608000</td>\n",
       "    </tr>\n",
       "    <tr>\n",
       "      <td>2015-11-11</td>\n",
       "      <td>732.460022</td>\n",
       "      <td>741.000000</td>\n",
       "      <td>730.229980</td>\n",
       "      <td>735.400024</td>\n",
       "      <td>735.400024</td>\n",
       "      <td>1366400</td>\n",
       "    </tr>\n",
       "    <tr>\n",
       "      <td>2015-11-12</td>\n",
       "      <td>731.000000</td>\n",
       "      <td>737.799988</td>\n",
       "      <td>728.645020</td>\n",
       "      <td>731.229980</td>\n",
       "      <td>731.229980</td>\n",
       "      <td>1837200</td>\n",
       "    </tr>\n",
       "    <tr>\n",
       "      <td>2015-11-13</td>\n",
       "      <td>729.169983</td>\n",
       "      <td>731.150024</td>\n",
       "      <td>716.729980</td>\n",
       "      <td>717.000000</td>\n",
       "      <td>717.000000</td>\n",
       "      <td>2075500</td>\n",
       "    </tr>\n",
       "    <tr>\n",
       "      <td>2015-11-16</td>\n",
       "      <td>715.599976</td>\n",
       "      <td>729.489990</td>\n",
       "      <td>711.330017</td>\n",
       "      <td>728.960022</td>\n",
       "      <td>728.960022</td>\n",
       "      <td>1905900</td>\n",
       "    </tr>\n",
       "  </tbody>\n",
       "</table>\n",
       "</div>"
      ],
      "text/plain": [
       "                  Open        High         Low       Close   Adj Close  \\\n",
       "Date                                                                     \n",
       "2015-11-09  730.200012  734.710022  719.429993  724.890015  724.890015   \n",
       "2015-11-10  724.400024  730.590027  718.500000  728.320007  728.320007   \n",
       "2015-11-11  732.460022  741.000000  730.229980  735.400024  735.400024   \n",
       "2015-11-12  731.000000  737.799988  728.645020  731.229980  731.229980   \n",
       "2015-11-13  729.169983  731.150024  716.729980  717.000000  717.000000   \n",
       "2015-11-16  715.599976  729.489990  711.330017  728.960022  728.960022   \n",
       "\n",
       "             Volume  \n",
       "Date                 \n",
       "2015-11-09  2069800  \n",
       "2015-11-10  1608000  \n",
       "2015-11-11  1366400  \n",
       "2015-11-12  1837200  \n",
       "2015-11-13  2075500  \n",
       "2015-11-16  1905900  "
      ]
     },
     "execution_count": 28,
     "metadata": {},
     "output_type": "execute_result"
    }
   ],
   "source": [
    "#The indexing is now smart to read your dates for indexing\n",
    "goog.loc['Nov 7th 2015':'Nov 16th 2015']"
   ]
  },
  {
   "cell_type": "code",
   "execution_count": 29,
   "metadata": {},
   "outputs": [
    {
     "data": {
      "text/html": [
       "<div>\n",
       "<style scoped>\n",
       "    .dataframe tbody tr th:only-of-type {\n",
       "        vertical-align: middle;\n",
       "    }\n",
       "\n",
       "    .dataframe tbody tr th {\n",
       "        vertical-align: top;\n",
       "    }\n",
       "\n",
       "    .dataframe thead th {\n",
       "        text-align: right;\n",
       "    }\n",
       "</style>\n",
       "<table border=\"1\" class=\"dataframe\">\n",
       "  <thead>\n",
       "    <tr style=\"text-align: right;\">\n",
       "      <th></th>\n",
       "      <th>Open</th>\n",
       "      <th>High</th>\n",
       "      <th>Low</th>\n",
       "      <th>Close</th>\n",
       "      <th>Adj Close</th>\n",
       "      <th>Volume</th>\n",
       "    </tr>\n",
       "    <tr>\n",
       "      <th>Date</th>\n",
       "      <th></th>\n",
       "      <th></th>\n",
       "      <th></th>\n",
       "      <th></th>\n",
       "      <th></th>\n",
       "      <th></th>\n",
       "    </tr>\n",
       "  </thead>\n",
       "  <tbody>\n",
       "    <tr>\n",
       "      <td>2015-12-01</td>\n",
       "      <td>747.109985</td>\n",
       "      <td>768.950012</td>\n",
       "      <td>746.700012</td>\n",
       "      <td>767.039978</td>\n",
       "      <td>767.039978</td>\n",
       "      <td>2134600</td>\n",
       "    </tr>\n",
       "    <tr>\n",
       "      <td>2015-12-02</td>\n",
       "      <td>768.900024</td>\n",
       "      <td>775.955017</td>\n",
       "      <td>758.960022</td>\n",
       "      <td>762.380005</td>\n",
       "      <td>762.380005</td>\n",
       "      <td>2230400</td>\n",
       "    </tr>\n",
       "    <tr>\n",
       "      <td>2015-12-03</td>\n",
       "      <td>766.010010</td>\n",
       "      <td>768.994995</td>\n",
       "      <td>745.630005</td>\n",
       "      <td>752.539978</td>\n",
       "      <td>752.539978</td>\n",
       "      <td>2590600</td>\n",
       "    </tr>\n",
       "    <tr>\n",
       "      <td>2015-12-04</td>\n",
       "      <td>753.099976</td>\n",
       "      <td>768.489990</td>\n",
       "      <td>750.000000</td>\n",
       "      <td>766.809998</td>\n",
       "      <td>766.809998</td>\n",
       "      <td>2757300</td>\n",
       "    </tr>\n",
       "    <tr>\n",
       "      <td>2015-12-07</td>\n",
       "      <td>767.770020</td>\n",
       "      <td>768.729980</td>\n",
       "      <td>755.090027</td>\n",
       "      <td>763.250000</td>\n",
       "      <td>763.250000</td>\n",
       "      <td>1812300</td>\n",
       "    </tr>\n",
       "    <tr>\n",
       "      <td>2015-12-08</td>\n",
       "      <td>757.890015</td>\n",
       "      <td>764.799988</td>\n",
       "      <td>754.200012</td>\n",
       "      <td>762.369995</td>\n",
       "      <td>762.369995</td>\n",
       "      <td>1829500</td>\n",
       "    </tr>\n",
       "    <tr>\n",
       "      <td>2015-12-09</td>\n",
       "      <td>759.169983</td>\n",
       "      <td>764.229980</td>\n",
       "      <td>737.000977</td>\n",
       "      <td>751.609985</td>\n",
       "      <td>751.609985</td>\n",
       "      <td>2700000</td>\n",
       "    </tr>\n",
       "    <tr>\n",
       "      <td>2015-12-10</td>\n",
       "      <td>752.849976</td>\n",
       "      <td>755.849976</td>\n",
       "      <td>743.830017</td>\n",
       "      <td>749.460022</td>\n",
       "      <td>749.460022</td>\n",
       "      <td>1984900</td>\n",
       "    </tr>\n",
       "    <tr>\n",
       "      <td>2015-12-11</td>\n",
       "      <td>741.159973</td>\n",
       "      <td>745.710022</td>\n",
       "      <td>736.750000</td>\n",
       "      <td>738.869995</td>\n",
       "      <td>738.869995</td>\n",
       "      <td>2224400</td>\n",
       "    </tr>\n",
       "    <tr>\n",
       "      <td>2015-12-14</td>\n",
       "      <td>741.789978</td>\n",
       "      <td>748.729980</td>\n",
       "      <td>724.169983</td>\n",
       "      <td>747.770020</td>\n",
       "      <td>747.770020</td>\n",
       "      <td>2412500</td>\n",
       "    </tr>\n",
       "    <tr>\n",
       "      <td>2015-12-15</td>\n",
       "      <td>753.000000</td>\n",
       "      <td>758.080017</td>\n",
       "      <td>743.010010</td>\n",
       "      <td>743.400024</td>\n",
       "      <td>743.400024</td>\n",
       "      <td>2666200</td>\n",
       "    </tr>\n",
       "    <tr>\n",
       "      <td>2015-12-16</td>\n",
       "      <td>750.000000</td>\n",
       "      <td>760.590027</td>\n",
       "      <td>739.434998</td>\n",
       "      <td>758.090027</td>\n",
       "      <td>758.090027</td>\n",
       "      <td>1993300</td>\n",
       "    </tr>\n",
       "    <tr>\n",
       "      <td>2015-12-17</td>\n",
       "      <td>762.419983</td>\n",
       "      <td>762.679993</td>\n",
       "      <td>749.000000</td>\n",
       "      <td>749.429993</td>\n",
       "      <td>749.429993</td>\n",
       "      <td>1553400</td>\n",
       "    </tr>\n",
       "    <tr>\n",
       "      <td>2015-12-18</td>\n",
       "      <td>746.510010</td>\n",
       "      <td>754.130005</td>\n",
       "      <td>738.150024</td>\n",
       "      <td>739.309998</td>\n",
       "      <td>739.309998</td>\n",
       "      <td>3148700</td>\n",
       "    </tr>\n",
       "    <tr>\n",
       "      <td>2015-12-21</td>\n",
       "      <td>746.130005</td>\n",
       "      <td>750.000000</td>\n",
       "      <td>740.000000</td>\n",
       "      <td>747.770020</td>\n",
       "      <td>747.770020</td>\n",
       "      <td>1525700</td>\n",
       "    </tr>\n",
       "    <tr>\n",
       "      <td>2015-12-22</td>\n",
       "      <td>751.650024</td>\n",
       "      <td>754.849976</td>\n",
       "      <td>745.530029</td>\n",
       "      <td>750.000000</td>\n",
       "      <td>750.000000</td>\n",
       "      <td>1365400</td>\n",
       "    </tr>\n",
       "    <tr>\n",
       "      <td>2015-12-23</td>\n",
       "      <td>753.469971</td>\n",
       "      <td>754.210022</td>\n",
       "      <td>744.000000</td>\n",
       "      <td>750.309998</td>\n",
       "      <td>750.309998</td>\n",
       "      <td>1565900</td>\n",
       "    </tr>\n",
       "    <tr>\n",
       "      <td>2015-12-24</td>\n",
       "      <td>749.549988</td>\n",
       "      <td>751.349976</td>\n",
       "      <td>746.619995</td>\n",
       "      <td>748.400024</td>\n",
       "      <td>748.400024</td>\n",
       "      <td>527200</td>\n",
       "    </tr>\n",
       "    <tr>\n",
       "      <td>2015-12-28</td>\n",
       "      <td>752.919983</td>\n",
       "      <td>762.989990</td>\n",
       "      <td>749.520020</td>\n",
       "      <td>762.510010</td>\n",
       "      <td>762.510010</td>\n",
       "      <td>1515300</td>\n",
       "    </tr>\n",
       "    <tr>\n",
       "      <td>2015-12-29</td>\n",
       "      <td>766.690002</td>\n",
       "      <td>779.979980</td>\n",
       "      <td>766.429993</td>\n",
       "      <td>776.599976</td>\n",
       "      <td>776.599976</td>\n",
       "      <td>1765000</td>\n",
       "    </tr>\n",
       "    <tr>\n",
       "      <td>2015-12-30</td>\n",
       "      <td>776.599976</td>\n",
       "      <td>777.599976</td>\n",
       "      <td>766.900024</td>\n",
       "      <td>771.000000</td>\n",
       "      <td>771.000000</td>\n",
       "      <td>1293300</td>\n",
       "    </tr>\n",
       "    <tr>\n",
       "      <td>2015-12-31</td>\n",
       "      <td>769.500000</td>\n",
       "      <td>769.500000</td>\n",
       "      <td>758.340027</td>\n",
       "      <td>758.880005</td>\n",
       "      <td>758.880005</td>\n",
       "      <td>1500900</td>\n",
       "    </tr>\n",
       "  </tbody>\n",
       "</table>\n",
       "</div>"
      ],
      "text/plain": [
       "                  Open        High         Low       Close   Adj Close  \\\n",
       "Date                                                                     \n",
       "2015-12-01  747.109985  768.950012  746.700012  767.039978  767.039978   \n",
       "2015-12-02  768.900024  775.955017  758.960022  762.380005  762.380005   \n",
       "2015-12-03  766.010010  768.994995  745.630005  752.539978  752.539978   \n",
       "2015-12-04  753.099976  768.489990  750.000000  766.809998  766.809998   \n",
       "2015-12-07  767.770020  768.729980  755.090027  763.250000  763.250000   \n",
       "2015-12-08  757.890015  764.799988  754.200012  762.369995  762.369995   \n",
       "2015-12-09  759.169983  764.229980  737.000977  751.609985  751.609985   \n",
       "2015-12-10  752.849976  755.849976  743.830017  749.460022  749.460022   \n",
       "2015-12-11  741.159973  745.710022  736.750000  738.869995  738.869995   \n",
       "2015-12-14  741.789978  748.729980  724.169983  747.770020  747.770020   \n",
       "2015-12-15  753.000000  758.080017  743.010010  743.400024  743.400024   \n",
       "2015-12-16  750.000000  760.590027  739.434998  758.090027  758.090027   \n",
       "2015-12-17  762.419983  762.679993  749.000000  749.429993  749.429993   \n",
       "2015-12-18  746.510010  754.130005  738.150024  739.309998  739.309998   \n",
       "2015-12-21  746.130005  750.000000  740.000000  747.770020  747.770020   \n",
       "2015-12-22  751.650024  754.849976  745.530029  750.000000  750.000000   \n",
       "2015-12-23  753.469971  754.210022  744.000000  750.309998  750.309998   \n",
       "2015-12-24  749.549988  751.349976  746.619995  748.400024  748.400024   \n",
       "2015-12-28  752.919983  762.989990  749.520020  762.510010  762.510010   \n",
       "2015-12-29  766.690002  779.979980  766.429993  776.599976  776.599976   \n",
       "2015-12-30  776.599976  777.599976  766.900024  771.000000  771.000000   \n",
       "2015-12-31  769.500000  769.500000  758.340027  758.880005  758.880005   \n",
       "\n",
       "             Volume  \n",
       "Date                 \n",
       "2015-12-01  2134600  \n",
       "2015-12-02  2230400  \n",
       "2015-12-03  2590600  \n",
       "2015-12-04  2757300  \n",
       "2015-12-07  1812300  \n",
       "2015-12-08  1829500  \n",
       "2015-12-09  2700000  \n",
       "2015-12-10  1984900  \n",
       "2015-12-11  2224400  \n",
       "2015-12-14  2412500  \n",
       "2015-12-15  2666200  \n",
       "2015-12-16  1993300  \n",
       "2015-12-17  1553400  \n",
       "2015-12-18  3148700  \n",
       "2015-12-21  1525700  \n",
       "2015-12-22  1365400  \n",
       "2015-12-23  1565900  \n",
       "2015-12-24   527200  \n",
       "2015-12-28  1515300  \n",
       "2015-12-29  1765000  \n",
       "2015-12-30  1293300  \n",
       "2015-12-31  1500900  "
      ]
     },
     "execution_count": 29,
     "metadata": {},
     "output_type": "execute_result"
    }
   ],
   "source": [
    "#You can select the whole month or year\n",
    "goog.loc['Dec 2015']"
   ]
  },
  {
   "cell_type": "code",
   "execution_count": 30,
   "metadata": {},
   "outputs": [
    {
     "data": {
      "text/plain": [
       "564.5157471428572"
      ]
     },
     "execution_count": 30,
     "metadata": {},
     "output_type": "execute_result"
    }
   ],
   "source": [
    "# You can do the average stock price in the month of Jan in 2014\n",
    "\n",
    "goog.loc['Jan 2014']['Close'].mean()"
   ]
  },
  {
   "cell_type": "markdown",
   "metadata": {},
   "source": [
    "Notice that there are three things happening in the above statement in computing the mean closing price in the month of January. \n",
    "* First we are selecting all the rows with index or dates in January of 2014\n",
    "* Then we are selecing the 'Close' column which is the closing price of the stock \n",
    "* We are computing the mean. "
   ]
  },
  {
   "cell_type": "code",
   "execution_count": 31,
   "metadata": {},
   "outputs": [
    {
     "data": {
      "text/html": [
       "<div>\n",
       "<style scoped>\n",
       "    .dataframe tbody tr th:only-of-type {\n",
       "        vertical-align: middle;\n",
       "    }\n",
       "\n",
       "    .dataframe tbody tr th {\n",
       "        vertical-align: top;\n",
       "    }\n",
       "\n",
       "    .dataframe thead th {\n",
       "        text-align: right;\n",
       "    }\n",
       "</style>\n",
       "<table border=\"1\" class=\"dataframe\">\n",
       "  <thead>\n",
       "    <tr style=\"text-align: right;\">\n",
       "      <th></th>\n",
       "      <th>Open</th>\n",
       "      <th>High</th>\n",
       "      <th>Low</th>\n",
       "      <th>Close</th>\n",
       "      <th>Adj Close</th>\n",
       "      <th>Volume</th>\n",
       "    </tr>\n",
       "    <tr>\n",
       "      <th>Date</th>\n",
       "      <th></th>\n",
       "      <th></th>\n",
       "      <th></th>\n",
       "      <th></th>\n",
       "      <th></th>\n",
       "      <th></th>\n",
       "    </tr>\n",
       "  </thead>\n",
       "  <tbody>\n",
       "    <tr>\n",
       "      <td>2011-11-01</td>\n",
       "      <td>288.175690</td>\n",
       "      <td>290.863220</td>\n",
       "      <td>286.511505</td>\n",
       "      <td>287.455383</td>\n",
       "      <td>287.455383</td>\n",
       "      <td>6290700</td>\n",
       "    </tr>\n",
       "    <tr>\n",
       "      <td>2011-11-07</td>\n",
       "      <td>294.742981</td>\n",
       "      <td>302.423035</td>\n",
       "      <td>294.201508</td>\n",
       "      <td>302.199493</td>\n",
       "      <td>302.199493</td>\n",
       "      <td>6758400</td>\n",
       "    </tr>\n",
       "    <tr>\n",
       "      <td>2011-11-11</td>\n",
       "      <td>298.707184</td>\n",
       "      <td>304.067322</td>\n",
       "      <td>297.365936</td>\n",
       "      <td>302.209412</td>\n",
       "      <td>302.209412</td>\n",
       "      <td>8005600</td>\n",
       "    </tr>\n",
       "    <tr>\n",
       "      <td>2011-11-17</td>\n",
       "      <td>303.053925</td>\n",
       "      <td>304.166687</td>\n",
       "      <td>296.461792</td>\n",
       "      <td>298.493591</td>\n",
       "      <td>298.493591</td>\n",
       "      <td>7032000</td>\n",
       "    </tr>\n",
       "    <tr>\n",
       "      <td>2011-11-23</td>\n",
       "      <td>285.816040</td>\n",
       "      <td>288.250214</td>\n",
       "      <td>283.212982</td>\n",
       "      <td>283.212982</td>\n",
       "      <td>283.212982</td>\n",
       "      <td>4681700</td>\n",
       "    </tr>\n",
       "    <tr>\n",
       "      <td>2011-11-30</td>\n",
       "      <td>297.043030</td>\n",
       "      <td>297.817993</td>\n",
       "      <td>294.131958</td>\n",
       "      <td>297.758362</td>\n",
       "      <td>297.758362</td>\n",
       "      <td>6838000</td>\n",
       "    </tr>\n",
       "    <tr>\n",
       "      <td>2011-12-06</td>\n",
       "      <td>309.482117</td>\n",
       "      <td>312.278931</td>\n",
       "      <td>308.115997</td>\n",
       "      <td>309.869598</td>\n",
       "      <td>309.869598</td>\n",
       "      <td>4683100</td>\n",
       "    </tr>\n",
       "    <tr>\n",
       "      <td>2011-12-12</td>\n",
       "      <td>308.930695</td>\n",
       "      <td>311.066803</td>\n",
       "      <td>308.140839</td>\n",
       "      <td>310.674377</td>\n",
       "      <td>310.674377</td>\n",
       "      <td>4396100</td>\n",
       "    </tr>\n",
       "    <tr>\n",
       "      <td>2011-12-16</td>\n",
       "      <td>310.142822</td>\n",
       "      <td>312.626678</td>\n",
       "      <td>308.727020</td>\n",
       "      <td>310.957520</td>\n",
       "      <td>310.957520</td>\n",
       "      <td>8976600</td>\n",
       "    </tr>\n",
       "    <tr>\n",
       "      <td>2011-12-22</td>\n",
       "      <td>311.946106</td>\n",
       "      <td>313.823883</td>\n",
       "      <td>311.479126</td>\n",
       "      <td>312.815430</td>\n",
       "      <td>312.815430</td>\n",
       "      <td>3668200</td>\n",
       "    </tr>\n",
       "    <tr>\n",
       "      <td>2011-12-29</td>\n",
       "      <td>318.672333</td>\n",
       "      <td>319.422455</td>\n",
       "      <td>315.547668</td>\n",
       "      <td>319.124390</td>\n",
       "      <td>319.124390</td>\n",
       "      <td>3171200</td>\n",
       "    </tr>\n",
       "  </tbody>\n",
       "</table>\n",
       "</div>"
      ],
      "text/plain": [
       "                  Open        High         Low       Close   Adj Close  \\\n",
       "Date                                                                     \n",
       "2011-11-01  288.175690  290.863220  286.511505  287.455383  287.455383   \n",
       "2011-11-07  294.742981  302.423035  294.201508  302.199493  302.199493   \n",
       "2011-11-11  298.707184  304.067322  297.365936  302.209412  302.209412   \n",
       "2011-11-17  303.053925  304.166687  296.461792  298.493591  298.493591   \n",
       "2011-11-23  285.816040  288.250214  283.212982  283.212982  283.212982   \n",
       "2011-11-30  297.043030  297.817993  294.131958  297.758362  297.758362   \n",
       "2011-12-06  309.482117  312.278931  308.115997  309.869598  309.869598   \n",
       "2011-12-12  308.930695  311.066803  308.140839  310.674377  310.674377   \n",
       "2011-12-16  310.142822  312.626678  308.727020  310.957520  310.957520   \n",
       "2011-12-22  311.946106  313.823883  311.479126  312.815430  312.815430   \n",
       "2011-12-29  318.672333  319.422455  315.547668  319.124390  319.124390   \n",
       "\n",
       "             Volume  \n",
       "Date                 \n",
       "2011-11-01  6290700  \n",
       "2011-11-07  6758400  \n",
       "2011-11-11  8005600  \n",
       "2011-11-17  7032000  \n",
       "2011-11-23  4681700  \n",
       "2011-11-30  6838000  \n",
       "2011-12-06  4683100  \n",
       "2011-12-12  4396100  \n",
       "2011-12-16  8976600  \n",
       "2011-12-22  3668200  \n",
       "2011-12-29  3171200  "
      ]
     },
     "execution_count": 31,
     "metadata": {},
     "output_type": "execute_result"
    }
   ],
   "source": [
    "# You can also do a very smart indexing with pandas time series objects\n",
    "\n",
    "# NOTICE HOW YOU CAN SPECIFY THE DATES IN ANY FORMAT YOU WANT\n",
    "\n",
    "goog.loc['Nov 2011':'12/2011':4]"
   ]
  },
  {
   "cell_type": "markdown",
   "metadata": {},
   "source": [
    "Notice that it is getting the rows from Nov 2011 to Dec 2011, and the last :4 is saying get every 4th day in the data. "
   ]
  },
  {
   "cell_type": "markdown",
   "metadata": {},
   "source": [
    "# Activity\n",
    "\n",
    "We will work with dataset based on the Group Project 1, but now work with time series data based on departure time. "
   ]
  },
  {
   "cell_type": "code",
   "execution_count": 33,
   "metadata": {},
   "outputs": [
    {
     "data": {
      "text/html": [
       "<div>\n",
       "<style scoped>\n",
       "    .dataframe tbody tr th:only-of-type {\n",
       "        vertical-align: middle;\n",
       "    }\n",
       "\n",
       "    .dataframe tbody tr th {\n",
       "        vertical-align: top;\n",
       "    }\n",
       "\n",
       "    .dataframe thead th {\n",
       "        text-align: right;\n",
       "    }\n",
       "</style>\n",
       "<table border=\"1\" class=\"dataframe\">\n",
       "  <thead>\n",
       "    <tr style=\"text-align: right;\">\n",
       "      <th></th>\n",
       "      <th>DEPARTURE_DATETIME</th>\n",
       "      <th>AIRLINE</th>\n",
       "      <th>DAY_OF_WEEK</th>\n",
       "      <th>DISTANCE</th>\n",
       "      <th>AIR_TIME</th>\n",
       "      <th>TAXI_IN</th>\n",
       "      <th>TAXI_OUT</th>\n",
       "      <th>DEPARTURE_DELAY</th>\n",
       "    </tr>\n",
       "  </thead>\n",
       "  <tbody>\n",
       "    <tr>\n",
       "      <td>0</td>\n",
       "      <td>2015-01-01 06:26:00</td>\n",
       "      <td>OO</td>\n",
       "      <td>4</td>\n",
       "      <td>483</td>\n",
       "      <td>73.0</td>\n",
       "      <td>10.0</td>\n",
       "      <td>21.0</td>\n",
       "      <td>4.0</td>\n",
       "    </tr>\n",
       "    <tr>\n",
       "      <td>1</td>\n",
       "      <td>2015-01-01 06:55:00</td>\n",
       "      <td>NK</td>\n",
       "      <td>4</td>\n",
       "      <td>977</td>\n",
       "      <td>132.0</td>\n",
       "      <td>7.0</td>\n",
       "      <td>22.0</td>\n",
       "      <td>-5.0</td>\n",
       "    </tr>\n",
       "    <tr>\n",
       "      <td>2</td>\n",
       "      <td>2015-01-01 08:07:00</td>\n",
       "      <td>WN</td>\n",
       "      <td>4</td>\n",
       "      <td>220</td>\n",
       "      <td>55.0</td>\n",
       "      <td>3.0</td>\n",
       "      <td>10.0</td>\n",
       "      <td>-3.0</td>\n",
       "    </tr>\n",
       "    <tr>\n",
       "      <td>3</td>\n",
       "      <td>2015-01-01 08:43:00</td>\n",
       "      <td>UA</td>\n",
       "      <td>4</td>\n",
       "      <td>1120</td>\n",
       "      <td>138.0</td>\n",
       "      <td>3.0</td>\n",
       "      <td>14.0</td>\n",
       "      <td>3.0</td>\n",
       "    </tr>\n",
       "    <tr>\n",
       "      <td>4</td>\n",
       "      <td>2015-01-01 09:44:00</td>\n",
       "      <td>WN</td>\n",
       "      <td>4</td>\n",
       "      <td>1123</td>\n",
       "      <td>179.0</td>\n",
       "      <td>7.0</td>\n",
       "      <td>7.0</td>\n",
       "      <td>-1.0</td>\n",
       "    </tr>\n",
       "  </tbody>\n",
       "</table>\n",
       "</div>"
      ],
      "text/plain": [
       "    DEPARTURE_DATETIME AIRLINE  DAY_OF_WEEK  DISTANCE  AIR_TIME  TAXI_IN  \\\n",
       "0  2015-01-01 06:26:00      OO            4       483      73.0     10.0   \n",
       "1  2015-01-01 06:55:00      NK            4       977     132.0      7.0   \n",
       "2  2015-01-01 08:07:00      WN            4       220      55.0      3.0   \n",
       "3  2015-01-01 08:43:00      UA            4      1120     138.0      3.0   \n",
       "4  2015-01-01 09:44:00      WN            4      1123     179.0      7.0   \n",
       "\n",
       "   TAXI_OUT  DEPARTURE_DELAY  \n",
       "0      21.0              4.0  \n",
       "1      22.0             -5.0  \n",
       "2      10.0             -3.0  \n",
       "3      14.0              3.0  \n",
       "4       7.0             -1.0  "
      ]
     },
     "execution_count": 33,
     "metadata": {},
     "output_type": "execute_result"
    }
   ],
   "source": [
    "flights = pd.read_csv(\"./data/flights_departures.csv\")\n",
    "flights.head()"
   ]
  },
  {
   "cell_type": "code",
   "execution_count": 34,
   "metadata": {},
   "outputs": [
    {
     "data": {
      "text/plain": [
       "DEPARTURE_DATETIME     object\n",
       "AIRLINE                object\n",
       "DAY_OF_WEEK             int64\n",
       "DISTANCE                int64\n",
       "AIR_TIME              float64\n",
       "TAXI_IN               float64\n",
       "TAXI_OUT              float64\n",
       "DEPARTURE_DELAY       float64\n",
       "dtype: object"
      ]
     },
     "execution_count": 34,
     "metadata": {},
     "output_type": "execute_result"
    }
   ],
   "source": [
    "flights.dtypes"
   ]
  },
  {
   "cell_type": "markdown",
   "metadata": {},
   "source": [
    "#### Step 1\n",
    "\n",
    "* Convert the 'DEPARTURE_DATETIME' to a datetime data type.\n",
    "* Now look at the dtypes of the 'flights' DataFrame by typing flights.dtypes"
   ]
  },
  {
   "cell_type": "code",
   "execution_count": 35,
   "metadata": {},
   "outputs": [],
   "source": [
    "flights['DEPARTURE_DATETIME'] = pd.to_datetime(flights['DEPARTURE_DATETIME'])\n"
   ]
  },
  {
   "cell_type": "markdown",
   "metadata": {},
   "source": [
    "#### Step 2\n",
    "\n",
    "* Set the 'DEPARTURE_DATETIME' as an index for the flights DataFrame. "
   ]
  },
  {
   "cell_type": "code",
   "execution_count": 36,
   "metadata": {},
   "outputs": [],
   "source": [
    "flights.set_index('DEPARTURE_DATETIME', inplace=True)\n"
   ]
  },
  {
   "cell_type": "markdown",
   "metadata": {},
   "source": [
    "#### Step 3: Selecting and producing summary statistics by using DateTime index\n",
    "\n",
    "Keep in mind that all these summary statistis are on the sample of the data and not on the actual datasets. \n",
    "\n",
    "* Select all the flights that are on Nov 15th 2015. \n",
    "* How many flights are in the dataset on July 4th 2015? \n",
    "* How many unique airlines were there are on the labor day of 2015? \n",
    "    * You might have to google the date for the labor day in 2015 as pandas is not smart to figure this out. \n",
    "* What is the median distance traveled by flights between July 15th 2015 and July 20th 2015? "
   ]
  },
  {
   "cell_type": "code",
   "execution_count": 38,
   "metadata": {},
   "outputs": [
    {
     "data": {
      "text/html": [
       "<div>\n",
       "<style scoped>\n",
       "    .dataframe tbody tr th:only-of-type {\n",
       "        vertical-align: middle;\n",
       "    }\n",
       "\n",
       "    .dataframe tbody tr th {\n",
       "        vertical-align: top;\n",
       "    }\n",
       "\n",
       "    .dataframe thead th {\n",
       "        text-align: right;\n",
       "    }\n",
       "</style>\n",
       "<table border=\"1\" class=\"dataframe\">\n",
       "  <thead>\n",
       "    <tr style=\"text-align: right;\">\n",
       "      <th></th>\n",
       "      <th>AIRLINE</th>\n",
       "      <th>DAY_OF_WEEK</th>\n",
       "      <th>DISTANCE</th>\n",
       "      <th>AIR_TIME</th>\n",
       "      <th>TAXI_IN</th>\n",
       "      <th>TAXI_OUT</th>\n",
       "      <th>DEPARTURE_DELAY</th>\n",
       "    </tr>\n",
       "    <tr>\n",
       "      <th>DEPARTURE_DATETIME</th>\n",
       "      <th></th>\n",
       "      <th></th>\n",
       "      <th></th>\n",
       "      <th></th>\n",
       "      <th></th>\n",
       "      <th></th>\n",
       "      <th></th>\n",
       "    </tr>\n",
       "  </thead>\n",
       "  <tbody>\n",
       "    <tr>\n",
       "      <td>2015-11-15 05:53:00</td>\n",
       "      <td>WN</td>\n",
       "      <td>7</td>\n",
       "      <td>319</td>\n",
       "      <td>48.0</td>\n",
       "      <td>4.0</td>\n",
       "      <td>12.0</td>\n",
       "      <td>-7.0</td>\n",
       "    </tr>\n",
       "    <tr>\n",
       "      <td>2015-11-15 05:59:00</td>\n",
       "      <td>UA</td>\n",
       "      <td>7</td>\n",
       "      <td>1012</td>\n",
       "      <td>138.0</td>\n",
       "      <td>3.0</td>\n",
       "      <td>9.0</td>\n",
       "      <td>-1.0</td>\n",
       "    </tr>\n",
       "    <tr>\n",
       "      <td>2015-11-15 07:14:00</td>\n",
       "      <td>AA</td>\n",
       "      <td>7</td>\n",
       "      <td>1303</td>\n",
       "      <td>188.0</td>\n",
       "      <td>6.0</td>\n",
       "      <td>10.0</td>\n",
       "      <td>4.0</td>\n",
       "    </tr>\n",
       "    <tr>\n",
       "      <td>2015-11-15 07:29:00</td>\n",
       "      <td>B6</td>\n",
       "      <td>7</td>\n",
       "      <td>925</td>\n",
       "      <td>127.0</td>\n",
       "      <td>7.0</td>\n",
       "      <td>16.0</td>\n",
       "      <td>-6.0</td>\n",
       "    </tr>\n",
       "    <tr>\n",
       "      <td>2015-11-15 08:12:00</td>\n",
       "      <td>WN</td>\n",
       "      <td>7</td>\n",
       "      <td>971</td>\n",
       "      <td>133.0</td>\n",
       "      <td>7.0</td>\n",
       "      <td>8.0</td>\n",
       "      <td>2.0</td>\n",
       "    </tr>\n",
       "  </tbody>\n",
       "</table>\n",
       "</div>"
      ],
      "text/plain": [
       "                    AIRLINE  DAY_OF_WEEK  DISTANCE  AIR_TIME  TAXI_IN  \\\n",
       "DEPARTURE_DATETIME                                                      \n",
       "2015-11-15 05:53:00      WN            7       319      48.0      4.0   \n",
       "2015-11-15 05:59:00      UA            7      1012     138.0      3.0   \n",
       "2015-11-15 07:14:00      AA            7      1303     188.0      6.0   \n",
       "2015-11-15 07:29:00      B6            7       925     127.0      7.0   \n",
       "2015-11-15 08:12:00      WN            7       971     133.0      7.0   \n",
       "\n",
       "                     TAXI_OUT  DEPARTURE_DELAY  \n",
       "DEPARTURE_DATETIME                              \n",
       "2015-11-15 05:53:00      12.0             -7.0  \n",
       "2015-11-15 05:59:00       9.0             -1.0  \n",
       "2015-11-15 07:14:00      10.0              4.0  \n",
       "2015-11-15 07:29:00      16.0             -6.0  \n",
       "2015-11-15 08:12:00       8.0              2.0  "
      ]
     },
     "execution_count": 38,
     "metadata": {},
     "output_type": "execute_result"
    }
   ],
   "source": [
    "flights.loc['Nov 15 2015'][:5]"
   ]
  },
  {
   "cell_type": "code",
   "execution_count": 42,
   "metadata": {},
   "outputs": [
    {
     "name": "stdout",
     "output_type": "stream",
     "text": [
      "24\n",
      "24\n"
     ]
    }
   ],
   "source": [
    "print(flights.loc['July 4th 2015'].shape[0])\n",
    "print(len(flights.loc['July 4th 2015']))"
   ]
  },
  {
   "cell_type": "code",
   "execution_count": 48,
   "metadata": {},
   "outputs": [
    {
     "name": "stdout",
     "output_type": "stream",
     "text": [
      "6\n",
      "6\n"
     ]
    }
   ],
   "source": [
    "print(len(flights.loc['sept 7 2015']['AIRLINE'].unique()))\n",
    "print(flights.loc['sept 7 2015']['AIRLINE'].nunique())"
   ]
  },
  {
   "cell_type": "code",
   "execution_count": 51,
   "metadata": {},
   "outputs": [
    {
     "data": {
      "text/plain": [
       "594.0"
      ]
     },
     "execution_count": 51,
     "metadata": {},
     "output_type": "execute_result"
    }
   ],
   "source": [
    "flights.loc['jul 15 2015': 'july 20 15']['DISTANCE'].median()"
   ]
  },
  {
   "cell_type": "markdown",
   "metadata": {},
   "source": [
    "# Plotting TimeSeries data\n",
    "\n",
    "Once you have the timeseries as an index for a DataFrame or Series, it becomes really easy to plot using `matplotlib`"
   ]
  },
  {
   "cell_type": "code",
   "execution_count": 52,
   "metadata": {},
   "outputs": [],
   "source": [
    "# Extract the OHLC (Open, High, Low, Close) columns of the dataset. \n",
    "\n",
    "goog_new = goog[['Open','High','Low','Close']]"
   ]
  },
  {
   "cell_type": "code",
   "execution_count": 53,
   "metadata": {},
   "outputs": [
    {
     "data": {
      "text/html": [
       "<div>\n",
       "<style scoped>\n",
       "    .dataframe tbody tr th:only-of-type {\n",
       "        vertical-align: middle;\n",
       "    }\n",
       "\n",
       "    .dataframe tbody tr th {\n",
       "        vertical-align: top;\n",
       "    }\n",
       "\n",
       "    .dataframe thead th {\n",
       "        text-align: right;\n",
       "    }\n",
       "</style>\n",
       "<table border=\"1\" class=\"dataframe\">\n",
       "  <thead>\n",
       "    <tr style=\"text-align: right;\">\n",
       "      <th></th>\n",
       "      <th>Open</th>\n",
       "      <th>High</th>\n",
       "      <th>Low</th>\n",
       "      <th>Close</th>\n",
       "    </tr>\n",
       "    <tr>\n",
       "      <th>Date</th>\n",
       "      <th></th>\n",
       "      <th></th>\n",
       "      <th></th>\n",
       "      <th></th>\n",
       "    </tr>\n",
       "  </thead>\n",
       "  <tbody>\n",
       "    <tr>\n",
       "      <td>2007-01-03</td>\n",
       "      <td>231.494354</td>\n",
       "      <td>236.789917</td>\n",
       "      <td>229.065155</td>\n",
       "      <td>232.284210</td>\n",
       "    </tr>\n",
       "    <tr>\n",
       "      <td>2007-01-04</td>\n",
       "      <td>232.984665</td>\n",
       "      <td>240.411362</td>\n",
       "      <td>232.661758</td>\n",
       "      <td>240.068588</td>\n",
       "    </tr>\n",
       "    <tr>\n",
       "      <td>2007-01-05</td>\n",
       "      <td>239.691040</td>\n",
       "      <td>242.174881</td>\n",
       "      <td>237.510223</td>\n",
       "      <td>242.020889</td>\n",
       "    </tr>\n",
       "    <tr>\n",
       "      <td>2007-01-08</td>\n",
       "      <td>242.269272</td>\n",
       "      <td>243.352234</td>\n",
       "      <td>239.542007</td>\n",
       "      <td>240.227554</td>\n",
       "    </tr>\n",
       "    <tr>\n",
       "      <td>2007-01-09</td>\n",
       "      <td>241.156509</td>\n",
       "      <td>242.547470</td>\n",
       "      <td>239.045242</td>\n",
       "      <td>241.181351</td>\n",
       "    </tr>\n",
       "  </tbody>\n",
       "</table>\n",
       "</div>"
      ],
      "text/plain": [
       "                  Open        High         Low       Close\n",
       "Date                                                      \n",
       "2007-01-03  231.494354  236.789917  229.065155  232.284210\n",
       "2007-01-04  232.984665  240.411362  232.661758  240.068588\n",
       "2007-01-05  239.691040  242.174881  237.510223  242.020889\n",
       "2007-01-08  242.269272  243.352234  239.542007  240.227554\n",
       "2007-01-09  241.156509  242.547470  239.045242  241.181351"
      ]
     },
     "execution_count": 53,
     "metadata": {},
     "output_type": "execute_result"
    }
   ],
   "source": [
    "goog_new.head()"
   ]
  },
  {
   "cell_type": "markdown",
   "metadata": {},
   "source": [
    "### Plotting timeseries data"
   ]
  },
  {
   "cell_type": "code",
   "execution_count": 55,
   "metadata": {},
   "outputs": [
    {
     "data": {
      "text/plain": [
       "<matplotlib.axes._subplots.AxesSubplot at 0x7ffe689e2050>"
      ]
     },
     "execution_count": 55,
     "metadata": {},
     "output_type": "execute_result"
    },
    {
     "data": {
      "image/png": "[encoded data removed]",
      "text/plain": [
       "<Figure size 864x576 with 1 Axes>"
      ]
     },
     "metadata": {
      "needs_background": "light"
     },
     "output_type": "display_data"
    }
   ],
   "source": [
    "figure, axes = plt.subplots(figsize=(12,8))\n",
    "\n",
    "goog_new.plot(ax=axes)"
   ]
  },
  {
   "cell_type": "markdown",
   "metadata": {},
   "source": [
    "The above plot is plotting the four lines for each of the Open, High, Low and Close price of Google for each day. "
   ]
  },
  {
   "cell_type": "markdown",
   "metadata": {},
   "source": [
    "### Plotting only slices of the dataset\n",
    "\n",
    "For example let us see the price of Google in Nov 2008 (during the time of financial crisis)"
   ]
  },
  {
   "cell_type": "code",
   "execution_count": 56,
   "metadata": {},
   "outputs": [
    {
     "data": {
      "text/plain": [
       "<matplotlib.axes._subplots.AxesSubplot at 0x7ffe68a71f10>"
      ]
     },
     "execution_count": 56,
     "metadata": {},
     "output_type": "execute_result"
    },
    {
     "data": {
      "image/png": "[encoded data removed]",
      "text/plain": [
       "<Figure size 432x288 with 1 Axes>"
      ]
     },
     "metadata": {
      "needs_background": "light"
     },
     "output_type": "display_data"
    }
   ],
   "source": [
    "figure, axes = plt.subplots()\n",
    "\n",
    "goog_new.loc['Nov 2008'].plot(ax = axes)"
   ]
  },
  {
   "cell_type": "markdown",
   "metadata": {},
   "source": [
    "### Plotting the closing price of Google\n",
    "\n",
    "Since all the four columns (Open, High, Low, Close) are on the same scale, it makes sense to plot all of them. However, not all times the columns of a DataFrame are on the same scale. So you can select the column you want to plot. "
   ]
  },
  {
   "cell_type": "code",
   "execution_count": 57,
   "metadata": {},
   "outputs": [
    {
     "data": {
      "text/plain": [
       "<matplotlib.legend.Legend at 0x7ffe995a6950>"
      ]
     },
     "execution_count": 57,
     "metadata": {},
     "output_type": "execute_result"
    },
    {
     "data": {
      "image/png": "[encoded data removed]",
      "text/plain": [
       "<Figure size 432x288 with 1 Axes>"
      ]
     },
     "metadata": {
      "needs_background": "light"
     },
     "output_type": "display_data"
    }
   ],
   "source": [
    "figure, axes = plt.subplots()\n",
    "\n",
    "goog_new['Close'].plot(ax = axes)\n",
    "axes.legend()"
   ]
  },
  {
   "cell_type": "markdown",
   "metadata": {},
   "source": [
    "### Plotting a slice of closing price of Google"
   ]
  },
  {
   "cell_type": "code",
   "execution_count": 58,
   "metadata": {},
   "outputs": [
    {
     "data": {
      "text/plain": [
       "<matplotlib.legend.Legend at 0x7ffe39153a10>"
      ]
     },
     "execution_count": 58,
     "metadata": {},
     "output_type": "execute_result"
    },
    {
     "data": {
      "image/png": "[encoded data removed]",
      "text/plain": [
       "<Figure size 432x288 with 1 Axes>"
      ]
     },
     "metadata": {
      "needs_background": "light"
     },
     "output_type": "display_data"
    }
   ],
   "source": [
    "figure, axes = plt.subplots()\n",
    "\n",
    "goog_new.loc['2007 Dec':'2009 May']['Close'].plot(ax = axes)\n",
    "axes.legend()"
   ]
  },
  {
   "cell_type": "markdown",
   "metadata": {},
   "source": [
    "Plot two columns if you think they both are on the same scale. "
   ]
  },
  {
   "cell_type": "code",
   "execution_count": 59,
   "metadata": {},
   "outputs": [
    {
     "data": {
      "text/html": [
       "<div>\n",
       "<style scoped>\n",
       "    .dataframe tbody tr th:only-of-type {\n",
       "        vertical-align: middle;\n",
       "    }\n",
       "\n",
       "    .dataframe tbody tr th {\n",
       "        vertical-align: top;\n",
       "    }\n",
       "\n",
       "    .dataframe thead th {\n",
       "        text-align: right;\n",
       "    }\n",
       "</style>\n",
       "<table border=\"1\" class=\"dataframe\">\n",
       "  <thead>\n",
       "    <tr style=\"text-align: right;\">\n",
       "      <th></th>\n",
       "      <th>High</th>\n",
       "      <th>Low</th>\n",
       "    </tr>\n",
       "    <tr>\n",
       "      <th>Date</th>\n",
       "      <th></th>\n",
       "      <th></th>\n",
       "    </tr>\n",
       "  </thead>\n",
       "  <tbody>\n",
       "    <tr>\n",
       "      <td>2007-12-03</td>\n",
       "      <td>345.254456</td>\n",
       "      <td>338.369232</td>\n",
       "    </tr>\n",
       "    <tr>\n",
       "      <td>2007-12-04</td>\n",
       "      <td>343.764160</td>\n",
       "      <td>336.372223</td>\n",
       "    </tr>\n",
       "    <tr>\n",
       "      <td>2007-12-05</td>\n",
       "      <td>347.206757</td>\n",
       "      <td>341.528687</td>\n",
       "    </tr>\n",
       "    <tr>\n",
       "      <td>2007-12-06</td>\n",
       "      <td>355.964783</td>\n",
       "      <td>346.252960</td>\n",
       "    </tr>\n",
       "    <tr>\n",
       "      <td>2007-12-07</td>\n",
       "      <td>356.680145</td>\n",
       "      <td>352.954376</td>\n",
       "    </tr>\n",
       "    <tr>\n",
       "      <td>...</td>\n",
       "      <td>...</td>\n",
       "      <td>...</td>\n",
       "    </tr>\n",
       "    <tr>\n",
       "      <td>2009-05-22</td>\n",
       "      <td>198.036957</td>\n",
       "      <td>194.733444</td>\n",
       "    </tr>\n",
       "    <tr>\n",
       "      <td>2009-05-26</td>\n",
       "      <td>201.191437</td>\n",
       "      <td>193.739914</td>\n",
       "    </tr>\n",
       "    <tr>\n",
       "      <td>2009-05-27</td>\n",
       "      <td>204.599274</td>\n",
       "      <td>201.097061</td>\n",
       "    </tr>\n",
       "    <tr>\n",
       "      <td>2009-05-28</td>\n",
       "      <td>204.480057</td>\n",
       "      <td>200.997711</td>\n",
       "    </tr>\n",
       "    <tr>\n",
       "      <td>2009-05-29</td>\n",
       "      <td>207.266922</td>\n",
       "      <td>204.023026</td>\n",
       "    </tr>\n",
       "  </tbody>\n",
       "</table>\n",
       "<p>375 rows × 2 columns</p>\n",
       "</div>"
      ],
      "text/plain": [
       "                  High         Low\n",
       "Date                              \n",
       "2007-12-03  345.254456  338.369232\n",
       "2007-12-04  343.764160  336.372223\n",
       "2007-12-05  347.206757  341.528687\n",
       "2007-12-06  355.964783  346.252960\n",
       "2007-12-07  356.680145  352.954376\n",
       "...                ...         ...\n",
       "2009-05-22  198.036957  194.733444\n",
       "2009-05-26  201.191437  193.739914\n",
       "2009-05-27  204.599274  201.097061\n",
       "2009-05-28  204.480057  200.997711\n",
       "2009-05-29  207.266922  204.023026\n",
       "\n",
       "[375 rows x 2 columns]"
      ]
     },
     "execution_count": 59,
     "metadata": {},
     "output_type": "execute_result"
    }
   ],
   "source": [
    "goog_new.loc['2007 Dec':'2009 May'][['High', 'Low']]"
   ]
  },
  {
   "cell_type": "code",
   "execution_count": 60,
   "metadata": {},
   "outputs": [
    {
     "data": {
      "text/plain": [
       "<matplotlib.legend.Legend at 0x7ffe88c84a50>"
      ]
     },
     "execution_count": 60,
     "metadata": {},
     "output_type": "execute_result"
    },
    {
     "data": {
      "image/png": "[encoded data removed]",
      "text/plain": [
       "<Figure size 432x288 with 1 Axes>"
      ]
     },
     "metadata": {
      "needs_background": "light"
     },
     "output_type": "display_data"
    }
   ],
   "source": [
    "figure, axes = plt.subplots()\n",
    "\n",
    "goog_new.loc['2007 Dec':'2009 May'][['High', 'Low']].plot(ax = axes)\n",
    "axes.legend()"
   ]
  },
  {
   "cell_type": "markdown",
   "metadata": {},
   "source": [
    "# Activity\n",
    "\n",
    "We will use the flights DataFrame for this activity. "
   ]
  },
  {
   "cell_type": "code",
   "execution_count": 61,
   "metadata": {},
   "outputs": [
    {
     "data": {
      "text/html": [
       "<div>\n",
       "<style scoped>\n",
       "    .dataframe tbody tr th:only-of-type {\n",
       "        vertical-align: middle;\n",
       "    }\n",
       "\n",
       "    .dataframe tbody tr th {\n",
       "        vertical-align: top;\n",
       "    }\n",
       "\n",
       "    .dataframe thead th {\n",
       "        text-align: right;\n",
       "    }\n",
       "</style>\n",
       "<table border=\"1\" class=\"dataframe\">\n",
       "  <thead>\n",
       "    <tr style=\"text-align: right;\">\n",
       "      <th></th>\n",
       "      <th>AIRLINE</th>\n",
       "      <th>DAY_OF_WEEK</th>\n",
       "      <th>DISTANCE</th>\n",
       "      <th>AIR_TIME</th>\n",
       "      <th>TAXI_IN</th>\n",
       "      <th>TAXI_OUT</th>\n",
       "      <th>DEPARTURE_DELAY</th>\n",
       "    </tr>\n",
       "    <tr>\n",
       "      <th>DEPARTURE_DATETIME</th>\n",
       "      <th></th>\n",
       "      <th></th>\n",
       "      <th></th>\n",
       "      <th></th>\n",
       "      <th></th>\n",
       "      <th></th>\n",
       "      <th></th>\n",
       "    </tr>\n",
       "  </thead>\n",
       "  <tbody>\n",
       "    <tr>\n",
       "      <td>2015-01-01 06:26:00</td>\n",
       "      <td>OO</td>\n",
       "      <td>4</td>\n",
       "      <td>483</td>\n",
       "      <td>73.0</td>\n",
       "      <td>10.0</td>\n",
       "      <td>21.0</td>\n",
       "      <td>4.0</td>\n",
       "    </tr>\n",
       "    <tr>\n",
       "      <td>2015-01-01 06:55:00</td>\n",
       "      <td>NK</td>\n",
       "      <td>4</td>\n",
       "      <td>977</td>\n",
       "      <td>132.0</td>\n",
       "      <td>7.0</td>\n",
       "      <td>22.0</td>\n",
       "      <td>-5.0</td>\n",
       "    </tr>\n",
       "    <tr>\n",
       "      <td>2015-01-01 08:07:00</td>\n",
       "      <td>WN</td>\n",
       "      <td>4</td>\n",
       "      <td>220</td>\n",
       "      <td>55.0</td>\n",
       "      <td>3.0</td>\n",
       "      <td>10.0</td>\n",
       "      <td>-3.0</td>\n",
       "    </tr>\n",
       "    <tr>\n",
       "      <td>2015-01-01 08:43:00</td>\n",
       "      <td>UA</td>\n",
       "      <td>4</td>\n",
       "      <td>1120</td>\n",
       "      <td>138.0</td>\n",
       "      <td>3.0</td>\n",
       "      <td>14.0</td>\n",
       "      <td>3.0</td>\n",
       "    </tr>\n",
       "    <tr>\n",
       "      <td>2015-01-01 09:44:00</td>\n",
       "      <td>WN</td>\n",
       "      <td>4</td>\n",
       "      <td>1123</td>\n",
       "      <td>179.0</td>\n",
       "      <td>7.0</td>\n",
       "      <td>7.0</td>\n",
       "      <td>-1.0</td>\n",
       "    </tr>\n",
       "  </tbody>\n",
       "</table>\n",
       "</div>"
      ],
      "text/plain": [
       "                    AIRLINE  DAY_OF_WEEK  DISTANCE  AIR_TIME  TAXI_IN  \\\n",
       "DEPARTURE_DATETIME                                                      \n",
       "2015-01-01 06:26:00      OO            4       483      73.0     10.0   \n",
       "2015-01-01 06:55:00      NK            4       977     132.0      7.0   \n",
       "2015-01-01 08:07:00      WN            4       220      55.0      3.0   \n",
       "2015-01-01 08:43:00      UA            4      1120     138.0      3.0   \n",
       "2015-01-01 09:44:00      WN            4      1123     179.0      7.0   \n",
       "\n",
       "                     TAXI_OUT  DEPARTURE_DELAY  \n",
       "DEPARTURE_DATETIME                              \n",
       "2015-01-01 06:26:00      21.0              4.0  \n",
       "2015-01-01 06:55:00      22.0             -5.0  \n",
       "2015-01-01 08:07:00      10.0             -3.0  \n",
       "2015-01-01 08:43:00      14.0              3.0  \n",
       "2015-01-01 09:44:00       7.0             -1.0  "
      ]
     },
     "execution_count": 61,
     "metadata": {},
     "output_type": "execute_result"
    }
   ],
   "source": [
    "flights.head()"
   ]
  },
  {
   "cell_type": "code",
   "execution_count": 62,
   "metadata": {},
   "outputs": [
    {
     "data": {
      "text/plain": [
       "<matplotlib.axes._subplots.AxesSubplot at 0x7ffe390224d0>"
      ]
     },
     "execution_count": 62,
     "metadata": {},
     "output_type": "execute_result"
    },
    {
     "data": {
      "image/png": "[encoded data removed]",
      "text/plain": [
       "<Figure size 432x288 with 1 Axes>"
      ]
     },
     "metadata": {
      "needs_background": "light"
     },
     "output_type": "display_data"
    }
   ],
   "source": [
    "figure, axes = plt.subplots()\n",
    "flights.plot(ax = axes)"
   ]
  },
  {
   "cell_type": "markdown",
   "metadata": {},
   "source": [
    "This does not make sense as all of the columns here are not on the same scale. "
   ]
  },
  {
   "cell_type": "markdown",
   "metadata": {},
   "source": [
    "### Plotting Activity\n",
    "\n",
    "Plot the following details from the dataset\n",
    "* Plot the 'AIR_TIME' for the dataset. \n",
    "* Plot the 'DEPARTURE_DELAY' for the flights on 15th August 2015\n",
    "* Plot the 'TAXI_IN' and 'TAXI_OUT' for the flights on July 4th 2015"
   ]
  },
  {
   "cell_type": "code",
   "execution_count": 65,
   "metadata": {},
   "outputs": [
    {
     "data": {
      "text/plain": [
       "<matplotlib.axes._subplots.AxesSubplot at 0x7ffe88b38190>"
      ]
     },
     "execution_count": 65,
     "metadata": {},
     "output_type": "execute_result"
    },
    {
     "data": {
      "image/png": "[encoded data removed]",
      "text/plain": [
       "<Figure size 432x288 with 1 Axes>"
      ]
     },
     "metadata": {
      "needs_background": "light"
     },
     "output_type": "display_data"
    }
   ],
   "source": [
    "fig,ax = plt.subplots()\n",
    "flights['AIR_TIME'].plot(ax=ax)"
   ]
  },
  {
   "cell_type": "code",
   "execution_count": 68,
   "metadata": {},
   "outputs": [
    {
     "data": {
      "text/plain": [
       "[<matplotlib.lines.Line2D at 0x7ffe99fecf90>]"
      ]
     },
     "execution_count": 68,
     "metadata": {},
     "output_type": "execute_result"
    },
    {
     "data": {
      "image/png": "[encoded data removed]",
      "text/plain": [
       "<Figure size 432x288 with 1 Axes>"
      ]
     },
     "metadata": {
      "needs_background": "light"
     },
     "output_type": "display_data"
    }
   ],
   "source": [
    "delays = flights.loc['aug 15 2015']['DEPARTURE_DELAY']\n",
    "fig,ax = plt.subplots()\n",
    "ax.plot(delays.index, delays)"
   ]
  },
  {
   "cell_type": "code",
   "execution_count": 72,
   "metadata": {},
   "outputs": [
    {
     "data": {
      "text/plain": [
       "Text(0.5, 1.0, 'Taxi in and out')"
      ]
     },
     "execution_count": 72,
     "metadata": {},
     "output_type": "execute_result"
    },
    {
     "data": {
      "image/png": "[encoded data removed]",
      "text/plain": [
       "<Figure size 864x576 with 1 Axes>"
      ]
     },
     "metadata": {
      "needs_background": "light"
     },
     "output_type": "display_data"
    }
   ],
   "source": [
    "fig,ax = plt.subplots(figsize=(12,8))\n",
    "flights.loc['July 4 2015'][['TAXI_IN', 'TAXI_OUT']].plot(ax=ax)\n",
    "ax.set_title(\"Taxi in and out\")"
   ]
  },
  {
   "cell_type": "markdown",
   "metadata": {},
   "source": [
    "# Time Series Operations: Resampling and Windowing\n",
    "\n",
    "Resampling and windowing techniques are very similar to the groupby operations that we have learned earlier, however, they are much more simple and easy to achieve with DateTime as an index to a DataFrame or Series in `pandas`.  "
   ]
  },
  {
   "cell_type": "markdown",
   "metadata": {},
   "source": [
    "## `resample()` and `asfreq()` methods\n",
    "\n",
    "`resample()` method needs to be provided with a frequency for resampling a given frequency. For example, if you provide the frequencey as 'M' for month, it is similar to the groupby month operation for each unique month in the dataset and then you can apply aggregate operations. \n",
    "\n",
    "`asfreq()` method just provides the the value at the end of that frequency. For example, if the frequency is 'M' for month, then it provides the value all the columns on the last day of each month. \n",
    "\n",
    "The notation used in frequency specification is given by the table along with description. \n",
    "\n",
    "\n",
    "| Code      | Description |                         \n",
    "|-----------|-------------|\n",
    "|``D``      |Calendar Day |\n",
    "|``W``      |Weekly  |\n",
    "|``M``      |Month end |\n",
    "|``Q``      |Quarter end |\n",
    "|``A``      |Year end |\n",
    "|``H``      |Hours |\n",
    "|``T``      |Minutes |\n",
    "|``S``      |Seconds |\n",
    "|``B``      |Business day|\n",
    "|``BM``      |Business Month end|\n",
    "|``BQ``      |Business Quarter end|\n",
    "|``BA``      |Business Year end|\n",
    "|``BH``      |Business Hours|"
   ]
  },
  {
   "cell_type": "code",
   "execution_count": 73,
   "metadata": {},
   "outputs": [
    {
     "data": {
      "text/html": [
       "<div>\n",
       "<style scoped>\n",
       "    .dataframe tbody tr th:only-of-type {\n",
       "        vertical-align: middle;\n",
       "    }\n",
       "\n",
       "    .dataframe tbody tr th {\n",
       "        vertical-align: top;\n",
       "    }\n",
       "\n",
       "    .dataframe thead th {\n",
       "        text-align: right;\n",
       "    }\n",
       "</style>\n",
       "<table border=\"1\" class=\"dataframe\">\n",
       "  <thead>\n",
       "    <tr style=\"text-align: right;\">\n",
       "      <th></th>\n",
       "      <th>Open</th>\n",
       "      <th>High</th>\n",
       "      <th>Low</th>\n",
       "      <th>Close</th>\n",
       "      <th>Adj Close</th>\n",
       "      <th>Volume</th>\n",
       "    </tr>\n",
       "    <tr>\n",
       "      <th>Date</th>\n",
       "      <th></th>\n",
       "      <th></th>\n",
       "      <th></th>\n",
       "      <th></th>\n",
       "      <th></th>\n",
       "      <th></th>\n",
       "    </tr>\n",
       "  </thead>\n",
       "  <tbody>\n",
       "    <tr>\n",
       "      <td>2007-12-31</td>\n",
       "      <td>267.672969</td>\n",
       "      <td>270.330110</td>\n",
       "      <td>264.775876</td>\n",
       "      <td>267.634514</td>\n",
       "      <td>267.634514</td>\n",
       "      <td>1.094867e+07</td>\n",
       "    </tr>\n",
       "    <tr>\n",
       "      <td>2008-12-31</td>\n",
       "      <td>231.630031</td>\n",
       "      <td>235.638054</td>\n",
       "      <td>226.860794</td>\n",
       "      <td>230.924069</td>\n",
       "      <td>230.924069</td>\n",
       "      <td>1.272535e+07</td>\n",
       "    </tr>\n",
       "    <tr>\n",
       "      <td>2009-12-31</td>\n",
       "      <td>218.066943</td>\n",
       "      <td>220.559305</td>\n",
       "      <td>215.831285</td>\n",
       "      <td>218.423533</td>\n",
       "      <td>218.423533</td>\n",
       "      <td>7.063864e+06</td>\n",
       "    </tr>\n",
       "    <tr>\n",
       "      <td>2010-12-31</td>\n",
       "      <td>266.423166</td>\n",
       "      <td>268.726281</td>\n",
       "      <td>263.678991</td>\n",
       "      <td>266.080947</td>\n",
       "      <td>266.080947</td>\n",
       "      <td>6.401081e+06</td>\n",
       "    </tr>\n",
       "    <tr>\n",
       "      <td>2011-12-31</td>\n",
       "      <td>282.746857</td>\n",
       "      <td>285.327061</td>\n",
       "      <td>279.983146</td>\n",
       "      <td>282.648726</td>\n",
       "      <td>282.648726</td>\n",
       "      <td>6.196377e+06</td>\n",
       "    </tr>\n",
       "    <tr>\n",
       "      <td>2012-12-31</td>\n",
       "      <td>319.318381</td>\n",
       "      <td>322.043677</td>\n",
       "      <td>316.419556</td>\n",
       "      <td>319.331297</td>\n",
       "      <td>319.331297</td>\n",
       "      <td>5.242528e+06</td>\n",
       "    </tr>\n",
       "    <tr>\n",
       "      <td>2013-12-31</td>\n",
       "      <td>438.955119</td>\n",
       "      <td>442.193265</td>\n",
       "      <td>436.020338</td>\n",
       "      <td>439.264377</td>\n",
       "      <td>439.264377</td>\n",
       "      <td>4.201848e+06</td>\n",
       "    </tr>\n",
       "    <tr>\n",
       "      <td>2014-12-31</td>\n",
       "      <td>559.174432</td>\n",
       "      <td>562.949628</td>\n",
       "      <td>553.642231</td>\n",
       "      <td>558.270558</td>\n",
       "      <td>558.270558</td>\n",
       "      <td>2.493866e+06</td>\n",
       "    </tr>\n",
       "    <tr>\n",
       "      <td>2015-12-31</td>\n",
       "      <td>601.602355</td>\n",
       "      <td>606.983919</td>\n",
       "      <td>595.639702</td>\n",
       "      <td>601.550547</td>\n",
       "      <td>601.550547</td>\n",
       "      <td>2.067935e+06</td>\n",
       "    </tr>\n",
       "  </tbody>\n",
       "</table>\n",
       "</div>"
      ],
      "text/plain": [
       "                  Open        High         Low       Close   Adj Close  \\\n",
       "Date                                                                     \n",
       "2007-12-31  267.672969  270.330110  264.775876  267.634514  267.634514   \n",
       "2008-12-31  231.630031  235.638054  226.860794  230.924069  230.924069   \n",
       "2009-12-31  218.066943  220.559305  215.831285  218.423533  218.423533   \n",
       "2010-12-31  266.423166  268.726281  263.678991  266.080947  266.080947   \n",
       "2011-12-31  282.746857  285.327061  279.983146  282.648726  282.648726   \n",
       "2012-12-31  319.318381  322.043677  316.419556  319.331297  319.331297   \n",
       "2013-12-31  438.955119  442.193265  436.020338  439.264377  439.264377   \n",
       "2014-12-31  559.174432  562.949628  553.642231  558.270558  558.270558   \n",
       "2015-12-31  601.602355  606.983919  595.639702  601.550547  601.550547   \n",
       "\n",
       "                  Volume  \n",
       "Date                      \n",
       "2007-12-31  1.094867e+07  \n",
       "2008-12-31  1.272535e+07  \n",
       "2009-12-31  7.063864e+06  \n",
       "2010-12-31  6.401081e+06  \n",
       "2011-12-31  6.196377e+06  \n",
       "2012-12-31  5.242528e+06  \n",
       "2013-12-31  4.201848e+06  \n",
       "2014-12-31  2.493866e+06  \n",
       "2015-12-31  2.067935e+06  "
      ]
     },
     "execution_count": 73,
     "metadata": {},
     "output_type": "execute_result"
    }
   ],
   "source": [
    "# Average Google price for the whole year (from the beginning to) the end of each year\n",
    "goog.resample('A').mean()\n"
   ]
  },
  {
   "cell_type": "markdown",
   "metadata": {},
   "source": [
    "You can think of the above resample() and mean() as groupby the year and then compute the mean for each year. However, this is much more simpler and easy to achieve as you can specify any frequency you want. "
   ]
  },
  {
   "cell_type": "code",
   "execution_count": 74,
   "metadata": {},
   "outputs": [
    {
     "data": {
      "text/html": [
       "<div>\n",
       "<style scoped>\n",
       "    .dataframe tbody tr th:only-of-type {\n",
       "        vertical-align: middle;\n",
       "    }\n",
       "\n",
       "    .dataframe tbody tr th {\n",
       "        vertical-align: top;\n",
       "    }\n",
       "\n",
       "    .dataframe thead th {\n",
       "        text-align: right;\n",
       "    }\n",
       "</style>\n",
       "<table border=\"1\" class=\"dataframe\">\n",
       "  <thead>\n",
       "    <tr style=\"text-align: right;\">\n",
       "      <th></th>\n",
       "      <th>Open</th>\n",
       "      <th>High</th>\n",
       "      <th>Low</th>\n",
       "      <th>Close</th>\n",
       "      <th>Adj Close</th>\n",
       "      <th>Volume</th>\n",
       "    </tr>\n",
       "    <tr>\n",
       "      <th>Date</th>\n",
       "      <th></th>\n",
       "      <th></th>\n",
       "      <th></th>\n",
       "      <th></th>\n",
       "      <th></th>\n",
       "      <th></th>\n",
       "    </tr>\n",
       "  </thead>\n",
       "  <tbody>\n",
       "    <tr>\n",
       "      <td>2007-12-31</td>\n",
       "      <td>347.027924</td>\n",
       "      <td>348.975250</td>\n",
       "      <td>343.058746</td>\n",
       "      <td>343.505829</td>\n",
       "      <td>343.505829</td>\n",
       "      <td>4783200.0</td>\n",
       "    </tr>\n",
       "    <tr>\n",
       "      <td>2008-12-31</td>\n",
       "      <td>151.117126</td>\n",
       "      <td>154.495163</td>\n",
       "      <td>150.327271</td>\n",
       "      <td>152.830978</td>\n",
       "      <td>152.830978</td>\n",
       "      <td>5811000.0</td>\n",
       "    </tr>\n",
       "    <tr>\n",
       "      <td>2009-12-31</td>\n",
       "      <td>310.356445</td>\n",
       "      <td>310.679321</td>\n",
       "      <td>307.986847</td>\n",
       "      <td>307.986847</td>\n",
       "      <td>307.986847</td>\n",
       "      <td>2455400.0</td>\n",
       "    </tr>\n",
       "    <tr>\n",
       "      <td>2010-12-31</td>\n",
       "      <td>296.441925</td>\n",
       "      <td>297.276489</td>\n",
       "      <td>294.102142</td>\n",
       "      <td>295.065887</td>\n",
       "      <td>295.065887</td>\n",
       "      <td>3098500.0</td>\n",
       "    </tr>\n",
       "    <tr>\n",
       "      <td>2011-12-31</td>\n",
       "      <td>NaN</td>\n",
       "      <td>NaN</td>\n",
       "      <td>NaN</td>\n",
       "      <td>NaN</td>\n",
       "      <td>NaN</td>\n",
       "      <td>NaN</td>\n",
       "    </tr>\n",
       "    <tr>\n",
       "      <td>2012-12-31</td>\n",
       "      <td>347.738312</td>\n",
       "      <td>352.989136</td>\n",
       "      <td>345.751221</td>\n",
       "      <td>351.404449</td>\n",
       "      <td>351.404449</td>\n",
       "      <td>4020600.0</td>\n",
       "    </tr>\n",
       "    <tr>\n",
       "      <td>2013-12-31</td>\n",
       "      <td>552.526367</td>\n",
       "      <td>556.878052</td>\n",
       "      <td>549.555664</td>\n",
       "      <td>556.734009</td>\n",
       "      <td>556.734009</td>\n",
       "      <td>2733400.0</td>\n",
       "    </tr>\n",
       "    <tr>\n",
       "      <td>2014-12-31</td>\n",
       "      <td>528.344849</td>\n",
       "      <td>529.687500</td>\n",
       "      <td>522.924683</td>\n",
       "      <td>523.521423</td>\n",
       "      <td>523.521423</td>\n",
       "      <td>1372000.0</td>\n",
       "    </tr>\n",
       "    <tr>\n",
       "      <td>2015-12-31</td>\n",
       "      <td>769.500000</td>\n",
       "      <td>769.500000</td>\n",
       "      <td>758.340027</td>\n",
       "      <td>758.880005</td>\n",
       "      <td>758.880005</td>\n",
       "      <td>1500900.0</td>\n",
       "    </tr>\n",
       "  </tbody>\n",
       "</table>\n",
       "</div>"
      ],
      "text/plain": [
       "                  Open        High         Low       Close   Adj Close  \\\n",
       "Date                                                                     \n",
       "2007-12-31  347.027924  348.975250  343.058746  343.505829  343.505829   \n",
       "2008-12-31  151.117126  154.495163  150.327271  152.830978  152.830978   \n",
       "2009-12-31  310.356445  310.679321  307.986847  307.986847  307.986847   \n",
       "2010-12-31  296.441925  297.276489  294.102142  295.065887  295.065887   \n",
       "2011-12-31         NaN         NaN         NaN         NaN         NaN   \n",
       "2012-12-31  347.738312  352.989136  345.751221  351.404449  351.404449   \n",
       "2013-12-31  552.526367  556.878052  549.555664  556.734009  556.734009   \n",
       "2014-12-31  528.344849  529.687500  522.924683  523.521423  523.521423   \n",
       "2015-12-31  769.500000  769.500000  758.340027  758.880005  758.880005   \n",
       "\n",
       "               Volume  \n",
       "Date                   \n",
       "2007-12-31  4783200.0  \n",
       "2008-12-31  5811000.0  \n",
       "2009-12-31  2455400.0  \n",
       "2010-12-31  3098500.0  \n",
       "2011-12-31        NaN  \n",
       "2012-12-31  4020600.0  \n",
       "2013-12-31  2733400.0  \n",
       "2014-12-31  1372000.0  \n",
       "2015-12-31  1500900.0  "
      ]
     },
     "execution_count": 74,
     "metadata": {},
     "output_type": "execute_result"
    }
   ],
   "source": [
    "# asfreq gives you the exact price on the very last day of each year. \n",
    "goog.asfreq('A')"
   ]
  },
  {
   "cell_type": "markdown",
   "metadata": {},
   "source": [
    "Notice that there is no price for 31st Dec 2011, because it was a Saturday, not a working day. You can get the last business day of the year by using 'BA'. "
   ]
  },
  {
   "cell_type": "code",
   "execution_count": 75,
   "metadata": {},
   "outputs": [
    {
     "data": {
      "text/html": [
       "<div>\n",
       "<style scoped>\n",
       "    .dataframe tbody tr th:only-of-type {\n",
       "        vertical-align: middle;\n",
       "    }\n",
       "\n",
       "    .dataframe tbody tr th {\n",
       "        vertical-align: top;\n",
       "    }\n",
       "\n",
       "    .dataframe thead th {\n",
       "        text-align: right;\n",
       "    }\n",
       "</style>\n",
       "<table border=\"1\" class=\"dataframe\">\n",
       "  <thead>\n",
       "    <tr style=\"text-align: right;\">\n",
       "      <th></th>\n",
       "      <th>Open</th>\n",
       "      <th>High</th>\n",
       "      <th>Low</th>\n",
       "      <th>Close</th>\n",
       "      <th>Adj Close</th>\n",
       "      <th>Volume</th>\n",
       "    </tr>\n",
       "    <tr>\n",
       "      <th>Date</th>\n",
       "      <th></th>\n",
       "      <th></th>\n",
       "      <th></th>\n",
       "      <th></th>\n",
       "      <th></th>\n",
       "      <th></th>\n",
       "    </tr>\n",
       "  </thead>\n",
       "  <tbody>\n",
       "    <tr>\n",
       "      <td>2007-12-31</td>\n",
       "      <td>347.027924</td>\n",
       "      <td>348.975250</td>\n",
       "      <td>343.058746</td>\n",
       "      <td>343.505829</td>\n",
       "      <td>343.505829</td>\n",
       "      <td>4783200</td>\n",
       "    </tr>\n",
       "    <tr>\n",
       "      <td>2008-12-31</td>\n",
       "      <td>151.117126</td>\n",
       "      <td>154.495163</td>\n",
       "      <td>150.327271</td>\n",
       "      <td>152.830978</td>\n",
       "      <td>152.830978</td>\n",
       "      <td>5811000</td>\n",
       "    </tr>\n",
       "    <tr>\n",
       "      <td>2009-12-31</td>\n",
       "      <td>310.356445</td>\n",
       "      <td>310.679321</td>\n",
       "      <td>307.986847</td>\n",
       "      <td>307.986847</td>\n",
       "      <td>307.986847</td>\n",
       "      <td>2455400</td>\n",
       "    </tr>\n",
       "    <tr>\n",
       "      <td>2010-12-31</td>\n",
       "      <td>296.441925</td>\n",
       "      <td>297.276489</td>\n",
       "      <td>294.102142</td>\n",
       "      <td>295.065887</td>\n",
       "      <td>295.065887</td>\n",
       "      <td>3098500</td>\n",
       "    </tr>\n",
       "    <tr>\n",
       "      <td>2011-12-30</td>\n",
       "      <td>318.935638</td>\n",
       "      <td>321.290314</td>\n",
       "      <td>318.935638</td>\n",
       "      <td>320.863098</td>\n",
       "      <td>320.863098</td>\n",
       "      <td>3587600</td>\n",
       "    </tr>\n",
       "    <tr>\n",
       "      <td>2012-12-31</td>\n",
       "      <td>347.738312</td>\n",
       "      <td>352.989136</td>\n",
       "      <td>345.751221</td>\n",
       "      <td>351.404449</td>\n",
       "      <td>351.404449</td>\n",
       "      <td>4020600</td>\n",
       "    </tr>\n",
       "    <tr>\n",
       "      <td>2013-12-31</td>\n",
       "      <td>552.526367</td>\n",
       "      <td>556.878052</td>\n",
       "      <td>549.555664</td>\n",
       "      <td>556.734009</td>\n",
       "      <td>556.734009</td>\n",
       "      <td>2733400</td>\n",
       "    </tr>\n",
       "    <tr>\n",
       "      <td>2014-12-31</td>\n",
       "      <td>528.344849</td>\n",
       "      <td>529.687500</td>\n",
       "      <td>522.924683</td>\n",
       "      <td>523.521423</td>\n",
       "      <td>523.521423</td>\n",
       "      <td>1372000</td>\n",
       "    </tr>\n",
       "    <tr>\n",
       "      <td>2015-12-31</td>\n",
       "      <td>769.500000</td>\n",
       "      <td>769.500000</td>\n",
       "      <td>758.340027</td>\n",
       "      <td>758.880005</td>\n",
       "      <td>758.880005</td>\n",
       "      <td>1500900</td>\n",
       "    </tr>\n",
       "  </tbody>\n",
       "</table>\n",
       "</div>"
      ],
      "text/plain": [
       "                  Open        High         Low       Close   Adj Close  \\\n",
       "Date                                                                     \n",
       "2007-12-31  347.027924  348.975250  343.058746  343.505829  343.505829   \n",
       "2008-12-31  151.117126  154.495163  150.327271  152.830978  152.830978   \n",
       "2009-12-31  310.356445  310.679321  307.986847  307.986847  307.986847   \n",
       "2010-12-31  296.441925  297.276489  294.102142  295.065887  295.065887   \n",
       "2011-12-30  318.935638  321.290314  318.935638  320.863098  320.863098   \n",
       "2012-12-31  347.738312  352.989136  345.751221  351.404449  351.404449   \n",
       "2013-12-31  552.526367  556.878052  549.555664  556.734009  556.734009   \n",
       "2014-12-31  528.344849  529.687500  522.924683  523.521423  523.521423   \n",
       "2015-12-31  769.500000  769.500000  758.340027  758.880005  758.880005   \n",
       "\n",
       "             Volume  \n",
       "Date                 \n",
       "2007-12-31  4783200  \n",
       "2008-12-31  5811000  \n",
       "2009-12-31  2455400  \n",
       "2010-12-31  3098500  \n",
       "2011-12-30  3587600  \n",
       "2012-12-31  4020600  \n",
       "2013-12-31  2733400  \n",
       "2014-12-31  1372000  \n",
       "2015-12-31  1500900  "
      ]
     },
     "execution_count": 75,
     "metadata": {},
     "output_type": "execute_result"
    }
   ],
   "source": [
    "goog.asfreq('BA')"
   ]
  },
  {
   "cell_type": "code",
   "execution_count": 76,
   "metadata": {},
   "outputs": [
    {
     "data": {
      "text/html": [
       "<div>\n",
       "<style scoped>\n",
       "    .dataframe tbody tr th:only-of-type {\n",
       "        vertical-align: middle;\n",
       "    }\n",
       "\n",
       "    .dataframe tbody tr th {\n",
       "        vertical-align: top;\n",
       "    }\n",
       "\n",
       "    .dataframe thead th {\n",
       "        text-align: right;\n",
       "    }\n",
       "</style>\n",
       "<table border=\"1\" class=\"dataframe\">\n",
       "  <thead>\n",
       "    <tr style=\"text-align: right;\">\n",
       "      <th></th>\n",
       "      <th>Open</th>\n",
       "      <th>High</th>\n",
       "      <th>Low</th>\n",
       "      <th>Close</th>\n",
       "      <th>Adj Close</th>\n",
       "      <th>Volume</th>\n",
       "    </tr>\n",
       "    <tr>\n",
       "      <th>Date</th>\n",
       "      <th></th>\n",
       "      <th></th>\n",
       "      <th></th>\n",
       "      <th></th>\n",
       "      <th></th>\n",
       "      <th></th>\n",
       "    </tr>\n",
       "  </thead>\n",
       "  <tbody>\n",
       "    <tr>\n",
       "      <td>2007-01-31</td>\n",
       "      <td>244.268768</td>\n",
       "      <td>246.988571</td>\n",
       "      <td>241.529091</td>\n",
       "      <td>243.220589</td>\n",
       "      <td>243.220589</td>\n",
       "      <td>11977850</td>\n",
       "    </tr>\n",
       "    <tr>\n",
       "      <td>2007-02-28</td>\n",
       "      <td>232.721375</td>\n",
       "      <td>235.120773</td>\n",
       "      <td>230.853516</td>\n",
       "      <td>233.451630</td>\n",
       "      <td>233.451630</td>\n",
       "      <td>11354500</td>\n",
       "    </tr>\n",
       "    <tr>\n",
       "      <td>2007-03-30</td>\n",
       "      <td>224.211716</td>\n",
       "      <td>227.264359</td>\n",
       "      <td>222.920113</td>\n",
       "      <td>225.898247</td>\n",
       "      <td>225.898247</td>\n",
       "      <td>10629050</td>\n",
       "    </tr>\n",
       "    <tr>\n",
       "      <td>2007-04-30</td>\n",
       "      <td>234.753158</td>\n",
       "      <td>236.804810</td>\n",
       "      <td>233.275269</td>\n",
       "      <td>234.537064</td>\n",
       "      <td>234.537064</td>\n",
       "      <td>7522000</td>\n",
       "    </tr>\n",
       "    <tr>\n",
       "      <td>2007-05-31</td>\n",
       "      <td>234.015457</td>\n",
       "      <td>235.272286</td>\n",
       "      <td>231.581284</td>\n",
       "      <td>233.868912</td>\n",
       "      <td>233.868912</td>\n",
       "      <td>7890750</td>\n",
       "    </tr>\n",
       "  </tbody>\n",
       "</table>\n",
       "</div>"
      ],
      "text/plain": [
       "                  Open        High         Low       Close   Adj Close  \\\n",
       "Date                                                                     \n",
       "2007-01-31  244.268768  246.988571  241.529091  243.220589  243.220589   \n",
       "2007-02-28  232.721375  235.120773  230.853516  233.451630  233.451630   \n",
       "2007-03-30  224.211716  227.264359  222.920113  225.898247  225.898247   \n",
       "2007-04-30  234.753158  236.804810  233.275269  234.537064  234.537064   \n",
       "2007-05-31  234.015457  235.272286  231.581284  233.868912  233.868912   \n",
       "\n",
       "              Volume  \n",
       "Date                  \n",
       "2007-01-31  11977850  \n",
       "2007-02-28  11354500  \n",
       "2007-03-30  10629050  \n",
       "2007-04-30   7522000  \n",
       "2007-05-31   7890750  "
      ]
     },
     "execution_count": 76,
     "metadata": {},
     "output_type": "execute_result"
    }
   ],
   "source": [
    "goog.resample('BM').median().head()"
   ]
  },
  {
   "cell_type": "markdown",
   "metadata": {},
   "source": [
    "**NOTE:** You can also sepcifiy a number for the resampling. For example, you can resample every 5 days using 5D. "
   ]
  },
  {
   "cell_type": "code",
   "execution_count": 77,
   "metadata": {},
   "outputs": [
    {
     "data": {
      "text/html": [
       "<div>\n",
       "<style scoped>\n",
       "    .dataframe tbody tr th:only-of-type {\n",
       "        vertical-align: middle;\n",
       "    }\n",
       "\n",
       "    .dataframe tbody tr th {\n",
       "        vertical-align: top;\n",
       "    }\n",
       "\n",
       "    .dataframe thead th {\n",
       "        text-align: right;\n",
       "    }\n",
       "</style>\n",
       "<table border=\"1\" class=\"dataframe\">\n",
       "  <thead>\n",
       "    <tr style=\"text-align: right;\">\n",
       "      <th></th>\n",
       "      <th>Open</th>\n",
       "      <th>High</th>\n",
       "      <th>Low</th>\n",
       "      <th>Close</th>\n",
       "      <th>Adj Close</th>\n",
       "      <th>Volume</th>\n",
       "    </tr>\n",
       "    <tr>\n",
       "      <th>Date</th>\n",
       "      <th></th>\n",
       "      <th></th>\n",
       "      <th></th>\n",
       "      <th></th>\n",
       "      <th></th>\n",
       "      <th></th>\n",
       "    </tr>\n",
       "  </thead>\n",
       "  <tbody>\n",
       "    <tr>\n",
       "      <td>2007-01-03</td>\n",
       "      <td>234.723353</td>\n",
       "      <td>239.792053</td>\n",
       "      <td>233.079045</td>\n",
       "      <td>238.124562</td>\n",
       "      <td>238.124562</td>\n",
       "      <td>1.507480e+07</td>\n",
       "    </tr>\n",
       "    <tr>\n",
       "      <td>2007-01-08</td>\n",
       "      <td>244.088440</td>\n",
       "      <td>246.240448</td>\n",
       "      <td>242.584222</td>\n",
       "      <td>244.734244</td>\n",
       "      <td>244.734244</td>\n",
       "      <td>1.118670e+07</td>\n",
       "    </tr>\n",
       "    <tr>\n",
       "      <td>2007-01-13</td>\n",
       "      <td>251.101821</td>\n",
       "      <td>253.543450</td>\n",
       "      <td>247.808243</td>\n",
       "      <td>248.771973</td>\n",
       "      <td>248.771973</td>\n",
       "      <td>1.436070e+07</td>\n",
       "    </tr>\n",
       "    <tr>\n",
       "      <td>2007-01-18</td>\n",
       "      <td>244.244756</td>\n",
       "      <td>245.054489</td>\n",
       "      <td>240.547139</td>\n",
       "      <td>241.499283</td>\n",
       "      <td>241.499283</td>\n",
       "      <td>1.094707e+07</td>\n",
       "    </tr>\n",
       "    <tr>\n",
       "      <td>2007-01-23</td>\n",
       "      <td>243.065345</td>\n",
       "      <td>246.731503</td>\n",
       "      <td>240.097149</td>\n",
       "      <td>243.671402</td>\n",
       "      <td>243.671402</td>\n",
       "      <td>1.136830e+07</td>\n",
       "    </tr>\n",
       "    <tr>\n",
       "      <td>2007-01-28</td>\n",
       "      <td>247.700199</td>\n",
       "      <td>249.348232</td>\n",
       "      <td>243.262810</td>\n",
       "      <td>244.663700</td>\n",
       "      <td>244.663700</td>\n",
       "      <td>1.853012e+07</td>\n",
       "    </tr>\n",
       "    <tr>\n",
       "      <td>2007-02-02</td>\n",
       "      <td>236.496816</td>\n",
       "      <td>237.836441</td>\n",
       "      <td>233.690074</td>\n",
       "      <td>235.160507</td>\n",
       "      <td>235.160507</td>\n",
       "      <td>1.262500e+07</td>\n",
       "    </tr>\n",
       "    <tr>\n",
       "      <td>2007-02-07</td>\n",
       "      <td>234.064306</td>\n",
       "      <td>235.266490</td>\n",
       "      <td>231.068787</td>\n",
       "      <td>232.310710</td>\n",
       "      <td>232.310710</td>\n",
       "      <td>8.759967e+06</td>\n",
       "    </tr>\n",
       "    <tr>\n",
       "      <td>2007-02-12</td>\n",
       "      <td>229.371164</td>\n",
       "      <td>231.551977</td>\n",
       "      <td>227.945431</td>\n",
       "      <td>229.977222</td>\n",
       "      <td>229.977222</td>\n",
       "      <td>1.036098e+07</td>\n",
       "    </tr>\n",
       "    <tr>\n",
       "      <td>2007-02-17</td>\n",
       "      <td>233.061661</td>\n",
       "      <td>236.320465</td>\n",
       "      <td>231.606125</td>\n",
       "      <td>235.458573</td>\n",
       "      <td>235.458573</td>\n",
       "      <td>9.771250e+06</td>\n",
       "    </tr>\n",
       "  </tbody>\n",
       "</table>\n",
       "</div>"
      ],
      "text/plain": [
       "                  Open        High         Low       Close   Adj Close  \\\n",
       "Date                                                                     \n",
       "2007-01-03  234.723353  239.792053  233.079045  238.124562  238.124562   \n",
       "2007-01-08  244.088440  246.240448  242.584222  244.734244  244.734244   \n",
       "2007-01-13  251.101821  253.543450  247.808243  248.771973  248.771973   \n",
       "2007-01-18  244.244756  245.054489  240.547139  241.499283  241.499283   \n",
       "2007-01-23  243.065345  246.731503  240.097149  243.671402  243.671402   \n",
       "2007-01-28  247.700199  249.348232  243.262810  244.663700  244.663700   \n",
       "2007-02-02  236.496816  237.836441  233.690074  235.160507  235.160507   \n",
       "2007-02-07  234.064306  235.266490  231.068787  232.310710  232.310710   \n",
       "2007-02-12  229.371164  231.551977  227.945431  229.977222  229.977222   \n",
       "2007-02-17  233.061661  236.320465  231.606125  235.458573  235.458573   \n",
       "\n",
       "                  Volume  \n",
       "Date                      \n",
       "2007-01-03  1.507480e+07  \n",
       "2007-01-08  1.118670e+07  \n",
       "2007-01-13  1.436070e+07  \n",
       "2007-01-18  1.094707e+07  \n",
       "2007-01-23  1.136830e+07  \n",
       "2007-01-28  1.853012e+07  \n",
       "2007-02-02  1.262500e+07  \n",
       "2007-02-07  8.759967e+06  \n",
       "2007-02-12  1.036098e+07  \n",
       "2007-02-17  9.771250e+06  "
      ]
     },
     "execution_count": 77,
     "metadata": {},
     "output_type": "execute_result"
    }
   ],
   "source": [
    "goog.resample('5D').mean().head(10)"
   ]
  },
  {
   "cell_type": "markdown",
   "metadata": {},
   "source": [
    "### Plotting by resampling the data"
   ]
  },
  {
   "cell_type": "code",
   "execution_count": 79,
   "metadata": {},
   "outputs": [
    {
     "data": {
      "text/plain": [
       "<matplotlib.legend.Legend at 0x7ffe7979dc50>"
      ]
     },
     "execution_count": 79,
     "metadata": {},
     "output_type": "execute_result"
    },
    {
     "data": {
      "image/png": "[encoded data removed]",
      "text/plain": [
       "<Figure size 864x576 with 1 Axes>"
      ]
     },
     "metadata": {
      "needs_background": "light"
     },
     "output_type": "display_data"
    }
   ],
   "source": [
    "goog_close = goog['Close']\n",
    "\n",
    "figure, axes = plt.subplots(figsize=(12,8))\n",
    "\n",
    "goog_close.plot(alpha = 0.5, style = '-', label='original')\n",
    "goog_close.resample('BA').mean().plot(style=':', label='resample')\n",
    "goog_close.asfreq('BA').plot(style='--',label='asfreq')\n",
    "axes.legend()"
   ]
  },
  {
   "cell_type": "markdown",
   "metadata": {},
   "source": [
    "# Rolling Window using `rolling()` method\n",
    "\n",
    "A lot of times you may not want to compute the average at the end of the year or end of the month, but compute the rolling average (or any summary statistic) as the data moves along. You can do that by using `rolling()` method. "
   ]
  },
  {
   "cell_type": "code",
   "execution_count": 81,
   "metadata": {
    "scrolled": false
   },
   "outputs": [
    {
     "data": {
      "text/html": [
       "<div>\n",
       "<style scoped>\n",
       "    .dataframe tbody tr th:only-of-type {\n",
       "        vertical-align: middle;\n",
       "    }\n",
       "\n",
       "    .dataframe tbody tr th {\n",
       "        vertical-align: top;\n",
       "    }\n",
       "\n",
       "    .dataframe thead th {\n",
       "        text-align: right;\n",
       "    }\n",
       "</style>\n",
       "<table border=\"1\" class=\"dataframe\">\n",
       "  <thead>\n",
       "    <tr style=\"text-align: right;\">\n",
       "      <th></th>\n",
       "      <th>Open</th>\n",
       "      <th>High</th>\n",
       "      <th>Low</th>\n",
       "      <th>Close</th>\n",
       "      <th>Adj Close</th>\n",
       "      <th>Volume</th>\n",
       "    </tr>\n",
       "    <tr>\n",
       "      <th>Date</th>\n",
       "      <th></th>\n",
       "      <th></th>\n",
       "      <th></th>\n",
       "      <th></th>\n",
       "      <th></th>\n",
       "      <th></th>\n",
       "    </tr>\n",
       "  </thead>\n",
       "  <tbody>\n",
       "    <tr>\n",
       "      <td>2007-01-11</td>\n",
       "      <td>239.319885</td>\n",
       "      <td>242.815722</td>\n",
       "      <td>237.681965</td>\n",
       "      <td>241.025223</td>\n",
       "      <td>241.025223</td>\n",
       "      <td>1.316463e+07</td>\n",
       "    </tr>\n",
       "    <tr>\n",
       "      <td>2007-01-12</td>\n",
       "      <td>241.873986</td>\n",
       "      <td>244.826926</td>\n",
       "      <td>240.441870</td>\n",
       "      <td>243.680099</td>\n",
       "      <td>243.680099</td>\n",
       "      <td>1.223496e+07</td>\n",
       "    </tr>\n",
       "    <tr>\n",
       "      <td>2007-01-16</td>\n",
       "      <td>244.609763</td>\n",
       "      <td>246.888517</td>\n",
       "      <td>242.922167</td>\n",
       "      <td>245.171825</td>\n",
       "      <td>245.171825</td>\n",
       "      <td>1.214331e+07</td>\n",
       "    </tr>\n",
       "    <tr>\n",
       "      <td>2007-01-17</td>\n",
       "      <td>246.092263</td>\n",
       "      <td>248.327020</td>\n",
       "      <td>244.076799</td>\n",
       "      <td>245.887881</td>\n",
       "      <td>245.887881</td>\n",
       "      <td>1.209356e+07</td>\n",
       "    </tr>\n",
       "    <tr>\n",
       "      <td>2007-01-18</td>\n",
       "      <td>246.576967</td>\n",
       "      <td>248.796110</td>\n",
       "      <td>244.447956</td>\n",
       "      <td>246.189490</td>\n",
       "      <td>246.189490</td>\n",
       "      <td>1.243220e+07</td>\n",
       "    </tr>\n",
       "    <tr>\n",
       "      <td>2007-01-19</td>\n",
       "      <td>246.756513</td>\n",
       "      <td>248.974237</td>\n",
       "      <td>244.841114</td>\n",
       "      <td>246.491100</td>\n",
       "      <td>246.491100</td>\n",
       "      <td>1.231627e+07</td>\n",
       "    </tr>\n",
       "    <tr>\n",
       "      <td>2007-01-22</td>\n",
       "      <td>247.329217</td>\n",
       "      <td>248.910365</td>\n",
       "      <td>244.589892</td>\n",
       "      <td>245.879364</td>\n",
       "      <td>245.879364</td>\n",
       "      <td>1.215403e+07</td>\n",
       "    </tr>\n",
       "    <tr>\n",
       "      <td>2007-01-23</td>\n",
       "      <td>246.164649</td>\n",
       "      <td>247.703927</td>\n",
       "      <td>243.249324</td>\n",
       "      <td>244.412475</td>\n",
       "      <td>244.412475</td>\n",
       "      <td>1.142281e+07</td>\n",
       "    </tr>\n",
       "    <tr>\n",
       "      <td>2007-01-24</td>\n",
       "      <td>244.919889</td>\n",
       "      <td>247.316448</td>\n",
       "      <td>242.063466</td>\n",
       "      <td>243.991640</td>\n",
       "      <td>243.991640</td>\n",
       "      <td>1.187880e+07</td>\n",
       "    </tr>\n",
       "    <tr>\n",
       "      <td>2007-01-25</td>\n",
       "      <td>244.455056</td>\n",
       "      <td>246.713229</td>\n",
       "      <td>240.811608</td>\n",
       "      <td>242.842686</td>\n",
       "      <td>242.842686</td>\n",
       "      <td>1.153360e+07</td>\n",
       "    </tr>\n",
       "    <tr>\n",
       "      <td>2007-01-26</td>\n",
       "      <td>243.570807</td>\n",
       "      <td>246.012783</td>\n",
       "      <td>240.290002</td>\n",
       "      <td>242.740494</td>\n",
       "      <td>242.740494</td>\n",
       "      <td>1.118777e+07</td>\n",
       "    </tr>\n",
       "    <tr>\n",
       "      <td>2007-01-29</td>\n",
       "      <td>243.817773</td>\n",
       "      <td>246.173878</td>\n",
       "      <td>240.507871</td>\n",
       "      <td>243.069781</td>\n",
       "      <td>243.069781</td>\n",
       "      <td>1.085524e+07</td>\n",
       "    </tr>\n",
       "    <tr>\n",
       "      <td>2007-01-30</td>\n",
       "      <td>244.244995</td>\n",
       "      <td>246.687679</td>\n",
       "      <td>240.825804</td>\n",
       "      <td>243.394100</td>\n",
       "      <td>243.394100</td>\n",
       "      <td>1.062581e+07</td>\n",
       "    </tr>\n",
       "    <tr>\n",
       "      <td>2007-01-31</td>\n",
       "      <td>244.528152</td>\n",
       "      <td>247.564122</td>\n",
       "      <td>242.032953</td>\n",
       "      <td>244.860277</td>\n",
       "      <td>244.860277</td>\n",
       "      <td>1.258181e+07</td>\n",
       "    </tr>\n",
       "    <tr>\n",
       "      <td>2007-02-01</td>\n",
       "      <td>246.317230</td>\n",
       "      <td>249.072881</td>\n",
       "      <td>242.333851</td>\n",
       "      <td>245.051889</td>\n",
       "      <td>245.051889</td>\n",
       "      <td>1.574316e+07</td>\n",
       "    </tr>\n",
       "  </tbody>\n",
       "</table>\n",
       "</div>"
      ],
      "text/plain": [
       "                  Open        High         Low       Close   Adj Close  \\\n",
       "Date                                                                     \n",
       "2007-01-11  239.319885  242.815722  237.681965  241.025223  241.025223   \n",
       "2007-01-12  241.873986  244.826926  240.441870  243.680099  243.680099   \n",
       "2007-01-16  244.609763  246.888517  242.922167  245.171825  245.171825   \n",
       "2007-01-17  246.092263  248.327020  244.076799  245.887881  245.887881   \n",
       "2007-01-18  246.576967  248.796110  244.447956  246.189490  246.189490   \n",
       "2007-01-19  246.756513  248.974237  244.841114  246.491100  246.491100   \n",
       "2007-01-22  247.329217  248.910365  244.589892  245.879364  245.879364   \n",
       "2007-01-23  246.164649  247.703927  243.249324  244.412475  244.412475   \n",
       "2007-01-24  244.919889  247.316448  242.063466  243.991640  243.991640   \n",
       "2007-01-25  244.455056  246.713229  240.811608  242.842686  242.842686   \n",
       "2007-01-26  243.570807  246.012783  240.290002  242.740494  242.740494   \n",
       "2007-01-29  243.817773  246.173878  240.507871  243.069781  243.069781   \n",
       "2007-01-30  244.244995  246.687679  240.825804  243.394100  243.394100   \n",
       "2007-01-31  244.528152  247.564122  242.032953  244.860277  244.860277   \n",
       "2007-02-01  246.317230  249.072881  242.333851  245.051889  245.051889   \n",
       "\n",
       "                  Volume  \n",
       "Date                      \n",
       "2007-01-11  1.316463e+07  \n",
       "2007-01-12  1.223496e+07  \n",
       "2007-01-16  1.214331e+07  \n",
       "2007-01-17  1.209356e+07  \n",
       "2007-01-18  1.243220e+07  \n",
       "2007-01-19  1.231627e+07  \n",
       "2007-01-22  1.215403e+07  \n",
       "2007-01-23  1.142281e+07  \n",
       "2007-01-24  1.187880e+07  \n",
       "2007-01-25  1.153360e+07  \n",
       "2007-01-26  1.118777e+07  \n",
       "2007-01-29  1.085524e+07  \n",
       "2007-01-30  1.062581e+07  \n",
       "2007-01-31  1.258181e+07  \n",
       "2007-02-01  1.574316e+07  "
      ]
     },
     "execution_count": 81,
     "metadata": {},
     "output_type": "execute_result"
    }
   ],
   "source": [
    "goog.rolling(7).mean()[6:].head(15)"
   ]
  },
  {
   "cell_type": "markdown",
   "metadata": {},
   "source": [
    "**NOTE**: Since in this case, each row is a day it might seem like it is last 7 days, but the parameter means 7 observations (that is, 7 business days). "
   ]
  },
  {
   "cell_type": "markdown",
   "metadata": {},
   "source": [
    "### Plotting the rolling window averages"
   ]
  },
  {
   "cell_type": "code",
   "execution_count": 83,
   "metadata": {},
   "outputs": [
    {
     "data": {
      "text/plain": [
       "<matplotlib.legend.Legend at 0x7ffe795a0ad0>"
      ]
     },
     "execution_count": 83,
     "metadata": {},
     "output_type": "execute_result"
    },
    {
     "data": {
      "image/png": "[encoded data removed]",
      "text/plain": [
       "<Figure size 864x576 with 1 Axes>"
      ]
     },
     "metadata": {
      "needs_background": "light"
     },
     "output_type": "display_data"
    }
   ],
   "source": [
    "goog_close = goog['Close']\n",
    "\n",
    "figure, axes = plt.subplots(figsize=(12,8))\n",
    "goog_close.plot(ax = axes, label = 'actual')\n",
    "goog_close.rolling(365).mean().plot(ax = axes, label = 'rolling_365')\n",
    "axes.legend()"
   ]
  },
  {
   "cell_type": "markdown",
   "metadata": {},
   "source": [
    "# Activity\n",
    "\n",
    "Again we will use flights data for this activity. "
   ]
  },
  {
   "cell_type": "code",
   "execution_count": null,
   "metadata": {},
   "outputs": [],
   "source": [
    "flights.head()"
   ]
  },
  {
   "cell_type": "markdown",
   "metadata": {},
   "source": [
    "### Activity on `resampling()`, `rolling()`\n",
    "\n",
    "* Compute the average DISTANCE travelled by flights in each month\n",
    "* Compute the median AIR_TIME of the flights in 45 days\n",
    "* Compute rolling average of DEPARTURE_DELAY for the last 30 obeservations"
   ]
  },
  {
   "cell_type": "code",
   "execution_count": 85,
   "metadata": {},
   "outputs": [
    {
     "data": {
      "text/plain": [
       "DEPARTURE_DATETIME\n",
       "2015-01-31    821.488722\n",
       "2015-02-28    799.875661\n",
       "2015-03-31    817.983173\n",
       "2015-04-30    826.317343\n",
       "2015-05-31    794.016110\n",
       "Freq: M, Name: DISTANCE, dtype: float64"
      ]
     },
     "execution_count": 85,
     "metadata": {},
     "output_type": "execute_result"
    }
   ],
   "source": [
    "flights['DISTANCE'].resample('M').mean()[:5]"
   ]
  },
  {
   "cell_type": "code",
   "execution_count": 86,
   "metadata": {},
   "outputs": [
    {
     "data": {
      "text/plain": [
       "DEPARTURE_DATETIME\n",
       "2015-01-01    100.0\n",
       "2015-02-15     94.0\n",
       "2015-04-01     96.0\n",
       "2015-05-16     93.0\n",
       "2015-06-30     96.0\n",
       "Freq: 45D, Name: AIR_TIME, dtype: float64"
      ]
     },
     "execution_count": 86,
     "metadata": {},
     "output_type": "execute_result"
    }
   ],
   "source": [
    "flights['AIR_TIME'].resample('45D').median()[:5]"
   ]
  },
  {
   "cell_type": "code",
   "execution_count": 88,
   "metadata": {},
   "outputs": [
    {
     "data": {
      "text/plain": [
       "DEPARTURE_DATETIME\n",
       "2015-01-02 12:02:00     6.300000\n",
       "2015-01-02 12:05:00     6.000000\n",
       "2015-01-02 14:07:00     6.900000\n",
       "2015-01-02 14:18:00     7.600000\n",
       "2015-01-02 14:28:00     7.266667\n",
       "                         ...    \n",
       "2015-12-31 15:31:00    11.533333\n",
       "2015-12-31 19:21:00    12.366667\n",
       "2015-12-31 19:29:00    11.900000\n",
       "2015-12-31 22:23:00    16.200000\n",
       "2015-12-31 23:34:00    14.600000\n",
       "Name: DEPARTURE_DELAY, Length: 9971, dtype: float64"
      ]
     },
     "execution_count": 88,
     "metadata": {},
     "output_type": "execute_result"
    }
   ],
   "source": [
    "flights['DEPARTURE_DELAY'].rolling(30).mean()[29:]"
   ]
  },
  {
   "cell_type": "code",
   "execution_count": null,
   "metadata": {},
   "outputs": [],
   "source": []
  },
  {
   "cell_type": "markdown",
   "metadata": {},
   "source": [
    "### Activity on plotting the resampling and rolling data\n",
    "\n",
    "Plot the following details\n",
    "* Plot the average AIR_TIME at the each of the 15 days in the dataset\n",
    "* Plot the rolling average DISTANCE of previous 500 observations in the dataset"
   ]
  },
  {
   "cell_type": "code",
   "execution_count": 90,
   "metadata": {},
   "outputs": [
    {
     "data": {
      "text/plain": [
       "<matplotlib.axes._subplots.AxesSubplot at 0x7ffe79956790>"
      ]
     },
     "execution_count": 90,
     "metadata": {},
     "output_type": "execute_result"
    },
    {
     "data": {
      "image/png": "[encoded data removed]",
      "text/plain": [
       "<Figure size 432x288 with 1 Axes>"
      ]
     },
     "metadata": {
      "needs_background": "light"
     },
     "output_type": "display_data"
    }
   ],
   "source": [
    "fig,ax = plt.subplots()\n",
    "flights['AIR_TIME'].resample('15D').mean().plot(ax=ax)"
   ]
  },
  {
   "cell_type": "code",
   "execution_count": 94,
   "metadata": {},
   "outputs": [
    {
     "data": {
      "text/plain": [
       "<matplotlib.axes._subplots.AxesSubplot at 0x7ffe9a267310>"
      ]
     },
     "execution_count": 94,
     "metadata": {},
     "output_type": "execute_result"
    },
    {
     "data": {
      "image/png": "[encoded data removed]",
      "text/plain": [
       "<Figure size 432x288 with 1 Axes>"
      ]
     },
     "metadata": {
      "needs_background": "light"
     },
     "output_type": "display_data"
    }
   ],
   "source": [
    "fig,ax = plt.subplots()\n",
    "flights['DISTANCE'].rolling(500).mean().plot(ax=ax)"
   ]
  },
  {
   "cell_type": "code",
   "execution_count": null,
   "metadata": {},
   "outputs": [],
   "source": []
  }
 ],
 "metadata": {
  "kernelspec": {
   "display_name": "Python 3",
   "language": "python",
   "name": "python3"
  },
  "language_info": {
   "codemirror_mode": {
    "name": "ipython",
    "version": 3
   },
   "file_extension": ".py",
   "mimetype": "text/x-python",
   "name": "python",
   "nbconvert_exporter": "python",
   "pygments_lexer": "ipython3",
   "version": "3.7.4"
  }
 },
 "nbformat": 4,
 "nbformat_minor": 2
}
