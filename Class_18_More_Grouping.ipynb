{
 "cells": [
  {
   "cell_type": "code",
   "execution_count": 1,
   "metadata": {},
   "outputs": [],
   "source": [
    "import pandas as pd\n",
    "import numpy as np"
   ]
  },
  {
   "cell_type": "markdown",
   "metadata": {},
   "source": [
    "# Using apply() and groupby() to create your own groups\n",
    "\n",
    "Here we will show a simple use of apply() method and groupby() method that can be very useful. Note, that this *far more simple* use of the apply() method than the one shown in the advanced topics in Lecture 18 notebook. \n",
    "\n",
    "Let us say you want to group the 'AIRLINE' but not necessarily the same airline but according to the their alliance. How can you achieve this? THe following are the groups of airlines that are in each of the alliances\n",
    "\n",
    "Star Alliance:\n",
    "* UA - United Airlines\n",
    "* OO - Skywest Airlines\n",
    "\n",
    "Oneworld Alliance:\n",
    "* AA - American Airlines\n",
    "* US - US Airlines\n",
    "* MQ - American Eagle Airlines Inc. \n",
    "\n",
    "SkyTeam Alliance:\n",
    "* DL - Delta Airlines\n",
    "* EV - Atlantic Sotheast Airlines\n",
    "* VX - Virgin America\n",
    "\n",
    "NoAlliance; Not in any alliance:\n",
    "\n",
    "* F9 - Forntier\n",
    "* B6 - Jetblue\n",
    "* NK - Spirit\n",
    "* WN - Southwest\n",
    "* HA - Hawaiian\n",
    "* AS - Alaskan \n"
   ]
  },
  {
   "cell_type": "code",
   "execution_count": 2,
   "metadata": {},
   "outputs": [
    {
     "data": {
      "text/html": [
       "<div>\n",
       "<style scoped>\n",
       "    .dataframe tbody tr th:only-of-type {\n",
       "        vertical-align: middle;\n",
       "    }\n",
       "\n",
       "    .dataframe tbody tr th {\n",
       "        vertical-align: top;\n",
       "    }\n",
       "\n",
       "    .dataframe thead th {\n",
       "        text-align: right;\n",
       "    }\n",
       "</style>\n",
       "<table border=\"1\" class=\"dataframe\">\n",
       "  <thead>\n",
       "    <tr style=\"text-align: right;\">\n",
       "      <th></th>\n",
       "      <th>YEAR</th>\n",
       "      <th>MONTH</th>\n",
       "      <th>DAY</th>\n",
       "      <th>DAY_OF_WEEK</th>\n",
       "      <th>AIRLINE</th>\n",
       "      <th>FLIGHT_NUMBER</th>\n",
       "      <th>TAXI_IN</th>\n",
       "      <th>TAXI_OUT</th>\n",
       "      <th>DISTANCE</th>\n",
       "    </tr>\n",
       "  </thead>\n",
       "  <tbody>\n",
       "    <tr>\n",
       "      <td>0</td>\n",
       "      <td>2015</td>\n",
       "      <td>8</td>\n",
       "      <td>19</td>\n",
       "      <td>3</td>\n",
       "      <td>EV</td>\n",
       "      <td>3260</td>\n",
       "      <td>7.0</td>\n",
       "      <td>20.0</td>\n",
       "      <td>1091</td>\n",
       "    </tr>\n",
       "    <tr>\n",
       "      <td>1</td>\n",
       "      <td>2015</td>\n",
       "      <td>9</td>\n",
       "      <td>23</td>\n",
       "      <td>3</td>\n",
       "      <td>WN</td>\n",
       "      <td>3050</td>\n",
       "      <td>4.0</td>\n",
       "      <td>9.0</td>\n",
       "      <td>837</td>\n",
       "    </tr>\n",
       "    <tr>\n",
       "      <td>2</td>\n",
       "      <td>2015</td>\n",
       "      <td>10</td>\n",
       "      <td>16</td>\n",
       "      <td>5</td>\n",
       "      <td>AA</td>\n",
       "      <td>1382</td>\n",
       "      <td>13.0</td>\n",
       "      <td>25.0</td>\n",
       "      <td>761</td>\n",
       "    </tr>\n",
       "    <tr>\n",
       "      <td>3</td>\n",
       "      <td>2015</td>\n",
       "      <td>1</td>\n",
       "      <td>19</td>\n",
       "      <td>1</td>\n",
       "      <td>WN</td>\n",
       "      <td>4274</td>\n",
       "      <td>5.0</td>\n",
       "      <td>23.0</td>\n",
       "      <td>1547</td>\n",
       "    </tr>\n",
       "    <tr>\n",
       "      <td>4</td>\n",
       "      <td>2015</td>\n",
       "      <td>4</td>\n",
       "      <td>22</td>\n",
       "      <td>3</td>\n",
       "      <td>WN</td>\n",
       "      <td>2237</td>\n",
       "      <td>5.0</td>\n",
       "      <td>18.0</td>\n",
       "      <td>872</td>\n",
       "    </tr>\n",
       "  </tbody>\n",
       "</table>\n",
       "</div>"
      ],
      "text/plain": [
       "   YEAR  MONTH  DAY  DAY_OF_WEEK AIRLINE  FLIGHT_NUMBER  TAXI_IN  TAXI_OUT  \\\n",
       "0  2015      8   19            3      EV           3260      7.0      20.0   \n",
       "1  2015      9   23            3      WN           3050      4.0       9.0   \n",
       "2  2015     10   16            5      AA           1382     13.0      25.0   \n",
       "3  2015      1   19            1      WN           4274      5.0      23.0   \n",
       "4  2015      4   22            3      WN           2237      5.0      18.0   \n",
       "\n",
       "   DISTANCE  \n",
       "0      1091  \n",
       "1       837  \n",
       "2       761  \n",
       "3      1547  \n",
       "4       872  "
      ]
     },
     "execution_count": 2,
     "metadata": {},
     "output_type": "execute_result"
    }
   ],
   "source": [
    "flights = pd.read_csv('./data/flight_sample.csv')\n",
    "flights.head()"
   ]
  },
  {
   "cell_type": "code",
   "execution_count": 3,
   "metadata": {},
   "outputs": [],
   "source": [
    "def get_alliance(airline):\n",
    "    if airline in ['UA','OO']:\n",
    "        return 'Star'\n",
    "    elif airline in ['AA', 'US', 'MQ']:\n",
    "        return 'Oneworld'\n",
    "    elif airline in ['DL','EV', 'VX']:\n",
    "        return 'SkyTeam'\n",
    "    elif airline in ['AS', 'F9', 'B6', 'NK', 'WN', 'HA']:\n",
    "        return 'NoAlliance'"
   ]
  },
  {
   "cell_type": "code",
   "execution_count": 5,
   "metadata": {},
   "outputs": [
    {
     "data": {
      "text/plain": [
       "'Oneworld'"
      ]
     },
     "execution_count": 5,
     "metadata": {},
     "output_type": "execute_result"
    }
   ],
   "source": [
    "# Test the function\n",
    "get_alliance('AA')"
   ]
  },
  {
   "cell_type": "code",
   "execution_count": 6,
   "metadata": {},
   "outputs": [],
   "source": [
    "# CREATING a new column called 'Alliance' and assigning the alliance based on the function\n",
    "flights['Alliance'] = flights['AIRLINE'].apply(get_alliance)"
   ]
  },
  {
   "cell_type": "code",
   "execution_count": 7,
   "metadata": {},
   "outputs": [
    {
     "data": {
      "text/html": [
       "<div>\n",
       "<style scoped>\n",
       "    .dataframe tbody tr th:only-of-type {\n",
       "        vertical-align: middle;\n",
       "    }\n",
       "\n",
       "    .dataframe tbody tr th {\n",
       "        vertical-align: top;\n",
       "    }\n",
       "\n",
       "    .dataframe thead th {\n",
       "        text-align: right;\n",
       "    }\n",
       "</style>\n",
       "<table border=\"1\" class=\"dataframe\">\n",
       "  <thead>\n",
       "    <tr style=\"text-align: right;\">\n",
       "      <th></th>\n",
       "      <th>YEAR</th>\n",
       "      <th>MONTH</th>\n",
       "      <th>DAY</th>\n",
       "      <th>DAY_OF_WEEK</th>\n",
       "      <th>AIRLINE</th>\n",
       "      <th>FLIGHT_NUMBER</th>\n",
       "      <th>TAXI_IN</th>\n",
       "      <th>TAXI_OUT</th>\n",
       "      <th>DISTANCE</th>\n",
       "      <th>Alliance</th>\n",
       "    </tr>\n",
       "  </thead>\n",
       "  <tbody>\n",
       "    <tr>\n",
       "      <td>5355</td>\n",
       "      <td>2015</td>\n",
       "      <td>11</td>\n",
       "      <td>19</td>\n",
       "      <td>4</td>\n",
       "      <td>DL</td>\n",
       "      <td>1691</td>\n",
       "      <td>6.0</td>\n",
       "      <td>18.0</td>\n",
       "      <td>311</td>\n",
       "      <td>SkyTeam</td>\n",
       "    </tr>\n",
       "    <tr>\n",
       "      <td>5404</td>\n",
       "      <td>2015</td>\n",
       "      <td>5</td>\n",
       "      <td>18</td>\n",
       "      <td>1</td>\n",
       "      <td>WN</td>\n",
       "      <td>538</td>\n",
       "      <td>3.0</td>\n",
       "      <td>10.0</td>\n",
       "      <td>323</td>\n",
       "      <td>NoAlliance</td>\n",
       "    </tr>\n",
       "    <tr>\n",
       "      <td>8652</td>\n",
       "      <td>2015</td>\n",
       "      <td>2</td>\n",
       "      <td>4</td>\n",
       "      <td>3</td>\n",
       "      <td>EV</td>\n",
       "      <td>5372</td>\n",
       "      <td>4.0</td>\n",
       "      <td>4.0</td>\n",
       "      <td>241</td>\n",
       "      <td>SkyTeam</td>\n",
       "    </tr>\n",
       "    <tr>\n",
       "      <td>7267</td>\n",
       "      <td>2015</td>\n",
       "      <td>8</td>\n",
       "      <td>31</td>\n",
       "      <td>1</td>\n",
       "      <td>WN</td>\n",
       "      <td>2364</td>\n",
       "      <td>11.0</td>\n",
       "      <td>8.0</td>\n",
       "      <td>248</td>\n",
       "      <td>NoAlliance</td>\n",
       "    </tr>\n",
       "    <tr>\n",
       "      <td>8007</td>\n",
       "      <td>2015</td>\n",
       "      <td>9</td>\n",
       "      <td>9</td>\n",
       "      <td>3</td>\n",
       "      <td>DL</td>\n",
       "      <td>1944</td>\n",
       "      <td>4.0</td>\n",
       "      <td>14.0</td>\n",
       "      <td>297</td>\n",
       "      <td>SkyTeam</td>\n",
       "    </tr>\n",
       "  </tbody>\n",
       "</table>\n",
       "</div>"
      ],
      "text/plain": [
       "      YEAR  MONTH  DAY  DAY_OF_WEEK AIRLINE  FLIGHT_NUMBER  TAXI_IN  TAXI_OUT  \\\n",
       "5355  2015     11   19            4      DL           1691      6.0      18.0   \n",
       "5404  2015      5   18            1      WN            538      3.0      10.0   \n",
       "8652  2015      2    4            3      EV           5372      4.0       4.0   \n",
       "7267  2015      8   31            1      WN           2364     11.0       8.0   \n",
       "8007  2015      9    9            3      DL           1944      4.0      14.0   \n",
       "\n",
       "      DISTANCE    Alliance  \n",
       "5355       311     SkyTeam  \n",
       "5404       323  NoAlliance  \n",
       "8652       241     SkyTeam  \n",
       "7267       248  NoAlliance  \n",
       "8007       297     SkyTeam  "
      ]
     },
     "execution_count": 7,
     "metadata": {},
     "output_type": "execute_result"
    }
   ],
   "source": [
    "flights.sample(5)"
   ]
  },
  {
   "cell_type": "code",
   "execution_count": 8,
   "metadata": {},
   "outputs": [],
   "source": [
    "flights_by_alliance = flights.groupby(['Alliance'])"
   ]
  },
  {
   "cell_type": "code",
   "execution_count": 9,
   "metadata": {},
   "outputs": [
    {
     "data": {
      "text/plain": [
       "pandas.core.groupby.generic.DataFrameGroupBy"
      ]
     },
     "execution_count": 9,
     "metadata": {},
     "output_type": "execute_result"
    }
   ],
   "source": [
    "type(flights_by_alliance)"
   ]
  },
  {
   "cell_type": "code",
   "execution_count": 10,
   "metadata": {},
   "outputs": [],
   "source": [
    "df_means = flights_by_alliance['DISTANCE','TAXI_IN'].mean()"
   ]
  },
  {
   "cell_type": "code",
   "execution_count": 11,
   "metadata": {},
   "outputs": [
    {
     "data": {
      "text/html": [
       "<div>\n",
       "<style scoped>\n",
       "    .dataframe tbody tr th:only-of-type {\n",
       "        vertical-align: middle;\n",
       "    }\n",
       "\n",
       "    .dataframe tbody tr th {\n",
       "        vertical-align: top;\n",
       "    }\n",
       "\n",
       "    .dataframe thead th {\n",
       "        text-align: right;\n",
       "    }\n",
       "</style>\n",
       "<table border=\"1\" class=\"dataframe\">\n",
       "  <thead>\n",
       "    <tr style=\"text-align: right;\">\n",
       "      <th></th>\n",
       "      <th>DISTANCE</th>\n",
       "      <th>TAXI_IN</th>\n",
       "    </tr>\n",
       "    <tr>\n",
       "      <th>Alliance</th>\n",
       "      <th></th>\n",
       "      <th></th>\n",
       "    </tr>\n",
       "  </thead>\n",
       "  <tbody>\n",
       "    <tr>\n",
       "      <td>NoAlliance</td>\n",
       "      <td>843.074474</td>\n",
       "      <td>6.593195</td>\n",
       "    </tr>\n",
       "    <tr>\n",
       "      <td>Oneworld</td>\n",
       "      <td>882.712241</td>\n",
       "      <td>8.769113</td>\n",
       "    </tr>\n",
       "    <tr>\n",
       "      <td>SkyTeam</td>\n",
       "      <td>734.778623</td>\n",
       "      <td>7.450596</td>\n",
       "    </tr>\n",
       "    <tr>\n",
       "      <td>Star</td>\n",
       "      <td>854.930765</td>\n",
       "      <td>7.617179</td>\n",
       "    </tr>\n",
       "  </tbody>\n",
       "</table>\n",
       "</div>"
      ],
      "text/plain": [
       "              DISTANCE   TAXI_IN\n",
       "Alliance                        \n",
       "NoAlliance  843.074474  6.593195\n",
       "Oneworld    882.712241  8.769113\n",
       "SkyTeam     734.778623  7.450596\n",
       "Star        854.930765  7.617179"
      ]
     },
     "execution_count": 11,
     "metadata": {},
     "output_type": "execute_result"
    }
   ],
   "source": [
    "df_means"
   ]
  },
  {
   "cell_type": "code",
   "execution_count": null,
   "metadata": {},
   "outputs": [],
   "source": [
    "type(df_means)"
   ]
  },
  {
   "cell_type": "code",
   "execution_count": 12,
   "metadata": {},
   "outputs": [
    {
     "data": {
      "text/plain": [
       "854.9307652264446"
      ]
     },
     "execution_count": 12,
     "metadata": {},
     "output_type": "execute_result"
    }
   ],
   "source": [
    "df_means.loc['Star']['DISTANCE']"
   ]
  },
  {
   "cell_type": "markdown",
   "metadata": {},
   "source": [
    "### Detour:  `sort_values()`, a method to sort rows based on a column"
   ]
  },
  {
   "cell_type": "code",
   "execution_count": 13,
   "metadata": {},
   "outputs": [
    {
     "data": {
      "text/html": [
       "<div>\n",
       "<style scoped>\n",
       "    .dataframe tbody tr th:only-of-type {\n",
       "        vertical-align: middle;\n",
       "    }\n",
       "\n",
       "    .dataframe tbody tr th {\n",
       "        vertical-align: top;\n",
       "    }\n",
       "\n",
       "    .dataframe thead th {\n",
       "        text-align: right;\n",
       "    }\n",
       "</style>\n",
       "<table border=\"1\" class=\"dataframe\">\n",
       "  <thead>\n",
       "    <tr style=\"text-align: right;\">\n",
       "      <th></th>\n",
       "      <th>DISTANCE</th>\n",
       "      <th>TAXI_IN</th>\n",
       "    </tr>\n",
       "    <tr>\n",
       "      <th>Alliance</th>\n",
       "      <th></th>\n",
       "      <th></th>\n",
       "    </tr>\n",
       "  </thead>\n",
       "  <tbody>\n",
       "    <tr>\n",
       "      <td>NoAlliance</td>\n",
       "      <td>843.074474</td>\n",
       "      <td>6.593195</td>\n",
       "    </tr>\n",
       "    <tr>\n",
       "      <td>Oneworld</td>\n",
       "      <td>882.712241</td>\n",
       "      <td>8.769113</td>\n",
       "    </tr>\n",
       "    <tr>\n",
       "      <td>SkyTeam</td>\n",
       "      <td>734.778623</td>\n",
       "      <td>7.450596</td>\n",
       "    </tr>\n",
       "    <tr>\n",
       "      <td>Star</td>\n",
       "      <td>854.930765</td>\n",
       "      <td>7.617179</td>\n",
       "    </tr>\n",
       "  </tbody>\n",
       "</table>\n",
       "</div>"
      ],
      "text/plain": [
       "              DISTANCE   TAXI_IN\n",
       "Alliance                        \n",
       "NoAlliance  843.074474  6.593195\n",
       "Oneworld    882.712241  8.769113\n",
       "SkyTeam     734.778623  7.450596\n",
       "Star        854.930765  7.617179"
      ]
     },
     "execution_count": 13,
     "metadata": {},
     "output_type": "execute_result"
    }
   ],
   "source": [
    "df_means"
   ]
  },
  {
   "cell_type": "code",
   "execution_count": 14,
   "metadata": {},
   "outputs": [
    {
     "data": {
      "text/html": [
       "<div>\n",
       "<style scoped>\n",
       "    .dataframe tbody tr th:only-of-type {\n",
       "        vertical-align: middle;\n",
       "    }\n",
       "\n",
       "    .dataframe tbody tr th {\n",
       "        vertical-align: top;\n",
       "    }\n",
       "\n",
       "    .dataframe thead th {\n",
       "        text-align: right;\n",
       "    }\n",
       "</style>\n",
       "<table border=\"1\" class=\"dataframe\">\n",
       "  <thead>\n",
       "    <tr style=\"text-align: right;\">\n",
       "      <th></th>\n",
       "      <th>DISTANCE</th>\n",
       "      <th>TAXI_IN</th>\n",
       "    </tr>\n",
       "    <tr>\n",
       "      <th>Alliance</th>\n",
       "      <th></th>\n",
       "      <th></th>\n",
       "    </tr>\n",
       "  </thead>\n",
       "  <tbody>\n",
       "    <tr>\n",
       "      <td>Oneworld</td>\n",
       "      <td>882.712241</td>\n",
       "      <td>8.769113</td>\n",
       "    </tr>\n",
       "    <tr>\n",
       "      <td>Star</td>\n",
       "      <td>854.930765</td>\n",
       "      <td>7.617179</td>\n",
       "    </tr>\n",
       "    <tr>\n",
       "      <td>NoAlliance</td>\n",
       "      <td>843.074474</td>\n",
       "      <td>6.593195</td>\n",
       "    </tr>\n",
       "    <tr>\n",
       "      <td>SkyTeam</td>\n",
       "      <td>734.778623</td>\n",
       "      <td>7.450596</td>\n",
       "    </tr>\n",
       "  </tbody>\n",
       "</table>\n",
       "</div>"
      ],
      "text/plain": [
       "              DISTANCE   TAXI_IN\n",
       "Alliance                        \n",
       "Oneworld    882.712241  8.769113\n",
       "Star        854.930765  7.617179\n",
       "NoAlliance  843.074474  6.593195\n",
       "SkyTeam     734.778623  7.450596"
      ]
     },
     "execution_count": 14,
     "metadata": {},
     "output_type": "execute_result"
    }
   ],
   "source": [
    "df_means.sort_values(['DISTANCE'], inplace=True, ascending=False)\n",
    "df_means"
   ]
  },
  {
   "cell_type": "markdown",
   "metadata": {},
   "source": [
    "### Activity:\n",
    "\n",
    "1. Drop all rows in `college_scorecard_small` that has any missing values\n",
    "\n",
    "2. Add another column `sat_avg_level` to the `college_scorecard_small` DataFrame. It is assigned the following values based on the values in `sat_average`. **You need to write a function and use ``apply()`` method**\n",
    "   * Lower_sat\n",
    "       - sat_average <= 973 \n",
    "   * Below_avg_sat\n",
    "       - 973 < sat_average <= 1039\n",
    "   * Abv_avg_sat\n",
    "       - 1039 < sat_average <= 1120\n",
    "   * Higher_sat\n",
    "       - sat_average> 1120\n",
    "   \n",
    "3. Is there a relationship between `sat_avg_level` and `pell_grant_receipents`? How about relationship with `full_time_retention_rate_4_year`? \n",
    "   * Group by sat_avg_level and find the average for the rest of the two columns and make your interpretation. "
   ]
  },
  {
   "cell_type": "code",
   "execution_count": 15,
   "metadata": {},
   "outputs": [
    {
     "data": {
      "text/html": [
       "<div>\n",
       "<style scoped>\n",
       "    .dataframe tbody tr th:only-of-type {\n",
       "        vertical-align: middle;\n",
       "    }\n",
       "\n",
       "    .dataframe tbody tr th {\n",
       "        vertical-align: top;\n",
       "    }\n",
       "\n",
       "    .dataframe thead th {\n",
       "        text-align: right;\n",
       "    }\n",
       "</style>\n",
       "<table border=\"1\" class=\"dataframe\">\n",
       "  <thead>\n",
       "    <tr style=\"text-align: right;\">\n",
       "      <th></th>\n",
       "      <th>sat_average</th>\n",
       "      <th>pell_grant_receipents</th>\n",
       "      <th>full_time_retention_rate_4_year</th>\n",
       "    </tr>\n",
       "  </thead>\n",
       "  <tbody>\n",
       "    <tr>\n",
       "      <td>0</td>\n",
       "      <td>NaN</td>\n",
       "      <td>0.3571</td>\n",
       "      <td>0.3333</td>\n",
       "    </tr>\n",
       "    <tr>\n",
       "      <td>1</td>\n",
       "      <td>NaN</td>\n",
       "      <td>0.7078</td>\n",
       "      <td>NaN</td>\n",
       "    </tr>\n",
       "    <tr>\n",
       "      <td>2</td>\n",
       "      <td>NaN</td>\n",
       "      <td>0.8868</td>\n",
       "      <td>NaN</td>\n",
       "    </tr>\n",
       "    <tr>\n",
       "      <td>3</td>\n",
       "      <td>1054.0</td>\n",
       "      <td>0.3152</td>\n",
       "      <td>0.7742</td>\n",
       "    </tr>\n",
       "    <tr>\n",
       "      <td>4</td>\n",
       "      <td>NaN</td>\n",
       "      <td>0.0737</td>\n",
       "      <td>NaN</td>\n",
       "    </tr>\n",
       "  </tbody>\n",
       "</table>\n",
       "</div>"
      ],
      "text/plain": [
       "   sat_average  pell_grant_receipents  full_time_retention_rate_4_year\n",
       "0          NaN                 0.3571                           0.3333\n",
       "1          NaN                 0.7078                              NaN\n",
       "2          NaN                 0.8868                              NaN\n",
       "3       1054.0                 0.3152                           0.7742\n",
       "4          NaN                 0.0737                              NaN"
      ]
     },
     "execution_count": 15,
     "metadata": {},
     "output_type": "execute_result"
    }
   ],
   "source": [
    "college_scorecard = pd.read_csv(\n",
    "    './data/college-scorecard-data-scrubbed.csv', \n",
    "    encoding='latin-1')\n",
    "\n",
    "# I'm extracting only three columns and creating a copy for this analysis. \n",
    "college_scorecard_small = college_scorecard[['sat_average', 'pell_grant_receipents','full_time_retention_rate_4_year']].copy()\n",
    "college_scorecard_small.head()"
   ]
  },
  {
   "cell_type": "code",
   "execution_count": 18,
   "metadata": {},
   "outputs": [
    {
     "name": "stdout",
     "output_type": "stream",
     "text": [
      "(7282, 3)\n",
      "(1268, 3)\n"
     ]
    }
   ],
   "source": [
    "# drop any data with missing data and make sure it stays that way\n",
    "print(college_scorecard_small.shape)\n",
    "college_scorecard_small.dropna(inplace=True)\n",
    "print(college_scorecard_small.shape)"
   ]
  },
  {
   "cell_type": "code",
   "execution_count": 29,
   "metadata": {},
   "outputs": [],
   "source": [
    "# create a function to categorize the sat_average values\n",
    "def determine_sat_level(avg):\n",
    "\n",
    "    if avg <= 973:\n",
    "        return \"Low\"\n",
    "    elif 973 < avg <= 1039:\n",
    "        return \"Below Average\"\n",
    "    elif 1039 < avg <= 1120:\n",
    "        return \"Above Average\"\n",
    "    elif avg> 1120:\n",
    "        return \"High\"\n",
    "    else:\n",
    "        \"Inconcievable!\"\n"
   ]
  },
  {
   "cell_type": "code",
   "execution_count": 32,
   "metadata": {},
   "outputs": [
    {
     "name": "stdout",
     "output_type": "stream",
     "text": [
      "Low\n",
      "High\n",
      "Below Average\n"
     ]
    }
   ],
   "source": [
    "# test function\n",
    "print(determine_sat_level(670))\n",
    "print(determine_sat_level(1357))\n",
    "print(determine_sat_level(999))\n"
   ]
  },
  {
   "cell_type": "code",
   "execution_count": 33,
   "metadata": {},
   "outputs": [
    {
     "data": {
      "text/html": [
       "<div>\n",
       "<style scoped>\n",
       "    .dataframe tbody tr th:only-of-type {\n",
       "        vertical-align: middle;\n",
       "    }\n",
       "\n",
       "    .dataframe tbody tr th {\n",
       "        vertical-align: top;\n",
       "    }\n",
       "\n",
       "    .dataframe thead th {\n",
       "        text-align: right;\n",
       "    }\n",
       "</style>\n",
       "<table border=\"1\" class=\"dataframe\">\n",
       "  <thead>\n",
       "    <tr style=\"text-align: right;\">\n",
       "      <th></th>\n",
       "      <th>sat_average</th>\n",
       "      <th>pell_grant_receipents</th>\n",
       "      <th>full_time_retention_rate_4_year</th>\n",
       "      <th>sat_avg_level</th>\n",
       "    </tr>\n",
       "  </thead>\n",
       "  <tbody>\n",
       "    <tr>\n",
       "      <td>3</td>\n",
       "      <td>1054.0</td>\n",
       "      <td>0.3152</td>\n",
       "      <td>0.7742</td>\n",
       "      <td>Above Average</td>\n",
       "    </tr>\n",
       "    <tr>\n",
       "      <td>10</td>\n",
       "      <td>827.0</td>\n",
       "      <td>0.7356</td>\n",
       "      <td>0.6595</td>\n",
       "      <td>Low</td>\n",
       "    </tr>\n",
       "    <tr>\n",
       "      <td>14</td>\n",
       "      <td>851.0</td>\n",
       "      <td>0.7347</td>\n",
       "      <td>0.5725</td>\n",
       "      <td>Low</td>\n",
       "    </tr>\n",
       "    <tr>\n",
       "      <td>17</td>\n",
       "      <td>1215.0</td>\n",
       "      <td>0.1610</td>\n",
       "      <td>0.9052</td>\n",
       "      <td>High</td>\n",
       "    </tr>\n",
       "    <tr>\n",
       "      <td>18</td>\n",
       "      <td>1009.0</td>\n",
       "      <td>0.4192</td>\n",
       "      <td>0.6520</td>\n",
       "      <td>Below Average</td>\n",
       "    </tr>\n",
       "  </tbody>\n",
       "</table>\n",
       "</div>"
      ],
      "text/plain": [
       "    sat_average  pell_grant_receipents  full_time_retention_rate_4_year  \\\n",
       "3        1054.0                 0.3152                           0.7742   \n",
       "10        827.0                 0.7356                           0.6595   \n",
       "14        851.0                 0.7347                           0.5725   \n",
       "17       1215.0                 0.1610                           0.9052   \n",
       "18       1009.0                 0.4192                           0.6520   \n",
       "\n",
       "    sat_avg_level  \n",
       "3   Above Average  \n",
       "10            Low  \n",
       "14            Low  \n",
       "17           High  \n",
       "18  Below Average  "
      ]
     },
     "execution_count": 33,
     "metadata": {},
     "output_type": "execute_result"
    }
   ],
   "source": [
    "# add a sat_avg_level column using the function above\n",
    "college_scorecard_small['sat_avg_level'] = college_scorecard_small['sat_average'].apply(determine_sat_level)\n",
    "college_scorecard_small.head()"
   ]
  },
  {
   "cell_type": "code",
   "execution_count": 39,
   "metadata": {},
   "outputs": [
    {
     "data": {
      "text/html": [
       "<div>\n",
       "<style scoped>\n",
       "    .dataframe tbody tr th:only-of-type {\n",
       "        vertical-align: middle;\n",
       "    }\n",
       "\n",
       "    .dataframe tbody tr th {\n",
       "        vertical-align: top;\n",
       "    }\n",
       "\n",
       "    .dataframe thead th {\n",
       "        text-align: right;\n",
       "    }\n",
       "</style>\n",
       "<table border=\"1\" class=\"dataframe\">\n",
       "  <thead>\n",
       "    <tr style=\"text-align: right;\">\n",
       "      <th></th>\n",
       "      <th>pell_grant_receipents</th>\n",
       "      <th>full_time_retention_rate_4_year</th>\n",
       "    </tr>\n",
       "    <tr>\n",
       "      <th>sat_avg_level</th>\n",
       "      <th></th>\n",
       "      <th></th>\n",
       "    </tr>\n",
       "  </thead>\n",
       "  <tbody>\n",
       "    <tr>\n",
       "      <td>Above Average</td>\n",
       "      <td>0.342678</td>\n",
       "      <td>0.776322</td>\n",
       "    </tr>\n",
       "    <tr>\n",
       "      <td>Below Average</td>\n",
       "      <td>0.402556</td>\n",
       "      <td>0.716375</td>\n",
       "    </tr>\n",
       "    <tr>\n",
       "      <td>High</td>\n",
       "      <td>0.236075</td>\n",
       "      <td>0.882165</td>\n",
       "    </tr>\n",
       "    <tr>\n",
       "      <td>Low</td>\n",
       "      <td>0.491596</td>\n",
       "      <td>0.671799</td>\n",
       "    </tr>\n",
       "  </tbody>\n",
       "</table>\n",
       "</div>"
      ],
      "text/plain": [
       "               pell_grant_receipents  full_time_retention_rate_4_year\n",
       "sat_avg_level                                                        \n",
       "Above Average               0.342678                         0.776322\n",
       "Below Average               0.402556                         0.716375\n",
       "High                        0.236075                         0.882165\n",
       "Low                         0.491596                         0.671799"
      ]
     },
     "execution_count": 39,
     "metadata": {},
     "output_type": "execute_result"
    }
   ],
   "source": [
    "# group by our new column\n",
    "\n",
    "scorecard_by_sat_avg = college_scorecard_small.groupby('sat_avg_level')\n",
    "summary_sat_cat = scorecard_by_sat_avg['pell_grant_receipents','full_time_retention_rate_4_year'].mean()\n",
    "# get the averages of 'pell_grant_receipents','full_time_retention_rate_4_year'\n",
    "# display the reuslts\n",
    "summary_sat_cat\n",
    "# how would you get the \n",
    "# * min and max of the sat averages \n",
    "# * meidan pell grant recipients \n",
    "# summary_sat_cat['pell_grant_receipents'].median()\n",
    "# * average retention rate?\n"
   ]
  },
  {
   "cell_type": "markdown",
   "metadata": {},
   "source": [
    "# Pivot Tables: Two-dimensional GroupBy\n",
    "\n",
    "We have seen how the ``GroupBy`` abstraction lets us explore relationships within a dataset.\n",
    "A *pivot table* is a similar operation that is commonly seen in spreadsheets and other programs that operate on tabular data.\n",
    "The pivot table takes simple column-wise data as input, and groups the entries into a two-dimensional table that provides a multidimensional summarization of the data."
   ]
  },
  {
   "cell_type": "code",
   "execution_count": 40,
   "metadata": {},
   "outputs": [
    {
     "data": {
      "text/html": [
       "<div>\n",
       "<style scoped>\n",
       "    .dataframe tbody tr th:only-of-type {\n",
       "        vertical-align: middle;\n",
       "    }\n",
       "\n",
       "    .dataframe tbody tr th {\n",
       "        vertical-align: top;\n",
       "    }\n",
       "\n",
       "    .dataframe thead th {\n",
       "        text-align: right;\n",
       "    }\n",
       "</style>\n",
       "<table border=\"1\" class=\"dataframe\">\n",
       "  <thead>\n",
       "    <tr style=\"text-align: right;\">\n",
       "      <th></th>\n",
       "      <th>YEAR</th>\n",
       "      <th>MONTH</th>\n",
       "      <th>DAY</th>\n",
       "      <th>DAY_OF_WEEK</th>\n",
       "      <th>AIRLINE</th>\n",
       "      <th>FLIGHT_NUMBER</th>\n",
       "      <th>TAXI_IN</th>\n",
       "      <th>TAXI_OUT</th>\n",
       "      <th>DISTANCE</th>\n",
       "      <th>Alliance</th>\n",
       "    </tr>\n",
       "  </thead>\n",
       "  <tbody>\n",
       "    <tr>\n",
       "      <td>0</td>\n",
       "      <td>2015</td>\n",
       "      <td>8</td>\n",
       "      <td>19</td>\n",
       "      <td>3</td>\n",
       "      <td>EV</td>\n",
       "      <td>3260</td>\n",
       "      <td>7.0</td>\n",
       "      <td>20.0</td>\n",
       "      <td>1091</td>\n",
       "      <td>SkyTeam</td>\n",
       "    </tr>\n",
       "    <tr>\n",
       "      <td>1</td>\n",
       "      <td>2015</td>\n",
       "      <td>9</td>\n",
       "      <td>23</td>\n",
       "      <td>3</td>\n",
       "      <td>WN</td>\n",
       "      <td>3050</td>\n",
       "      <td>4.0</td>\n",
       "      <td>9.0</td>\n",
       "      <td>837</td>\n",
       "      <td>NoAlliance</td>\n",
       "    </tr>\n",
       "    <tr>\n",
       "      <td>2</td>\n",
       "      <td>2015</td>\n",
       "      <td>10</td>\n",
       "      <td>16</td>\n",
       "      <td>5</td>\n",
       "      <td>AA</td>\n",
       "      <td>1382</td>\n",
       "      <td>13.0</td>\n",
       "      <td>25.0</td>\n",
       "      <td>761</td>\n",
       "      <td>Oneworld</td>\n",
       "    </tr>\n",
       "    <tr>\n",
       "      <td>3</td>\n",
       "      <td>2015</td>\n",
       "      <td>1</td>\n",
       "      <td>19</td>\n",
       "      <td>1</td>\n",
       "      <td>WN</td>\n",
       "      <td>4274</td>\n",
       "      <td>5.0</td>\n",
       "      <td>23.0</td>\n",
       "      <td>1547</td>\n",
       "      <td>NoAlliance</td>\n",
       "    </tr>\n",
       "    <tr>\n",
       "      <td>4</td>\n",
       "      <td>2015</td>\n",
       "      <td>4</td>\n",
       "      <td>22</td>\n",
       "      <td>3</td>\n",
       "      <td>WN</td>\n",
       "      <td>2237</td>\n",
       "      <td>5.0</td>\n",
       "      <td>18.0</td>\n",
       "      <td>872</td>\n",
       "      <td>NoAlliance</td>\n",
       "    </tr>\n",
       "  </tbody>\n",
       "</table>\n",
       "</div>"
      ],
      "text/plain": [
       "   YEAR  MONTH  DAY  DAY_OF_WEEK AIRLINE  FLIGHT_NUMBER  TAXI_IN  TAXI_OUT  \\\n",
       "0  2015      8   19            3      EV           3260      7.0      20.0   \n",
       "1  2015      9   23            3      WN           3050      4.0       9.0   \n",
       "2  2015     10   16            5      AA           1382     13.0      25.0   \n",
       "3  2015      1   19            1      WN           4274      5.0      23.0   \n",
       "4  2015      4   22            3      WN           2237      5.0      18.0   \n",
       "\n",
       "   DISTANCE    Alliance  \n",
       "0      1091     SkyTeam  \n",
       "1       837  NoAlliance  \n",
       "2       761    Oneworld  \n",
       "3      1547  NoAlliance  \n",
       "4       872  NoAlliance  "
      ]
     },
     "execution_count": 40,
     "metadata": {},
     "output_type": "execute_result"
    }
   ],
   "source": [
    "flights.head()"
   ]
  },
  {
   "cell_type": "code",
   "execution_count": 41,
   "metadata": {},
   "outputs": [
    {
     "data": {
      "text/html": [
       "<div>\n",
       "<style scoped>\n",
       "    .dataframe tbody tr th:only-of-type {\n",
       "        vertical-align: middle;\n",
       "    }\n",
       "\n",
       "    .dataframe tbody tr th {\n",
       "        vertical-align: top;\n",
       "    }\n",
       "\n",
       "    .dataframe thead th {\n",
       "        text-align: right;\n",
       "    }\n",
       "</style>\n",
       "<table border=\"1\" class=\"dataframe\">\n",
       "  <thead>\n",
       "    <tr style=\"text-align: right;\">\n",
       "      <th>Alliance</th>\n",
       "      <th>NoAlliance</th>\n",
       "      <th>Oneworld</th>\n",
       "      <th>SkyTeam</th>\n",
       "      <th>Star</th>\n",
       "    </tr>\n",
       "    <tr>\n",
       "      <th>DAY_OF_WEEK</th>\n",
       "      <th></th>\n",
       "      <th></th>\n",
       "      <th></th>\n",
       "      <th></th>\n",
       "    </tr>\n",
       "  </thead>\n",
       "  <tbody>\n",
       "    <tr>\n",
       "      <td>1</td>\n",
       "      <td>839.861856</td>\n",
       "      <td>841.852113</td>\n",
       "      <td>785.222772</td>\n",
       "      <td>871.846154</td>\n",
       "    </tr>\n",
       "    <tr>\n",
       "      <td>2</td>\n",
       "      <td>857.928155</td>\n",
       "      <td>817.296167</td>\n",
       "      <td>696.713178</td>\n",
       "      <td>809.895911</td>\n",
       "    </tr>\n",
       "    <tr>\n",
       "      <td>3</td>\n",
       "      <td>811.619145</td>\n",
       "      <td>894.945848</td>\n",
       "      <td>765.838791</td>\n",
       "      <td>852.893993</td>\n",
       "    </tr>\n",
       "    <tr>\n",
       "      <td>4</td>\n",
       "      <td>823.606238</td>\n",
       "      <td>874.069079</td>\n",
       "      <td>727.983491</td>\n",
       "      <td>816.889262</td>\n",
       "    </tr>\n",
       "    <tr>\n",
       "      <td>5</td>\n",
       "      <td>861.238281</td>\n",
       "      <td>922.049853</td>\n",
       "      <td>701.717391</td>\n",
       "      <td>881.644195</td>\n",
       "    </tr>\n",
       "    <tr>\n",
       "      <td>6</td>\n",
       "      <td>853.011765</td>\n",
       "      <td>941.658537</td>\n",
       "      <td>723.755853</td>\n",
       "      <td>880.654762</td>\n",
       "    </tr>\n",
       "    <tr>\n",
       "      <td>7</td>\n",
       "      <td>855.118012</td>\n",
       "      <td>888.644599</td>\n",
       "      <td>735.820000</td>\n",
       "      <td>875.887218</td>\n",
       "    </tr>\n",
       "  </tbody>\n",
       "</table>\n",
       "</div>"
      ],
      "text/plain": [
       "Alliance     NoAlliance    Oneworld     SkyTeam        Star\n",
       "DAY_OF_WEEK                                                \n",
       "1            839.861856  841.852113  785.222772  871.846154\n",
       "2            857.928155  817.296167  696.713178  809.895911\n",
       "3            811.619145  894.945848  765.838791  852.893993\n",
       "4            823.606238  874.069079  727.983491  816.889262\n",
       "5            861.238281  922.049853  701.717391  881.644195\n",
       "6            853.011765  941.658537  723.755853  880.654762\n",
       "7            855.118012  888.644599  735.820000  875.887218"
      ]
     },
     "execution_count": 41,
     "metadata": {},
     "output_type": "execute_result"
    }
   ],
   "source": [
    "# index is the row grouping and columns is the column grouping, \n",
    "# the first parameter is the one that is aggregated\n",
    "\n",
    "flight_pvt = flights.pivot_table(\n",
    "        'DISTANCE',\n",
    "        index='DAY_OF_WEEK', \n",
    "        columns = 'Alliance'\n",
    "        )\n",
    "\n",
    "flight_pvt"
   ]
  },
  {
   "cell_type": "markdown",
   "metadata": {},
   "source": [
    "### Modifying the default behavior with `aggfunc` keyword argument"
   ]
  },
  {
   "cell_type": "code",
   "execution_count": 42,
   "metadata": {},
   "outputs": [
    {
     "data": {
      "text/html": [
       "<div>\n",
       "<style scoped>\n",
       "    .dataframe tbody tr th:only-of-type {\n",
       "        vertical-align: middle;\n",
       "    }\n",
       "\n",
       "    .dataframe tbody tr th {\n",
       "        vertical-align: top;\n",
       "    }\n",
       "\n",
       "    .dataframe thead th {\n",
       "        text-align: right;\n",
       "    }\n",
       "</style>\n",
       "<table border=\"1\" class=\"dataframe\">\n",
       "  <thead>\n",
       "    <tr style=\"text-align: right;\">\n",
       "      <th>Alliance</th>\n",
       "      <th>NoAlliance</th>\n",
       "      <th>Oneworld</th>\n",
       "      <th>SkyTeam</th>\n",
       "      <th>Star</th>\n",
       "    </tr>\n",
       "    <tr>\n",
       "      <th>DAY_OF_WEEK</th>\n",
       "      <th></th>\n",
       "      <th></th>\n",
       "      <th></th>\n",
       "      <th></th>\n",
       "    </tr>\n",
       "  </thead>\n",
       "  <tbody>\n",
       "    <tr>\n",
       "      <td>1</td>\n",
       "      <td>407333</td>\n",
       "      <td>239086</td>\n",
       "      <td>317230</td>\n",
       "      <td>249348</td>\n",
       "    </tr>\n",
       "    <tr>\n",
       "      <td>2</td>\n",
       "      <td>441833</td>\n",
       "      <td>234564</td>\n",
       "      <td>269628</td>\n",
       "      <td>217862</td>\n",
       "    </tr>\n",
       "    <tr>\n",
       "      <td>3</td>\n",
       "      <td>398505</td>\n",
       "      <td>247900</td>\n",
       "      <td>304038</td>\n",
       "      <td>241369</td>\n",
       "    </tr>\n",
       "    <tr>\n",
       "      <td>4</td>\n",
       "      <td>422510</td>\n",
       "      <td>265717</td>\n",
       "      <td>308665</td>\n",
       "      <td>243433</td>\n",
       "    </tr>\n",
       "    <tr>\n",
       "      <td>5</td>\n",
       "      <td>440954</td>\n",
       "      <td>314419</td>\n",
       "      <td>258232</td>\n",
       "      <td>235399</td>\n",
       "    </tr>\n",
       "    <tr>\n",
       "      <td>6</td>\n",
       "      <td>362530</td>\n",
       "      <td>231648</td>\n",
       "      <td>216403</td>\n",
       "      <td>221925</td>\n",
       "    </tr>\n",
       "    <tr>\n",
       "      <td>7</td>\n",
       "      <td>413022</td>\n",
       "      <td>255041</td>\n",
       "      <td>257537</td>\n",
       "      <td>232986</td>\n",
       "    </tr>\n",
       "  </tbody>\n",
       "</table>\n",
       "</div>"
      ],
      "text/plain": [
       "Alliance     NoAlliance  Oneworld  SkyTeam    Star\n",
       "DAY_OF_WEEK                                       \n",
       "1                407333    239086   317230  249348\n",
       "2                441833    234564   269628  217862\n",
       "3                398505    247900   304038  241369\n",
       "4                422510    265717   308665  243433\n",
       "5                440954    314419   258232  235399\n",
       "6                362530    231648   216403  221925\n",
       "7                413022    255041   257537  232986"
      ]
     },
     "execution_count": 42,
     "metadata": {},
     "output_type": "execute_result"
    }
   ],
   "source": [
    "flight_pvt = flights.pivot_table('DISTANCE',index='DAY_OF_WEEK', \n",
    "                                 columns = 'Alliance', \n",
    "                                 aggfunc = np.sum)\n",
    "flight_pvt"
   ]
  },
  {
   "cell_type": "markdown",
   "metadata": {},
   "source": [
    "### You can get the totals using `margins` keyword argument"
   ]
  },
  {
   "cell_type": "code",
   "execution_count": 43,
   "metadata": {},
   "outputs": [
    {
     "data": {
      "text/html": [
       "<div>\n",
       "<style scoped>\n",
       "    .dataframe tbody tr th:only-of-type {\n",
       "        vertical-align: middle;\n",
       "    }\n",
       "\n",
       "    .dataframe tbody tr th {\n",
       "        vertical-align: top;\n",
       "    }\n",
       "\n",
       "    .dataframe thead th {\n",
       "        text-align: right;\n",
       "    }\n",
       "</style>\n",
       "<table border=\"1\" class=\"dataframe\">\n",
       "  <thead>\n",
       "    <tr style=\"text-align: right;\">\n",
       "      <th>Alliance</th>\n",
       "      <th>NoAlliance</th>\n",
       "      <th>Oneworld</th>\n",
       "      <th>SkyTeam</th>\n",
       "      <th>Star</th>\n",
       "      <th>All</th>\n",
       "    </tr>\n",
       "    <tr>\n",
       "      <th>DAY_OF_WEEK</th>\n",
       "      <th></th>\n",
       "      <th></th>\n",
       "      <th></th>\n",
       "      <th></th>\n",
       "      <th></th>\n",
       "    </tr>\n",
       "  </thead>\n",
       "  <tbody>\n",
       "    <tr>\n",
       "      <td>1</td>\n",
       "      <td>407333</td>\n",
       "      <td>239086</td>\n",
       "      <td>317230</td>\n",
       "      <td>249348</td>\n",
       "      <td>1212997</td>\n",
       "    </tr>\n",
       "    <tr>\n",
       "      <td>2</td>\n",
       "      <td>441833</td>\n",
       "      <td>234564</td>\n",
       "      <td>269628</td>\n",
       "      <td>217862</td>\n",
       "      <td>1163887</td>\n",
       "    </tr>\n",
       "    <tr>\n",
       "      <td>3</td>\n",
       "      <td>398505</td>\n",
       "      <td>247900</td>\n",
       "      <td>304038</td>\n",
       "      <td>241369</td>\n",
       "      <td>1191812</td>\n",
       "    </tr>\n",
       "    <tr>\n",
       "      <td>4</td>\n",
       "      <td>422510</td>\n",
       "      <td>265717</td>\n",
       "      <td>308665</td>\n",
       "      <td>243433</td>\n",
       "      <td>1240325</td>\n",
       "    </tr>\n",
       "    <tr>\n",
       "      <td>5</td>\n",
       "      <td>440954</td>\n",
       "      <td>314419</td>\n",
       "      <td>258232</td>\n",
       "      <td>235399</td>\n",
       "      <td>1249004</td>\n",
       "    </tr>\n",
       "    <tr>\n",
       "      <td>6</td>\n",
       "      <td>362530</td>\n",
       "      <td>231648</td>\n",
       "      <td>216403</td>\n",
       "      <td>221925</td>\n",
       "      <td>1032506</td>\n",
       "    </tr>\n",
       "    <tr>\n",
       "      <td>7</td>\n",
       "      <td>413022</td>\n",
       "      <td>255041</td>\n",
       "      <td>257537</td>\n",
       "      <td>232986</td>\n",
       "      <td>1158586</td>\n",
       "    </tr>\n",
       "    <tr>\n",
       "      <td>All</td>\n",
       "      <td>2886687</td>\n",
       "      <td>1788375</td>\n",
       "      <td>1931733</td>\n",
       "      <td>1642322</td>\n",
       "      <td>8249117</td>\n",
       "    </tr>\n",
       "  </tbody>\n",
       "</table>\n",
       "</div>"
      ],
      "text/plain": [
       "Alliance     NoAlliance  Oneworld  SkyTeam     Star      All\n",
       "DAY_OF_WEEK                                                 \n",
       "1                407333    239086   317230   249348  1212997\n",
       "2                441833    234564   269628   217862  1163887\n",
       "3                398505    247900   304038   241369  1191812\n",
       "4                422510    265717   308665   243433  1240325\n",
       "5                440954    314419   258232   235399  1249004\n",
       "6                362530    231648   216403   221925  1032506\n",
       "7                413022    255041   257537   232986  1158586\n",
       "All             2886687   1788375  1931733  1642322  8249117"
      ]
     },
     "execution_count": 43,
     "metadata": {},
     "output_type": "execute_result"
    }
   ],
   "source": [
    "flight_pvt = flights.pivot_table('DISTANCE',index='DAY_OF_WEEK', \n",
    "                                 columns = 'Alliance', \n",
    "                                 aggfunc = np.sum, \n",
    "                                 margins=True)\n",
    "flight_pvt"
   ]
  },
  {
   "cell_type": "code",
   "execution_count": 44,
   "metadata": {},
   "outputs": [
    {
     "data": {
      "text/plain": [
       "441833"
      ]
     },
     "execution_count": 44,
     "metadata": {},
     "output_type": "execute_result"
    }
   ],
   "source": [
    "# get second day of the week for 'No Alliance'\n",
    "flight_pvt.loc[2]['NoAlliance']"
   ]
  },
  {
   "cell_type": "code",
   "execution_count": 45,
   "metadata": {},
   "outputs": [
    {
     "data": {
      "text/html": [
       "<div>\n",
       "<style scoped>\n",
       "    .dataframe tbody tr th:only-of-type {\n",
       "        vertical-align: middle;\n",
       "    }\n",
       "\n",
       "    .dataframe tbody tr th {\n",
       "        vertical-align: top;\n",
       "    }\n",
       "\n",
       "    .dataframe thead th {\n",
       "        text-align: right;\n",
       "    }\n",
       "</style>\n",
       "<table border=\"1\" class=\"dataframe\">\n",
       "  <thead>\n",
       "    <tr style=\"text-align: right;\">\n",
       "      <th></th>\n",
       "      <th></th>\n",
       "      <th>DISTANCE</th>\n",
       "    </tr>\n",
       "    <tr>\n",
       "      <th>DAY_OF_WEEK</th>\n",
       "      <th>Alliance</th>\n",
       "      <th></th>\n",
       "    </tr>\n",
       "  </thead>\n",
       "  <tbody>\n",
       "    <tr>\n",
       "      <td rowspan=\"4\" valign=\"top\">1</td>\n",
       "      <td>NoAlliance</td>\n",
       "      <td>407333</td>\n",
       "    </tr>\n",
       "    <tr>\n",
       "      <td>Oneworld</td>\n",
       "      <td>239086</td>\n",
       "    </tr>\n",
       "    <tr>\n",
       "      <td>SkyTeam</td>\n",
       "      <td>317230</td>\n",
       "    </tr>\n",
       "    <tr>\n",
       "      <td>Star</td>\n",
       "      <td>249348</td>\n",
       "    </tr>\n",
       "    <tr>\n",
       "      <td rowspan=\"4\" valign=\"top\">2</td>\n",
       "      <td>NoAlliance</td>\n",
       "      <td>441833</td>\n",
       "    </tr>\n",
       "    <tr>\n",
       "      <td>Oneworld</td>\n",
       "      <td>234564</td>\n",
       "    </tr>\n",
       "    <tr>\n",
       "      <td>SkyTeam</td>\n",
       "      <td>269628</td>\n",
       "    </tr>\n",
       "    <tr>\n",
       "      <td>Star</td>\n",
       "      <td>217862</td>\n",
       "    </tr>\n",
       "    <tr>\n",
       "      <td rowspan=\"4\" valign=\"top\">3</td>\n",
       "      <td>NoAlliance</td>\n",
       "      <td>398505</td>\n",
       "    </tr>\n",
       "    <tr>\n",
       "      <td>Oneworld</td>\n",
       "      <td>247900</td>\n",
       "    </tr>\n",
       "    <tr>\n",
       "      <td>SkyTeam</td>\n",
       "      <td>304038</td>\n",
       "    </tr>\n",
       "    <tr>\n",
       "      <td>Star</td>\n",
       "      <td>241369</td>\n",
       "    </tr>\n",
       "    <tr>\n",
       "      <td rowspan=\"4\" valign=\"top\">4</td>\n",
       "      <td>NoAlliance</td>\n",
       "      <td>422510</td>\n",
       "    </tr>\n",
       "    <tr>\n",
       "      <td>Oneworld</td>\n",
       "      <td>265717</td>\n",
       "    </tr>\n",
       "    <tr>\n",
       "      <td>SkyTeam</td>\n",
       "      <td>308665</td>\n",
       "    </tr>\n",
       "    <tr>\n",
       "      <td>Star</td>\n",
       "      <td>243433</td>\n",
       "    </tr>\n",
       "    <tr>\n",
       "      <td rowspan=\"4\" valign=\"top\">5</td>\n",
       "      <td>NoAlliance</td>\n",
       "      <td>440954</td>\n",
       "    </tr>\n",
       "    <tr>\n",
       "      <td>Oneworld</td>\n",
       "      <td>314419</td>\n",
       "    </tr>\n",
       "    <tr>\n",
       "      <td>SkyTeam</td>\n",
       "      <td>258232</td>\n",
       "    </tr>\n",
       "    <tr>\n",
       "      <td>Star</td>\n",
       "      <td>235399</td>\n",
       "    </tr>\n",
       "    <tr>\n",
       "      <td rowspan=\"4\" valign=\"top\">6</td>\n",
       "      <td>NoAlliance</td>\n",
       "      <td>362530</td>\n",
       "    </tr>\n",
       "    <tr>\n",
       "      <td>Oneworld</td>\n",
       "      <td>231648</td>\n",
       "    </tr>\n",
       "    <tr>\n",
       "      <td>SkyTeam</td>\n",
       "      <td>216403</td>\n",
       "    </tr>\n",
       "    <tr>\n",
       "      <td>Star</td>\n",
       "      <td>221925</td>\n",
       "    </tr>\n",
       "    <tr>\n",
       "      <td rowspan=\"4\" valign=\"top\">7</td>\n",
       "      <td>NoAlliance</td>\n",
       "      <td>413022</td>\n",
       "    </tr>\n",
       "    <tr>\n",
       "      <td>Oneworld</td>\n",
       "      <td>255041</td>\n",
       "    </tr>\n",
       "    <tr>\n",
       "      <td>SkyTeam</td>\n",
       "      <td>257537</td>\n",
       "    </tr>\n",
       "    <tr>\n",
       "      <td>Star</td>\n",
       "      <td>232986</td>\n",
       "    </tr>\n",
       "  </tbody>\n",
       "</table>\n",
       "</div>"
      ],
      "text/plain": [
       "                        DISTANCE\n",
       "DAY_OF_WEEK Alliance            \n",
       "1           NoAlliance    407333\n",
       "            Oneworld      239086\n",
       "            SkyTeam       317230\n",
       "            Star          249348\n",
       "2           NoAlliance    441833\n",
       "            Oneworld      234564\n",
       "            SkyTeam       269628\n",
       "            Star          217862\n",
       "3           NoAlliance    398505\n",
       "            Oneworld      247900\n",
       "            SkyTeam       304038\n",
       "            Star          241369\n",
       "4           NoAlliance    422510\n",
       "            Oneworld      265717\n",
       "            SkyTeam       308665\n",
       "            Star          243433\n",
       "5           NoAlliance    440954\n",
       "            Oneworld      314419\n",
       "            SkyTeam       258232\n",
       "            Star          235399\n",
       "6           NoAlliance    362530\n",
       "            Oneworld      231648\n",
       "            SkyTeam       216403\n",
       "            Star          221925\n",
       "7           NoAlliance    413022\n",
       "            Oneworld      255041\n",
       "            SkyTeam       257537\n",
       "            Star          232986"
      ]
     },
     "execution_count": 45,
     "metadata": {},
     "output_type": "execute_result"
    }
   ],
   "source": [
    "flights.groupby(['DAY_OF_WEEK','Alliance'])[['DISTANCE']].sum()"
   ]
  },
  {
   "cell_type": "markdown",
   "metadata": {},
   "source": [
    "## Activity: Birthrate Data\n",
    "\n",
    "As a more interesting example, let's take a look at the freely available data on births in the United States, provided by the Centers for Disease Control (CDC).\n",
    "This data can be found at https://raw.githubusercontent.com/jakevdp/data-CDCbirths/master/births.csv\n",
    "(this dataset has been analyzed rather extensively by Andrew Gelman and his group; see, for example, [this blog post](http://andrewgelman.com/2012/06/14/cool-ass-signal-processing-using-gaussian-processes/)):"
   ]
  },
  {
   "cell_type": "markdown",
   "metadata": {},
   "source": [
    "1. Create a column called `decade` in the births_df dataframe loaded below. \n",
    "    * Use the column called `year` to create the `decade`. For example, if you were born in 1969 it should say your decade is 1960\n",
    "2. Create a pivot table that counts number of `births` in each decade and also based on whether they were male or female"
   ]
  },
  {
   "cell_type": "code",
   "execution_count": null,
   "metadata": {},
   "outputs": [],
   "source": [
    "births_df = pd.read_csv('./data/births.csv')"
   ]
  },
  {
   "cell_type": "code",
   "execution_count": null,
   "metadata": {},
   "outputs": [],
   "source": [
    "births_df.sample(4)"
   ]
  },
  {
   "cell_type": "code",
   "execution_count": null,
   "metadata": {},
   "outputs": [],
   "source": [
    "(1969//10)*10"
   ]
  },
  {
   "cell_type": "code",
   "execution_count": null,
   "metadata": {},
   "outputs": [],
   "source": [
    "# add a 'decade' column and use the formula (births_df['year'] // 10 ) * 10\n"
   ]
  },
  {
   "cell_type": "code",
   "execution_count": null,
   "metadata": {},
   "outputs": [],
   "source": [
    "# Create a pivot table that counts number of births in each decade and also based on whether they were male or female\n"
   ]
  },
  {
   "cell_type": "markdown",
   "metadata": {},
   "source": [
    "<div class=\"alert alert-block alert-danger\">\n",
    "<h3> CAUTION AHEAD </h3>\n",
    "<p> </p>\n",
    "<p> The topics discussed ahead are advanced and you need to absolutely make sure you understand everything discussed in the previous classes to move forward.</p>\n",
    "</div>"
   ]
  },
  {
   "cell_type": "markdown",
   "metadata": {},
   "source": [
    "### Advanced Topics: filter() and transform()\n",
    "\n",
    "These functions give a lot more flexibility on `DataFrameGroupBY` objects and they are discussed below. They are advanced topics, however, I **strongly encourage** you to read through them and you could use them for finding very interesting patterns in the data. "
   ]
  },
  {
   "cell_type": "code",
   "execution_count": null,
   "metadata": {},
   "outputs": [],
   "source": [
    "# Starter code for the Advanced Topics, you will need to run this before you use them further. \n",
    "college_loan_defaults = pd.read_csv(\n",
    "    './data/college-loan-default-rates.csv')\n",
    "\n",
    "college_scorecard = pd.read_csv(\n",
    "    './data/college-scorecard-data-scrubbed.csv', \n",
    "    encoding='latin-1')\n",
    "\n"
   ]
  },
  {
   "cell_type": "markdown",
   "metadata": {},
   "source": [
    "#### The `filter()` Method\n",
    "\n",
    "You can use the `filter()` method to generate a new dataframe after filtering out groups that don't pass a given criteria. It allows you to answer questions like this: *what states in college scorecard have rows where the average SAT score (for the state) is above 1100?*\n",
    "\n",
    "To use this method, you must pass in a function that takes a single parameter, which is the group to evaluate. The function must return either `True`/`False` depending on whether or not the *rows of the group* should be kept or discarded in the new dataframe.\n",
    "\n",
    "So, with this in mind, let's define a `sat_filter` function so that groups with average SAT scores of less than 1100 are dropped from consideration."
   ]
  },
  {
   "cell_type": "code",
   "execution_count": null,
   "metadata": {},
   "outputs": [],
   "source": [
    "colleges_by_state = college_scorecard.groupby(['state'])"
   ]
  },
  {
   "cell_type": "code",
   "execution_count": null,
   "metadata": {},
   "outputs": [],
   "source": [
    "def size_filter(group):\n",
    "    if group['sat_average'].mean() >= 1150:\n",
    "        return True\n",
    "    else:\n",
    "        return False"
   ]
  },
  {
   "cell_type": "markdown",
   "metadata": {},
   "source": [
    "And now let's use it on to see which rows remain in the new dataframe after applying the filter:"
   ]
  },
  {
   "cell_type": "code",
   "execution_count": null,
   "metadata": {},
   "outputs": [],
   "source": [
    "college_scorecard[['state','city', 'sat_average']].sample(10)"
   ]
  },
  {
   "cell_type": "code",
   "execution_count": null,
   "metadata": {},
   "outputs": [],
   "source": [
    "# this doesn't work because it's not grouped\n",
    "# college_scorecard[['state','city', 'sat_average']].filter(size_filter)"
   ]
  },
  {
   "cell_type": "code",
   "execution_count": null,
   "metadata": {},
   "outputs": [],
   "source": [
    "# Just to reduce the complexity here, I'm only going\n",
    "# to display the `sat_average`, `state`, and `city` fields \n",
    "filter_results = colleges_by_state[['institution_name','state','city', 'sat_average']].filter(size_filter)\n",
    "filter_results"
   ]
  },
  {
   "cell_type": "markdown",
   "metadata": {},
   "source": [
    "There are a couple of ***really*** important things to notice here:\n",
    "1. Unlike the **`aggregate`** method, the data returned here is not grouped by state as you probably expected it to be. The filter is used on a grouped dataframe, but it returns a new \"normal\" dataframe.\n",
    "2. Notice that we have a bunch of rows for Washington DC and Rhode Island, but nothing else. If we've done things correctly, this would mean that the colleges in those two states have average SAT scores of at least 1150. "
   ]
  },
  {
   "cell_type": "markdown",
   "metadata": {},
   "source": [
    "#### The `transform()` Method\n",
    "\n",
    "You use the **`transform()`** method to generate a new dataframe that modifies/transforms the values of the grouped dataframes columns.\n",
    "\n",
    "That probably just confused the heck out of you. So we will start with a practical example.\n",
    "\n",
    "Let's say that we wanted to center the data for the *`year_1_default_rate`* and *`year_2_default_rate`* columns of our **`college_loan_defaults_by_state`** grouped dataframe. \n",
    "\n",
    "Let's step through how we could do that with **`transform()`**.\n",
    "\n",
    "Just like with the **`filter()`** method, we have to create a function that we will pass to the **`transform`** method, but this time the function will evaluate each series (column) of each group, rather than the groups as a whole."
   ]
  },
  {
   "cell_type": "code",
   "execution_count": null,
   "metadata": {},
   "outputs": [],
   "source": [
    "# Just extracting three columns for this analysis\n",
    "college_loan_defaults_subset = college_loan_defaults[['name', 'state', 'year_1_default_rate']]\n",
    "college_loan_defaults_subset.head()"
   ]
  },
  {
   "cell_type": "code",
   "execution_count": null,
   "metadata": {},
   "outputs": [],
   "source": [
    "college_loan_defaults_by_state = college_loan_defaults_subset.groupby('state')"
   ]
  },
  {
   "cell_type": "code",
   "execution_count": null,
   "metadata": {},
   "outputs": [],
   "source": [
    "#the mean for each state\n",
    "college_loan_defaults_by_state['year_1_default_rate'].mean()[:5]"
   ]
  },
  {
   "cell_type": "code",
   "execution_count": null,
   "metadata": {},
   "outputs": [],
   "source": [
    "# This function will be called on each \n",
    "# series of each group in your DataFrameGroupBy object\n",
    "def center_default_rate(series):\n",
    "    return series - series.mean()"
   ]
  },
  {
   "cell_type": "code",
   "execution_count": null,
   "metadata": {},
   "outputs": [],
   "source": [
    "# We'll also use the rename() method to apply some friendly column names.\n",
    "transformed_default_rates = college_loan_defaults_by_state.transform(\n",
    "    center_default_rate).rename(\n",
    "        columns={'year_1_default_rate': 'centered_year_1_default_rate'})\n",
    "\n",
    "transformed_default_rates.head()"
   ]
  },
  {
   "cell_type": "markdown",
   "metadata": {},
   "source": [
    "<div class=\"alert alert-block alert-info\">\n",
    "<p>\n",
    "Our `college_loan_defaults_by_state` dataframe included four columns: name, state, and year_1_default_rate.\n",
    "</p> \n",
    "<p>But here in the returned dataframe we only have `centered_year_1_default_rate`. The reason for this is that the other two columns were strings, and you can't calculate the mean of a series of strings.\n",
    "</p>\n",
    "<p>\n",
    "Because of this, Pandas just silently drops them from the new dataframe that is returned from the `tranform` method.\n",
    "</p>\n",
    "</div>"
   ]
  },
  {
   "cell_type": "markdown",
   "metadata": {},
   "source": [
    "So now we have our centered rates in a new dataframe. Let's merge together the result of our **`transform`** method and our *`college_loan_defaults_subset`* dataframe. "
   ]
  },
  {
   "cell_type": "code",
   "execution_count": null,
   "metadata": {},
   "outputs": [],
   "source": [
    "# Make sure to specify the indices as the \"join column\" or Pandas\n",
    "# will try to join the dataframes based on the shared 'year_1_default_rate' column.\n",
    "pd.merge(college_loan_defaults_subset, transformed_default_rates, \n",
    "         left_index=True, \n",
    "         right_index=True)[:5]"
   ]
  }
 ],
 "metadata": {
  "kernelspec": {
   "display_name": "Python 3",
   "language": "python",
   "name": "python3"
  },
  "language_info": {
   "codemirror_mode": {
    "name": "ipython",
    "version": 3
   },
   "file_extension": ".py",
   "mimetype": "text/x-python",
   "name": "python",
   "nbconvert_exporter": "python",
   "pygments_lexer": "ipython3",
   "version": "3.7.4"
  }
 },
 "nbformat": 4,
 "nbformat_minor": 2
}
