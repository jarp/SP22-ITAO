{
 "cells": [
  {
   "cell_type": "code",
   "execution_count": null,
   "metadata": {},
   "outputs": [],
   "source": [
    "import pandas as pd\n",
    "import numpy as np\n",
    "\n",
    "import matplotlib as mpl\n",
    "import matplotlib.pyplot as plt\n",
    "\n",
    "# Select a style, it will affect all subsequent plots.\n",
    "plt.style.use('seaborn')\n",
    "\n",
    "# Add this after your imports to configure Jupyter to \n",
    "# display your plots.\n",
    "%matplotlib inline"
   ]
  },
  {
   "cell_type": "code",
   "execution_count": null,
   "metadata": {},
   "outputs": [],
   "source": [
    "seattle_weather_2015_2016 = pd.read_csv(\n",
    "    './data/seattle_weather_2015_2016.csv')\n",
    "seattle_weather_2015_2016.head()"
   ]
  },
  {
   "cell_type": "markdown",
   "metadata": {},
   "source": [
    "# Bar Plots in Matplotlib\n",
    "\n",
    "Simple Line plots and Histograms are very useful when you have quantitative (continous) data type. Bar plots are useful for plotting **categorical** data types. "
   ]
  },
  {
   "cell_type": "code",
   "execution_count": null,
   "metadata": {},
   "outputs": [],
   "source": [
    "flights = pd.read_csv(\"./data/flight_sample.csv\")\n",
    "flights.tail()"
   ]
  },
  {
   "cell_type": "markdown",
   "metadata": {},
   "source": [
    "Let us say you want to find how flights are in the dataset corresponding to each airline. \n",
    "\n",
    "You can do this by `groupby()` and the `size()` to find the number of airlines in each group."
   ]
  },
  {
   "cell_type": "code",
   "execution_count": null,
   "metadata": {},
   "outputs": [],
   "source": [
    "flights_by_Airline = flights.groupby([\"AIRLINE\"])\n",
    "num_flights_airline = flights_by_Airline.size()\n",
    "num_flights_airline"
   ]
  },
  {
   "cell_type": "code",
   "execution_count": null,
   "metadata": {},
   "outputs": [],
   "source": [
    "figure, axes = plt.subplots()\n",
    "\n",
    "axes.bar(  range( len(num_flights_airline.index)  ), num_flights_airline)\n",
    "\n",
    "# This below line will set the ticks at every number\n",
    "axes.set_xticks(  range(len(num_flights_airline.index)))\n",
    "\n",
    "# This below line will renamed the ticks from numbers to the airlines\n",
    "axes.set_xticklabels(num_flights_airline.index)\n",
    "\n",
    "axes.set_xlabel(\"Airline\")\n",
    "axes.set_ylabel(\"Number of flights\")\n",
    "axes.set_title(\"The distribution of flights across airlines\")"
   ]
  },
  {
   "cell_type": "markdown",
   "metadata": {},
   "source": [
    "#### Tight integration with pandas\n",
    "\n",
    "Instead of writing such a long code. The matplotlib is tightly integrated with pandas. So you can write simple code as below"
   ]
  },
  {
   "cell_type": "code",
   "execution_count": null,
   "metadata": {},
   "outputs": [],
   "source": [
    "figure, axes = plt.subplots()\n",
    "num_flights_airline.plot(ax=axes, kind='bar', color='orange')"
   ]
  },
  {
   "cell_type": "markdown",
   "metadata": {},
   "source": [
    "**Wow** That was easy! "
   ]
  },
  {
   "cell_type": "markdown",
   "metadata": {},
   "source": [
    "Plotting bar plots has a lot more features. Look [here](https://matplotlib.org/examples/api/barchart_demo.html) for more examples. "
   ]
  },
  {
   "cell_type": "markdown",
   "metadata": {},
   "source": [
    "# Activity\n",
    "\n",
    "* Group the flights by 'MONTH' and find the number of flights in each month using `size()`. \n",
    "\n",
    "* Plot a *bar* plot with each month on the x-axis and the height of the bar indicating the number of flights\n",
    "    * Make sure you set the ticks to be from 1 to 12 using axes.set_xticks() method. \n",
    "    * Make sure you rename the ticks to be 'Jan', 'Feb', 'Mar', 'Apr',..., 'Dec' using axes.set_xticklabels() method. "
   ]
  },
  {
   "cell_type": "code",
   "execution_count": null,
   "metadata": {},
   "outputs": [],
   "source": [
    "# wrangle the data\n"
   ]
  },
  {
   "cell_type": "code",
   "execution_count": null,
   "metadata": {},
   "outputs": [],
   "source": [
    "# plot the data\n",
    "# you can use the following array for x labels:\n",
    "months = ['JAN', 'FEB', 'MAR', 'APR','MAY', 'JUN', 'JUL', 'AUG', 'SEP', 'OCT', 'NOV', 'DEC']\n"
   ]
  },
  {
   "cell_type": "markdown",
   "metadata": {},
   "source": [
    "## Bar plots with multiple bars"
   ]
  },
  {
   "cell_type": "code",
   "execution_count": null,
   "metadata": {},
   "outputs": [],
   "source": [
    "flights_month_airline = flights.groupby([\"AIRLINE\", \"MONTH\"])\n",
    "num_flights_month_airline = flights_month_airline.size()\n",
    "num_flights_month_airline.head()"
   ]
  },
  {
   "cell_type": "code",
   "execution_count": null,
   "metadata": {},
   "outputs": [],
   "source": [
    "num_flights_month_airline.loc['UA']"
   ]
  },
  {
   "cell_type": "code",
   "execution_count": null,
   "metadata": {},
   "outputs": [],
   "source": [
    "figure, axes = plt.subplots(figsize=(12,6))\n",
    "\n",
    "# this will control both the width and placement of eadh bar\n",
    "width = .3\n",
    "\n",
    "axes.bar(num_flights_month_airline.loc['AA'].index - width, num_flights_month_airline['AA'], \n",
    "         width=width, \n",
    "         label = \"American\")\n",
    "axes.bar(num_flights_month_airline.loc['AS'].index, num_flights_month_airline['AS'], \n",
    "         width=width,\n",
    "         label = \"Alaskan\")\n",
    "axes.bar(num_flights_month_airline.loc['UA'].index + width, num_flights_month_airline['UA'], \n",
    "         width=width,\n",
    "         label = \"United\")\n",
    "\n",
    "axes.set_xticks(range(1,13))\n",
    "\n",
    "axes.set_xticklabels(['Jan','Feb','Mar','Apr','May','Jun','Jul','Aug','Sept','Oct','Nov','Dec'], rotation=90)\n",
    "\n",
    "axes.legend()"
   ]
  },
  {
   "cell_type": "markdown",
   "metadata": {},
   "source": [
    "# Activity\n",
    "\n",
    "* GroupBy 'AIRLINE', 'DAY_OF_WEEK' and find the number of flights in each day.  \n",
    "\n",
    "* Plot multiple bars for number of flights three airlines: Southwest (WN), JetBlue (B6), and Hawaiin (HA) for each of the seven days. \n",
    "    * Make sure you set the ticks to be from 1 to 7 using axes.set_xticks() method. \n",
    "    * Make sure you rename the ticks to be 'Mon', 'Tue', 'Wed', 'Thu', 'Fri','Sat','Sun' using axes.set_xticklabels() method. "
   ]
  },
  {
   "cell_type": "code",
   "execution_count": null,
   "metadata": {},
   "outputs": [],
   "source": []
  },
  {
   "cell_type": "code",
   "execution_count": null,
   "metadata": {},
   "outputs": [],
   "source": [
    "# you can use this array for tick labels:\n",
    "days = ['monday', 'tuesday', 'wednesday', 'thursday', 'friday', 'satday', 'sunday']\n"
   ]
  },
  {
   "cell_type": "markdown",
   "metadata": {},
   "source": [
    "# Activity\n",
    "\n",
    "* GroupBy 'AIRLINE', 'DAY_OF_WEEK' and compute the median distance travelled per airline per day. \n",
    "\n",
    "* Plot multiple bars for median distance travelled by flights of three airlines: Southwest (WN), JetBlue (B6), and Hawaiin (HA) for each of the seven days\n",
    "    * Make sure you set the ticks to be from 1 to 7 using axes.set_xticks() method. \n",
    "    * Make sure you rename the ticks to be 'Mon', 'Tue', 'Wed', 'Thu', 'Fri','Sat','Sun' using axes.set_xticklabels() method. "
   ]
  },
  {
   "cell_type": "code",
   "execution_count": null,
   "metadata": {},
   "outputs": [],
   "source": [
    "# group by airline and day of week\n",
    "# aggregate the number of records\n"
   ]
  },
  {
   "cell_type": "code",
   "execution_count": null,
   "metadata": {},
   "outputs": [],
   "source": []
  },
  {
   "cell_type": "markdown",
   "metadata": {},
   "source": [
    "# Matplotlib Advanced Customizations"
   ]
  },
  {
   "cell_type": "markdown",
   "metadata": {},
   "source": [
    "## Adjusting Plot Sizes\n",
    "Often times, you will want to adjust the size of your plots. There are a couple of different ways that you can accomplish this."
   ]
  },
  {
   "cell_type": "code",
   "execution_count": null,
   "metadata": {},
   "outputs": [],
   "source": [
    "nd_football_roster = pd.read_csv('./data/nd-football-2018-roster.csv')"
   ]
  },
  {
   "cell_type": "code",
   "execution_count": null,
   "metadata": {},
   "outputs": [],
   "source": [
    "figure, axes = plt.subplots()\n",
    "axes.scatter(nd_football_roster.index, nd_football_roster['Height'])\n",
    "\n",
    "# You can use the `figure.set_size_inches()` method to \n",
    "# specify the desired width/height of your figure.\n",
    "# If the requested size is too big for the Jupyter \n",
    "# display, Matplotlib will display a plot that still\n",
    "# has the correct display ratio.\n",
    "figure.set_size_inches(10, 4)"
   ]
  },
  {
   "cell_type": "code",
   "execution_count": null,
   "metadata": {},
   "outputs": [],
   "source": [
    "# You can also pass the `figsize` argument to `plt.subplots()`\n",
    "# to accomplish the same effect.\n",
    "figure, axes = plt.subplots(1, 2, sharey=True, figsize=(12,5))\n",
    "\n",
    "axes[0].scatter(seattle_weather_2015_2016.index, \n",
    "             seattle_weather_2015_2016['low_temp'], \n",
    "             c=seattle_weather_2015_2016['low_temp'], \n",
    "             cmap='PuBu')\n",
    "\n",
    "axes[1].scatter(seattle_weather_2015_2016.index, \n",
    "             seattle_weather_2015_2016['high_temp'],\n",
    "             c=seattle_weather_2015_2016['high_temp'], \n",
    "             cmap='YlOrRd')\n"
   ]
  },
  {
   "cell_type": "markdown",
   "metadata": {},
   "source": [
    "## Adding Text to Plots\n",
    "Sometimes, you may want to add explanatory text to your plots.\n",
    "\n",
    "In its most basic usage, you simply specify x and y values and the text that you want to display."
   ]
  },
  {
   "cell_type": "code",
   "execution_count": null,
   "metadata": {},
   "outputs": [],
   "source": [
    "figure, axes = plt.subplots()\n",
    "\n",
    "axes.scatter(seattle_weather_2015_2016.index, \n",
    "             seattle_weather_2015_2016['low_temp'], \n",
    "             c=seattle_weather_2015_2016['low_temp'], \n",
    "             cmap='PuBu')\n",
    "\n",
    "axes.text(175, 15,'WAY TOO COLD')\n"
   ]
  },
  {
   "cell_type": "markdown",
   "metadata": {},
   "source": [
    "You can also specify a number of parameters to customize the text's position and appearance:"
   ]
  },
  {
   "cell_type": "code",
   "execution_count": null,
   "metadata": {},
   "outputs": [],
   "source": [
    "figure, axes = plt.subplots()\n",
    "\n",
    "axes.scatter(seattle_weather_2015_2016.index, \n",
    "             seattle_weather_2015_2016['low_temp'], \n",
    "             c=seattle_weather_2015_2016['low_temp'], \n",
    "             cmap='PuBu')\n",
    "\n",
    "axes.text(175, 15,'WAY TOO COLD', \n",
    "          size=20, # Adjust the size\n",
    "          alpha=.8, # Adjust opacity\n",
    "          color='blue', # Change the color\n",
    "          rotation=5 # Add a rotation\n",
    "         )"
   ]
  },
  {
   "cell_type": "markdown",
   "metadata": {},
   "source": [
    "There are a lot more customizations and advanced plotting possible using matplotlib\n",
    "\n",
    "1. Adding Annotations (Text with Lines)\n",
    "2. Customizing Tick Marks\n",
    "    * Modifying the Number & Position of Tick Marks\n",
    "3. Visualizing Error Bars\n",
    "4. Fancy texts on your plots, including mathematical notations\n",
    "5. Three dimensional plotting\n",
    "6. Geographic Plotting"
   ]
  },
  {
   "cell_type": "markdown",
   "metadata": {},
   "source": [
    "# Plotting with Seaborn \n",
    "\n",
    "Seaborn provides more sophistication on top of Matplotlib that makes them produce plots that more statistical and integrates with the functionality provided by Pandas DataFrame "
   ]
  },
  {
   "cell_type": "code",
   "execution_count": null,
   "metadata": {},
   "outputs": [],
   "source": [
    "import seaborn as sns"
   ]
  },
  {
   "cell_type": "code",
   "execution_count": null,
   "metadata": {},
   "outputs": [],
   "source": [
    "seattle_weather_2015_2016 = pd.read_csv(\n",
    "    './data/seattle_weather_2015_2016.csv')\n",
    "seattle_weather_2015_2016.head()"
   ]
  },
  {
   "cell_type": "markdown",
   "metadata": {},
   "source": [
    "Remember, plotting of histogram using Matplotlib from above. "
   ]
  },
  {
   "cell_type": "code",
   "execution_count": null,
   "metadata": {
    "scrolled": true
   },
   "outputs": [],
   "source": [
    "figure, axes = plt.subplots()\n",
    "axes.hist(\n",
    "    seattle_weather_2015_2016['high_temp'], \n",
    "    bins=20, \n",
    "    label='High Temps', # Use label to specify legend name\n",
    "    color='orange', # Override the default color\n",
    "    density=True, # Set y-axis as probability. \n",
    "    alpha=.75 # Adjust alpha to allow both datasets to appear\n",
    "    \n",
    ")\n",
    "axes.hist(\n",
    "    seattle_weather_2015_2016['low_temp'], \n",
    "    bins=20, \n",
    "    label='Low Temps', # Use label to specify legend name\n",
    "    density=True, # Set y-axis as probability. \n",
    "    alpha=.75 # Adjust alpha to allow both datasets to appear\n",
    "    \n",
    ")\n",
    "\n",
    "# Enable the legend\n",
    "axes.legend()"
   ]
  },
  {
   "cell_type": "markdown",
   "metadata": {},
   "source": [
    "Note, that above when you set `density=True`, the y-axis doesn't represent the frequency but the probability of falling in that bucket."
   ]
  },
  {
   "cell_type": "markdown",
   "metadata": {},
   "source": [
    "With **seaborn** we can plot these histogram and also a curve that shows the distribution. "
   ]
  },
  {
   "cell_type": "code",
   "execution_count": null,
   "metadata": {},
   "outputs": [],
   "source": [
    "figure, axes = plt.subplots()\n",
    "\n",
    "sns.distplot(seattle_weather_2015_2016['low_temp'], ax= axes)\n",
    "sns.distplot(seattle_weather_2015_2016['high_temp'], ax = axes)\n",
    "\n",
    "axes.set_title(\"Probability Distribution of Low and High Temperatures in Seattle in 2015, 2016\")\n",
    "axes.set_xlabel(\"Temperature (in F)\")\n",
    "axes.set_ylabel(\"Probability Denisty\")"
   ]
  },
  {
   "cell_type": "markdown",
   "metadata": {},
   "source": [
    "### Pair plots\n",
    "\n",
    "These are very useful when you start working with any data. You might want to understand how each variable is related to one another. \n",
    "\n",
    "Seaborn is smart to figure out DataFrames which are numbers and only compare across them. "
   ]
  },
  {
   "cell_type": "code",
   "execution_count": null,
   "metadata": {},
   "outputs": [],
   "source": [
    "seattle_weather_2015_2016.head()"
   ]
  },
  {
   "cell_type": "code",
   "execution_count": null,
   "metadata": {},
   "outputs": [],
   "source": [
    "sns.pairplot(seattle_weather_2015_2016)"
   ]
  },
  {
   "cell_type": "markdown",
   "metadata": {},
   "source": [
    "### Joint plot"
   ]
  },
  {
   "cell_type": "code",
   "execution_count": null,
   "metadata": {},
   "outputs": [],
   "source": [
    "jp = sns.jointplot(\"low_temp\", \"avgwindspeed\", data=seattle_weather_2015_2016)"
   ]
  },
  {
   "cell_type": "markdown",
   "metadata": {},
   "source": [
    "## Activty\n",
    "\n",
    "Use seaborn to produce these plots. \n",
    "\n",
    "1. Select the flight details of American Airlines ('AA') and United Airlines ('UA')\n",
    "2. Plot the histogram with probability density plot for the distance of the flights by these two airlines\n"
   ]
  },
  {
   "cell_type": "code",
   "execution_count": null,
   "metadata": {},
   "outputs": [],
   "source": [
    "flights = pd.read_csv(\"./data/flight_sample.csv\")\n",
    "flights.head()"
   ]
  },
  {
   "cell_type": "code",
   "execution_count": null,
   "metadata": {},
   "outputs": [],
   "source": []
  },
  {
   "cell_type": "markdown",
   "metadata": {},
   "source": [
    "## Activity\n",
    "\n",
    "* Pairplot on flights DataFrame"
   ]
  },
  {
   "cell_type": "code",
   "execution_count": null,
   "metadata": {},
   "outputs": [],
   "source": [
    "# pairplots are not good working with missing data, so we dropping it. \n",
    "# EASY TO DO BUT NOT ALWAYS A RIGHT THING TO DO \n",
    "flights = pd.read_csv(\"./data/flight_sample.csv\")\n"
   ]
  },
  {
   "cell_type": "code",
   "execution_count": null,
   "metadata": {},
   "outputs": [],
   "source": []
  },
  {
   "cell_type": "markdown",
   "metadata": {},
   "source": [
    "## Activity\n",
    "\n",
    "* Joint plot between DISTANCE and TAXI_OUT time for flights data\n",
    "* Joint plot between DISTANCE and TAXI_IN time for flights data"
   ]
  },
  {
   "cell_type": "code",
   "execution_count": null,
   "metadata": {},
   "outputs": [],
   "source": []
  },
  {
   "cell_type": "markdown",
   "metadata": {},
   "source": [
    "# Three-Dimensional Plotting in Matplotlib"
   ]
  },
  {
   "cell_type": "markdown",
   "metadata": {},
   "source": [
    "Matplotlib was initially designed with only two-dimensional plotting in mind.\n",
    "Around the time of the 1.0 release, some three-dimensional plotting utilities were built on top of Matplotlib's two-dimensional display, and the result is a convenient (if somewhat limited) set of tools for three-dimensional data visualization.\n",
    "three-dimensional plots are enabled by importing the ``mplot3d`` toolkit, included with the main Matplotlib installation:"
   ]
  },
  {
   "cell_type": "code",
   "execution_count": null,
   "metadata": {},
   "outputs": [],
   "source": [
    "import pandas as pd\n",
    "import numpy as np\n",
    "\n",
    "import matplotlib as mpl\n",
    "import matplotlib.pyplot as plt\n",
    "\n",
    "# Select a style, it will affect all subsequent plots.\n",
    "# plt.style.use('seaborn')\n",
    "\n",
    "%matplotlib notebook"
   ]
  },
  {
   "cell_type": "code",
   "execution_count": null,
   "metadata": {},
   "outputs": [],
   "source": [
    "from mpl_toolkits import mplot3d"
   ]
  },
  {
   "cell_type": "markdown",
   "metadata": {},
   "source": [
    "Once this submodule is imported, a three-dimensional axes can be created by passing the keyword ``projection='3d'`` to any of the normal axes creation routines:"
   ]
  },
  {
   "cell_type": "code",
   "execution_count": null,
   "metadata": {},
   "outputs": [],
   "source": [
    "fig = plt.figure()\n",
    "ax = plt.axes(projection='3d')"
   ]
  },
  {
   "cell_type": "markdown",
   "metadata": {},
   "source": [
    "With this three-dimensional axes enabled, we can now plot a variety of three-dimensional plot types. \n",
    "Three-dimensional plotting is one of the functionalities that benefits immensely from viewing figures interactively rather than statically in the notebook; recall that to use interactive figures, you can use ``%matplotlib notebook`` rather than ``%matplotlib inline`` when running this code."
   ]
  },
  {
   "cell_type": "markdown",
   "metadata": {},
   "source": [
    "## Three-dimensional Points and Lines\n",
    "\n",
    "The most basic three-dimensional plot is a line or collection of scatter plot created from sets of (x, y, z) triples.\n",
    "In analogy with the more common two-dimensional plots discussed earlier, these can be created using the ``ax.plot3D`` and ``ax.scatter3D`` functions.\n",
    "The call signature for these is nearly identical to that of their two-dimensional counterparts, so you can refer to [Simple Line Plots](04.01-Simple-Line-Plots.ipynb) and [Simple Scatter Plots](04.02-Simple-Scatter-Plots.ipynb) for more information on controlling the output.\n",
    "Here we'll plot a trigonometric spiral, along with some points drawn randomly near the line:"
   ]
  },
  {
   "cell_type": "code",
   "execution_count": null,
   "metadata": {},
   "outputs": [],
   "source": [
    "fig = plt.figure()\n",
    "ax = plt.axes(projection='3d')\n",
    "\n",
    "# Data for a three-dimensional line\n",
    "zline = np.linspace(0, 15, 1000)\n",
    "xline = np.sin(zline)\n",
    "yline = np.cos(zline)\n",
    "ax.plot3D(xline, yline, zline, 'gray')\n",
    "\n",
    "# Data for three-dimensional scattered points\n",
    "zdata = 15 * np.random.random(100)\n",
    "xdata = np.sin(zdata) + 0.1 * np.random.randn(100)\n",
    "ydata = np.cos(zdata) + 0.1 * np.random.randn(100)\n",
    "ax.scatter3D(xdata, ydata, zdata, c=zdata, cmap='Greens');"
   ]
  },
  {
   "cell_type": "code",
   "execution_count": null,
   "metadata": {},
   "outputs": [],
   "source": [
    "flights = pd.read_csv(\"./data/flight_sample.csv\")"
   ]
  },
  {
   "cell_type": "code",
   "execution_count": null,
   "metadata": {},
   "outputs": [],
   "source": [
    "fig = plt.figure()\n",
    "ax = plt.axes(projection='3d')\n",
    "\n",
    "# Data for a three-dimensional line\n",
    "zline = np.linspace(0, 15, 1000)\n",
    "xline = np.sin(zline)\n",
    "yline = np.cos(zline)\n",
    "ax.scatter3D(flights['TAXI_IN'], flights['TAXI_OUT'], flights['DISTANCE'], 'gray')\n",
    "\n",
    "ax.set_zlabel('DISTANCE')\n",
    "ax.set_xlabel('TAXI_IN')\n",
    "ax.set_ylabel('TAXI_OUT')\n"
   ]
  },
  {
   "cell_type": "markdown",
   "metadata": {},
   "source": [
    "## Three-dimensional Contour Plots\n",
    "\n",
    "Analogous to the contour plots we explored in [Density and Contour Plots](04.04-Density-and-Contour-Plots.ipynb), ``mplot3d`` contains tools to create three-dimensional relief plots using the same inputs.\n",
    "Like two-dimensional ``ax.contour`` plots, ``ax.contour3D`` requires all the input data to be in the form of two-dimensional regular grids, with the Z data evaluated at each point.\n",
    "Here we'll show a three-dimensional contour diagram of a three-dimensional sinusoidal function:"
   ]
  },
  {
   "cell_type": "code",
   "execution_count": null,
   "metadata": {},
   "outputs": [],
   "source": [
    "def f(x, y):\n",
    "    return np.sin(np.sqrt(x ** 2 + y ** 2))\n",
    "\n",
    "x = np.linspace(-6, 6, 30)\n",
    "y = np.linspace(-6, 6, 30)\n",
    "\n",
    "X, Y = np.meshgrid(x, y)\n",
    "Z = f(X, Y)"
   ]
  },
  {
   "cell_type": "code",
   "execution_count": null,
   "metadata": {},
   "outputs": [],
   "source": [
    "fig = plt.figure()\n",
    "r = np.linspace(0, 6, 20)\n",
    "theta = np.linspace(-0.9 * np.pi, 0.8 * np.pi, 40)\n",
    "r, theta = np.meshgrid(r, theta)\n",
    "\n",
    "X = r * np.sin(theta)\n",
    "Y = r * np.cos(theta)\n",
    "Z = f(X, Y)\n",
    "\n",
    "ax = plt.axes(projection='3d')\n",
    "ax.plot_surface(X, Y, Z,\n",
    "                cmap='viridis', edgecolor='none');"
   ]
  },
  {
   "cell_type": "markdown",
   "metadata": {},
   "source": [
    "\n",
    "# Detour: Exception Handling\n",
    "\n",
    "Sometimes the interpreter will generate an error that will interrupt the execution of your program.  These are called exceptions and can be handled programmatically.\n",
    "\n",
    "This part of the content if from [Chapter 10](https://automatetheboringstuff.com/chapter10/) of the your ABSP textbook. "
   ]
  },
  {
   "cell_type": "markdown",
   "metadata": {},
   "source": [
    "## `try` and `except` statements"
   ]
  },
  {
   "cell_type": "code",
   "execution_count": null,
   "metadata": {},
   "outputs": [],
   "source": [
    "10/0"
   ]
  },
  {
   "cell_type": "code",
   "execution_count": null,
   "metadata": {},
   "outputs": [],
   "source": [
    "a = int(input(\"Number: \"))"
   ]
  },
  {
   "cell_type": "code",
   "execution_count": null,
   "metadata": {},
   "outputs": [],
   "source": [
    "try:\n",
    "    a = int(input(\"Number 1: \"))\n",
    "    b = int(input(\"Number 2: \"))\n",
    "    print(a/b)\n",
    "except ValueError:\n",
    "    print(\"Whoa, that's not an integer\")\n",
    "except ZeroDivisionError:\n",
    "    print(\"Whoa, you can't divide by zero\")"
   ]
  },
  {
   "cell_type": "markdown",
   "metadata": {},
   "source": [
    "### `raise` statement"
   ]
  },
  {
   "cell_type": "code",
   "execution_count": null,
   "metadata": {},
   "outputs": [],
   "source": [
    "try:\n",
    "    a = int(input(\"Number 1: \"))\n",
    "    if a<0:\n",
    "        raise ValueError(\"Entered a Negative\")\n",
    "except ValueError:\n",
    "    print(\"Whoa, there was an error!\")\n",
    "    raise"
   ]
  },
  {
   "cell_type": "markdown",
   "metadata": {},
   "source": [
    "### `assert` statement\n",
    "\n",
    "An assertion is a sanity check to make sure your code isn’t doing something obviously wrong. These sanity checks are performed by `assert` statements. If the sanity check fails, then an `AssertionError` exception is raised."
   ]
  },
  {
   "cell_type": "code",
   "execution_count": null,
   "metadata": {},
   "outputs": [],
   "source": [
    "instructorName = input(\"Enter instructor name: \")\n",
    "\n",
    "assert instructorName == 'Jonathan', \"Wow! The instructor has to be Jonathan!\""
   ]
  }
 ],
 "metadata": {
  "kernelspec": {
   "display_name": "Python 3",
   "language": "python",
   "name": "python3"
  },
  "language_info": {
   "codemirror_mode": {
    "name": "ipython",
    "version": 3
   },
   "file_extension": ".py",
   "mimetype": "text/x-python",
   "name": "python",
   "nbconvert_exporter": "python",
   "pygments_lexer": "ipython3",
   "version": "3.7.4"
  }
 },
 "nbformat": 4,
 "nbformat_minor": 2
}
