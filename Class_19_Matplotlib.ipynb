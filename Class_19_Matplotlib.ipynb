{
 "cells": [
  {
   "cell_type": "code",
   "execution_count": null,
   "metadata": {},
   "outputs": [],
   "source": [
    "import pandas as pd\n",
    "import numpy as np"
   ]
  },
  {
   "cell_type": "markdown",
   "metadata": {},
   "source": [
    "# Matplotlib Line Plots"
   ]
  },
  {
   "cell_type": "markdown",
   "metadata": {},
   "source": [
    "## Introduction\n",
    "In this section we are going to learn how to create simple line plots with Matplotlib.\n",
    "\n",
    "Before we dive in, let's cover a few introductory matters."
   ]
  },
  {
   "cell_type": "markdown",
   "metadata": {},
   "source": [
    "### Importing Matplotlib\n",
    "\n",
    "Just as we use the ``np`` shorthand for NumPy, we will use some standard shorthands for Matplotlib imports. Same disclaimer goes for these aliases as the others."
   ]
  },
  {
   "cell_type": "code",
   "execution_count": null,
   "metadata": {},
   "outputs": [],
   "source": [
    "import matplotlib as mpl\n",
    "import matplotlib.pyplot as plt"
   ]
  },
  {
   "cell_type": "markdown",
   "metadata": {},
   "source": [
    "### Setting Styles\n",
    "While we will get into adjusting individual pieces of our plots appearances, you can change many of the properties at once by selecting a style."
   ]
  },
  {
   "cell_type": "code",
   "execution_count": null,
   "metadata": {},
   "outputs": [],
   "source": [
    "# You can see the available styles like so\n",
    "# See what they look like here (warning, bad HTML design): \n",
    "# https://matplotlib.org/examples/style_sheets/style_sheets_reference.html?highlight=style%20sheets%20reference\n",
    "plt.style.available"
   ]
  },
  {
   "cell_type": "code",
   "execution_count": null,
   "metadata": {},
   "outputs": [],
   "source": [
    "# Select a style, it will affect all subsequent plots.\n",
    "plt.style.use('seaborn')"
   ]
  },
  {
   "cell_type": "markdown",
   "metadata": {},
   "source": [
    "### How to Display Your Plots in Jupyter Notebooks\n",
    "\n",
    "Your textbook has information about how to display plots in a variety of environments, but we are only interested in how to display them in your Jupyter notebooks."
   ]
  },
  {
   "cell_type": "code",
   "execution_count": null,
   "metadata": {},
   "outputs": [],
   "source": [
    "# Add this after your imports to configure Jupyter to \n",
    "# display your plots.\n",
    "%matplotlib inline"
   ]
  },
  {
   "cell_type": "markdown",
   "metadata": {},
   "source": [
    "### MATLAB-Style vs. Object Oriented Interface\n",
    "One of the reason that Matplotlib can be confusing to beginners (or anyone who isn't constantly using it) is that it presents to different interfaces. Your textbook opts for relying on the MATLAB style interface, but we will not do so.\n",
    "\n",
    "We will stick with the object-oriented approach, which is more consistent with the language as a whole and gives you more control over your plots."
   ]
  },
  {
   "cell_type": "markdown",
   "metadata": {},
   "source": [
    "### The Anatomy of a Plot\n",
    "Before we go any farther, let's define some terms Matplotlib terms:\n",
    "* Every plot/chart is made of one **`figure`** object and 1 or more **`axes`** objects\n",
    "* The **`figure`** object is more or less just a container\n",
    "* Each **`axes`** object is a graphical representation of data that exists inside the figure.\n",
    "    * Most often, a *`figure`* will contain only one *`axes`* but that is not always the case as we will learn in later."
   ]
  },
  {
   "cell_type": "markdown",
   "metadata": {},
   "source": [
    "## Simple Line Plots"
   ]
  },
  {
   "cell_type": "code",
   "execution_count": null,
   "metadata": {},
   "outputs": [],
   "source": [
    "# Load and set the index column to be the player's jersey number.\n",
    "nd_football_roster = pd.read_csv('./data/nd-football-2018-roster.csv', index_col='Number')\n",
    "nd_football_roster.head()"
   ]
  },
  {
   "cell_type": "markdown",
   "metadata": {},
   "source": [
    "In order to create a plot, we have to have the two essential components mentioned above - a **`figure`** object and a **`axes`** object."
   ]
  },
  {
   "cell_type": "code",
   "execution_count": null,
   "metadata": {},
   "outputs": [],
   "source": [
    "# You can get them like this\n",
    "figure = plt.figure()\n",
    "axes = plt.axes()"
   ]
  },
  {
   "cell_type": "code",
   "execution_count": null,
   "metadata": {},
   "outputs": [],
   "source": [
    "# Or you can use the `plt.subplots()` method \n",
    "# as a shortcut. You'll come back to using this\n",
    "# later when you have multiple axes in a\n",
    "# single figure.\n",
    "\n",
    "# This is the style I'll generally use.\n",
    "figure, axes = plt.subplots()"
   ]
  },
  {
   "cell_type": "markdown",
   "metadata": {},
   "source": [
    "**Congratulations!** You've made your first plots. Aren't they beautiful?\n",
    "\n",
    "Well, maybe that is a bit of a stretch. After all, the don't actually have anything on them.\n",
    "Let's fix that."
   ]
  },
  {
   "cell_type": "markdown",
   "metadata": {},
   "source": [
    "### Plotting Your First Data\n",
    "Let's plot the heights of the players."
   ]
  },
  {
   "cell_type": "code",
   "execution_count": null,
   "metadata": {},
   "outputs": [],
   "source": [
    "# Get the objects\n",
    "figure, axes = plt.subplots()\n",
    "\n",
    "# Use the `plot()` method to \"write\" data on your axes.\n",
    "# The first argument is used as the x-axis\n",
    "# The second is used for the y-axis\n",
    "axes.plot(nd_football_roster.index, nd_football_roster['Height'])"
   ]
  },
  {
   "cell_type": "code",
   "execution_count": null,
   "metadata": {},
   "outputs": [],
   "source": [
    "# in some cases, for a quick visualization, you can pass in a series by itself\n",
    "figure, axes = plt.subplots()\n",
    "axes.plot(nd_football_roster['Height'])"
   ]
  },
  {
   "cell_type": "markdown",
   "metadata": {},
   "source": [
    "You can display multiple datasets on a single **`axes`** object. Let's divide the *`nd_football_roster['Height']`* series into two parts and display them as separate lines."
   ]
  },
  {
   "cell_type": "code",
   "execution_count": null,
   "metadata": {},
   "outputs": [],
   "source": [
    "figure, axes = plt.subplots()\n",
    "\n",
    "# The dataset has 116 players, so we display 58 of them\n",
    "# on each call to the `plot()` method.\n",
    "axes.plot(nd_football_roster.index[:58], nd_football_roster['Height'][:58])\n",
    "axes.plot(nd_football_roster.index[58:], nd_football_roster['Height'][58:])"
   ]
  },
  {
   "cell_type": "markdown",
   "metadata": {},
   "source": [
    "## Activity\n",
    "\n",
    "In this activity we will use the flight_sample.csv dataset. We will learn both the group by and plotting the data. \n",
    "\n",
    "### GroupBy and Plotting\n",
    "\n",
    "We want to see if the day of the week has any effect on average distance traveled by airline customers\n",
    "\n",
    "1. Compute the average DISTANCE per 'DAY_OF_WEEK'\n",
    "2. Visualize the average distance travelled and the day of the week\n",
    "3. What do you interpret from the visualization? \n",
    "    "
   ]
  },
  {
   "cell_type": "code",
   "execution_count": null,
   "metadata": {},
   "outputs": [],
   "source": [
    "flights= pd.read_csv(\"./data/flight_sample.csv\")\n",
    "flights.head()"
   ]
  },
  {
   "cell_type": "code",
   "execution_count": null,
   "metadata": {},
   "outputs": [],
   "source": [
    "# group by day of week and get the average distance for each\n"
   ]
  },
  {
   "cell_type": "code",
   "execution_count": null,
   "metadata": {},
   "outputs": [],
   "source": [
    "# create the figure and axes and plot the means\n"
   ]
  },
  {
   "cell_type": "markdown",
   "metadata": {},
   "source": [
    "### Adjusting Line Properties\n",
    "There are a number of line properties that you can adjust via keyword parameters to the *`plot()`*. \n",
    "\n",
    "Let's explore a few of them here: **`alpha`, `color`, `linestyle`, `linewidth`, `marker` and `markersize`.**"
   ]
  },
  {
   "cell_type": "code",
   "execution_count": null,
   "metadata": {},
   "outputs": [],
   "source": [
    "figure, axes = plt.subplots()\n",
    "\n",
    "# The alpha parameter determines how transparent a line will be.\n",
    "axes.plot(np.arange(0,58), nd_football_roster['Height'][:58], alpha=.25)\n",
    "axes.plot(np.arange(0,58), nd_football_roster['Height'][58:], alpha=.75)"
   ]
  },
  {
   "cell_type": "markdown",
   "metadata": {},
   "source": [
    "Matplotlib allows you to specify color choices in a very wide variety of ways. In the following example, I'll divide up our players into groups of ten to show some of the various ways to specify line color."
   ]
  },
  {
   "cell_type": "code",
   "execution_count": null,
   "metadata": {},
   "outputs": [],
   "source": [
    "figure, axes = plt.subplots()\n",
    "\n",
    "# SURPRISE... the color parameter controls the color of your line.\n",
    "\n",
    "# You can specify any HTML color. \n",
    "# https://www.w3schools.com/colors/colors_names.asp\n",
    "axes.plot(np.arange(0,10), nd_football_roster['Height'][:10], \n",
    "          color='CadetBlue')\n",
    "axes.plot(np.arange(0,10), nd_football_roster['Height'][10:20],\n",
    "          color='OliveDrab')"
   ]
  },
  {
   "cell_type": "code",
   "execution_count": null,
   "metadata": {},
   "outputs": [],
   "source": [
    "figure, axes = plt.subplots()\n",
    "\n",
    "# Floats between 0 and 1 specify grayscale values\n",
    "# But notice they have to be passed as strings\n",
    "axes.plot(np.arange(0,10), nd_football_roster['Height'][20:30], \n",
    "          color='.1')\n",
    "axes.plot(np.arange(0,10), nd_football_roster['Height'][30:40], \n",
    "          color='.8')"
   ]
  },
  {
   "cell_type": "code",
   "execution_count": null,
   "metadata": {},
   "outputs": [],
   "source": [
    "figure, axes = plt.subplots()\n",
    "\n",
    "# Hex Codes are acceptable (#RRGGBB)\n",
    "# Google for: hex color picker\n",
    "\n",
    "# https://onmessage.nd.edu/university-branding/colors/\n",
    "\n",
    "axes.plot(np.arange(0,10), nd_football_roster['Height'][40:50], \n",
    "          color='#0c2340')\n",
    "axes.plot(np.arange(0,10), nd_football_roster['Height'][50:60], \n",
    "          color='#d39f10')\n"
   ]
  },
  {
   "cell_type": "code",
   "execution_count": null,
   "metadata": {},
   "outputs": [],
   "source": [
    "figure, axes = plt.subplots()\n",
    "\n",
    "# You can even specify RGB tuples\n",
    "# Each component of the tuple is a float between 0 and 1\n",
    "axes.plot(np.arange(0,10), nd_football_roster['Height'][60:70], \n",
    "          color=(1.0, 0, 0)) # Total Red\n",
    "axes.plot(np.arange(0,10), nd_football_roster['Height'][70:80], \n",
    "          color=(1.0, 0, 1.0)) # Pure Purple\n",
    "axes.plot(np.arange(0,10), nd_football_roster['Height'][80:90], \n",
    "          color=(0.0, 1.0, 0.0)) # Gorgeous Green"
   ]
  },
  {
   "cell_type": "markdown",
   "metadata": {},
   "source": [
    "#### Line Style\n",
    "The *`linestyle`* parameter can take any of the options in the following table. You can specify either the or the symbol of the option:\n",
    "\n",
    "| Name | Symbol|\n",
    "|--------|-------|\n",
    "| solid  | -     |\n",
    "| dashed | --    |\n",
    "| dashdot  | -.     |\n",
    "| dotted  | :     |\n",
    "|--------|-------|"
   ]
  },
  {
   "cell_type": "code",
   "execution_count": null,
   "metadata": {},
   "outputs": [],
   "source": [
    "figure, axes = plt.subplots()\n",
    "\n",
    "# Specifying with name\n",
    "axes.plot(np.arange(0,10), nd_football_roster['Height'][:10], \n",
    "          color='CadetBlue', linestyle='dashed')\n",
    "axes.plot(np.arange(0,10), nd_football_roster['Height'][10:20], \n",
    "          linestyle='dotted')\n",
    "\n",
    "# Specifying with symbol\n",
    "axes.plot(np.arange(0,10), nd_football_roster['Height'][20:30], \n",
    "          linestyle='-.')\n",
    "axes.plot(np.arange(0,10), nd_football_roster['Height'][30:40], \n",
    "          linestyle='-', alpha=.6)"
   ]
  },
  {
   "cell_type": "markdown",
   "metadata": {},
   "source": [
    "#### Line Width"
   ]
  },
  {
   "cell_type": "code",
   "execution_count": null,
   "metadata": {},
   "outputs": [],
   "source": [
    "# Control Line Width with the `linewidth` parameter\n",
    "figure, axes = plt.subplots()\n",
    "\n",
    "axes.plot(np.arange(0,10), nd_football_roster['Height'][:10], \n",
    "          color='CadetBlue', linestyle='dashed', linewidth=4.5)\n",
    "\n",
    "axes.plot(np.arange(0,10), nd_football_roster['Height'][10:20], \n",
    "          linestyle='dotted', linewidth=8)\n",
    "\n",
    "axes.plot(np.arange(0,10), nd_football_roster['Height'][20:30], \n",
    "          linestyle='-.', linewidth=2.8)"
   ]
  },
  {
   "cell_type": "markdown",
   "metadata": {},
   "source": [
    "#### Markers\n",
    "If you so desire, you can add a \"mark\" at each data point in your plots through a combination of the *`marker`* and *`markersize`* parameters. \n",
    "\n",
    "All of the available marker styles are <a href='https://matplotlib.org/api/markers_api.html#module-matplotlib.markers' target='_blank'>detailed in Matplotlib's online documentation.</a>\n",
    "\n",
    "Here are some examples of how to use these two parameters."
   ]
  },
  {
   "cell_type": "code",
   "execution_count": null,
   "metadata": {},
   "outputs": [],
   "source": [
    "figure, axes = plt.subplots()\n",
    "\n",
    "# Use diamond markers\n",
    "axes.plot(np.arange(0,10), nd_football_roster['Height'][:10], \n",
    "          marker='D', markersize=5, color=\"Red\")\n",
    "\n",
    "# You can combine linestyle and markers\n",
    "# Here we will use a star marker\n",
    "axes.plot(np.arange(0,10), nd_football_roster['Height'][10:20], \n",
    "          linestyle='dotted', marker='*', markersize=20, color=\"#ffffff\")\n",
    "\n",
    "# Circle Markers\n",
    "axes.plot(np.arange(0,10), nd_football_roster['Height'][20:30],\n",
    "          marker='o', markersize=5, color=\"Blue\")"
   ]
  },
  {
   "cell_type": "markdown",
   "metadata": {},
   "source": [
    "### Adjusting Axes Limits\n",
    "If we go back to our original plot, we can see that Matplotlib automatically sets the limits of the x-axis and y-axis values based on the data that we give it."
   ]
  },
  {
   "cell_type": "code",
   "execution_count": null,
   "metadata": {},
   "outputs": [],
   "source": [
    "figure, axes = plt.subplots()\n",
    "axes.plot(np.arange(0, 116), nd_football_roster['Height'])"
   ]
  },
  {
   "cell_type": "markdown",
   "metadata": {},
   "source": [
    "You do not have to accept these default values however. Using the *`set_xlim`* and *`set_ylim`* methods of the **`axes`** object, we can visually focus on a subset of the data."
   ]
  },
  {
   "cell_type": "code",
   "execution_count": null,
   "metadata": {},
   "outputs": [],
   "source": [
    "figure, axes = plt.subplots()\n",
    "\n",
    "# Let's display the sorted the weights of the players on the team.\n",
    "axes.plot(np.arange(0, 116), \n",
    "          nd_football_roster['Weight'].sort_values())"
   ]
  },
  {
   "cell_type": "code",
   "execution_count": null,
   "metadata": {},
   "outputs": [],
   "source": [
    "figure, axes = plt.subplots()\n",
    "\n",
    "# And then use the `set_ylim` method to focus in on the players \n",
    "# who weigh between 220 and 300 lbs and whose x-axis values\n",
    "# are between 70 and 90\n",
    "axes.plot(np.arange(0, 116), \n",
    "          nd_football_roster['Weight'].sort_values(), \n",
    "          marker='o')\n",
    "\n",
    "axes.set_ylim(220, 300)\n",
    "axes.set_xlim(70, 90)"
   ]
  },
  {
   "cell_type": "markdown",
   "metadata": {},
   "source": [
    "<div class=\"alert alert-block alert-warning\">\n",
    "<h5>Misleading Graph: Setting limits to x-axis and y-axis</h5>\n",
    "<p> </p> \n",
    "<p>\n",
    "It is very easy to mislead with data visualizations by setting (or not setting) the limits to the axes. Look at the following example. I recommend to use the scale that makes sense in the current context \n",
    "</p>\n",
    "</div> "
   ]
  },
  {
   "cell_type": "code",
   "execution_count": null,
   "metadata": {},
   "outputs": [],
   "source": [
    "months = np.arange(1,10)\n",
    "profits = 2*months\n",
    "\n",
    "figure, axes = plt.subplots()\n",
    "axes.plot(months, profits)\n",
    "axes.set_ylim(0, 100)"
   ]
  },
  {
   "cell_type": "code",
   "execution_count": null,
   "metadata": {},
   "outputs": [],
   "source": [
    "months = np.arange(1,10)\n",
    "profits = 2*months\n",
    "\n",
    "figure, axes = plt.subplots()\n",
    "axes.plot(months, profits)"
   ]
  },
  {
   "cell_type": "markdown",
   "metadata": {},
   "source": [
    "### Adding Plot Metadata (Labels)\n",
    "Now that we've covered the basics of plotting lines, let's turn our attention to adding plot metadata."
   ]
  },
  {
   "cell_type": "markdown",
   "metadata": {},
   "source": [
    "#### Plot Titles"
   ]
  },
  {
   "cell_type": "code",
   "execution_count": null,
   "metadata": {},
   "outputs": [],
   "source": [
    "# Add plot title with axes.set_title() method.\n",
    "figure, axes = plt.subplots()\n",
    "axes.plot(nd_football_roster.index, nd_football_roster['Height'])\n",
    "axes.set_title(label='2018 ND Football Player Heights')"
   ]
  },
  {
   "cell_type": "code",
   "execution_count": null,
   "metadata": {},
   "outputs": [],
   "source": [
    "# You can adjust the horizontal alignment \n",
    "# of the title with the `loc` parameter.\n",
    "# The value must be one of the following: left, center, right\n",
    "figure, axes = plt.subplots()\n",
    "axes.plot(nd_football_roster.index, nd_football_roster['Height'])\n",
    "\n",
    "# Notice that if you specify location, \n",
    "# you can have multiple titles.\n",
    "axes.set_title(label='2018 ND Football', loc='left')\n",
    "axes.set_title(label='Player Heights', loc='right')"
   ]
  },
  {
   "cell_type": "code",
   "execution_count": null,
   "metadata": {},
   "outputs": [],
   "source": [
    "figure, axes = plt.subplots()\n",
    "axes.plot(nd_football_roster.index, nd_football_roster['Height'])\n",
    "\n",
    "# Here we will adjust the color and alpha properties\n",
    "axes.set_title(label='2018 ND Football', loc='left', color='#d39f10')\n",
    "axes.set_title(label='Player Heights', loc='right', \n",
    "               color='#0c2340', alpha=.4)"
   ]
  },
  {
   "cell_type": "markdown",
   "metadata": {},
   "source": [
    "#### Axis Labels\n",
    "Are plot is starting to look pretty cool, but we don't really know what the units of measurement are. We can fix that with the *`set_ylabal()`* and *`set_xlabel`* methods."
   ]
  },
  {
   "cell_type": "code",
   "execution_count": null,
   "metadata": {},
   "outputs": [],
   "source": [
    "figure, axes = plt.subplots()\n",
    "axes.plot(nd_football_roster.index, nd_football_roster['Height'])\n",
    "\n",
    "axes.set_title(label='2018 ND Football', loc='left')\n",
    "axes.set_title(label='Player Heights', loc='right')\n",
    "\n",
    "axes.set_ylabel('Height(in)')\n",
    "axes.set_xlabel('Jersey #')"
   ]
  },
  {
   "cell_type": "markdown",
   "metadata": {},
   "source": [
    "With that additional information, our plot can be understood by other users. You can also control the color and opacity of these labels just as you can with the plot titles:"
   ]
  },
  {
   "cell_type": "code",
   "execution_count": null,
   "metadata": {},
   "outputs": [],
   "source": [
    "figure, axes = plt.subplots()\n",
    "axes.plot(nd_football_roster.index, nd_football_roster['Height'])\n",
    "\n",
    "axes.set_title(label='2018 ND Football', loc='left')\n",
    "axes.set_title(label='Player Heights', loc='right')\n",
    "\n",
    "axes.set_ylabel('Height(in)', color='red')\n",
    "axes.set_xlabel('Jersey #', alpha=.7)"
   ]
  },
  {
   "cell_type": "markdown",
   "metadata": {},
   "source": [
    "#### Plot Legends\n",
    "In order to complete our plot, we need one more thing: a legend.\n",
    "Like most things in Matplotlib, adding a basic one is simple - but with many customization options."
   ]
  },
  {
   "cell_type": "code",
   "execution_count": null,
   "metadata": {},
   "outputs": [],
   "source": [
    "figure, axes = plt.subplots()\n",
    "\n",
    "# We set the labels for each line.\n",
    "axes.plot(np.arange(0,58), nd_football_roster['Height'][:58], \n",
    "          linestyle='--', \n",
    "          label='Squad A', color=\"red\")\n",
    "axes.plot(np.arange(0,58), nd_football_roster['Height'][58:], \n",
    "          label='Squad B')\n",
    "\n",
    "axes.set_title(label='2018 ND Football', loc='left')\n",
    "axes.set_title(label='Player Heights', loc='right')\n",
    "\n",
    "axes.set_ylabel('Height(in)')\n",
    "axes.set_xlabel('Jersey #')\n",
    "\n",
    "# Initialize the plot legend \n",
    "axes.legend()"
   ]
  },
  {
   "cell_type": "markdown",
   "metadata": {},
   "source": [
    "Let's take note of a few things that Matplotlib does for the default legend:\n",
    "1. It generates a legend item from each plotted line using the `label` attribute.\n",
    "2. It matches the style of the line with the style in the legend.\n",
    "3. It derives the name of each legend from the data being plotted (if\n",
    "possible)."
   ]
  },
  {
   "cell_type": "markdown",
   "metadata": {},
   "source": [
    "There are a number of other arguments/parameters that you can specify to further customize plot legends. Let's go over a few of them:"
   ]
  },
  {
   "cell_type": "code",
   "execution_count": null,
   "metadata": {},
   "outputs": [],
   "source": [
    "figure, axes = plt.subplots()\n",
    "\n",
    "# We set the labels for each line.\n",
    "axes.plot(np.arange(0,58), nd_football_roster['Height'][:58], \n",
    "          linestyle='--', label='Squad A')\n",
    "axes.plot(np.arange(0,58), nd_football_roster['Height'][58:], \n",
    "          label='Squad B')\n",
    "\n",
    "axes.set_title(label='2018 ND Football', loc='left')\n",
    "axes.set_title(label='Player Heights', loc='right')\n",
    "\n",
    "axes.set_ylabel('Height(in)')\n",
    "axes.set_xlabel('Jersey #')\n",
    "\n",
    "# Use the `loc` argument to control where the\n",
    "# legend appears in your plot. Valid options:\n",
    "# upper left, upper center, upper right\n",
    "# center left, center, center right\n",
    "# lower left, lower center, lower right\n",
    "axes.legend(loc='lower right')"
   ]
  },
  {
   "cell_type": "markdown",
   "metadata": {},
   "source": [
    "You can set a title for the legend itself:"
   ]
  },
  {
   "cell_type": "code",
   "execution_count": null,
   "metadata": {},
   "outputs": [],
   "source": [
    "figure, axes = plt.subplots()\n",
    "axes.plot(np.arange(0,58), nd_football_roster['Height'][:58], \n",
    "          linestyle='--', label='Squad A')\n",
    "axes.plot(np.arange(0,58), nd_football_roster['Height'][58:], \n",
    "          label='Squad B')\n",
    "\n",
    "axes.set_title(label='2018 ND Football', loc='left')\n",
    "axes.set_title(label='Player Heights', loc='right')\n",
    "\n",
    "axes.set_ylabel('Height(in)')\n",
    "axes.set_xlabel('Jersey #')\n",
    "\n",
    "axes.legend(title='I Am a Legend')"
   ]
  },
  {
   "cell_type": "markdown",
   "metadata": {},
   "source": [
    "You can add edges and background colors to a legend:"
   ]
  },
  {
   "cell_type": "code",
   "execution_count": null,
   "metadata": {},
   "outputs": [],
   "source": [
    "figure, axes = plt.subplots()\n",
    "axes.plot(np.arange(0,58), nd_football_roster['Height'][:58], \n",
    "          linestyle='--', label='Squad A')\n",
    "axes.plot(np.arange(0,58), nd_football_roster['Height'][58:], \n",
    "          label='Squad B')\n",
    "\n",
    "axes.set_title(label='2018 ND Football', loc='left')\n",
    "axes.set_title(label='Player Heights', loc='right')\n",
    "\n",
    "axes.set_ylabel('Height(in)')\n",
    "axes.set_xlabel('Jersey #')\n",
    "\n",
    "# You can specify background and edge colors for the \n",
    "# legend if you also specify `frameon=True`\n",
    "axes.legend(title='Legend', frameon=True, \n",
    "            edgecolor='black', facecolor='#ececec')"
   ]
  },
  {
   "cell_type": "markdown",
   "metadata": {},
   "source": [
    "You can adjust the number of columns in a legend. This is handy if you want the legend to take up less vertical space."
   ]
  },
  {
   "cell_type": "code",
   "execution_count": null,
   "metadata": {},
   "outputs": [],
   "source": [
    "figure, axes = plt.subplots()\n",
    "axes.plot(np.arange(0,58), nd_football_roster['Height'][:58], \n",
    "          linestyle='--', label='Squad A')\n",
    "axes.plot(np.arange(0,58), nd_football_roster['Height'][58:], \n",
    "          label='Squad B')\n",
    "\n",
    "axes.set_title(label='2018 ND Football', loc='left')\n",
    "axes.set_title(label='Player Heights', loc='right')\n",
    "\n",
    "axes.set_ylabel('Height(in)')\n",
    "axes.set_xlabel('Jersey #')\n",
    "\n",
    "# Use the `ncol` argument to specify the\n",
    "# number of columns.\n",
    "axes.legend(ncol=2, loc='lower right')"
   ]
  },
  {
   "cell_type": "markdown",
   "metadata": {},
   "source": [
    "And finally, you can adjust the size of the font used in the legend:"
   ]
  },
  {
   "cell_type": "code",
   "execution_count": null,
   "metadata": {},
   "outputs": [],
   "source": [
    "figure, axes = plt.subplots()\n",
    "axes.plot(np.arange(0,58), nd_football_roster['Height'][:58], \n",
    "          linestyle='--', label='Squad A')\n",
    "axes.plot(np.arange(0,58), nd_football_roster['Height'][58:], \n",
    "          label='Squad B')\n",
    "\n",
    "axes.set_title(label='2018 ND Football', loc='left')\n",
    "axes.set_title(label='Player Heights', loc='right')\n",
    "\n",
    "axes.set_ylabel('Height(in)')\n",
    "axes.set_xlabel('Jersey #')\n",
    "\n",
    "# Use `fontsize` to adjust the legend font size.\n",
    "axes.legend(ncol=2, loc='lower right', fontsize=14)"
   ]
  },
  {
   "cell_type": "markdown",
   "metadata": {},
   "source": [
    "<div class=\"alert alert-block alert-warning\">\n",
    "## Important things to keep in mind while plotting simple line plots\n",
    "</div>\n",
    "1. Make sure your data appears appropriately with xlim and ylim\n",
    "2. Line properties\n",
    "    * color\n",
    "    * linestyle\n",
    "    * linewidth\n",
    "    * marker\n",
    "3. Plot Metadata\n",
    "    * set_title\n",
    "    * set_xlabel, set_ylabel\n",
    "    * legend"
   ]
  },
  {
   "cell_type": "markdown",
   "metadata": {},
   "source": [
    "# Activity\n",
    "\n",
    "In this activity we will again use the flight_sample.csv dataset. We will learn both the group by and plotting the data. \n",
    "\n",
    "### GroupBy 'MONTH' and Plotting\n",
    "\n",
    "We want to see if the month of travel has any effect on average distance traveled by airline customers\n",
    "\n",
    "1. Compute the average DISTANCE per 'MONTH'\n",
    "2. Visualize the average distance travelled and the month\n",
    "    * Plot with x-axis as the month and y-axis as the average distance traveled\n",
    "    * Make sure you set the title, xlabel, ylabel. "
   ]
  },
  {
   "cell_type": "code",
   "execution_count": null,
   "metadata": {},
   "outputs": [],
   "source": [
    "flights.head()"
   ]
  },
  {
   "cell_type": "code",
   "execution_count": null,
   "metadata": {},
   "outputs": [],
   "source": [
    "# get average distance by month\n"
   ]
  },
  {
   "cell_type": "code",
   "execution_count": null,
   "metadata": {},
   "outputs": [],
   "source": [
    "# plot with meta data (x and y labels, legend, and title)\n"
   ]
  },
  {
   "cell_type": "markdown",
   "metadata": {},
   "source": [
    "\n",
    "### GroupBy 'MONTH' and Plotting\n",
    "\n",
    "We will do the similar analysis as above, but separately for two airlines, United Airlines (UA) and Hawaiin Airlines (HA)\n",
    "\n",
    "1. Compute the median DISTANCE per 'MONTH' for United Airlines and Hawaiin Airlines separately \n",
    "2. Visualize the median distance travelled and the month by United Airlines and Hawaiin Airlines \n",
    "    * Plot with x-axis as the month and y-axis as the median distance traveled\n",
    "    * Plot metadata\n",
    "        * Set the title\n",
    "        * xlabel and ylabel\n",
    "        * Give United Airlines a green color and Hawaiin Airlines a red color\n",
    "        * Give appropriate legend indicating the lines for United and Hawaiin Airlines"
   ]
  },
  {
   "cell_type": "code",
   "execution_count": null,
   "metadata": {},
   "outputs": [],
   "source": [
    "# get the median distance by airline and month\n"
   ]
  },
  {
   "cell_type": "code",
   "execution_count": null,
   "metadata": {},
   "outputs": [],
   "source": [
    "# get the data for two specific airlines\n"
   ]
  },
  {
   "cell_type": "code",
   "execution_count": null,
   "metadata": {},
   "outputs": [],
   "source": [
    "# Plot HA and WN Distance, Set titles, x & y labels, and legend\n"
   ]
  }
 ],
 "metadata": {
  "kernelspec": {
   "display_name": "Python 3",
   "language": "python",
   "name": "python3"
  },
  "language_info": {
   "codemirror_mode": {
    "name": "ipython",
    "version": 3
   },
   "file_extension": ".py",
   "mimetype": "text/x-python",
   "name": "python",
   "nbconvert_exporter": "python",
   "pygments_lexer": "ipython3",
   "version": "3.7.4"
  }
 },
 "nbformat": 4,
 "nbformat_minor": 2
}
