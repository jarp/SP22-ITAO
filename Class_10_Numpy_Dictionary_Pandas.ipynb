{
 "cells": [
  {
   "cell_type": "code",
   "execution_count": 2,
   "metadata": {},
   "outputs": [],
   "source": [
    "import numpy as np\n",
    "import pandas as pd"
   ]
  },
  {
   "cell_type": "markdown",
   "metadata": {},
   "source": [
    "## Comparison UFuncs as Array Masks\n",
    "\n",
    "Here is a brief review of what we've covered in the last lecture:\n",
    "\n",
    "1. Seen how the comparison ufuncs (np.equal, np.less, np.greater, etc) generate boolean arrays that indicate whether a given element of an array meets (or doesn't meet) the condition of the function.\n",
    "\n",
    "1. We then showed how you could pass these boolean areas to `np.sum`, `np.all`, and `np.any` to derive additional information on your data set.\n",
    "\n",
    "1. Finally, we demonstrated how you could logically compare two boolean arrays with the **bitwise** operators to perform multistep data comparisons.\n",
    "\n",
    "For the last segment of this tutorial, we are going to demonstrate using comparison functions to return the original items of the array that is being evaluated instead of a boolean array."
   ]
  },
  {
   "cell_type": "markdown",
   "metadata": {},
   "source": [
    "#### Array Masking\n",
    "In the last lecture, we showed how you could select data from an array using index or slice notation. Here we will introduce another data selection technique called **masking**.\n",
    "\n",
    "Basically, it looks a lot like slice notation. In case you've forgotten what that looks like, here is a reminder."
   ]
  },
  {
   "cell_type": "code",
   "execution_count": 3,
   "metadata": {},
   "outputs": [
    {
     "data": {
      "text/plain": [
       "array([5, 3, 4, 9, 8, 2, 1, 7, 6, 0])"
      ]
     },
     "execution_count": 3,
     "metadata": {},
     "output_type": "execute_result"
    }
   ],
   "source": [
    "simple_int_array = np.array([5, 3, 4, 9, 8, 2, 1, 7, 6, 0])\n",
    "simple_int_array"
   ]
  },
  {
   "cell_type": "code",
   "execution_count": 4,
   "metadata": {},
   "outputs": [
    {
     "data": {
      "text/plain": [
       "array([2, 1, 7])"
      ]
     },
     "execution_count": 4,
     "metadata": {},
     "output_type": "execute_result"
    }
   ],
   "source": [
    "# Slice elements indexed 5, 6, 7 of our simple_int_array\n",
    "simple_int_array[5:8]"
   ]
  },
  {
   "cell_type": "markdown",
   "metadata": {},
   "source": [
    "The difference with a mask is that instead of putting `[start:stop:step]` inside the brackets, you actually invoke a comparison function."
   ]
  },
  {
   "cell_type": "code",
   "execution_count": 5,
   "metadata": {},
   "outputs": [
    {
     "data": {
      "text/plain": [
       "array([ True,  True,  True, False, False,  True,  True, False,  True,\n",
       "        True])"
      ]
     },
     "execution_count": 5,
     "metadata": {},
     "output_type": "execute_result"
    }
   ],
   "source": [
    "simple_int_array < 7"
   ]
  },
  {
   "cell_type": "code",
   "execution_count": 6,
   "metadata": {},
   "outputs": [
    {
     "name": "stdout",
     "output_type": "stream",
     "text": [
      "[5 3 4 9 8 2 1 7 6 0]\n",
      "[ True  True  True False False  True  True False  True  True]\n"
     ]
    },
    {
     "data": {
      "text/plain": [
       "array([5, 3, 4, 2, 1, 6, 0])"
      ]
     },
     "execution_count": 6,
     "metadata": {},
     "output_type": "execute_result"
    }
   ],
   "source": [
    "# Let's return all the values of simple_int_array that are less than 7\n",
    "# We will create a mask using comparison ufuncts and pass that back into the array\n",
    "\n",
    "print(simple_int_array)\n",
    "mask = simple_int_array < 7\n",
    "print(mask)\n",
    "\n",
    "# pass the array of True/False values into the source array\n",
    "# Think of the True/False to be the answer to \"Do you want to include this element?\"\n",
    "simple_int_array[mask]"
   ]
  },
  {
   "cell_type": "code",
   "execution_count": 7,
   "metadata": {},
   "outputs": [
    {
     "data": {
      "text/plain": [
       "array([5, 3, 4, 2, 1, 6, 0])"
      ]
     },
     "execution_count": 7,
     "metadata": {},
     "output_type": "execute_result"
    }
   ],
   "source": [
    "# more common, is to accomplish this task inline\n",
    "subset_array = simple_int_array[simple_int_array < 7]\n",
    "subset_array"
   ]
  },
  {
   "cell_type": "markdown",
   "metadata": {},
   "source": [
    "**This way of masking is very important and used a lot.** The above statement works the following way\n",
    "1. The comparison UFunc inside the brackets is evaluated first. \n",
    "1. It returns a boolean array where the first 7 elements have `True` value, and the rest have `False`.\n",
    "1. For each index of the boolean array with a `True` value, the corresponding index of the original array is returned."
   ]
  },
  {
   "cell_type": "code",
   "execution_count": 8,
   "metadata": {},
   "outputs": [],
   "source": [
    "# At this point you don't have to know the details of following data loading. \n",
    "# However, understand that it is loading the weights of all the athletes\n",
    "nd_player_weights = np.array(pd.read_csv('./data/nd-football-2018-roster.csv')['Weight'])\n",
    "nd_player_names = np.array(pd.read_csv('./data/nd-football-2018-roster.csv')['Name'])\n",
    "nd_player_heights = np.array(pd.read_csv('./data/nd-football-2018-roster.csv')['Height'])"
   ]
  },
  {
   "cell_type": "markdown",
   "metadata": {},
   "source": [
    "## Activity:\n",
    "\n",
    "* Names of all players above 75 inches? \n",
    "* Names of all players above 220 lbs and below 250 lbs? \n",
    "\n",
    "**Hint**: You can use use boolean array created from one array as mask to another array"
   ]
  },
  {
   "cell_type": "code",
   "execution_count": 9,
   "metadata": {},
   "outputs": [
    {
     "data": {
      "text/plain": [
       "array(['Daelin Hayes', 'Phil Jurkovec', 'Jack Lamb', 'Cole Capen*',\n",
       "       'Julian Okwara', 'Jack Henige*', 'Khalid Kareem',\n",
       "       'Jonathan Bonner', 'Jarrett Patterson', 'John Dirksen',\n",
       "       'Cole Mabry', 'Aaron Banks', 'Luke Jones', 'Alex Bars',\n",
       "       'Robert Hainsey', 'Liam Eichenberg', 'Josh Lugg', 'Dillan Gibbons',\n",
       "       'Tommy Kraemer', 'Micah Jones', 'Miles Boykin', 'Nic Weishar',\n",
       "       'Chase Claypool', 'Cole Kmet', 'George Takacs', 'Alizé Mack',\n",
       "       'Brock Wright', 'Adetokunbo Ogundeji', 'Micah Dew-Treadway',\n",
       "       'Jerry Tillery'], dtype=object)"
      ]
     },
     "execution_count": 9,
     "metadata": {},
     "output_type": "execute_result"
    }
   ],
   "source": [
    "mask = nd_player_heights > 75\n",
    "nd_player_names[mask]\n",
    "\n",
    "# or \n",
    "\n",
    "nd_player_names[nd_player_heights > 75]\n",
    "\n"
   ]
  },
  {
   "cell_type": "code",
   "execution_count": 10,
   "metadata": {},
   "outputs": [
    {
     "data": {
      "text/plain": [
       "array(['Dexter Williams', 'Jordan Genmark Heath', 'Avery Davis',\n",
       "       'Houston Griffith', \"Te'von Coney\", 'Tony Jones Jr.',\n",
       "       'Brandon Wimbush', 'Derrik Allen', 'Jafar Armstrong',\n",
       "       'Donte Vaughn', 'Alohi Gilman', 'Ian Book', 'Paul Moala',\n",
       "       'Phil Jurkovec', 'D.J. Morgan', 'Isaiah Robertson', 'Nolan Henry*',\n",
       "       'Justin Ademilola', 'Jalen Elliott', 'Asmar Bilal',\n",
       "       'Drue Tranquill', 'Tommy Tremble', 'John Mahoney*', 'Leo Albano*',\n",
       "       'Temitope Agoro*', 'Ovie Oghoufo', 'Jeremiah Owusu-Koramoah',\n",
       "       'Jack Lamb', 'Cole Capen*', 'Mick Assaf*', 'Shayne Simon',\n",
       "       'Keenan Sweeney', 'Jahmir Smith', 'Robert Regan*',\n",
       "       'Christopher Schilling*', 'Drew White', 'Julian Okwara',\n",
       "       'Jamir Jones', 'Jonathan Jones', 'Matt Bushland*',\n",
       "       'Jimmy Thompson*', 'Kofi Wardlow', 'Jack Henige*',\n",
       "       'Brandon Hutson*', 'Devyn Spruell*', 'Bo Bauer', 'John Shannon',\n",
       "       'Cody Benjamin*', 'Michael Vinson*', 'Micah Jones', 'Miles Boykin',\n",
       "       'Nic Weishar', 'Chase Claypool', 'Alizé Mack', 'Javon McKinley'],\n",
       "      dtype=object)"
      ]
     },
     "execution_count": 10,
     "metadata": {},
     "output_type": "execute_result"
    }
   ],
   "source": [
    "# Names of all players above 220 lbs and below 250 lbs? \n",
    "\n",
    "nd_player_names[ (nd_player_weights > 200) & (nd_player_weights < 250) ]"
   ]
  },
  {
   "cell_type": "markdown",
   "metadata": {},
   "source": [
    "## np.unique\n",
    "\n",
    "Returns the sorted unique elements of an array. [More info](https://docs.scipy.org/doc/numpy/reference/generated/numpy.unique.html)"
   ]
  },
  {
   "cell_type": "code",
   "execution_count": 11,
   "metadata": {},
   "outputs": [
    {
     "name": "stdout",
     "output_type": "stream",
     "text": [
      "[ 1  2  3 23]\n"
     ]
    }
   ],
   "source": [
    "sample_array = np.array([1,2,2,1,2,3,2,23,2,1,3,2])\n",
    "print(np.unique(sample_array))"
   ]
  },
  {
   "cell_type": "markdown",
   "metadata": {},
   "source": [
    "# NumPy: Broadcasting\n",
    "\n",
    "We look at how with UFuncs you can do arithmetic on a numpy array. We also looked at how you can do arithmetic on 2 numpy arrays. When it didn't work the error message mention `broadcasting`.\n",
    "\n",
    "Broadcasting is how arrays talk to each other. We will again visit this idea later, but here is one explaination:"
   ]
  },
  {
   "cell_type": "markdown",
   "metadata": {},
   "source": [
    "## Case 1"
   ]
  },
  {
   "cell_type": "code",
   "execution_count": 12,
   "metadata": {},
   "outputs": [
    {
     "name": "stdout",
     "output_type": "stream",
     "text": [
      "[0 1 2]\n",
      "5\n",
      "(3,)\n",
      "[5 6 7]\n"
     ]
    }
   ],
   "source": [
    "x = np.arange(3)\n",
    "y = 5\n",
    "print(x)\n",
    "print(y)\n",
    "print(x.shape)\n",
    "print(x+y)"
   ]
  },
  {
   "cell_type": "markdown",
   "metadata": {},
   "source": [
    "## Case2"
   ]
  },
  {
   "cell_type": "code",
   "execution_count": 17,
   "metadata": {},
   "outputs": [
    {
     "name": "stdout",
     "output_type": "stream",
     "text": [
      "x array\n",
      "[[0 7 9]\n",
      " [5 2 6]\n",
      " [4 6 3]]\n",
      "y array\n",
      "[3 9 6]\n",
      "Their shapes are respectively\n",
      "(3, 3)\n",
      "(3,)\n"
     ]
    }
   ],
   "source": [
    "x = np.random.randint(10, size =((3,3)))\n",
    "y = np.random.randint(10, size = 3)\n",
    "print(\"x array\")\n",
    "print(x)\n",
    "print(\"y array\")\n",
    "print(y)\n",
    "\n",
    "print(\"Their shapes are respectively\")\n",
    "print(x.shape)\n",
    "print(y.shape)"
   ]
  },
  {
   "cell_type": "code",
   "execution_count": 18,
   "metadata": {},
   "outputs": [
    {
     "data": {
      "text/plain": [
       "array([[-3, -2,  3],\n",
       "       [ 2, -7,  0],\n",
       "       [ 1, -3, -3]])"
      ]
     },
     "execution_count": 18,
     "metadata": {},
     "output_type": "execute_result"
    }
   ],
   "source": [
    "x - y"
   ]
  },
  {
   "cell_type": "markdown",
   "metadata": {},
   "source": [
    "## Case 3"
   ]
  },
  {
   "cell_type": "code",
   "execution_count": 19,
   "metadata": {},
   "outputs": [
    {
     "name": "stdout",
     "output_type": "stream",
     "text": [
      "x  array\n",
      "[[1]\n",
      " [1]\n",
      " [0]]\n",
      "y array\n",
      "[8 3 7]\n",
      "Their shapes are respectively\n",
      "(3, 1)\n",
      "(3,)\n"
     ]
    }
   ],
   "source": [
    "x = np.random.randint(10, size=(3,1))\n",
    "y = np.random.randint(10, size = 3)\n",
    "print(\"x  array\")\n",
    "print(x)\n",
    "print(\"y array\")\n",
    "print(y)\n",
    "\n",
    "print(\"Their shapes are respectively\")\n",
    "print(x.shape)\n",
    "print(y.shape)"
   ]
  },
  {
   "cell_type": "code",
   "execution_count": 20,
   "metadata": {},
   "outputs": [
    {
     "data": {
      "text/plain": [
       "array([[-7, -2, -6],\n",
       "       [-7, -2, -6],\n",
       "       [-8, -3, -7]])"
      ]
     },
     "execution_count": 20,
     "metadata": {},
     "output_type": "execute_result"
    }
   ],
   "source": [
    "x - y"
   ]
  },
  {
   "cell_type": "markdown",
   "metadata": {},
   "source": [
    "## Case 4"
   ]
  },
  {
   "cell_type": "code",
   "execution_count": 21,
   "metadata": {},
   "outputs": [
    {
     "name": "stdout",
     "output_type": "stream",
     "text": [
      "x array\n",
      "[[0 5 3]\n",
      " [8 7 6]\n",
      " [2 4 6]]\n",
      "y array\n",
      "[[3]\n",
      " [9]\n",
      " [6]]\n",
      "Their shapes are respectively\n",
      "(3, 3)\n",
      "(3, 1)\n"
     ]
    }
   ],
   "source": [
    "x = np.random.randint(10, size =((3,3)))\n",
    "y = np.random.randint(10, size = (3,1))\n",
    "print(\"x array\")\n",
    "print(x)\n",
    "print(\"y array\")\n",
    "print(y)\n",
    "\n",
    "print(\"Their shapes are respectively\")\n",
    "print(x.shape)\n",
    "print(y.shape)"
   ]
  },
  {
   "cell_type": "code",
   "execution_count": 22,
   "metadata": {},
   "outputs": [
    {
     "data": {
      "text/plain": [
       "array([[ 3,  8,  6],\n",
       "       [17, 16, 15],\n",
       "       [ 8, 10, 12]])"
      ]
     },
     "execution_count": 22,
     "metadata": {},
     "output_type": "execute_result"
    }
   ],
   "source": [
    "x + y"
   ]
  },
  {
   "cell_type": "markdown",
   "metadata": {},
   "source": [
    "# NumPy: Fancy Indexing"
   ]
  },
  {
   "cell_type": "code",
   "execution_count": 23,
   "metadata": {},
   "outputs": [
    {
     "data": {
      "text/plain": [
       "array([10, 20, 30, 40, 50, 60])"
      ]
     },
     "execution_count": 23,
     "metadata": {},
     "output_type": "execute_result"
    }
   ],
   "source": [
    "simple_array = np.array([10,20,30,40,50,60])\n",
    "simple_array"
   ]
  },
  {
   "cell_type": "code",
   "execution_count": 24,
   "metadata": {},
   "outputs": [
    {
     "data": {
      "text/plain": [
       "40"
      ]
     },
     "execution_count": 24,
     "metadata": {},
     "output_type": "execute_result"
    }
   ],
   "source": [
    "simple_array[3]"
   ]
  },
  {
   "cell_type": "code",
   "execution_count": 25,
   "metadata": {},
   "outputs": [
    {
     "data": {
      "text/plain": [
       "array([60, 10])"
      ]
     },
     "execution_count": 25,
     "metadata": {},
     "output_type": "execute_result"
    }
   ],
   "source": [
    "simple_array[[5,0]]\n",
    "# This is equivalent to np.array([simple_array[5], simple_array[0]])"
   ]
  },
  {
   "cell_type": "code",
   "execution_count": 26,
   "metadata": {},
   "outputs": [
    {
     "data": {
      "text/plain": [
       "array([60, 10])"
      ]
     },
     "execution_count": 26,
     "metadata": {},
     "output_type": "execute_result"
    }
   ],
   "source": [
    "np.array([simple_array[5], simple_array[0]])"
   ]
  },
  {
   "cell_type": "markdown",
   "metadata": {},
   "source": [
    "## Application: np.argsort()\n",
    "\n",
    "Returns the indices that would sort an array. [More Info](https://docs.scipy.org/doc/numpy/reference/generated/numpy.argsort.html)\n",
    "\n"
   ]
  },
  {
   "cell_type": "code",
   "execution_count": 27,
   "metadata": {},
   "outputs": [
    {
     "data": {
      "text/plain": [
       "array([1, 2, 0, 3])"
      ]
     },
     "execution_count": 27,
     "metadata": {},
     "output_type": "execute_result"
    }
   ],
   "source": [
    "x = np.array(['d', 'a', 'b', 'x'])\n",
    "np.argsort(x)"
   ]
  },
  {
   "cell_type": "code",
   "execution_count": 28,
   "metadata": {},
   "outputs": [
    {
     "data": {
      "text/plain": [
       "array(['a', 'b', 'd', 'x'], dtype='<U1')"
      ]
     },
     "execution_count": 28,
     "metadata": {},
     "output_type": "execute_result"
    }
   ],
   "source": [
    "x[np.argsort(x)]"
   ]
  },
  {
   "cell_type": "markdown",
   "metadata": {},
   "source": [
    "# Detour to Dictionary"
   ]
  },
  {
   "cell_type": "code",
   "execution_count": 37,
   "metadata": {},
   "outputs": [
    {
     "name": "stdout",
     "output_type": "stream",
     "text": [
      "{}\n"
     ]
    }
   ],
   "source": [
    "my_dictionary = dict()\n",
    "print(my_dictionary)\n",
    "my_dictionary = {}"
   ]
  },
  {
   "cell_type": "code",
   "execution_count": 30,
   "metadata": {},
   "outputs": [
    {
     "name": "stdout",
     "output_type": "stream",
     "text": [
      "{'key': 'value', 'key2': 'value 2'}\n"
     ]
    }
   ],
   "source": [
    "my_other_dictionary = {'key': 'value', 'key2': 'value 2'}\n",
    "print(my_other_dictionary)"
   ]
  },
  {
   "cell_type": "code",
   "execution_count": 38,
   "metadata": {},
   "outputs": [
    {
     "data": {
      "text/plain": [
       "{'Jan': 1, 'Feb': 2, 'Mar': 3}"
      ]
     },
     "execution_count": 38,
     "metadata": {},
     "output_type": "execute_result"
    }
   ],
   "source": [
    "my_dictionary['Jan'] = 1\n",
    "my_dictionary['Feb'] = 2\n",
    "my_dictionary['Mar'] = 3\n",
    "\n",
    "my_dictionary"
   ]
  },
  {
   "cell_type": "code",
   "execution_count": 32,
   "metadata": {},
   "outputs": [
    {
     "data": {
      "text/plain": [
       "1"
      ]
     },
     "execution_count": 32,
     "metadata": {},
     "output_type": "execute_result"
    }
   ],
   "source": [
    "my_dictionary['Jan']"
   ]
  },
  {
   "cell_type": "code",
   "execution_count": 39,
   "metadata": {},
   "outputs": [],
   "source": [
    "# You can update the dictionary through the key\n",
    "my_dictionary['Jan'] = my_dictionary['Jan'] + 4"
   ]
  },
  {
   "cell_type": "code",
   "execution_count": 42,
   "metadata": {},
   "outputs": [
    {
     "data": {
      "text/plain": [
       "{'Jan': 5, 'Feb': '1234', 'Mar': 3}"
      ]
     },
     "execution_count": 42,
     "metadata": {},
     "output_type": "execute_result"
    }
   ],
   "source": [
    "my_dictionary"
   ]
  },
  {
   "cell_type": "code",
   "execution_count": 41,
   "metadata": {},
   "outputs": [],
   "source": [
    "my_dictionary['Feb'] = '1234'"
   ]
  },
  {
   "cell_type": "code",
   "execution_count": 43,
   "metadata": {},
   "outputs": [
    {
     "ename": "KeyError",
     "evalue": "'Dec'",
     "output_type": "error",
     "traceback": [
      "\u001b[0;31m---------------------------------------------------------------------------\u001b[0m",
      "\u001b[0;31mKeyError\u001b[0m                                  Traceback (most recent call last)",
      "\u001b[0;32m<ipython-input-43-3adc57b3886c>\u001b[0m in \u001b[0;36m<module>\u001b[0;34m\u001b[0m\n\u001b[1;32m      1\u001b[0m \u001b[0;31m# Accessing elements not in the dict\u001b[0m\u001b[0;34m\u001b[0m\u001b[0;34m\u001b[0m\u001b[0;34m\u001b[0m\u001b[0m\n\u001b[0;32m----> 2\u001b[0;31m \u001b[0mmy_dictionary\u001b[0m\u001b[0;34m[\u001b[0m\u001b[0;34m'Dec'\u001b[0m\u001b[0;34m]\u001b[0m\u001b[0;34m\u001b[0m\u001b[0;34m\u001b[0m\u001b[0m\n\u001b[0m",
      "\u001b[0;31mKeyError\u001b[0m: 'Dec'"
     ]
    }
   ],
   "source": [
    "# Accessing elements not in the dict\n",
    "my_dictionary['Dec']"
   ]
  },
  {
   "cell_type": "code",
   "execution_count": 44,
   "metadata": {},
   "outputs": [
    {
     "data": {
      "text/plain": [
       "False"
      ]
     },
     "execution_count": 44,
     "metadata": {},
     "output_type": "execute_result"
    }
   ],
   "source": [
    "# To check if a key is in the list\n",
    "'Dec' in my_dictionary"
   ]
  },
  {
   "cell_type": "code",
   "execution_count": 45,
   "metadata": {},
   "outputs": [
    {
     "data": {
      "text/plain": [
       "True"
      ]
     },
     "execution_count": 45,
     "metadata": {},
     "output_type": "execute_result"
    }
   ],
   "source": [
    "'Mar' in my_dictionary"
   ]
  },
  {
   "cell_type": "markdown",
   "metadata": {},
   "source": [
    "## You can access the keys and values seperately"
   ]
  },
  {
   "cell_type": "code",
   "execution_count": 47,
   "metadata": {},
   "outputs": [
    {
     "name": "stdout",
     "output_type": "stream",
     "text": [
      "dict_keys(['Jan', 'Feb', 'Mar'])\n",
      "dict_values([5, '1234', 3])\n"
     ]
    },
    {
     "data": {
      "text/plain": [
       "['Jan', 'Feb', 'Mar']"
      ]
     },
     "execution_count": 47,
     "metadata": {},
     "output_type": "execute_result"
    }
   ],
   "source": [
    "print(my_dictionary.keys())\n",
    "print(my_dictionary.values())\n",
    "\n",
    "list(my_dictionary.keys())"
   ]
  },
  {
   "cell_type": "code",
   "execution_count": 48,
   "metadata": {},
   "outputs": [
    {
     "data": {
      "text/plain": [
       "array(['Jan', 'Feb', 'Mar'], dtype='<U3')"
      ]
     },
     "execution_count": 48,
     "metadata": {},
     "output_type": "execute_result"
    }
   ],
   "source": [
    "np.array(list(my_dictionary.keys()))"
   ]
  },
  {
   "cell_type": "markdown",
   "metadata": {},
   "source": [
    "# Introduction to Pandas"
   ]
  },
  {
   "cell_type": "markdown",
   "metadata": {},
   "source": [
    "<div class=\"alert alert-block alert-info\">\n",
    "<p> Source: Example datasets and discussion in this Jupyter Notebook was partly sourced from `Mike Dunn`, University of Notre Dame.  </p>\n",
    "</div>"
   ]
  },
  {
   "cell_type": "code",
   "execution_count": 49,
   "metadata": {},
   "outputs": [
    {
     "data": {
      "text/plain": [
       "'0.25.1'"
      ]
     },
     "execution_count": 49,
     "metadata": {},
     "output_type": "execute_result"
    }
   ],
   "source": [
    "import pandas as pd\n",
    "pd.__version__"
   ]
  },
  {
   "cell_type": "markdown",
   "metadata": {},
   "source": [
    "## `DataFrame` & `Series` Basics"
   ]
  },
  {
   "cell_type": "markdown",
   "metadata": {},
   "source": [
    "### Basics on data loading"
   ]
  },
  {
   "cell_type": "markdown",
   "metadata": {},
   "source": [
    "<div class=\"alert alert-block alert-info\">\n",
    "<h5>Know your current working directory</h5>\n",
    "\n",
    "<p>`import os`</p>\n",
    "<p>`os.getcwd()`</p>\n",
    "\n",
    "</div>"
   ]
  },
  {
   "cell_type": "code",
   "execution_count": 50,
   "metadata": {},
   "outputs": [
    {
     "name": "stdout",
     "output_type": "stream",
     "text": [
      "/Volumes/GoogleDrive/My Drive/ITAO/Data Analytics/_current/Notebooks\n"
     ]
    }
   ],
   "source": [
    "import os\n",
    "print(os.getcwd())"
   ]
  },
  {
   "cell_type": "markdown",
   "metadata": {},
   "source": [
    "<div class=\"alert alert-block alert-danger\">\n",
    "<h5>Make sure the data is in the right place. </h5>\n",
    "<p> </p>\n",
    "<li> Open the above folder location, that was printed as an output of `os.getcwd()` command, using Windows (or Finder on Mac) file system</li>\n",
    "<li> Make sure there is a folder named 'data' in the location you opened. If not create a folder</li>\n",
    "<li> Copy the dowloaded data into the newly created 'data' folder </li>\n",
    "\n",
    "</div>"
   ]
  },
  {
   "cell_type": "code",
   "execution_count": 54,
   "metadata": {},
   "outputs": [
    {
     "name": "stdout",
     "output_type": "stream",
     "text": [
      "['nd-football-2018-roster.csv', 'college-scorecard-data-scrubbed.csv', 'pokedex.json']\n"
     ]
    }
   ],
   "source": [
    "print(os.listdir('./data/'))"
   ]
  },
  {
   "cell_type": "markdown",
   "metadata": {},
   "source": [
    "When you specify './data/' in the above and below Python command, '.' means the current directory. \n",
    "\n",
    "In the following statement, the interpretation is that in the current directory as this Jupyter file, open the 'data' folder and look for 'nd-football-2018-roster.csv' file. "
   ]
  },
  {
   "cell_type": "code",
   "execution_count": 55,
   "metadata": {},
   "outputs": [
    {
     "data": {
      "text/plain": [
       "pandas.core.frame.DataFrame"
      ]
     },
     "execution_count": 55,
     "metadata": {},
     "output_type": "execute_result"
    }
   ],
   "source": [
    "athletes_data = pd.read_csv('./data/nd-football-2018-roster.csv')\n",
    "type(athletes_data)"
   ]
  },
  {
   "cell_type": "markdown",
   "metadata": {},
   "source": [
    "<div class=\"alert alert-block alert-info\">\n",
    "The `type` function return the type of the object passed to it. Very handy.\n",
    "</div> "
   ]
  },
  {
   "cell_type": "markdown",
   "metadata": {},
   "source": [
    "### `DataFrames` are made up of an `index` and one or more `Series`\n",
    "Inside of every frame is an **`index`** and one or more **`Series`** objects.\n",
    "Let's demonstrate this by looking at the first few elements of our `athletes_data` object."
   ]
  },
  {
   "cell_type": "code",
   "execution_count": 59,
   "metadata": {},
   "outputs": [
    {
     "data": {
      "text/html": [
       "<div>\n",
       "<style scoped>\n",
       "    .dataframe tbody tr th:only-of-type {\n",
       "        vertical-align: middle;\n",
       "    }\n",
       "\n",
       "    .dataframe tbody tr th {\n",
       "        vertical-align: top;\n",
       "    }\n",
       "\n",
       "    .dataframe thead th {\n",
       "        text-align: right;\n",
       "    }\n",
       "</style>\n",
       "<table border=\"1\" class=\"dataframe\">\n",
       "  <thead>\n",
       "    <tr style=\"text-align: right;\">\n",
       "      <th></th>\n",
       "      <th>Number</th>\n",
       "      <th>Name</th>\n",
       "      <th>Position</th>\n",
       "      <th>Height</th>\n",
       "      <th>Weight</th>\n",
       "      <th>Class</th>\n",
       "      <th>Hometown</th>\n",
       "    </tr>\n",
       "  </thead>\n",
       "  <tbody>\n",
       "    <tr>\n",
       "      <td>0</td>\n",
       "      <td>2</td>\n",
       "      <td>Dexter Williams</td>\n",
       "      <td>RB</td>\n",
       "      <td>71</td>\n",
       "      <td>215</td>\n",
       "      <td>Sr.</td>\n",
       "      <td>Orlando, FL/West Orange</td>\n",
       "    </tr>\n",
       "    <tr>\n",
       "      <td>1</td>\n",
       "      <td>2</td>\n",
       "      <td>Jordan Genmark Heath</td>\n",
       "      <td>LB</td>\n",
       "      <td>73</td>\n",
       "      <td>225</td>\n",
       "      <td>Soph.</td>\n",
       "      <td>San Diego, CA/Cathedral Catholic</td>\n",
       "    </tr>\n",
       "    <tr>\n",
       "      <td>2</td>\n",
       "      <td>3</td>\n",
       "      <td>Avery Davis</td>\n",
       "      <td>QB</td>\n",
       "      <td>71</td>\n",
       "      <td>204</td>\n",
       "      <td>Soph.</td>\n",
       "      <td>Cedar Hill, TX/HS</td>\n",
       "    </tr>\n",
       "    <tr>\n",
       "      <td>3</td>\n",
       "      <td>3</td>\n",
       "      <td>Houston Griffith</td>\n",
       "      <td>S</td>\n",
       "      <td>72</td>\n",
       "      <td>205</td>\n",
       "      <td>Fr.</td>\n",
       "      <td>Chicago, IL/IMG Academy (FL)</td>\n",
       "    </tr>\n",
       "    <tr>\n",
       "      <td>4</td>\n",
       "      <td>4</td>\n",
       "      <td>Te'von Coney</td>\n",
       "      <td>LB</td>\n",
       "      <td>73</td>\n",
       "      <td>240</td>\n",
       "      <td>Sr.</td>\n",
       "      <td>Palm Beach Gardens, FL/HS</td>\n",
       "    </tr>\n",
       "  </tbody>\n",
       "</table>\n",
       "</div>"
      ],
      "text/plain": [
       "   Number                  Name Position  Height  Weight  Class  \\\n",
       "0       2       Dexter Williams       RB      71     215    Sr.   \n",
       "1       2  Jordan Genmark Heath       LB      73     225  Soph.   \n",
       "2       3           Avery Davis       QB      71     204  Soph.   \n",
       "3       3      Houston Griffith        S      72     205    Fr.   \n",
       "4       4          Te'von Coney       LB      73     240    Sr.   \n",
       "\n",
       "                           Hometown  \n",
       "0           Orlando, FL/West Orange  \n",
       "1  San Diego, CA/Cathedral Catholic  \n",
       "2                 Cedar Hill, TX/HS  \n",
       "3      Chicago, IL/IMG Academy (FL)  \n",
       "4         Palm Beach Gardens, FL/HS  "
      ]
     },
     "execution_count": 59,
     "metadata": {},
     "output_type": "execute_result"
    }
   ],
   "source": [
    "#DataFrame athletes_data.head() provides the first few rows of the dataset\n",
    "\n",
    "athletes_data.head()"
   ]
  },
  {
   "cell_type": "code",
   "execution_count": 60,
   "metadata": {},
   "outputs": [
    {
     "data": {
      "text/html": [
       "<div>\n",
       "<style scoped>\n",
       "    .dataframe tbody tr th:only-of-type {\n",
       "        vertical-align: middle;\n",
       "    }\n",
       "\n",
       "    .dataframe tbody tr th {\n",
       "        vertical-align: top;\n",
       "    }\n",
       "\n",
       "    .dataframe thead th {\n",
       "        text-align: right;\n",
       "    }\n",
       "</style>\n",
       "<table border=\"1\" class=\"dataframe\">\n",
       "  <thead>\n",
       "    <tr style=\"text-align: right;\">\n",
       "      <th></th>\n",
       "      <th>Number</th>\n",
       "      <th>Name</th>\n",
       "      <th>Position</th>\n",
       "      <th>Height</th>\n",
       "      <th>Weight</th>\n",
       "      <th>Class</th>\n",
       "      <th>Hometown</th>\n",
       "    </tr>\n",
       "  </thead>\n",
       "  <tbody>\n",
       "    <tr>\n",
       "      <td>111</td>\n",
       "      <td>94</td>\n",
       "      <td>Darnell Ewell</td>\n",
       "      <td>DT</td>\n",
       "      <td>75</td>\n",
       "      <td>330</td>\n",
       "      <td>Soph.</td>\n",
       "      <td>Norfolk, VA/Lake Taylor</td>\n",
       "    </tr>\n",
       "    <tr>\n",
       "      <td>112</td>\n",
       "      <td>95</td>\n",
       "      <td>Myron Tagovailoa-Amosa</td>\n",
       "      <td>DT</td>\n",
       "      <td>74</td>\n",
       "      <td>285</td>\n",
       "      <td>Soph.</td>\n",
       "      <td>Ewa Beach, HI/Kapolei</td>\n",
       "    </tr>\n",
       "    <tr>\n",
       "      <td>113</td>\n",
       "      <td>97</td>\n",
       "      <td>Micah Dew-Treadway</td>\n",
       "      <td>DT</td>\n",
       "      <td>76</td>\n",
       "      <td>300</td>\n",
       "      <td>Sr.</td>\n",
       "      <td>Bolingbrook, IL/HS</td>\n",
       "    </tr>\n",
       "    <tr>\n",
       "      <td>114</td>\n",
       "      <td>98</td>\n",
       "      <td>Ja'Mion Franklin</td>\n",
       "      <td>DT</td>\n",
       "      <td>73</td>\n",
       "      <td>306</td>\n",
       "      <td>Fr.</td>\n",
       "      <td>Ridgely, MD/North Caroline</td>\n",
       "    </tr>\n",
       "    <tr>\n",
       "      <td>115</td>\n",
       "      <td>99</td>\n",
       "      <td>Jerry Tillery</td>\n",
       "      <td>DT</td>\n",
       "      <td>79</td>\n",
       "      <td>305</td>\n",
       "      <td>Sr.</td>\n",
       "      <td>Shreveport, LA/Evangel Christian</td>\n",
       "    </tr>\n",
       "  </tbody>\n",
       "</table>\n",
       "</div>"
      ],
      "text/plain": [
       "     Number                    Name Position  Height  Weight  Class  \\\n",
       "111      94           Darnell Ewell       DT      75     330  Soph.   \n",
       "112      95  Myron Tagovailoa-Amosa       DT      74     285  Soph.   \n",
       "113      97      Micah Dew-Treadway       DT      76     300    Sr.   \n",
       "114      98        Ja'Mion Franklin       DT      73     306    Fr.   \n",
       "115      99           Jerry Tillery       DT      79     305    Sr.   \n",
       "\n",
       "                             Hometown  \n",
       "111           Norfolk, VA/Lake Taylor  \n",
       "112             Ewa Beach, HI/Kapolei  \n",
       "113                Bolingbrook, IL/HS  \n",
       "114        Ridgely, MD/North Caroline  \n",
       "115  Shreveport, LA/Evangel Christian  "
      ]
     },
     "execution_count": 60,
     "metadata": {},
     "output_type": "execute_result"
    }
   ],
   "source": [
    "athletes_data.tail()"
   ]
  },
  {
   "cell_type": "markdown",
   "metadata": {},
   "source": [
    "The bold numbers running down the left hand side are the **`index`** of the **`DataFrame`**.  The bold strings running across the top are the names of the nested **`DataSeries`** objects."
   ]
  },
  {
   "cell_type": "code",
   "execution_count": 61,
   "metadata": {},
   "outputs": [
    {
     "name": "stdout",
     "output_type": "stream",
     "text": [
      "<class 'pandas.core.series.Series'>\n"
     ]
    },
    {
     "data": {
      "text/plain": [
       "0             Dexter Williams\n",
       "1        Jordan Genmark Heath\n",
       "2                 Avery Davis\n",
       "3            Houston Griffith\n",
       "4                Te'von Coney\n",
       "                ...          \n",
       "111             Darnell Ewell\n",
       "112    Myron Tagovailoa-Amosa\n",
       "113        Micah Dew-Treadway\n",
       "114          Ja'Mion Franklin\n",
       "115             Jerry Tillery\n",
       "Name: Name, Length: 116, dtype: object"
      ]
     },
     "execution_count": 61,
     "metadata": {},
     "output_type": "execute_result"
    }
   ],
   "source": [
    "name_series = athletes_data['Name']\n",
    "print(type(name_series))\n",
    "name_series"
   ]
  },
  {
   "cell_type": "markdown",
   "metadata": {},
   "source": [
    "<div class=\"alert alert-block alert-info\">\n",
    "<h5>Dictionary Like-Retrieval</h5>\n",
    "<p>Did you see how I passed to the name of the **`DataSeries`** object that I wanted to the `athletes_data` frame? It was the same sort of syntax you'd use to retrieve a data element from a **`dict`**.</p>\n",
    "<p>\n",
    "As we continue to move along, we'll discover that **`DataFrame`** and **`dict`** types share many traits.\n",
    "</p>\n",
    "</div> "
   ]
  },
  {
   "cell_type": "markdown",
   "metadata": {},
   "source": [
    "### Every `Series` is made up of an index and a NumPy array\n",
    "Now that we know every **`DataFrame`** is filled with **`Series`** objects, let's inspect `name_series` dig deeper into the data structures."
   ]
  },
  {
   "cell_type": "code",
   "execution_count": 62,
   "metadata": {},
   "outputs": [
    {
     "data": {
      "text/plain": [
       "0         Dexter Williams\n",
       "1    Jordan Genmark Heath\n",
       "2             Avery Davis\n",
       "3        Houston Griffith\n",
       "4            Te'von Coney\n",
       "5            Kevin Austin\n",
       "6          Troy Pride Jr.\n",
       "7          Tony Jones Jr.\n",
       "8         Brandon Wimbush\n",
       "9            Derrik Allen\n",
       "Name: Name, dtype: object"
      ]
     },
     "execution_count": 62,
     "metadata": {},
     "output_type": "execute_result"
    }
   ],
   "source": [
    "# Let's ask for the string representation of the object.\n",
    "# You can ignore the slice notation at the end,\n",
    "# I just don't want to display all the names.\n",
    "name_series[0:10]"
   ]
  },
  {
   "cell_type": "markdown",
   "metadata": {},
   "source": [
    "So, as you can see, we've got two columns here.  \n",
    "* The first column is the **`index`**.\n",
    "* The second column, which holds the values of the series is nothing more than our good friend, the NumPy array.\n",
    "\n",
    "You can retrieve the index and NumPy array separately from a series as follows:"
   ]
  },
  {
   "cell_type": "code",
   "execution_count": 63,
   "metadata": {},
   "outputs": [
    {
     "data": {
      "text/plain": [
       "RangeIndex(start=0, stop=116, step=1)"
      ]
     },
     "execution_count": 63,
     "metadata": {},
     "output_type": "execute_result"
    }
   ],
   "source": [
    "# Get the Series index\n",
    "name_series.index"
   ]
  },
  {
   "cell_type": "code",
   "execution_count": 64,
   "metadata": {},
   "outputs": [
    {
     "data": {
      "text/plain": [
       "array(['Dexter Williams', 'Jordan Genmark Heath', 'Avery Davis',\n",
       "       'Houston Griffith', \"Te'von Coney\", 'Kevin Austin',\n",
       "       'Troy Pride Jr.', 'Tony Jones Jr.', 'Brandon Wimbush',\n",
       "       'Derrik Allen', 'Jafar Armstrong', 'Donte Vaughn', 'Daelin Hayes',\n",
       "       'Patrick Pelini*', 'Chris Finke', 'Alohi Gilman', 'Ian Book',\n",
       "       'D.J. Brown', 'Lawrence Keys', 'Paul Moala', 'Devin Studstill',\n",
       "       'J.D. Carney*', 'Phil Jurkovec', 'D.J. Morgan', 'Noah Boykin',\n",
       "       'Isaiah Robertson', 'Nolan Henry*', 'Joe Wilkins Jr.',\n",
       "       'Cameron Ekanayake*', 'Justin Yoon', 'Justin Ademilola',\n",
       "       \"C'Borius Flemister\", 'Shaun Crawford', 'Jalen Elliott',\n",
       "       'Asmar Bilal', 'Drue Tranquill', 'Tommy Tremble', 'Nick Coleman',\n",
       "       'Braden Lenzy', 'John Mahoney*', 'Leo Albano*', 'Temitope Agoro*',\n",
       "       'Julian Love', 'Arion Shinaver*', 'Nicco Fertitta', 'Ovie Oghoufo',\n",
       "       'Matt Salerno', 'Jeremiah Owusu-Koramoah', 'Jake Rittman*',\n",
       "       'Jack Lamb', 'Cole Capen*', 'Mick Assaf*', 'Shayne Simon',\n",
       "       'Keenan Sweeney', 'Jahmir Smith', 'TaRiq Bracy', 'Brian Ball*',\n",
       "       'Robert Regan*', 'Christopher Schilling*', 'Jonathan Doerer',\n",
       "       'Brandon Garcia*', 'Drew White', 'Kurt Hinish', 'Julian Okwara',\n",
       "       'Jeff Riney', 'Marcus Thorne*', 'Greg Malley*', 'Jamir Jones',\n",
       "       'Jonathan Jones', 'Matt Bushland*', 'Jimmy Thompson*',\n",
       "       'Kofi Wardlow', 'Xavier Lezynski*', 'Jack Henige*',\n",
       "       'Brandon Hutson*', 'Devyn Spruell*', 'Bo Bauer', 'Khalid Kareem',\n",
       "       'Sam Mustipher', 'Lincoln Feist*', 'John Shannon',\n",
       "       'Jonathan Bonner', 'Jarrett Patterson', 'John Dirksen',\n",
       "       'Trevor Ruhland', 'Jayson Ademilola', 'Cole Mabry',\n",
       "       'Colin Grunhard*', 'Logan Plantz*', 'Cody Benjamin*',\n",
       "       'Max Siegel*', 'Michael Vinson*', 'Aaron Banks', 'Luke Jones',\n",
       "       'Alex Bars', 'Robert Hainsey', 'Liam Eichenberg', 'Josh Lugg',\n",
       "       'Dillan Gibbons', 'Tommy Kraemer', 'Micah Jones', 'Miles Boykin',\n",
       "       'Nic Weishar', 'Chase Claypool', 'Cole Kmet', 'George Takacs',\n",
       "       'Alizé Mack', 'Michael Young', 'Javon McKinley', 'Brock Wright',\n",
       "       'Adetokunbo Ogundeji', 'Darnell Ewell', 'Myron Tagovailoa-Amosa',\n",
       "       'Micah Dew-Treadway', \"Ja'Mion Franklin\", 'Jerry Tillery'],\n",
       "      dtype=object)"
      ]
     },
     "execution_count": 64,
     "metadata": {},
     "output_type": "execute_result"
    }
   ],
   "source": [
    "name_series.values"
   ]
  },
  {
   "cell_type": "markdown",
   "metadata": {},
   "source": [
    "## Going a Bit Deeper\n",
    "The essential difference between an NumPy **`ndarray`** and a Pandas **`Series`** object is their indexes.\n",
    "\n",
    "**NumPy arrays have indexes as well, but they are implicit and always integers**. You can't access an array's **`index`** property directly like you can on a Pandas series object as we did above.\n",
    "\n",
    "Furthermore, series objects are not limited to having integer based indexes. You could have indexes of strings, floats, booleans, dates, etc. "
   ]
  },
  {
   "cell_type": "code",
   "execution_count": 65,
   "metadata": {},
   "outputs": [
    {
     "name": "stdout",
     "output_type": "stream",
     "text": [
      "Index(['R', 'Python', 'C', 'Julia'], dtype='object')\n",
      "['Not as cool. ;-(' 'Best Language Ever!' 'Fundamental language'\n",
      " 'A New language for Data Science']\n"
     ]
    }
   ],
   "source": [
    "# Create a `DataSeries` object from a dictionary\n",
    "# This results in a string based index.\n",
    "\n",
    "sample_dict = {\n",
    "    'R':'Not as cool. ;-(',\n",
    "    'Python': 'Best Language Ever!',\n",
    "    'C': 'Fundamental language',\n",
    "    'Julia': 'A New language for Data Science'\n",
    "    }\n",
    "\n",
    "simple_series = pd.Series(sample_dict)\n",
    "print(simple_series.index)\n",
    "print(simple_series.values)"
   ]
  },
  {
   "cell_type": "code",
   "execution_count": 66,
   "metadata": {},
   "outputs": [
    {
     "data": {
      "text/plain": [
       "R                        Not as cool. ;-(\n",
       "Python                Best Language Ever!\n",
       "C                    Fundamental language\n",
       "Julia     A New language for Data Science\n",
       "dtype: object"
      ]
     },
     "execution_count": 66,
     "metadata": {},
     "output_type": "execute_result"
    }
   ],
   "source": [
    "simple_series"
   ]
  },
  {
   "cell_type": "code",
   "execution_count": 67,
   "metadata": {},
   "outputs": [
    {
     "data": {
      "text/plain": [
       "'Best Language Ever!'"
      ]
     },
     "execution_count": 67,
     "metadata": {},
     "output_type": "execute_result"
    }
   ],
   "source": [
    "simple_series['Python']"
   ]
  },
  {
   "cell_type": "code",
   "execution_count": 71,
   "metadata": {},
   "outputs": [
    {
     "data": {
      "text/plain": [
       "Python                Best Language Ever!\n",
       "C                    Fundamental language\n",
       "Julia     A New language for Data Science\n",
       "dtype: object"
      ]
     },
     "execution_count": 71,
     "metadata": {},
     "output_type": "execute_result"
    }
   ],
   "source": [
    "simple_series['Python':'Julia']"
   ]
  },
  {
   "cell_type": "markdown",
   "metadata": {},
   "source": [
    "When we loaded our `athletes_data` frame from the CSV file, it generated an integer based index, which is the default behavior.\n",
    "\n",
    "But we could change that.  For instance, we could make the institution names the index values:"
   ]
  },
  {
   "cell_type": "code",
   "execution_count": 72,
   "metadata": {},
   "outputs": [
    {
     "data": {
      "text/html": [
       "<div>\n",
       "<style scoped>\n",
       "    .dataframe tbody tr th:only-of-type {\n",
       "        vertical-align: middle;\n",
       "    }\n",
       "\n",
       "    .dataframe tbody tr th {\n",
       "        vertical-align: top;\n",
       "    }\n",
       "\n",
       "    .dataframe thead th {\n",
       "        text-align: right;\n",
       "    }\n",
       "</style>\n",
       "<table border=\"1\" class=\"dataframe\">\n",
       "  <thead>\n",
       "    <tr style=\"text-align: right;\">\n",
       "      <th></th>\n",
       "      <th>Number</th>\n",
       "      <th>Name</th>\n",
       "      <th>Position</th>\n",
       "      <th>Height</th>\n",
       "      <th>Weight</th>\n",
       "      <th>Class</th>\n",
       "      <th>Hometown</th>\n",
       "    </tr>\n",
       "  </thead>\n",
       "  <tbody>\n",
       "    <tr>\n",
       "      <td>0</td>\n",
       "      <td>2</td>\n",
       "      <td>Dexter Williams</td>\n",
       "      <td>RB</td>\n",
       "      <td>71</td>\n",
       "      <td>215</td>\n",
       "      <td>Sr.</td>\n",
       "      <td>Orlando, FL/West Orange</td>\n",
       "    </tr>\n",
       "    <tr>\n",
       "      <td>1</td>\n",
       "      <td>2</td>\n",
       "      <td>Jordan Genmark Heath</td>\n",
       "      <td>LB</td>\n",
       "      <td>73</td>\n",
       "      <td>225</td>\n",
       "      <td>Soph.</td>\n",
       "      <td>San Diego, CA/Cathedral Catholic</td>\n",
       "    </tr>\n",
       "    <tr>\n",
       "      <td>2</td>\n",
       "      <td>3</td>\n",
       "      <td>Avery Davis</td>\n",
       "      <td>QB</td>\n",
       "      <td>71</td>\n",
       "      <td>204</td>\n",
       "      <td>Soph.</td>\n",
       "      <td>Cedar Hill, TX/HS</td>\n",
       "    </tr>\n",
       "    <tr>\n",
       "      <td>3</td>\n",
       "      <td>3</td>\n",
       "      <td>Houston Griffith</td>\n",
       "      <td>S</td>\n",
       "      <td>72</td>\n",
       "      <td>205</td>\n",
       "      <td>Fr.</td>\n",
       "      <td>Chicago, IL/IMG Academy (FL)</td>\n",
       "    </tr>\n",
       "    <tr>\n",
       "      <td>4</td>\n",
       "      <td>4</td>\n",
       "      <td>Te'von Coney</td>\n",
       "      <td>LB</td>\n",
       "      <td>73</td>\n",
       "      <td>240</td>\n",
       "      <td>Sr.</td>\n",
       "      <td>Palm Beach Gardens, FL/HS</td>\n",
       "    </tr>\n",
       "  </tbody>\n",
       "</table>\n",
       "</div>"
      ],
      "text/plain": [
       "   Number                  Name Position  Height  Weight  Class  \\\n",
       "0       2       Dexter Williams       RB      71     215    Sr.   \n",
       "1       2  Jordan Genmark Heath       LB      73     225  Soph.   \n",
       "2       3           Avery Davis       QB      71     204  Soph.   \n",
       "3       3      Houston Griffith        S      72     205    Fr.   \n",
       "4       4          Te'von Coney       LB      73     240    Sr.   \n",
       "\n",
       "                           Hometown  \n",
       "0           Orlando, FL/West Orange  \n",
       "1  San Diego, CA/Cathedral Catholic  \n",
       "2                 Cedar Hill, TX/HS  \n",
       "3      Chicago, IL/IMG Academy (FL)  \n",
       "4         Palm Beach Gardens, FL/HS  "
      ]
     },
     "execution_count": 72,
     "metadata": {},
     "output_type": "execute_result"
    }
   ],
   "source": [
    "athletes_data.head()"
   ]
  },
  {
   "cell_type": "code",
   "execution_count": 73,
   "metadata": {},
   "outputs": [
    {
     "data": {
      "text/html": [
       "<div>\n",
       "<style scoped>\n",
       "    .dataframe tbody tr th:only-of-type {\n",
       "        vertical-align: middle;\n",
       "    }\n",
       "\n",
       "    .dataframe tbody tr th {\n",
       "        vertical-align: top;\n",
       "    }\n",
       "\n",
       "    .dataframe thead th {\n",
       "        text-align: right;\n",
       "    }\n",
       "</style>\n",
       "<table border=\"1\" class=\"dataframe\">\n",
       "  <thead>\n",
       "    <tr style=\"text-align: right;\">\n",
       "      <th></th>\n",
       "      <th>Number</th>\n",
       "      <th>Name</th>\n",
       "      <th>Position</th>\n",
       "      <th>Height</th>\n",
       "      <th>Weight</th>\n",
       "      <th>Class</th>\n",
       "      <th>Hometown</th>\n",
       "    </tr>\n",
       "    <tr>\n",
       "      <th>Name</th>\n",
       "      <th></th>\n",
       "      <th></th>\n",
       "      <th></th>\n",
       "      <th></th>\n",
       "      <th></th>\n",
       "      <th></th>\n",
       "      <th></th>\n",
       "    </tr>\n",
       "  </thead>\n",
       "  <tbody>\n",
       "    <tr>\n",
       "      <td>Dexter Williams</td>\n",
       "      <td>2</td>\n",
       "      <td>Dexter Williams</td>\n",
       "      <td>RB</td>\n",
       "      <td>71</td>\n",
       "      <td>215</td>\n",
       "      <td>Sr.</td>\n",
       "      <td>Orlando, FL/West Orange</td>\n",
       "    </tr>\n",
       "    <tr>\n",
       "      <td>Jordan Genmark Heath</td>\n",
       "      <td>2</td>\n",
       "      <td>Jordan Genmark Heath</td>\n",
       "      <td>LB</td>\n",
       "      <td>73</td>\n",
       "      <td>225</td>\n",
       "      <td>Soph.</td>\n",
       "      <td>San Diego, CA/Cathedral Catholic</td>\n",
       "    </tr>\n",
       "    <tr>\n",
       "      <td>Avery Davis</td>\n",
       "      <td>3</td>\n",
       "      <td>Avery Davis</td>\n",
       "      <td>QB</td>\n",
       "      <td>71</td>\n",
       "      <td>204</td>\n",
       "      <td>Soph.</td>\n",
       "      <td>Cedar Hill, TX/HS</td>\n",
       "    </tr>\n",
       "    <tr>\n",
       "      <td>Houston Griffith</td>\n",
       "      <td>3</td>\n",
       "      <td>Houston Griffith</td>\n",
       "      <td>S</td>\n",
       "      <td>72</td>\n",
       "      <td>205</td>\n",
       "      <td>Fr.</td>\n",
       "      <td>Chicago, IL/IMG Academy (FL)</td>\n",
       "    </tr>\n",
       "    <tr>\n",
       "      <td>Te'von Coney</td>\n",
       "      <td>4</td>\n",
       "      <td>Te'von Coney</td>\n",
       "      <td>LB</td>\n",
       "      <td>73</td>\n",
       "      <td>240</td>\n",
       "      <td>Sr.</td>\n",
       "      <td>Palm Beach Gardens, FL/HS</td>\n",
       "    </tr>\n",
       "  </tbody>\n",
       "</table>\n",
       "</div>"
      ],
      "text/plain": [
       "                      Number                  Name Position  Height  Weight  \\\n",
       "Name                                                                          \n",
       "Dexter Williams            2       Dexter Williams       RB      71     215   \n",
       "Jordan Genmark Heath       2  Jordan Genmark Heath       LB      73     225   \n",
       "Avery Davis                3           Avery Davis       QB      71     204   \n",
       "Houston Griffith           3      Houston Griffith        S      72     205   \n",
       "Te'von Coney               4          Te'von Coney       LB      73     240   \n",
       "\n",
       "                      Class                          Hometown  \n",
       "Name                                                           \n",
       "Dexter Williams         Sr.           Orlando, FL/West Orange  \n",
       "Jordan Genmark Heath  Soph.  San Diego, CA/Cathedral Catholic  \n",
       "Avery Davis           Soph.                 Cedar Hill, TX/HS  \n",
       "Houston Griffith        Fr.      Chicago, IL/IMG Academy (FL)  \n",
       "Te'von Coney            Sr.         Palm Beach Gardens, FL/HS  "
      ]
     },
     "execution_count": 73,
     "metadata": {},
     "output_type": "execute_result"
    }
   ],
   "source": [
    "athletes_data.index = athletes_data['Name']\n",
    "\n",
    "athletes_data.head()"
   ]
  },
  {
   "cell_type": "code",
   "execution_count": 74,
   "metadata": {},
   "outputs": [
    {
     "data": {
      "text/html": [
       "<div>\n",
       "<style scoped>\n",
       "    .dataframe tbody tr th:only-of-type {\n",
       "        vertical-align: middle;\n",
       "    }\n",
       "\n",
       "    .dataframe tbody tr th {\n",
       "        vertical-align: top;\n",
       "    }\n",
       "\n",
       "    .dataframe thead th {\n",
       "        text-align: right;\n",
       "    }\n",
       "</style>\n",
       "<table border=\"1\" class=\"dataframe\">\n",
       "  <thead>\n",
       "    <tr style=\"text-align: right;\">\n",
       "      <th></th>\n",
       "      <th>Number</th>\n",
       "      <th>Position</th>\n",
       "      <th>Height</th>\n",
       "      <th>Weight</th>\n",
       "      <th>Class</th>\n",
       "      <th>Hometown</th>\n",
       "    </tr>\n",
       "    <tr>\n",
       "      <th>Name</th>\n",
       "      <th></th>\n",
       "      <th></th>\n",
       "      <th></th>\n",
       "      <th></th>\n",
       "      <th></th>\n",
       "      <th></th>\n",
       "    </tr>\n",
       "  </thead>\n",
       "  <tbody>\n",
       "    <tr>\n",
       "      <td>Dexter Williams</td>\n",
       "      <td>2</td>\n",
       "      <td>RB</td>\n",
       "      <td>71</td>\n",
       "      <td>215</td>\n",
       "      <td>Sr.</td>\n",
       "      <td>Orlando, FL/West Orange</td>\n",
       "    </tr>\n",
       "    <tr>\n",
       "      <td>Jordan Genmark Heath</td>\n",
       "      <td>2</td>\n",
       "      <td>LB</td>\n",
       "      <td>73</td>\n",
       "      <td>225</td>\n",
       "      <td>Soph.</td>\n",
       "      <td>San Diego, CA/Cathedral Catholic</td>\n",
       "    </tr>\n",
       "    <tr>\n",
       "      <td>Avery Davis</td>\n",
       "      <td>3</td>\n",
       "      <td>QB</td>\n",
       "      <td>71</td>\n",
       "      <td>204</td>\n",
       "      <td>Soph.</td>\n",
       "      <td>Cedar Hill, TX/HS</td>\n",
       "    </tr>\n",
       "    <tr>\n",
       "      <td>Houston Griffith</td>\n",
       "      <td>3</td>\n",
       "      <td>S</td>\n",
       "      <td>72</td>\n",
       "      <td>205</td>\n",
       "      <td>Fr.</td>\n",
       "      <td>Chicago, IL/IMG Academy (FL)</td>\n",
       "    </tr>\n",
       "    <tr>\n",
       "      <td>Te'von Coney</td>\n",
       "      <td>4</td>\n",
       "      <td>LB</td>\n",
       "      <td>73</td>\n",
       "      <td>240</td>\n",
       "      <td>Sr.</td>\n",
       "      <td>Palm Beach Gardens, FL/HS</td>\n",
       "    </tr>\n",
       "  </tbody>\n",
       "</table>\n",
       "</div>"
      ],
      "text/plain": [
       "                      Number Position  Height  Weight  Class  \\\n",
       "Name                                                           \n",
       "Dexter Williams            2       RB      71     215    Sr.   \n",
       "Jordan Genmark Heath       2       LB      73     225  Soph.   \n",
       "Avery Davis                3       QB      71     204  Soph.   \n",
       "Houston Griffith           3        S      72     205    Fr.   \n",
       "Te'von Coney               4       LB      73     240    Sr.   \n",
       "\n",
       "                                              Hometown  \n",
       "Name                                                    \n",
       "Dexter Williams                Orlando, FL/West Orange  \n",
       "Jordan Genmark Heath  San Diego, CA/Cathedral Catholic  \n",
       "Avery Davis                          Cedar Hill, TX/HS  \n",
       "Houston Griffith          Chicago, IL/IMG Academy (FL)  \n",
       "Te'von Coney                 Palm Beach Gardens, FL/HS  "
      ]
     },
     "execution_count": 74,
     "metadata": {},
     "output_type": "execute_result"
    }
   ],
   "source": [
    "athletes_data2 = pd.read_csv('./data/nd-football-2018-roster.csv')\n",
    "athletes_data2.set_index('Name', inplace=True)\n",
    "athletes_data2.head()"
   ]
  },
  {
   "cell_type": "markdown",
   "metadata": {},
   "source": [
    "# Data Indexing and Selection"
   ]
  },
  {
   "cell_type": "markdown",
   "metadata": {},
   "source": [
    "You'll find that many of the same techniques that we used with NumPy arrays will also be available for these objects. In addition, they add some additional functionality that will be very familiar to anyone who has experience with Python dictionaries."
   ]
  },
  {
   "cell_type": "code",
   "execution_count": 76,
   "metadata": {},
   "outputs": [],
   "source": [
    "# college_scorecard = pd.read_csv(\n",
    "#     './data/college-scorecard-data-scrubbed.csv')\n",
    "# college_scorecard.head()"
   ]
  },
  {
   "cell_type": "markdown",
   "metadata": {},
   "source": [
    "### Encoding"
   ]
  },
  {
   "cell_type": "markdown",
   "metadata": {},
   "source": [
    "Text files are encoded in different formats when they are written. To read them, you must decode them with the same standard or you'll have a problem.\n",
    "\n",
    "For example, our `college-scorecard-data-scrubbed.csv` file was encoded using `latin-1`, but the default setting for Pandas in Python 3 is `utf-8` so we will get an error if we try to read the file without specify the correct encoding like so:"
   ]
  },
  {
   "cell_type": "code",
   "execution_count": 77,
   "metadata": {},
   "outputs": [
    {
     "data": {
      "text/html": [
       "<div>\n",
       "<style scoped>\n",
       "    .dataframe tbody tr th:only-of-type {\n",
       "        vertical-align: middle;\n",
       "    }\n",
       "\n",
       "    .dataframe tbody tr th {\n",
       "        vertical-align: top;\n",
       "    }\n",
       "\n",
       "    .dataframe thead th {\n",
       "        text-align: right;\n",
       "    }\n",
       "</style>\n",
       "<table border=\"1\" class=\"dataframe\">\n",
       "  <thead>\n",
       "    <tr style=\"text-align: right;\">\n",
       "      <th></th>\n",
       "      <th>UNITID</th>\n",
       "      <th>OPEID</th>\n",
       "      <th>OPEID6</th>\n",
       "      <th>institution_name</th>\n",
       "      <th>city</th>\n",
       "      <th>state</th>\n",
       "      <th>url</th>\n",
       "      <th>predominant_degree_code</th>\n",
       "      <th>predominant_degree_desc</th>\n",
       "      <th>institutional_owner_code</th>\n",
       "      <th>...</th>\n",
       "      <th>pell_grant_receipents</th>\n",
       "      <th>full_time_retention_rate_4_year</th>\n",
       "      <th>full_time_retention_rate_less_than_4_year</th>\n",
       "      <th>part_time_rentention_rate_4_year</th>\n",
       "      <th>part_time_rentention_rate_less_than_4_year</th>\n",
       "      <th>students_with_federal_loans</th>\n",
       "      <th>median_student_earnings</th>\n",
       "      <th>median_student_debt</th>\n",
       "      <th>less_than_4_year_school_completion_rate</th>\n",
       "      <th>4_year_school_completion_rate</th>\n",
       "    </tr>\n",
       "  </thead>\n",
       "  <tbody>\n",
       "    <tr>\n",
       "      <td>0</td>\n",
       "      <td>102580</td>\n",
       "      <td>884300</td>\n",
       "      <td>8843</td>\n",
       "      <td>Alaska Bible College</td>\n",
       "      <td>Palmer</td>\n",
       "      <td>AK</td>\n",
       "      <td>www.akbible.edu/</td>\n",
       "      <td>3</td>\n",
       "      <td>Bachelors</td>\n",
       "      <td>2</td>\n",
       "      <td>...</td>\n",
       "      <td>0.3571</td>\n",
       "      <td>0.3333</td>\n",
       "      <td>NaN</td>\n",
       "      <td>NaN</td>\n",
       "      <td>NaN</td>\n",
       "      <td>0.2857</td>\n",
       "      <td>NaN</td>\n",
       "      <td>PrivacySuppressed</td>\n",
       "      <td>NaN</td>\n",
       "      <td>NaN</td>\n",
       "    </tr>\n",
       "    <tr>\n",
       "      <td>1</td>\n",
       "      <td>103501</td>\n",
       "      <td>2541000</td>\n",
       "      <td>25410</td>\n",
       "      <td>Alaska Career College</td>\n",
       "      <td>Anchorage</td>\n",
       "      <td>AK</td>\n",
       "      <td>www.alaskacareercollege.edu</td>\n",
       "      <td>1</td>\n",
       "      <td>Certificate</td>\n",
       "      <td>3</td>\n",
       "      <td>...</td>\n",
       "      <td>0.7078</td>\n",
       "      <td>NaN</td>\n",
       "      <td>0.7941</td>\n",
       "      <td>NaN</td>\n",
       "      <td>NaN</td>\n",
       "      <td>0.7860</td>\n",
       "      <td>28700</td>\n",
       "      <td>8994</td>\n",
       "      <td>0.707589494</td>\n",
       "      <td>NaN</td>\n",
       "    </tr>\n",
       "    <tr>\n",
       "      <td>2</td>\n",
       "      <td>442523</td>\n",
       "      <td>4138600</td>\n",
       "      <td>41386</td>\n",
       "      <td>Alaska Christian College</td>\n",
       "      <td>Soldotna</td>\n",
       "      <td>AK</td>\n",
       "      <td>www.alaskacc.edu</td>\n",
       "      <td>1</td>\n",
       "      <td>Certificate</td>\n",
       "      <td>2</td>\n",
       "      <td>...</td>\n",
       "      <td>0.8868</td>\n",
       "      <td>NaN</td>\n",
       "      <td>0.4737</td>\n",
       "      <td>NaN</td>\n",
       "      <td>1.0</td>\n",
       "      <td>0.6792</td>\n",
       "      <td>NaN</td>\n",
       "      <td>PrivacySuppressed</td>\n",
       "      <td>0</td>\n",
       "      <td>NaN</td>\n",
       "    </tr>\n",
       "    <tr>\n",
       "      <td>3</td>\n",
       "      <td>102669</td>\n",
       "      <td>106100</td>\n",
       "      <td>1061</td>\n",
       "      <td>Alaska Pacific University</td>\n",
       "      <td>Anchorage</td>\n",
       "      <td>AK</td>\n",
       "      <td>www.alaskapacific.edu</td>\n",
       "      <td>3</td>\n",
       "      <td>Bachelors</td>\n",
       "      <td>2</td>\n",
       "      <td>...</td>\n",
       "      <td>0.3152</td>\n",
       "      <td>0.7742</td>\n",
       "      <td>NaN</td>\n",
       "      <td>1.0</td>\n",
       "      <td>NaN</td>\n",
       "      <td>0.5297</td>\n",
       "      <td>47000</td>\n",
       "      <td>23250</td>\n",
       "      <td>NaN</td>\n",
       "      <td>0.514833663</td>\n",
       "    </tr>\n",
       "    <tr>\n",
       "      <td>4</td>\n",
       "      <td>102711</td>\n",
       "      <td>3160300</td>\n",
       "      <td>31603</td>\n",
       "      <td>AVTEC-Alaska's Institute of Technology</td>\n",
       "      <td>Seward</td>\n",
       "      <td>AK</td>\n",
       "      <td>www.avtec.edu/</td>\n",
       "      <td>1</td>\n",
       "      <td>Certificate</td>\n",
       "      <td>1</td>\n",
       "      <td>...</td>\n",
       "      <td>0.0737</td>\n",
       "      <td>NaN</td>\n",
       "      <td>1.0000</td>\n",
       "      <td>NaN</td>\n",
       "      <td>1.0</td>\n",
       "      <td>0.0664</td>\n",
       "      <td>33500</td>\n",
       "      <td>PrivacySuppressed</td>\n",
       "      <td>0.846055789</td>\n",
       "      <td>NaN</td>\n",
       "    </tr>\n",
       "  </tbody>\n",
       "</table>\n",
       "<p>5 rows × 63 columns</p>\n",
       "</div>"
      ],
      "text/plain": [
       "   UNITID    OPEID  OPEID6                        institution_name       city  \\\n",
       "0  102580   884300    8843                    Alaska Bible College     Palmer   \n",
       "1  103501  2541000   25410                   Alaska Career College  Anchorage   \n",
       "2  442523  4138600   41386                Alaska Christian College   Soldotna   \n",
       "3  102669   106100    1061               Alaska Pacific University  Anchorage   \n",
       "4  102711  3160300   31603  AVTEC-Alaska's Institute of Technology     Seward   \n",
       "\n",
       "  state                          url  predominant_degree_code  \\\n",
       "0    AK             www.akbible.edu/                        3   \n",
       "1    AK  www.alaskacareercollege.edu                        1   \n",
       "2    AK             www.alaskacc.edu                        1   \n",
       "3    AK        www.alaskapacific.edu                        3   \n",
       "4    AK               www.avtec.edu/                        1   \n",
       "\n",
       "  predominant_degree_desc  institutional_owner_code  ...  \\\n",
       "0               Bachelors                         2  ...   \n",
       "1             Certificate                         3  ...   \n",
       "2             Certificate                         2  ...   \n",
       "3               Bachelors                         2  ...   \n",
       "4             Certificate                         1  ...   \n",
       "\n",
       "  pell_grant_receipents  full_time_retention_rate_4_year  \\\n",
       "0                0.3571                           0.3333   \n",
       "1                0.7078                              NaN   \n",
       "2                0.8868                              NaN   \n",
       "3                0.3152                           0.7742   \n",
       "4                0.0737                              NaN   \n",
       "\n",
       "   full_time_retention_rate_less_than_4_year  \\\n",
       "0                                        NaN   \n",
       "1                                     0.7941   \n",
       "2                                     0.4737   \n",
       "3                                        NaN   \n",
       "4                                     1.0000   \n",
       "\n",
       "   part_time_rentention_rate_4_year  \\\n",
       "0                               NaN   \n",
       "1                               NaN   \n",
       "2                               NaN   \n",
       "3                               1.0   \n",
       "4                               NaN   \n",
       "\n",
       "   part_time_rentention_rate_less_than_4_year students_with_federal_loans  \\\n",
       "0                                         NaN                      0.2857   \n",
       "1                                         NaN                      0.7860   \n",
       "2                                         1.0                      0.6792   \n",
       "3                                         NaN                      0.5297   \n",
       "4                                         1.0                      0.0664   \n",
       "\n",
       "   median_student_earnings  median_student_debt  \\\n",
       "0                      NaN    PrivacySuppressed   \n",
       "1                    28700                 8994   \n",
       "2                      NaN    PrivacySuppressed   \n",
       "3                    47000                23250   \n",
       "4                    33500    PrivacySuppressed   \n",
       "\n",
       "   less_than_4_year_school_completion_rate  4_year_school_completion_rate  \n",
       "0                                      NaN                            NaN  \n",
       "1                              0.707589494                            NaN  \n",
       "2                                        0                            NaN  \n",
       "3                                      NaN                    0.514833663  \n",
       "4                              0.846055789                            NaN  \n",
       "\n",
       "[5 rows x 63 columns]"
      ]
     },
     "execution_count": 77,
     "metadata": {},
     "output_type": "execute_result"
    }
   ],
   "source": [
    "college_scorecard = pd.read_csv(\n",
    "    './data/college-scorecard-data-scrubbed.csv', \n",
    "    encoding='latin-1')\n",
    "college_scorecard.head()"
   ]
  },
  {
   "cell_type": "code",
   "execution_count": 78,
   "metadata": {},
   "outputs": [
    {
     "data": {
      "text/html": [
       "<div>\n",
       "<style scoped>\n",
       "    .dataframe tbody tr th:only-of-type {\n",
       "        vertical-align: middle;\n",
       "    }\n",
       "\n",
       "    .dataframe tbody tr th {\n",
       "        vertical-align: top;\n",
       "    }\n",
       "\n",
       "    .dataframe thead th {\n",
       "        text-align: right;\n",
       "    }\n",
       "</style>\n",
       "<table border=\"1\" class=\"dataframe\">\n",
       "  <thead>\n",
       "    <tr style=\"text-align: right;\">\n",
       "      <th></th>\n",
       "      <th>UNITID</th>\n",
       "      <th>OPEID</th>\n",
       "      <th>OPEID6</th>\n",
       "      <th>city</th>\n",
       "      <th>state</th>\n",
       "      <th>url</th>\n",
       "      <th>predominant_degree_code</th>\n",
       "      <th>predominant_degree_desc</th>\n",
       "      <th>institutional_owner_code</th>\n",
       "      <th>institutional_owner_desc</th>\n",
       "      <th>...</th>\n",
       "      <th>pell_grant_receipents</th>\n",
       "      <th>full_time_retention_rate_4_year</th>\n",
       "      <th>full_time_retention_rate_less_than_4_year</th>\n",
       "      <th>part_time_rentention_rate_4_year</th>\n",
       "      <th>part_time_rentention_rate_less_than_4_year</th>\n",
       "      <th>students_with_federal_loans</th>\n",
       "      <th>median_student_earnings</th>\n",
       "      <th>median_student_debt</th>\n",
       "      <th>less_than_4_year_school_completion_rate</th>\n",
       "      <th>4_year_school_completion_rate</th>\n",
       "    </tr>\n",
       "    <tr>\n",
       "      <th>institution_name</th>\n",
       "      <th></th>\n",
       "      <th></th>\n",
       "      <th></th>\n",
       "      <th></th>\n",
       "      <th></th>\n",
       "      <th></th>\n",
       "      <th></th>\n",
       "      <th></th>\n",
       "      <th></th>\n",
       "      <th></th>\n",
       "      <th></th>\n",
       "      <th></th>\n",
       "      <th></th>\n",
       "      <th></th>\n",
       "      <th></th>\n",
       "      <th></th>\n",
       "      <th></th>\n",
       "      <th></th>\n",
       "      <th></th>\n",
       "      <th></th>\n",
       "      <th></th>\n",
       "    </tr>\n",
       "  </thead>\n",
       "  <tbody>\n",
       "    <tr>\n",
       "      <td>Alaska Bible College</td>\n",
       "      <td>102580</td>\n",
       "      <td>884300</td>\n",
       "      <td>8843</td>\n",
       "      <td>Palmer</td>\n",
       "      <td>AK</td>\n",
       "      <td>www.akbible.edu/</td>\n",
       "      <td>3</td>\n",
       "      <td>Bachelors</td>\n",
       "      <td>2</td>\n",
       "      <td>PrivateNonProfit</td>\n",
       "      <td>...</td>\n",
       "      <td>0.3571</td>\n",
       "      <td>0.3333</td>\n",
       "      <td>NaN</td>\n",
       "      <td>NaN</td>\n",
       "      <td>NaN</td>\n",
       "      <td>0.2857</td>\n",
       "      <td>NaN</td>\n",
       "      <td>PrivacySuppressed</td>\n",
       "      <td>NaN</td>\n",
       "      <td>NaN</td>\n",
       "    </tr>\n",
       "    <tr>\n",
       "      <td>Alaska Career College</td>\n",
       "      <td>103501</td>\n",
       "      <td>2541000</td>\n",
       "      <td>25410</td>\n",
       "      <td>Anchorage</td>\n",
       "      <td>AK</td>\n",
       "      <td>www.alaskacareercollege.edu</td>\n",
       "      <td>1</td>\n",
       "      <td>Certificate</td>\n",
       "      <td>3</td>\n",
       "      <td>PrivateForProfit</td>\n",
       "      <td>...</td>\n",
       "      <td>0.7078</td>\n",
       "      <td>NaN</td>\n",
       "      <td>0.7941</td>\n",
       "      <td>NaN</td>\n",
       "      <td>NaN</td>\n",
       "      <td>0.7860</td>\n",
       "      <td>28700</td>\n",
       "      <td>8994</td>\n",
       "      <td>0.707589494</td>\n",
       "      <td>NaN</td>\n",
       "    </tr>\n",
       "    <tr>\n",
       "      <td>Alaska Christian College</td>\n",
       "      <td>442523</td>\n",
       "      <td>4138600</td>\n",
       "      <td>41386</td>\n",
       "      <td>Soldotna</td>\n",
       "      <td>AK</td>\n",
       "      <td>www.alaskacc.edu</td>\n",
       "      <td>1</td>\n",
       "      <td>Certificate</td>\n",
       "      <td>2</td>\n",
       "      <td>PrivateNonProfit</td>\n",
       "      <td>...</td>\n",
       "      <td>0.8868</td>\n",
       "      <td>NaN</td>\n",
       "      <td>0.4737</td>\n",
       "      <td>NaN</td>\n",
       "      <td>1.0</td>\n",
       "      <td>0.6792</td>\n",
       "      <td>NaN</td>\n",
       "      <td>PrivacySuppressed</td>\n",
       "      <td>0</td>\n",
       "      <td>NaN</td>\n",
       "    </tr>\n",
       "    <tr>\n",
       "      <td>Alaska Pacific University</td>\n",
       "      <td>102669</td>\n",
       "      <td>106100</td>\n",
       "      <td>1061</td>\n",
       "      <td>Anchorage</td>\n",
       "      <td>AK</td>\n",
       "      <td>www.alaskapacific.edu</td>\n",
       "      <td>3</td>\n",
       "      <td>Bachelors</td>\n",
       "      <td>2</td>\n",
       "      <td>PrivateNonProfit</td>\n",
       "      <td>...</td>\n",
       "      <td>0.3152</td>\n",
       "      <td>0.7742</td>\n",
       "      <td>NaN</td>\n",
       "      <td>1.0</td>\n",
       "      <td>NaN</td>\n",
       "      <td>0.5297</td>\n",
       "      <td>47000</td>\n",
       "      <td>23250</td>\n",
       "      <td>NaN</td>\n",
       "      <td>0.514833663</td>\n",
       "    </tr>\n",
       "    <tr>\n",
       "      <td>AVTEC-Alaska's Institute of Technology</td>\n",
       "      <td>102711</td>\n",
       "      <td>3160300</td>\n",
       "      <td>31603</td>\n",
       "      <td>Seward</td>\n",
       "      <td>AK</td>\n",
       "      <td>www.avtec.edu/</td>\n",
       "      <td>1</td>\n",
       "      <td>Certificate</td>\n",
       "      <td>1</td>\n",
       "      <td>Public</td>\n",
       "      <td>...</td>\n",
       "      <td>0.0737</td>\n",
       "      <td>NaN</td>\n",
       "      <td>1.0000</td>\n",
       "      <td>NaN</td>\n",
       "      <td>1.0</td>\n",
       "      <td>0.0664</td>\n",
       "      <td>33500</td>\n",
       "      <td>PrivacySuppressed</td>\n",
       "      <td>0.846055789</td>\n",
       "      <td>NaN</td>\n",
       "    </tr>\n",
       "  </tbody>\n",
       "</table>\n",
       "<p>5 rows × 62 columns</p>\n",
       "</div>"
      ],
      "text/plain": [
       "                                        UNITID    OPEID  OPEID6       city  \\\n",
       "institution_name                                                             \n",
       "Alaska Bible College                    102580   884300    8843     Palmer   \n",
       "Alaska Career College                   103501  2541000   25410  Anchorage   \n",
       "Alaska Christian College                442523  4138600   41386   Soldotna   \n",
       "Alaska Pacific University               102669   106100    1061  Anchorage   \n",
       "AVTEC-Alaska's Institute of Technology  102711  3160300   31603     Seward   \n",
       "\n",
       "                                       state                          url  \\\n",
       "institution_name                                                            \n",
       "Alaska Bible College                      AK             www.akbible.edu/   \n",
       "Alaska Career College                     AK  www.alaskacareercollege.edu   \n",
       "Alaska Christian College                  AK             www.alaskacc.edu   \n",
       "Alaska Pacific University                 AK        www.alaskapacific.edu   \n",
       "AVTEC-Alaska's Institute of Technology    AK               www.avtec.edu/   \n",
       "\n",
       "                                        predominant_degree_code  \\\n",
       "institution_name                                                  \n",
       "Alaska Bible College                                          3   \n",
       "Alaska Career College                                         1   \n",
       "Alaska Christian College                                      1   \n",
       "Alaska Pacific University                                     3   \n",
       "AVTEC-Alaska's Institute of Technology                        1   \n",
       "\n",
       "                                       predominant_degree_desc  \\\n",
       "institution_name                                                 \n",
       "Alaska Bible College                                 Bachelors   \n",
       "Alaska Career College                              Certificate   \n",
       "Alaska Christian College                           Certificate   \n",
       "Alaska Pacific University                            Bachelors   \n",
       "AVTEC-Alaska's Institute of Technology             Certificate   \n",
       "\n",
       "                                        institutional_owner_code  \\\n",
       "institution_name                                                   \n",
       "Alaska Bible College                                           2   \n",
       "Alaska Career College                                          3   \n",
       "Alaska Christian College                                       2   \n",
       "Alaska Pacific University                                      2   \n",
       "AVTEC-Alaska's Institute of Technology                         1   \n",
       "\n",
       "                                       institutional_owner_desc  ...  \\\n",
       "institution_name                                                 ...   \n",
       "Alaska Bible College                           PrivateNonProfit  ...   \n",
       "Alaska Career College                          PrivateForProfit  ...   \n",
       "Alaska Christian College                       PrivateNonProfit  ...   \n",
       "Alaska Pacific University                      PrivateNonProfit  ...   \n",
       "AVTEC-Alaska's Institute of Technology                   Public  ...   \n",
       "\n",
       "                                        pell_grant_receipents  \\\n",
       "institution_name                                                \n",
       "Alaska Bible College                                   0.3571   \n",
       "Alaska Career College                                  0.7078   \n",
       "Alaska Christian College                               0.8868   \n",
       "Alaska Pacific University                              0.3152   \n",
       "AVTEC-Alaska's Institute of Technology                 0.0737   \n",
       "\n",
       "                                        full_time_retention_rate_4_year  \\\n",
       "institution_name                                                          \n",
       "Alaska Bible College                                             0.3333   \n",
       "Alaska Career College                                               NaN   \n",
       "Alaska Christian College                                            NaN   \n",
       "Alaska Pacific University                                        0.7742   \n",
       "AVTEC-Alaska's Institute of Technology                              NaN   \n",
       "\n",
       "                                        full_time_retention_rate_less_than_4_year  \\\n",
       "institution_name                                                                    \n",
       "Alaska Bible College                                                          NaN   \n",
       "Alaska Career College                                                      0.7941   \n",
       "Alaska Christian College                                                   0.4737   \n",
       "Alaska Pacific University                                                     NaN   \n",
       "AVTEC-Alaska's Institute of Technology                                     1.0000   \n",
       "\n",
       "                                        part_time_rentention_rate_4_year  \\\n",
       "institution_name                                                           \n",
       "Alaska Bible College                                                 NaN   \n",
       "Alaska Career College                                                NaN   \n",
       "Alaska Christian College                                             NaN   \n",
       "Alaska Pacific University                                            1.0   \n",
       "AVTEC-Alaska's Institute of Technology                               NaN   \n",
       "\n",
       "                                       part_time_rentention_rate_less_than_4_year  \\\n",
       "institution_name                                                                    \n",
       "Alaska Bible College                                                          NaN   \n",
       "Alaska Career College                                                         NaN   \n",
       "Alaska Christian College                                                      1.0   \n",
       "Alaska Pacific University                                                     NaN   \n",
       "AVTEC-Alaska's Institute of Technology                                        1.0   \n",
       "\n",
       "                                        students_with_federal_loans  \\\n",
       "institution_name                                                      \n",
       "Alaska Bible College                                         0.2857   \n",
       "Alaska Career College                                        0.7860   \n",
       "Alaska Christian College                                     0.6792   \n",
       "Alaska Pacific University                                    0.5297   \n",
       "AVTEC-Alaska's Institute of Technology                       0.0664   \n",
       "\n",
       "                                        median_student_earnings  \\\n",
       "institution_name                                                  \n",
       "Alaska Bible College                                        NaN   \n",
       "Alaska Career College                                     28700   \n",
       "Alaska Christian College                                    NaN   \n",
       "Alaska Pacific University                                 47000   \n",
       "AVTEC-Alaska's Institute of Technology                    33500   \n",
       "\n",
       "                                        median_student_debt  \\\n",
       "institution_name                                              \n",
       "Alaska Bible College                      PrivacySuppressed   \n",
       "Alaska Career College                                  8994   \n",
       "Alaska Christian College                  PrivacySuppressed   \n",
       "Alaska Pacific University                             23250   \n",
       "AVTEC-Alaska's Institute of Technology    PrivacySuppressed   \n",
       "\n",
       "                                        less_than_4_year_school_completion_rate  \\\n",
       "institution_name                                                                  \n",
       "Alaska Bible College                                                        NaN   \n",
       "Alaska Career College                                               0.707589494   \n",
       "Alaska Christian College                                                      0   \n",
       "Alaska Pacific University                                                   NaN   \n",
       "AVTEC-Alaska's Institute of Technology                              0.846055789   \n",
       "\n",
       "                                        4_year_school_completion_rate  \n",
       "institution_name                                                       \n",
       "Alaska Bible College                                              NaN  \n",
       "Alaska Career College                                             NaN  \n",
       "Alaska Christian College                                          NaN  \n",
       "Alaska Pacific University                                 0.514833663  \n",
       "AVTEC-Alaska's Institute of Technology                            NaN  \n",
       "\n",
       "[5 rows x 62 columns]"
      ]
     },
     "execution_count": 78,
     "metadata": {},
     "output_type": "execute_result"
    }
   ],
   "source": [
    "college_scorecard = pd.read_csv(\n",
    "    './data/college-scorecard-data-scrubbed.csv', \n",
    "    encoding='latin-1', \n",
    "    index_col='institution_name')\n",
    "college_scorecard.head()"
   ]
  },
  {
   "cell_type": "markdown",
   "metadata": {},
   "source": [
    "**NOTE**: In the last read_csv, we are using `index_col` keyword argument to provide the column we want to use as an index. This is a common way of loading CSV when we want a specific column to be an index. "
   ]
  },
  {
   "cell_type": "markdown",
   "metadata": {},
   "source": [
    "## Selecting Data from `Series` Objects"
   ]
  },
  {
   "cell_type": "markdown",
   "metadata": {},
   "source": [
    "Let's start by grabbing the `url` series object out of our data frame:"
   ]
  },
  {
   "cell_type": "code",
   "execution_count": 79,
   "metadata": {},
   "outputs": [
    {
     "data": {
      "text/plain": [
       "institution_name\n",
       "Alaska Bible College                                 www.akbible.edu/\n",
       "Alaska Career College                     www.alaskacareercollege.edu\n",
       "Alaska Christian College                             www.alaskacc.edu\n",
       "Alaska Pacific University                       www.alaskapacific.edu\n",
       "AVTEC-Alaska's Institute of Technology                 www.avtec.edu/\n",
       "Name: url, dtype: object"
      ]
     },
     "execution_count": 79,
     "metadata": {},
     "output_type": "execute_result"
    }
   ],
   "source": [
    "url_series = college_scorecard['url']\n",
    "url_series.head()"
   ]
  },
  {
   "cell_type": "markdown",
   "metadata": {},
   "source": [
    "As a reminder, a `Series` object is comprised of an explicit index and the values. **Notice here that our `Series` object inherit the 'institution_name' column values as the index from the `DataFrame`.**"
   ]
  },
  {
   "cell_type": "markdown",
   "metadata": {},
   "source": [
    "### Dictionary Like Features"
   ]
  },
  {
   "cell_type": "markdown",
   "metadata": {},
   "source": [
    "Several of the methods available on Python **`dict`** objects are also available on `Series` objects. The reason that this is possible is because Pandas maintains a mapping relationship between the explicit index elements and the Series values - just like standard Python does between the keys & values of a dictionary.  "
   ]
  },
  {
   "cell_type": "markdown",
   "metadata": {},
   "source": [
    "#### Membership Testing with `in`\n",
    "You can determine if a given **index** exists in a `Series` using the `in` keyword:\n"
   ]
  },
  {
   "cell_type": "code",
   "execution_count": 82,
   "metadata": {},
   "outputs": [
    {
     "data": {
      "text/plain": [
       "True"
      ]
     },
     "execution_count": 82,
     "metadata": {},
     "output_type": "execute_result"
    }
   ],
   "source": [
    "'University of Notre Dame' in url_series"
   ]
  },
  {
   "cell_type": "markdown",
   "metadata": {},
   "source": [
    "#### Value Retrieval via Index \"Key\"\n",
    "You can retrieve a value from the `Series` by passing it the index \"key\" you are interest in.b"
   ]
  },
  {
   "cell_type": "code",
   "execution_count": 83,
   "metadata": {},
   "outputs": [
    {
     "data": {
      "text/plain": [
       "'www.nd.edu'"
      ]
     },
     "execution_count": 83,
     "metadata": {},
     "output_type": "execute_result"
    }
   ],
   "source": [
    "url_series['University of Notre Dame']"
   ]
  },
  {
   "cell_type": "code",
   "execution_count": 84,
   "metadata": {},
   "outputs": [
    {
     "data": {
      "text/plain": [
       "'www.cmu.edu/'"
      ]
     },
     "execution_count": 84,
     "metadata": {},
     "output_type": "execute_result"
    }
   ],
   "source": [
    "url_series['Carnegie Mellon University']"
   ]
  },
  {
   "cell_type": "markdown",
   "metadata": {},
   "source": [
    "### Array Like Features\n",
    "Now we will explore some of the array like features of `Series` objects. Most of this will be familiar given what you already know about NumPy arrays, so we will move quickly."
   ]
  },
  {
   "cell_type": "markdown",
   "metadata": {},
   "source": [
    "#### Slicing with Explicit Indexes & Implicit Indexes\n",
    "Slicing is pretty straight forward with NumPy arrays because of their implicit integer based indexes. It gets a little bit more complicated with `Series` objects because the explicit index isn't necessarily integer based."
   ]
  },
  {
   "cell_type": "markdown",
   "metadata": {},
   "source": [
    "Just like normal slice, you can specify two elements that you want to be the start/end of what is returned. The difference here is that you can specify the actual index element names/keys instead of numbers.\n",
    "\n",
    "Here will we ask for all the listings from Stanford to Notre Dame."
   ]
  },
  {
   "cell_type": "code",
   "execution_count": 85,
   "metadata": {},
   "outputs": [
    {
     "data": {
      "text/plain": [
       "institution_name\n",
       "Stanford University                                         www.stanford.edu/\n",
       "Starr King School for the Ministry                               www.sksm.edu\n",
       "SUM Bible College and Theological Seminary                        www.sum.edu\n",
       "Summit College                                          www.summitcollege.edu\n",
       "Sutter Beauty College                                 sutterbeautycollege.com\n",
       "                                                               ...           \n",
       "Trine University                                                www.trine.edu\n",
       "Trine University-Regional/Non-Traditional Campuses              www.trine.edu\n",
       "University of Evansville                                  www.evansville.edu/\n",
       "University of Indianapolis                                          uindy.edu\n",
       "University of Notre Dame                                           www.nd.edu\n",
       "Name: url, Length: 1530, dtype: object"
      ]
     },
     "execution_count": 85,
     "metadata": {},
     "output_type": "execute_result"
    }
   ],
   "source": [
    "url_series['Stanford University':'University of Notre Dame']"
   ]
  },
  {
   "cell_type": "markdown",
   "metadata": {},
   "source": [
    "<div class=\"alert alert-block alert-info\">\n",
    "<p>\n",
    "It is important to note that the reverse request, `url_series['University of Notre Dame': 'Stanford University']` would have yielded no results.\n",
    "</p>\n",
    "<p>\n",
    "This is because 'University of Notre Dame' appears after 'Stanford' in the CSV file. Remember that technically, the first item in a slice notation is the 'start' and the second is the 'end'. It is important that you have them in the right order.\n",
    "</p>\n",
    "</div> "
   ]
  },
  {
   "cell_type": "markdown",
   "metadata": {},
   "source": [
    "<div class=\"alert alert-block alert-danger\">\n",
    "<h5>Warning: Important Distinction</h5>\n",
    "<p>\n",
    "In a NumPy array slice (or when using an implicit index), the 'end' value of the slice notation is not included in the return slice.\n",
    "</p>\n",
    "<p>\n",
    "Strangely, when using a slice with an explicit index - the end value is included. Be careful about this as you could end up with an extra record in your slices that you don't want.\n",
    "</p>\n",
    "</div> "
   ]
  },
  {
   "cell_type": "markdown",
   "metadata": {},
   "source": [
    "##### The Implicit Index Lurking in the Shadows"
   ]
  },
  {
   "cell_type": "markdown",
   "metadata": {},
   "source": [
    "While it is true that every `Series` object has an explicit index - it is also true that there is also an implicit index that is always available. Because of this, you can continue to use \"normal\" slice notations on `Series` objects with non-integer based explicit indexes.\n",
    "\n",
    "Here are a couple of examples."
   ]
  },
  {
   "cell_type": "code",
   "execution_count": 86,
   "metadata": {},
   "outputs": [
    {
     "data": {
      "text/plain": [
       "institution_name\n",
       "Alaska Bible College                                 www.akbible.edu/\n",
       "Alaska Career College                     www.alaskacareercollege.edu\n",
       "Alaska Christian College                             www.alaskacc.edu\n",
       "Alaska Pacific University                       www.alaskapacific.edu\n",
       "AVTEC-Alaska's Institute of Technology                 www.avtec.edu/\n",
       "Charter College-Anchorage                      www.chartercollege.edu\n",
       "Ilisagvik College                                   www.ilisagvik.edu\n",
       "University of Alaska Anchorage                     www.uaa.alaska.edu\n",
       "University of Alaska Fairbanks                            www.uaf.edu\n",
       "University of Alaska Southeast                     www.uas.alaska.edu\n",
       "Name: url, dtype: object"
      ]
     },
     "execution_count": 86,
     "metadata": {},
     "output_type": "execute_result"
    }
   ],
   "source": [
    "# Using \"normal\" slice notations on our `url_series`\n",
    "# First ten elements\n",
    "url_series[0:10]"
   ]
  },
  {
   "cell_type": "markdown",
   "metadata": {},
   "source": [
    "<div class=\"alert alert-block alert-danger\">\n",
    "<h5>Important Warning! Implicit vs. Explicit indexing</h5>\n",
    "<p>\n",
    "A confusing situation arises when you have a `Series` with an explicit integer index that doesn't start with 0 and increment 1 for each element.\n",
    "</p>\n",
    "\n",
    "<p>\n",
    "Slice notations get convoluted in this case and you have to use some ** special attributes (.loc, .iloc, .ix) that are discussed in your textbook on page 109-110** to keep things straight. \n",
    "</p>\n",
    "</div> "
   ]
  },
  {
   "cell_type": "markdown",
   "metadata": {},
   "source": [
    "#### Series Masking\n",
    "You can do masking on `Series` objects in the same way you did so with NumPy Arrays. Review the Jupyter Notebook for Sept 19th for more information on masking using NumPy\n",
    "\n",
    "Here a couple of examples:"
   ]
  },
  {
   "cell_type": "code",
   "execution_count": 87,
   "metadata": {},
   "outputs": [],
   "source": [
    "# Let's get a new Series object with numeric data on SAT average scores.\n",
    "sat_average_series = college_scorecard['sat_average']"
   ]
  },
  {
   "cell_type": "code",
   "execution_count": 88,
   "metadata": {},
   "outputs": [
    {
     "data": {
      "text/plain": [
       "institution_name\n",
       "Alaska Bible College                         NaN\n",
       "Alaska Career College                        NaN\n",
       "Alaska Christian College                     NaN\n",
       "Alaska Pacific University                 1054.0\n",
       "AVTEC-Alaska's Institute of Technology       NaN\n",
       "Name: sat_average, dtype: float64"
      ]
     },
     "execution_count": 88,
     "metadata": {},
     "output_type": "execute_result"
    }
   ],
   "source": [
    "sat_average_series.head()"
   ]
  },
  {
   "cell_type": "code",
   "execution_count": 89,
   "metadata": {},
   "outputs": [
    {
     "data": {
      "text/plain": [
       "institution_name\n",
       "Alaska Bible College                      False\n",
       "Alaska Career College                     False\n",
       "Alaska Christian College                  False\n",
       "Alaska Pacific University                 False\n",
       "AVTEC-Alaska's Institute of Technology    False\n",
       "                                          ...  \n",
       "Northwest College                         False\n",
       "Sheridan College                          False\n",
       "University of Wyoming                     False\n",
       "Western Wyoming Community College         False\n",
       "Wyotech-Laramie                           False\n",
       "Name: sat_average, Length: 7282, dtype: bool"
      ]
     },
     "execution_count": 89,
     "metadata": {},
     "output_type": "execute_result"
    }
   ],
   "source": [
    "sat_average_series > 1300"
   ]
  },
  {
   "cell_type": "code",
   "execution_count": 90,
   "metadata": {},
   "outputs": [
    {
     "data": {
      "text/plain": [
       "institution_name\n",
       "California Institute of Technology    1545.0\n",
       "Claremont McKenna College             1419.0\n",
       "Harvey Mudd College                   1500.0\n",
       "Pomona College                        1454.0\n",
       "Santa Clara University                1309.0\n",
       "                                       ...  \n",
       "University of Richmond                1337.0\n",
       "University of Virginia-Main Campus    1357.0\n",
       "Washington and Lee University         1395.0\n",
       "Middlebury College                    1379.0\n",
       "Whitman College                       1323.0\n",
       "Name: sat_average, Length: 82, dtype: float64"
      ]
     },
     "execution_count": 90,
     "metadata": {},
     "output_type": "execute_result"
    }
   ],
   "source": [
    "# Return schools with SAT averages over 1300\n",
    "sat_average_series[sat_average_series > 1300]"
   ]
  },
  {
   "cell_type": "markdown",
   "metadata": {},
   "source": [
    "## Activity:\n",
    "\n",
    "1. What schools have averages between 1400 & 1500\n",
    "1. Is University of Notre Dame one of the schools? \n",
    "1. How about 'Harvard University'? \n",
    "1. If not, what is Harvards SAT average?\n"
   ]
  },
  {
   "cell_type": "code",
   "execution_count": 100,
   "metadata": {},
   "outputs": [
    {
     "data": {
      "text/plain": [
       "True"
      ]
     },
     "execution_count": 100,
     "metadata": {},
     "output_type": "execute_result"
    }
   ],
   "source": [
    "sats_between = sat_average_series[ (sat_average_series > 1400) & (sat_average_series < 1500) ]\n",
    "sats_between[:10]\n",
    "\n",
    "\"University of Notre Dame\" in sats_between\n",
    "# \"Harvard University\" in sats_between\n",
    "\n",
    "# sat_average_series['Harvard University']\n",
    "\n",
    "# \"University of Michigan-Ann Arbor\" in sats_between"
   ]
  },
  {
   "cell_type": "markdown",
   "metadata": {},
   "source": [
    "## Selecting Data from `DataFrame` Objects"
   ]
  },
  {
   "cell_type": "markdown",
   "metadata": {},
   "source": [
    "Similiarly to what we found with `Series` objects. You can interact with `DataFrame` objects in ways that sometimes resemble a dictionary and other times a NumPy array."
   ]
  },
  {
   "cell_type": "markdown",
   "metadata": {},
   "source": [
    "### Dictionary Like Features\n"
   ]
  },
  {
   "cell_type": "code",
   "execution_count": null,
   "metadata": {},
   "outputs": [],
   "source": [
    "college_scorecard.head()"
   ]
  },
  {
   "cell_type": "code",
   "execution_count": null,
   "metadata": {},
   "outputs": [],
   "source": [
    "# You can retrieve an individual Series from a DataFrame\n",
    "# by passing the Series name/key to the DataFrame\n",
    "college_scorecard['religious_affiliation_desc'][:10]"
   ]
  },
  {
   "cell_type": "code",
   "execution_count": null,
   "metadata": {},
   "outputs": [],
   "source": [
    "# Test for the existence of a given column/Series in a DataFrame\n",
    "'city' in college_scorecard"
   ]
  },
  {
   "cell_type": "code",
   "execution_count": null,
   "metadata": {},
   "outputs": [],
   "source": [
    "college_scorecard['city']\n"
   ]
  },
  {
   "cell_type": "markdown",
   "metadata": {},
   "source": [
    "<div class=\"alert alert-block alert-warning\">\n",
    "<p> Note the distiction with `in` operator on a `Series` and on a `DataFrame`. When you use it on a `Series` it checks if it is present in the index. Whereas for a `DataFrame`, it check if it is present in the columns\n",
    "<div>"
   ]
  },
  {
   "cell_type": "markdown",
   "metadata": {},
   "source": [
    "### Array Like Features\n",
    "\n",
    "#### Slicing (Explicit Index)\n",
    "Slicing affects affects rows, not columns in a `DataFrame`. In other words, you can slice based on the index values, but not the column values. Let's get a slice of all rows from 'Alaska Bible College' to 'Alabama State University':"
   ]
  },
  {
   "cell_type": "code",
   "execution_count": null,
   "metadata": {},
   "outputs": [],
   "source": [
    "college_scorecard['Alaska Bible College': 'Alabama State University']"
   ]
  },
  {
   "cell_type": "markdown",
   "metadata": {},
   "source": [
    "<div class=\"alert alert-block alert-info\">\n",
    "<p>\n",
    "You can however use the `iloc`, and `loc` methods to slice based on columns.  **You can look into this on pages 113-114 of your textbook if you are interested.**</p>\n",
    "</div> "
   ]
  },
  {
   "cell_type": "markdown",
   "metadata": {},
   "source": [
    "#### Slicing (implicit index)\n",
    "You can also rely on the implicit integer index of the `DataFrame` (yes, it has one too) to retrieve rows by the numeric index.\n",
    "\n",
    "**Just remember, the 'end' value of the slice is not included when using the implicit index.**"
   ]
  },
  {
   "cell_type": "code",
   "execution_count": null,
   "metadata": {},
   "outputs": [],
   "source": [
    "college_scorecard[0:5]"
   ]
  },
  {
   "cell_type": "markdown",
   "metadata": {},
   "source": [
    "#### Masking\n",
    "\n",
    "Masking operations likewise return rows from a `DataFrame`, but the **criteria of the masks will be a comparison on one of the columns/Series**. This is somewhat confusing sounding, so let's just demonstrate:"
   ]
  },
  {
   "cell_type": "code",
   "execution_count": null,
   "metadata": {},
   "outputs": [],
   "source": [
    "# Return all rows where the 'state' Series has a value of 'AK'\n",
    "college_scorecard[ college_scorecard['state'] == 'AK' ]"
   ]
  },
  {
   "cell_type": "code",
   "execution_count": null,
   "metadata": {},
   "outputs": [],
   "source": [
    "# Which colleges in IN offer Bachelors degrees?\n",
    "# Again, notice the parathesis here\n",
    "college_scorecard[ (college_scorecard['state'] == 'IN') & (college_scorecard['predominant_degree_desc'] == 'Bachelors')]\n",
    "\n"
   ]
  },
  {
   "cell_type": "markdown",
   "metadata": {},
   "source": [
    "### Selecting Multiple Columns of DataFrame"
   ]
  },
  {
   "cell_type": "code",
   "execution_count": null,
   "metadata": {},
   "outputs": [],
   "source": [
    "two_columns = college_scorecard[ ['state', 'predominant_degree_desc'] ]\n",
    "two_columns.head()"
   ]
  },
  {
   "cell_type": "markdown",
   "metadata": {},
   "source": [
    "**NOTE**: Among the two sets of square brackets `[[ ]]`, the first set is used to select the columns, the second set is used to list the columns you want to select. "
   ]
  },
  {
   "cell_type": "markdown",
   "metadata": {},
   "source": [
    "## Activity On Football Athletes Data\n",
    "\n",
    "1. Details of the players who are in the freshmen class?\n",
    "1. Details of the players whose position is offensive linemen (OL) and are in their their last year? \n",
    "1. Average height of players whose position is Linebacker (LB) and are Sophmores? "
   ]
  },
  {
   "cell_type": "markdown",
   "metadata": {},
   "source": [
    "### Here is tip to remember, use `unique()` to get a list of options from a dataset "
   ]
  },
  {
   "cell_type": "code",
   "execution_count": null,
   "metadata": {},
   "outputs": [],
   "source": [
    "print(athletes_data['Class'].unique())\n",
    "print(athletes_data['Position'].unique())"
   ]
  },
  {
   "cell_type": "code",
   "execution_count": null,
   "metadata": {},
   "outputs": [],
   "source": []
  },
  {
   "cell_type": "markdown",
   "metadata": {},
   "source": [
    "## UFunc Arithmatic with Index Preservation"
   ]
  },
  {
   "cell_type": "markdown",
   "metadata": {},
   "source": [
    "Let us convert the height of the players into meters. The math to convert from inches to meters is to multiply by 0.0254. "
   ]
  },
  {
   "cell_type": "code",
   "execution_count": null,
   "metadata": {},
   "outputs": [],
   "source": [
    "athletes_data.head(5)"
   ]
  },
  {
   "cell_type": "code",
   "execution_count": null,
   "metadata": {},
   "outputs": [],
   "source": [
    "athletes_data['Height'] = athletes_data['Height'] * 0.0254"
   ]
  },
  {
   "cell_type": "code",
   "execution_count": null,
   "metadata": {},
   "outputs": [],
   "source": [
    "athletes_data.head(5)"
   ]
  },
  {
   "cell_type": "markdown",
   "metadata": {},
   "source": [
    "\n",
    "Do you see how my index was still preserved? This is referred to as **index preservation** and we will see it come into play both for `Series` and `DataFrame` objects when we using arithmetic functions on them."
   ]
  },
  {
   "cell_type": "markdown",
   "metadata": {},
   "source": [
    "## Binary Functions and `DataFrame` Objects\n",
    "Now let's try performing binary UFunc operations on DataFrames."
   ]
  },
  {
   "cell_type": "markdown",
   "metadata": {},
   "source": [
    "#### Operations between 2 DataFrames\n",
    "\n",
    "To demonstate how arithmetic operations work between two different `DataFrame` objects I'll need to construct a couple of simple objects.\n",
    "\n",
    "I'll go ahead and create two imaginary objects that hold sales data over two different years for the burger joint: **In-N-Out**"
   ]
  },
  {
   "cell_type": "code",
   "execution_count": null,
   "metadata": {},
   "outputs": [],
   "source": [
    "import pandas as pd\n",
    "\n",
    "# 2015 Sales DataFrame\n",
    "sales_2015 = pd.DataFrame([\n",
    "        {'Burgers': 9574265, 'Fries': 7124736, 'Drinks': 11563762},\n",
    "        {'Burgers': 6574265, 'Fries': 5124736, 'Drinks': 13563762},\n",
    "    ], \n",
    "    index=['California', 'Texas'])\n",
    "\n",
    "# 2016 Sales DataFrame\n",
    "# They open their first Indiana store at Notre Dame!!!\n",
    "# And they sell Irish Shakes nationwide to celebrate.\n",
    "sales_2016 = pd.DataFrame([\n",
    "        {'Burgers': 9742652, 'Fries': 7354736, 'Drinks': 11133762, 'Irish Shakes': 75812},\n",
    "        {'Burgers': 7774222, 'Fries': 6214736, 'Drinks': 14563762, 'Irish Shakes': 15525},\n",
    "        {'Burgers': 74265, 'Fries': 54736, 'Drinks': 43762, 'Irish Shakes': 23612},\n",
    "    ], \n",
    "    index=['California', 'Texas', 'Indiana'])\n"
   ]
  },
  {
   "cell_type": "markdown",
   "metadata": {},
   "source": [
    "Here's what those `DataFrames` look like separately:"
   ]
  },
  {
   "cell_type": "code",
   "execution_count": null,
   "metadata": {},
   "outputs": [],
   "source": [
    "print(sales_2015, sales_2016, sep='\\n\\n\\n')"
   ]
  },
  {
   "cell_type": "code",
   "execution_count": null,
   "metadata": {},
   "outputs": [],
   "source": [
    "sales_2015 + sales_2016"
   ]
  },
  {
   "cell_type": "markdown",
   "metadata": {},
   "source": [
    "To have a value in the results of an operation between two `DataFrame` objects, there must be a value in both of the objects for a given Index/Column combination.\n",
    "\n",
    "This is why there is no data for Indiana in our results (that index only existed in 2016) and no results for Irish Shakes (that column only existed in 2016)."
   ]
  },
  {
   "cell_type": "markdown",
   "metadata": {},
   "source": [
    "## Loading JSON Files\n",
    "In terms of web APIs, JSON is the dominant data transmission format on the internet right now - so you'll need to be familar with how to load it into **`DataFrame`** objects as well.\n",
    "\n",
    "There are a wide variety of ways that JSON documents can be structured. Unless you want to really start getting down into the,  there are really only a few formats that Pandas will read without problems.\n",
    "\n",
    "For our purposes, we'll use a pretty basic file that conforms to one of the standard formats just to get our feet wet.\n",
    "\n",
    "I've uploaded a JSON formatted file `pokedex.json` for us to use.  Hopefully, you are a Pokemon fan."
   ]
  },
  {
   "cell_type": "code",
   "execution_count": null,
   "metadata": {},
   "outputs": [],
   "source": [
    "# We use the `orient` parameter to tell Pandas what the basic \n",
    "# structure of the JSON is.  The other options are:\n",
    "# split, index, columns, and values\n",
    "# More Info: https://pandas.pydata.org/pandas-docs/stable/generated/pandas.read_json.html\n",
    "pokedex = pd.read_json('./data/pokedex.json', orient='records')\n",
    "pokedex.head()"
   ]
  },
  {
   "cell_type": "markdown",
   "metadata": {},
   "source": [
    "## Practice Dictionary Activity\n",
    "\n",
    "1. Accept a string as an input from the user\n",
    "2. Create a dictionary that contains the frequency of each word in the string.\n",
    "3. Print the dictionary\n",
    "\n",
    "Below is the sample interaction"
   ]
  },
  {
   "cell_type": "raw",
   "metadata": {},
   "source": [
    "Enter a sentence: My name is My name is My name is Jonathan\n",
    "\n",
    "{'My': 3, 'name': 3, 'is': 3, 'Jonathan': 1}"
   ]
  },
  {
   "cell_type": "code",
   "execution_count": 113,
   "metadata": {},
   "outputs": [
    {
     "name": "stdout",
     "output_type": "stream",
     "text": [
      "Enter a sentenceMy name is My name is My name is Jonathan\n",
      "{'My': 3, 'name': 3, 'is': 3, 'Jonathan': 1}\n"
     ]
    }
   ],
   "source": [
    "# Accept a setence\n",
    "sentence = input(\"Enter a sentence\")\n",
    "\n",
    "# Convert the sentence to a list of words using split() function\n",
    "words_list = sentence.split()\n",
    "\n",
    "# Create an empty dictionary that contains words and frequencies\n",
    "word_count = {}\n",
    "\n",
    "# Iterate through every word in the list\n",
    "for word in words_list:\n",
    "    if word in word_count:\n",
    "\n",
    "        word_count[word] += 1\n",
    "    else:\n",
    "        word_count[word] = 1\n",
    "        \n",
    "# Finally print the dictionary\n",
    "print(word_count)"
   ]
  }
 ],
 "metadata": {
  "kernelspec": {
   "display_name": "Python 3",
   "language": "python",
   "name": "python3"
  },
  "language_info": {
   "codemirror_mode": {
    "name": "ipython",
    "version": 3
   },
   "file_extension": ".py",
   "mimetype": "text/x-python",
   "name": "python",
   "nbconvert_exporter": "python",
   "pygments_lexer": "ipython3",
   "version": "3.7.4"
  }
 },
 "nbformat": 4,
 "nbformat_minor": 2
}
