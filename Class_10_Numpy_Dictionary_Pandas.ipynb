{
 "cells": [
  {
   "cell_type": "code",
   "execution_count": 1,
   "metadata": {},
   "outputs": [],
   "source": [
    "import numpy as np\n",
    "import pandas as pd"
   ]
  },
  {
   "cell_type": "markdown",
   "metadata": {},
   "source": [
    "## Comparison UFuncs as Array Masks\n",
    "\n",
    "Here is a brief review of what we've covered in the last lecture:\n",
    "\n",
    "1. Seen how the comparison ufuncs (np.equal, np.less, np.greater, etc) generate boolean arrays that indicate whether a given element of an array meets (or doesn't meet) the condition of the function.\n",
    "\n",
    "1. We then showed how you could pass these boolean areas to `np.sum`, `np.all`, and `np.any` to derive additional information on your data set.\n",
    "\n",
    "1. Finally, we demonstrated how you could logically compare two boolean arrays with the **bitwise** operators to perform multistep data comparisons.\n",
    "\n",
    "For the last segment of this tutorial, we are going to demonstrate using comparison functions to return the original items of the array that is being evaluated instead of a boolean array."
   ]
  },
  {
   "cell_type": "markdown",
   "metadata": {},
   "source": [
    "#### Array Masking\n",
    "In the last lecture, we showed how you could select data from an array using index or slice notation. Here we will introduce another data selection technique called **masking**.\n",
    "\n",
    "Basically, it looks a lot like slice notation. In case you've forgotten what that looks like, here is a reminder."
   ]
  },
  {
   "cell_type": "code",
   "execution_count": 2,
   "metadata": {},
   "outputs": [
    {
     "data": {
      "text/plain": [
       "array([5, 3, 4, 9, 8, 2, 1, 7, 6, 0])"
      ]
     },
     "execution_count": 2,
     "metadata": {},
     "output_type": "execute_result"
    }
   ],
   "source": [
    "simple_int_array = np.array([5, 3, 4, 9, 8, 2, 1, 7, 6, 0])\n",
    "simple_int_array"
   ]
  },
  {
   "cell_type": "code",
   "execution_count": 3,
   "metadata": {},
   "outputs": [
    {
     "data": {
      "text/plain": [
       "array([2, 1, 7])"
      ]
     },
     "execution_count": 3,
     "metadata": {},
     "output_type": "execute_result"
    }
   ],
   "source": [
    "# Slice elements indexed 5, 6, 7 of our simple_int_array\n",
    "simple_int_array[5:8]"
   ]
  },
  {
   "cell_type": "markdown",
   "metadata": {},
   "source": [
    "The difference with a mask is that instead of putting `[start:stop:step]` inside the brackets, you actually invoke a comparison function."
   ]
  },
  {
   "cell_type": "code",
   "execution_count": 4,
   "metadata": {},
   "outputs": [
    {
     "data": {
      "text/plain": [
       "array([ True,  True,  True, False, False,  True,  True, False,  True,\n",
       "        True])"
      ]
     },
     "execution_count": 4,
     "metadata": {},
     "output_type": "execute_result"
    }
   ],
   "source": [
    "simple_int_array < 7"
   ]
  },
  {
   "cell_type": "code",
   "execution_count": 6,
   "metadata": {},
   "outputs": [
    {
     "name": "stdout",
     "output_type": "stream",
     "text": [
      "[5 3 4 9 8 2 1 7 6 0]\n",
      "[ True  True  True False False  True  True False  True  True]\n"
     ]
    },
    {
     "data": {
      "text/plain": [
       "array([5, 3, 4, 2, 1, 6, 0])"
      ]
     },
     "execution_count": 6,
     "metadata": {},
     "output_type": "execute_result"
    }
   ],
   "source": [
    "# Let's return all the values of simple_int_array that are less than 7\n",
    "# We will create a mask using comparison ufuncts and pass that back into the array\n",
    "\n",
    "print(simple_int_array)\n",
    "mask = simple_int_array < 7\n",
    "print(mask)\n",
    "\n",
    "# pass the array of True/False values into the source array\n",
    "# Think of the True/False to be the answer to \"Do you want to include this element?\"\n",
    "simple_int_array[mask]"
   ]
  },
  {
   "cell_type": "code",
   "execution_count": 8,
   "metadata": {},
   "outputs": [
    {
     "data": {
      "text/plain": [
       "array([5, 3, 4, 2, 1, 6, 0])"
      ]
     },
     "execution_count": 8,
     "metadata": {},
     "output_type": "execute_result"
    }
   ],
   "source": [
    "# more common, is to accomplish this task inline\n",
    "subset_array = simple_int_array[simple_int_array < 7]\n",
    "subset_array"
   ]
  },
  {
   "cell_type": "markdown",
   "metadata": {},
   "source": [
    "**This way of masking is very important and used a lot.** The above statement works the following way\n",
    "1. The comparison UFunc inside the brackets is evaluated first. \n",
    "1. It returns a boolean array where the first 7 elements have `True` value, and the rest have `False`.\n",
    "1. For each index of the boolean array with a `True` value, the corresponding index of the original array is returned."
   ]
  },
  {
   "cell_type": "code",
   "execution_count": 9,
   "metadata": {},
   "outputs": [],
   "source": [
    "# At this point you don't have to know the details of following data loading. \n",
    "# However, understand that it is loading the weights of all the athletes\n",
    "nd_player_weights = np.array(pd.read_csv('./data/nd-football-2018-roster.csv')['Weight'])\n",
    "nd_player_names = np.array(pd.read_csv('./data/nd-football-2018-roster.csv')['Name'])\n",
    "nd_player_heights = np.array(pd.read_csv('./data/nd-football-2018-roster.csv')['Height'])"
   ]
  },
  {
   "cell_type": "markdown",
   "metadata": {},
   "source": [
    "## Activity:\n",
    "\n",
    "* Names of all players above 75 inches? \n",
    "* Names of all players above 220 lbs and below 250 lbs? \n",
    "\n",
    "**Hint**: You can use use boolean array created from one array as mask to another array"
   ]
  },
  {
   "cell_type": "code",
   "execution_count": null,
   "metadata": {},
   "outputs": [],
   "source": []
  },
  {
   "cell_type": "markdown",
   "metadata": {},
   "source": [
    "## np.unique\n",
    "\n",
    "Returns the sorted unique elements of an array. [More info](https://docs.scipy.org/doc/numpy/reference/generated/numpy.unique.html)"
   ]
  },
  {
   "cell_type": "code",
   "execution_count": 10,
   "metadata": {},
   "outputs": [
    {
     "name": "stdout",
     "output_type": "stream",
     "text": [
      "[ 1  2  3 23]\n"
     ]
    }
   ],
   "source": [
    "sample_array = np.array([1,2,2,1,2,3,2,23,2,1,3,2])\n",
    "print(np.unique(sample_array))"
   ]
  },
  {
   "cell_type": "markdown",
   "metadata": {},
   "source": [
    "# NumPy: Broadcasting\n",
    "\n",
    "We look at how with UFuncs you can do arithmetic on a numpy array. We also looked at how you can do arithmetic on 2 numpy arrays. When it didn't work the error message mention `broadcasting`.\n",
    "\n",
    "Broadcasting is how arrays talk to each other. We will again visit this idea later, but here is one explaination:"
   ]
  },
  {
   "cell_type": "markdown",
   "metadata": {},
   "source": [
    "## Case 1"
   ]
  },
  {
   "cell_type": "code",
   "execution_count": 11,
   "metadata": {},
   "outputs": [
    {
     "name": "stdout",
     "output_type": "stream",
     "text": [
      "[0 1 2]\n",
      "5\n",
      "(3,)\n",
      "[5 6 7]\n"
     ]
    }
   ],
   "source": [
    "x = np.arange(3)\n",
    "y = 5\n",
    "print(x)\n",
    "print(y)\n",
    "print(x.shape)\n",
    "print(x+y)"
   ]
  },
  {
   "cell_type": "markdown",
   "metadata": {},
   "source": [
    "## Case2"
   ]
  },
  {
   "cell_type": "code",
   "execution_count": 12,
   "metadata": {},
   "outputs": [
    {
     "name": "stdout",
     "output_type": "stream",
     "text": [
      "x array\n",
      "[[0 8 5]\n",
      " [3 9 1]\n",
      " [9 2 5]]\n",
      "y array\n",
      "[2 9 7]\n",
      "Their shapes are respectively\n",
      "(3, 3)\n",
      "(3,)\n"
     ]
    }
   ],
   "source": [
    "x = np.random.randint(10, size =((3,3)))\n",
    "y = np.random.randint(10, size = 3)\n",
    "print(\"x array\")\n",
    "print(x)\n",
    "print(\"y array\")\n",
    "print(y)\n",
    "\n",
    "print(\"Their shapes are respectively\")\n",
    "print(x.shape)\n",
    "print(y.shape)"
   ]
  },
  {
   "cell_type": "code",
   "execution_count": 13,
   "metadata": {},
   "outputs": [
    {
     "data": {
      "text/plain": [
       "array([[-2, -1, -2],\n",
       "       [ 1,  0, -6],\n",
       "       [ 7, -7, -2]])"
      ]
     },
     "execution_count": 13,
     "metadata": {},
     "output_type": "execute_result"
    }
   ],
   "source": [
    "x - y"
   ]
  },
  {
   "cell_type": "markdown",
   "metadata": {},
   "source": [
    "## Case 3"
   ]
  },
  {
   "cell_type": "code",
   "execution_count": 14,
   "metadata": {},
   "outputs": [
    {
     "name": "stdout",
     "output_type": "stream",
     "text": [
      "x  array\n",
      "[[3]\n",
      " [1]\n",
      " [1]]\n",
      "y array\n",
      "[4 1 1]\n",
      "Their shapes are respectively\n",
      "(3, 1)\n",
      "(3,)\n"
     ]
    }
   ],
   "source": [
    "x = np.random.randint(10, size=(3,1))\n",
    "y = np.random.randint(10, size = 3)\n",
    "print(\"x  array\")\n",
    "print(x)\n",
    "print(\"y array\")\n",
    "print(y)\n",
    "\n",
    "print(\"Their shapes are respectively\")\n",
    "print(x.shape)\n",
    "print(y.shape)"
   ]
  },
  {
   "cell_type": "code",
   "execution_count": 15,
   "metadata": {},
   "outputs": [
    {
     "data": {
      "text/plain": [
       "array([[-1,  2,  2],\n",
       "       [-3,  0,  0],\n",
       "       [-3,  0,  0]])"
      ]
     },
     "execution_count": 15,
     "metadata": {},
     "output_type": "execute_result"
    }
   ],
   "source": [
    "x - y"
   ]
  },
  {
   "cell_type": "markdown",
   "metadata": {},
   "source": [
    "## Case 4"
   ]
  },
  {
   "cell_type": "code",
   "execution_count": 17,
   "metadata": {},
   "outputs": [
    {
     "name": "stdout",
     "output_type": "stream",
     "text": [
      "x array\n",
      "[[4 5 5]\n",
      " [8 1 8]\n",
      " [1 2 0]]\n",
      "y array\n",
      "[[0]\n",
      " [3]\n",
      " [1]]\n",
      "Their shapes are respectively\n",
      "(3, 3)\n",
      "(3, 1)\n"
     ]
    }
   ],
   "source": [
    "x = np.random.randint(10, size =((3,3)))\n",
    "y = np.random.randint(10, size = (3,1))\n",
    "print(\"x array\")\n",
    "print(x)\n",
    "print(\"y array\")\n",
    "print(y)\n",
    "\n",
    "print(\"Their shapes are respectively\")\n",
    "print(x.shape)\n",
    "print(y.shape)"
   ]
  },
  {
   "cell_type": "code",
   "execution_count": 18,
   "metadata": {},
   "outputs": [
    {
     "data": {
      "text/plain": [
       "array([[ 4,  5,  5],\n",
       "       [11,  4, 11],\n",
       "       [ 2,  3,  1]])"
      ]
     },
     "execution_count": 18,
     "metadata": {},
     "output_type": "execute_result"
    }
   ],
   "source": [
    "x + y"
   ]
  },
  {
   "cell_type": "markdown",
   "metadata": {},
   "source": [
    "# NumPy: Fancy Indexing"
   ]
  },
  {
   "cell_type": "code",
   "execution_count": null,
   "metadata": {},
   "outputs": [],
   "source": [
    "simple_array = np.array([10,20,30,40,50,60])\n",
    "simple_array"
   ]
  },
  {
   "cell_type": "code",
   "execution_count": null,
   "metadata": {},
   "outputs": [],
   "source": [
    "simple_array[3]"
   ]
  },
  {
   "cell_type": "code",
   "execution_count": null,
   "metadata": {},
   "outputs": [],
   "source": [
    "simple_array[[5,0]]\n",
    "# This is equivalent to np.array([simple_array[5], simple_array[0]])"
   ]
  },
  {
   "cell_type": "code",
   "execution_count": null,
   "metadata": {},
   "outputs": [],
   "source": [
    "np.array([simple_array[5], simple_array[0]])"
   ]
  },
  {
   "cell_type": "markdown",
   "metadata": {},
   "source": [
    "## Application: np.argsort()\n",
    "\n",
    "Returns the indices that would sort an array. [More Info](https://docs.scipy.org/doc/numpy/reference/generated/numpy.argsort.html)\n",
    "\n"
   ]
  },
  {
   "cell_type": "code",
   "execution_count": null,
   "metadata": {},
   "outputs": [],
   "source": [
    "x = np.array(['d', 'a', 'b', 'x'])\n",
    "np.argsort(x)"
   ]
  },
  {
   "cell_type": "code",
   "execution_count": null,
   "metadata": {},
   "outputs": [],
   "source": [
    "x[np.argsort(x)]"
   ]
  },
  {
   "cell_type": "markdown",
   "metadata": {},
   "source": [
    "# Detour to Dictionary"
   ]
  },
  {
   "cell_type": "code",
   "execution_count": null,
   "metadata": {},
   "outputs": [],
   "source": [
    "my_dictionary = dict()\n",
    "print(my_dictionary)\n",
    "my_dictionary = {}"
   ]
  },
  {
   "cell_type": "code",
   "execution_count": null,
   "metadata": {},
   "outputs": [],
   "source": [
    "my_other_dictionary = {'key': 'value', 'key2': 'value 2'}\n",
    "print(my_other_dictionary)"
   ]
  },
  {
   "cell_type": "code",
   "execution_count": null,
   "metadata": {},
   "outputs": [],
   "source": [
    "my_dictionary['Jan'] = 1\n",
    "my_dictionary['Feb'] = 2\n",
    "my_dictionary['Mar'] = 3\n",
    "\n",
    "my_dictionary"
   ]
  },
  {
   "cell_type": "code",
   "execution_count": null,
   "metadata": {},
   "outputs": [],
   "source": [
    "my_dictionary['Jan']"
   ]
  },
  {
   "cell_type": "code",
   "execution_count": null,
   "metadata": {},
   "outputs": [],
   "source": [
    "# You can update the dictionary through the key\n",
    "my_dictionary['Jan'] = my_dictionary['Jan'] + 4"
   ]
  },
  {
   "cell_type": "code",
   "execution_count": null,
   "metadata": {},
   "outputs": [],
   "source": [
    "my_dictionary"
   ]
  },
  {
   "cell_type": "code",
   "execution_count": null,
   "metadata": {},
   "outputs": [],
   "source": [
    "# Accessing elements not in the dict\n",
    "my_dictionary['Dec']"
   ]
  },
  {
   "cell_type": "code",
   "execution_count": null,
   "metadata": {},
   "outputs": [],
   "source": [
    "# To check if a key is in the list\n",
    "'Dec' in my_dictionary"
   ]
  },
  {
   "cell_type": "code",
   "execution_count": null,
   "metadata": {},
   "outputs": [],
   "source": [
    "'Mar' in my_dictionary"
   ]
  },
  {
   "cell_type": "markdown",
   "metadata": {},
   "source": [
    "## You can access the keys and values seperately"
   ]
  },
  {
   "cell_type": "code",
   "execution_count": null,
   "metadata": {},
   "outputs": [],
   "source": [
    "print(my_dictionary.keys())\n",
    "print(my_dictionary.values())\n",
    "\n",
    "list(my_dictionary.keys())"
   ]
  },
  {
   "cell_type": "code",
   "execution_count": null,
   "metadata": {},
   "outputs": [],
   "source": [
    "np.array(list(my_dictionary.keys()))"
   ]
  },
  {
   "cell_type": "markdown",
   "metadata": {},
   "source": [
    "# Introduction to Pandas"
   ]
  },
  {
   "cell_type": "markdown",
   "metadata": {},
   "source": [
    "<div class=\"alert alert-block alert-info\">\n",
    "<p> Source: Example datasets and discussion in this Jupyter Notebook was partly sourced from `Mike Dunn`, University of Notre Dame.  </p>\n",
    "</div>"
   ]
  },
  {
   "cell_type": "code",
   "execution_count": null,
   "metadata": {},
   "outputs": [],
   "source": [
    "import pandas as pd\n",
    "pd.__version__"
   ]
  },
  {
   "cell_type": "markdown",
   "metadata": {},
   "source": [
    "## `DataFrame` & `Series` Basics"
   ]
  },
  {
   "cell_type": "markdown",
   "metadata": {},
   "source": [
    "### Basics on data loading"
   ]
  },
  {
   "cell_type": "markdown",
   "metadata": {},
   "source": [
    "<div class=\"alert alert-block alert-info\">\n",
    "<h5>Know your current working directory</h5>\n",
    "\n",
    "<p>`import os`</p>\n",
    "<p>`os.getcwd()`</p>\n",
    "\n",
    "</div>"
   ]
  },
  {
   "cell_type": "code",
   "execution_count": null,
   "metadata": {},
   "outputs": [],
   "source": [
    "import os\n",
    "print(os.getcwd())"
   ]
  },
  {
   "cell_type": "markdown",
   "metadata": {},
   "source": [
    "<div class=\"alert alert-block alert-danger\">\n",
    "<h5>Make sure the data is in the right place. </h5>\n",
    "<p> </p>\n",
    "<li> Open the above folder location, that was printed as an output of `os.getcwd()` command, using Windows (or Finder on Mac) file system</li>\n",
    "<li> Make sure there is a folder named 'data' in the location you opened. If not create a folder</li>\n",
    "<li> Copy the dowloaded data into the newly created 'data' folder </li>\n",
    "\n",
    "</div>"
   ]
  },
  {
   "cell_type": "code",
   "execution_count": null,
   "metadata": {},
   "outputs": [],
   "source": [
    "print(os.listdir('./data/'))"
   ]
  },
  {
   "cell_type": "markdown",
   "metadata": {},
   "source": [
    "When you specify './data/' in the above and below Python command, '.' means the current directory. \n",
    "\n",
    "In the following statement, the interpretation is that in the current directory as this Jupyter file, open the 'data' folder and look for 'nd-football-2018-roster.csv' file. "
   ]
  },
  {
   "cell_type": "code",
   "execution_count": null,
   "metadata": {},
   "outputs": [],
   "source": [
    "athletes_data = pd.read_csv('./data/nd-football-2018-roster.csv')\n",
    "type(athletes_data)"
   ]
  },
  {
   "cell_type": "markdown",
   "metadata": {},
   "source": [
    "<div class=\"alert alert-block alert-info\">\n",
    "The `type` function return the type of the object passed to it. Very handy.\n",
    "</div> "
   ]
  },
  {
   "cell_type": "markdown",
   "metadata": {},
   "source": [
    "### `DataFrames` are made up of an `index` and one or more `Series`\n",
    "Inside of every frame is an **`index`** and one or more **`Series`** objects.\n",
    "Let's demonstrate this by looking at the first few elements of our `athletes_data` object."
   ]
  },
  {
   "cell_type": "code",
   "execution_count": null,
   "metadata": {},
   "outputs": [],
   "source": [
    "#DataFrame athletes_data.head() provides the first few rows of the dataset\n",
    "\n",
    "athletes_data.head()"
   ]
  },
  {
   "cell_type": "code",
   "execution_count": null,
   "metadata": {},
   "outputs": [],
   "source": [
    "athletes_data.tail()"
   ]
  },
  {
   "cell_type": "markdown",
   "metadata": {},
   "source": [
    "The bold numbers running down the left hand side are the **`index`** of the **`DataFrame`**.  The bold strings running across the top are the names of the nested **`DataSeries`** objects."
   ]
  },
  {
   "cell_type": "code",
   "execution_count": null,
   "metadata": {},
   "outputs": [],
   "source": [
    "name_series = athletes_data['Name']\n",
    "print(type(name_series))\n",
    "name_series"
   ]
  },
  {
   "cell_type": "markdown",
   "metadata": {},
   "source": [
    "<div class=\"alert alert-block alert-info\">\n",
    "<h5>Dictionary Like-Retrieval</h5>\n",
    "<p>Did you see how I passed to the name of the **`DataSeries`** object that I wanted to the `athletes_data` frame? It was the same sort of syntax you'd use to retrieve a data element from a **`dict`**.</p>\n",
    "<p>\n",
    "As we continue to move along, we'll discover that **`DataFrame`** and **`dict`** types share many traits.\n",
    "</p>\n",
    "</div> "
   ]
  },
  {
   "cell_type": "markdown",
   "metadata": {},
   "source": [
    "### Every `Series` is made up of an index and a NumPy array\n",
    "Now that we know every **`DataFrame`** is filled with **`Series`** objects, let's inspect `name_series` dig deeper into the data structures."
   ]
  },
  {
   "cell_type": "code",
   "execution_count": null,
   "metadata": {},
   "outputs": [],
   "source": [
    "# Let's ask for the string representation of the object.\n",
    "# You can ignore the slice notation at the end,\n",
    "# I just don't want to display all the names.\n",
    "name_series[0:10]"
   ]
  },
  {
   "cell_type": "markdown",
   "metadata": {},
   "source": [
    "So, as you can see, we've got two columns here.  \n",
    "* The first column is the **`index`**.\n",
    "* The second column, which holds the values of the series is nothing more than our good friend, the NumPy array.\n",
    "\n",
    "You can retrieve the index and NumPy array separately from a series as follows:"
   ]
  },
  {
   "cell_type": "code",
   "execution_count": null,
   "metadata": {},
   "outputs": [],
   "source": [
    "# Get the Series index\n",
    "name_series.index"
   ]
  },
  {
   "cell_type": "code",
   "execution_count": null,
   "metadata": {},
   "outputs": [],
   "source": [
    "name_series.values"
   ]
  },
  {
   "cell_type": "markdown",
   "metadata": {},
   "source": [
    "## Going a Bit Deeper\n",
    "The essential difference between an NumPy **`ndarray`** and a Pandas **`Series`** object is their indexes.\n",
    "\n",
    "**NumPy arrays have indexes as well, but they are implicit and always integers**. You can't access an array's **`index`** property directly like you can on a Pandas series object as we did above.\n",
    "\n",
    "Furthermore, series objects are not limited to having integer based indexes. You could have indexes of strings, floats, booleans, dates, etc. "
   ]
  },
  {
   "cell_type": "code",
   "execution_count": null,
   "metadata": {},
   "outputs": [],
   "source": [
    "# Create a `DataSeries` object from a dictionary\n",
    "# This results in a string based index.\n",
    "\n",
    "sample_dict = {\n",
    "    'R':'Not as cool. ;-(',\n",
    "    'Python': 'Best Language Ever!',\n",
    "    'C': 'Fundamental language',\n",
    "    'Julia': 'A New language for Data Science'\n",
    "    }\n",
    "\n",
    "simple_series = pd.Series(sample_dict)\n",
    "print(simple_series.index)\n",
    "print(simple_series.values)"
   ]
  },
  {
   "cell_type": "code",
   "execution_count": null,
   "metadata": {},
   "outputs": [],
   "source": [
    "simple_series"
   ]
  },
  {
   "cell_type": "code",
   "execution_count": null,
   "metadata": {},
   "outputs": [],
   "source": [
    "simple_series['Python']"
   ]
  },
  {
   "cell_type": "code",
   "execution_count": null,
   "metadata": {},
   "outputs": [],
   "source": [
    "simple_series['R':'Python']"
   ]
  },
  {
   "cell_type": "markdown",
   "metadata": {},
   "source": [
    "When we loaded our `athletes_data` frame from the CSV file, it generated an integer based index, which is the default behavior.\n",
    "\n",
    "But we could change that.  For instance, we could make the institution names the index values:"
   ]
  },
  {
   "cell_type": "code",
   "execution_count": null,
   "metadata": {},
   "outputs": [],
   "source": [
    "athletes_data.head()"
   ]
  },
  {
   "cell_type": "code",
   "execution_count": null,
   "metadata": {},
   "outputs": [],
   "source": [
    "athletes_data.index = athletes_data['Name']\n",
    "\n",
    "athletes_data.head()"
   ]
  },
  {
   "cell_type": "code",
   "execution_count": null,
   "metadata": {},
   "outputs": [],
   "source": [
    "athletes_data2 = pd.read_csv('./data/nd-football-2018-roster.csv')\n",
    "athletes_data2.set_index('Name', inplace=True)\n",
    "athletes_data2.head()"
   ]
  },
  {
   "cell_type": "markdown",
   "metadata": {},
   "source": [
    "# Data Indexing and Selection"
   ]
  },
  {
   "cell_type": "markdown",
   "metadata": {},
   "source": [
    "You'll find that many of the same techniques that we used with NumPy arrays will also be available for these objects. In addition, they add some additional functionality that will be very familiar to anyone who has experience with Python dictionaries."
   ]
  },
  {
   "cell_type": "code",
   "execution_count": null,
   "metadata": {},
   "outputs": [],
   "source": [
    "college_scorecard = pd.read_csv(\n",
    "    './data/college-scorecard-data-scrubbed.csv')\n",
    "college_scorecard.head()"
   ]
  },
  {
   "cell_type": "markdown",
   "metadata": {},
   "source": [
    "### Encoding"
   ]
  },
  {
   "cell_type": "markdown",
   "metadata": {},
   "source": [
    "Text files are encoded in different formats when they are written. To read them, you must decode them with the same standard or you'll have a problem.\n",
    "\n",
    "For example, our `college-scorecard-data-scrubbed.csv` file was encoded using `latin-1`, but the default setting for Pandas in Python 3 is `utf-8` so we will get an error if we try to read the file without specify the correct encoding like so:"
   ]
  },
  {
   "cell_type": "code",
   "execution_count": null,
   "metadata": {},
   "outputs": [],
   "source": [
    "college_scorecard = pd.read_csv(\n",
    "    './data/college-scorecard-data-scrubbed.csv', \n",
    "    encoding='latin-1')\n",
    "college_scorecard.head()"
   ]
  },
  {
   "cell_type": "code",
   "execution_count": null,
   "metadata": {},
   "outputs": [],
   "source": [
    "college_scorecard = pd.read_csv(\n",
    "    './data/college-scorecard-data-scrubbed.csv', \n",
    "    encoding='latin-1', \n",
    "    index_col='institution_name')\n",
    "college_scorecard.head()"
   ]
  },
  {
   "cell_type": "markdown",
   "metadata": {},
   "source": [
    "**NOTE**: In the last read_csv, we are using `index_col` keyword argument to provide the column we want to use as an index. This is a common way of loading CSV when we want a specific column to be an index. "
   ]
  },
  {
   "cell_type": "markdown",
   "metadata": {},
   "source": [
    "## Selecting Data from `Series` Objects"
   ]
  },
  {
   "cell_type": "markdown",
   "metadata": {},
   "source": [
    "Let's start by grabbing the `url` series object out of our data frame:"
   ]
  },
  {
   "cell_type": "code",
   "execution_count": null,
   "metadata": {},
   "outputs": [],
   "source": [
    "url_series = college_scorecard['url']\n",
    "url_series.head()"
   ]
  },
  {
   "cell_type": "markdown",
   "metadata": {},
   "source": [
    "As a reminder, a `Series` object is comprised of an explicit index and the values. **Notice here that our `Series` object inherit the 'institution_name' column values as the index from the `DataFrame`.**"
   ]
  },
  {
   "cell_type": "markdown",
   "metadata": {},
   "source": [
    "### Dictionary Like Features"
   ]
  },
  {
   "cell_type": "markdown",
   "metadata": {},
   "source": [
    "Several of the methods available on Python **`dict`** objects are also available on `Series` objects. The reason that this is possible is because Pandas maintains a mapping relationship between the explicit index elements and the Series values - just like standard Python does between the keys & values of a dictionary.  "
   ]
  },
  {
   "cell_type": "markdown",
   "metadata": {},
   "source": [
    "#### Membership Testing with `in`\n",
    "You can determine if a given **index** exists in a `Series` using the `in` keyword:\n"
   ]
  },
  {
   "cell_type": "code",
   "execution_count": null,
   "metadata": {},
   "outputs": [],
   "source": [
    "'University of Notre Dame' in url_series"
   ]
  },
  {
   "cell_type": "markdown",
   "metadata": {},
   "source": [
    "#### Value Retrieval via Index \"Key\"\n",
    "You can retrieve a value from the `Series` by passing it the index \"key\" you are interest in.b"
   ]
  },
  {
   "cell_type": "code",
   "execution_count": null,
   "metadata": {},
   "outputs": [],
   "source": [
    "url_series['University of Notre Dame']"
   ]
  },
  {
   "cell_type": "code",
   "execution_count": null,
   "metadata": {},
   "outputs": [],
   "source": [
    "url_series['Carnegie Mellon University']"
   ]
  },
  {
   "cell_type": "markdown",
   "metadata": {},
   "source": [
    "### Array Like Features\n",
    "Now we will explore some of the array like features of `Series` objects. Most of this will be familiar given what you already know about NumPy arrays, so we will move quickly."
   ]
  },
  {
   "cell_type": "markdown",
   "metadata": {},
   "source": [
    "#### Slicing with Explicit Indexes & Implicit Indexes\n",
    "Slicing is pretty straight forward with NumPy arrays because of their implicit integer based indexes. It gets a little bit more complicated with `Series` objects because the explicit index isn't necessarily integer based."
   ]
  },
  {
   "cell_type": "markdown",
   "metadata": {},
   "source": [
    "Just like normal slice, you can specify two elements that you want to be the start/end of what is returned. The difference here is that you can specify the actual index element names/keys instead of numbers.\n",
    "\n",
    "Here will we ask for all the listings from Stanford to Notre Dame."
   ]
  },
  {
   "cell_type": "code",
   "execution_count": null,
   "metadata": {},
   "outputs": [],
   "source": [
    "url_series['Stanford University':'University of Notre Dame']"
   ]
  },
  {
   "cell_type": "markdown",
   "metadata": {},
   "source": [
    "<div class=\"alert alert-block alert-info\">\n",
    "<p>\n",
    "It is important to note that the reverse request, `url_series['University of Notre Dame': 'Stanford University']` would have yielded no results.\n",
    "</p>\n",
    "<p>\n",
    "This is because 'University of Notre Dame' appears after 'Stanford' in the CSV file. Remember that technically, the first item in a slice notation is the 'start' and the second is the 'end'. It is important that you have them in the right order.\n",
    "</p>\n",
    "</div> "
   ]
  },
  {
   "cell_type": "markdown",
   "metadata": {},
   "source": [
    "<div class=\"alert alert-block alert-danger\">\n",
    "<h5>Warning: Important Distinction</h5>\n",
    "<p>\n",
    "In a NumPy array slice (or when using an implicit index), the 'end' value of the slice notation is not included in the return slice.\n",
    "</p>\n",
    "<p>\n",
    "Strangely, when using a slice with an explicit index - the end value is included. Be careful about this as you could end up with an extra record in your slices that you don't want.\n",
    "</p>\n",
    "</div> "
   ]
  },
  {
   "cell_type": "markdown",
   "metadata": {},
   "source": [
    "##### The Implicit Index Lurking in the Shadows"
   ]
  },
  {
   "cell_type": "markdown",
   "metadata": {},
   "source": [
    "While it is true that every `Series` object has an explicit index - it is also true that there is also an implicit index that is always available. Because of this, you can continue to use \"normal\" slice notations on `Series` objects with non-integer based explicit indexes.\n",
    "\n",
    "Here are a couple of examples."
   ]
  },
  {
   "cell_type": "code",
   "execution_count": null,
   "metadata": {},
   "outputs": [],
   "source": [
    "# Using \"normal\" slice notations on our `url_series`\n",
    "# First ten elements\n",
    "url_series[0:10]"
   ]
  },
  {
   "cell_type": "markdown",
   "metadata": {},
   "source": [
    "<div class=\"alert alert-block alert-danger\">\n",
    "<h5>Important Warning! Implicit vs. Explicit indexing</h5>\n",
    "<p>\n",
    "A confusing situation arises when you have a `Series` with an explicit integer index that doesn't start with 0 and increment 1 for each element.\n",
    "</p>\n",
    "\n",
    "<p>\n",
    "Slice notations get convoluted in this case and you have to use some ** special attributes (.loc, .iloc, .ix) that are discussed in your textbook on page 109-110** to keep things straight. \n",
    "</p>\n",
    "</div> "
   ]
  },
  {
   "cell_type": "markdown",
   "metadata": {},
   "source": [
    "#### Series Masking\n",
    "You can do masking on `Series` objects in the same way you did so with NumPy Arrays. Review the Jupyter Notebook for Sept 19th for more information on masking using NumPy\n",
    "\n",
    "Here a couple of examples:"
   ]
  },
  {
   "cell_type": "code",
   "execution_count": null,
   "metadata": {},
   "outputs": [],
   "source": [
    "# Let's get a new Series object with numeric data on SAT average scores.\n",
    "sat_average_series = college_scorecard['sat_average']"
   ]
  },
  {
   "cell_type": "code",
   "execution_count": null,
   "metadata": {},
   "outputs": [],
   "source": [
    "sat_average_series.head()"
   ]
  },
  {
   "cell_type": "code",
   "execution_count": null,
   "metadata": {},
   "outputs": [],
   "source": [
    "sat_average_series > 1300"
   ]
  },
  {
   "cell_type": "code",
   "execution_count": null,
   "metadata": {},
   "outputs": [],
   "source": [
    "# Return schools with SAT averages over 1200\n",
    "sat_average_series[sat_average_series > 1300]"
   ]
  },
  {
   "cell_type": "markdown",
   "metadata": {},
   "source": [
    "## Activity:\n",
    "\n",
    "1. What schools have averages between 1400 & 1500\n",
    "1. Is University of Notre Dame one of the schools? \n",
    "1. How about 'Harvard University'? \n",
    "1. If not, what is Harvards SAT average?\n"
   ]
  },
  {
   "cell_type": "code",
   "execution_count": null,
   "metadata": {},
   "outputs": [],
   "source": []
  },
  {
   "cell_type": "markdown",
   "metadata": {},
   "source": [
    "## Selecting Data from `DataFrame` Objects"
   ]
  },
  {
   "cell_type": "markdown",
   "metadata": {},
   "source": [
    "Similiarly to what we found with `Series` objects. You can interact with `DataFrame` objects in ways that sometimes resemble a dictionary and other times a NumPy array."
   ]
  },
  {
   "cell_type": "markdown",
   "metadata": {},
   "source": [
    "### Dictionary Like Features\n"
   ]
  },
  {
   "cell_type": "code",
   "execution_count": null,
   "metadata": {},
   "outputs": [],
   "source": [
    "college_scorecard.head()"
   ]
  },
  {
   "cell_type": "code",
   "execution_count": null,
   "metadata": {},
   "outputs": [],
   "source": [
    "# You can retrieve an individual Series from a DataFrame\n",
    "# by passing the Series name/key to the DataFrame\n",
    "college_scorecard['religious_affiliation_desc'][:10]"
   ]
  },
  {
   "cell_type": "code",
   "execution_count": null,
   "metadata": {},
   "outputs": [],
   "source": [
    "# Test for the existence of a given column/Series in a DataFrame\n",
    "'city' in college_scorecard"
   ]
  },
  {
   "cell_type": "code",
   "execution_count": null,
   "metadata": {},
   "outputs": [],
   "source": [
    "college_scorecard['city']\n"
   ]
  },
  {
   "cell_type": "markdown",
   "metadata": {},
   "source": [
    "<div class=\"alert alert-block alert-warning\">\n",
    "<p> Note the distiction with `in` operator on a `Series` and on a `DataFrame`. When you use it on a `Series` it checks if it is present in the index. Whereas for a `DataFrame`, it check if it is present in the columns\n",
    "<div>"
   ]
  },
  {
   "cell_type": "markdown",
   "metadata": {},
   "source": [
    "### Array Like Features\n",
    "\n",
    "#### Slicing (Explicit Index)\n",
    "Slicing affects affects rows, not columns in a `DataFrame`. In other words, you can slice based on the index values, but not the column values. Let's get a slice of all rows from 'Alaska Bible College' to 'Alabama State University':"
   ]
  },
  {
   "cell_type": "code",
   "execution_count": null,
   "metadata": {},
   "outputs": [],
   "source": [
    "college_scorecard['Alaska Bible College': 'Alabama State University']"
   ]
  },
  {
   "cell_type": "markdown",
   "metadata": {},
   "source": [
    "<div class=\"alert alert-block alert-info\">\n",
    "<p>\n",
    "You can however use the `iloc`, and `loc` methods to slice based on columns.  **You can look into this on pages 113-114 of your textbook if you are interested.**</p>\n",
    "</div> "
   ]
  },
  {
   "cell_type": "markdown",
   "metadata": {},
   "source": [
    "#### Slicing (implicit index)\n",
    "You can also rely on the implicit integer index of the `DataFrame` (yes, it has one too) to retrieve rows by the numeric index.\n",
    "\n",
    "**Just remember, the 'end' value of the slice is not included when using the implicit index.**"
   ]
  },
  {
   "cell_type": "code",
   "execution_count": null,
   "metadata": {},
   "outputs": [],
   "source": [
    "college_scorecard[0:5]"
   ]
  },
  {
   "cell_type": "markdown",
   "metadata": {},
   "source": [
    "#### Masking\n",
    "\n",
    "Masking operations likewise return rows from a `DataFrame`, but the **criteria of the masks will be a comparison on one of the columns/Series**. This is somewhat confusing sounding, so let's just demonstrate:"
   ]
  },
  {
   "cell_type": "code",
   "execution_count": null,
   "metadata": {},
   "outputs": [],
   "source": [
    "# Return all rows where the 'state' Series has a value of 'AK'\n",
    "college_scorecard[ college_scorecard['state'] == 'AK' ]"
   ]
  },
  {
   "cell_type": "code",
   "execution_count": null,
   "metadata": {},
   "outputs": [],
   "source": [
    "# Which colleges in IN offer Bachelors degrees?\n",
    "# Again, notice the parathesis here\n",
    "college_scorecard[ (college_scorecard['state'] == 'IN') & (college_scorecard['predominant_degree_desc'] == 'Bachelors')]\n",
    "\n"
   ]
  },
  {
   "cell_type": "markdown",
   "metadata": {},
   "source": [
    "### Selecting Multiple Columns of DataFrame"
   ]
  },
  {
   "cell_type": "code",
   "execution_count": null,
   "metadata": {},
   "outputs": [],
   "source": [
    "two_columns = college_scorecard[ ['state', 'predominant_degree_desc'] ]\n",
    "two_columns.head()"
   ]
  },
  {
   "cell_type": "markdown",
   "metadata": {},
   "source": [
    "**NOTE**: Among the two sets of square brackets `[[ ]]`, the first set is used to select the columns, the second set is used to list the columns you want to select. "
   ]
  },
  {
   "cell_type": "markdown",
   "metadata": {},
   "source": [
    "## Activity On Football Athletes Data\n",
    "\n",
    "1. Details of the players who are in the freshmen class?\n",
    "1. Details of the players whose position is offensive linemen (OL) and are in their their last year? \n",
    "1. Average height of players whose position is Linebacker (LB) and are Sophmores? "
   ]
  },
  {
   "cell_type": "markdown",
   "metadata": {},
   "source": [
    "### Here is tip to remember, use `unique()` to get a list of options from a dataset "
   ]
  },
  {
   "cell_type": "code",
   "execution_count": null,
   "metadata": {},
   "outputs": [],
   "source": [
    "print(athletes_data['Class'].unique())\n",
    "print(athletes_data['Position'].unique())"
   ]
  },
  {
   "cell_type": "code",
   "execution_count": null,
   "metadata": {},
   "outputs": [],
   "source": []
  },
  {
   "cell_type": "markdown",
   "metadata": {},
   "source": [
    "## UFunc Arithmatic with Index Preservation"
   ]
  },
  {
   "cell_type": "markdown",
   "metadata": {},
   "source": [
    "Let us convert the height of the players into meters. The math to convert from inches to meters is to multiply by 0.0254. "
   ]
  },
  {
   "cell_type": "code",
   "execution_count": null,
   "metadata": {},
   "outputs": [],
   "source": [
    "athletes_data.head(5)"
   ]
  },
  {
   "cell_type": "code",
   "execution_count": null,
   "metadata": {},
   "outputs": [],
   "source": [
    "athletes_data['Height'] = athletes_data['Height'] * 0.0254"
   ]
  },
  {
   "cell_type": "code",
   "execution_count": null,
   "metadata": {},
   "outputs": [],
   "source": [
    "athletes_data.head(5)"
   ]
  },
  {
   "cell_type": "markdown",
   "metadata": {},
   "source": [
    "\n",
    "Do you see how my index was still preserved? This is referred to as **index preservation** and we will see it come into play both for `Series` and `DataFrame` objects when we using arithmetic functions on them."
   ]
  },
  {
   "cell_type": "markdown",
   "metadata": {},
   "source": [
    "## Binary Functions and `DataFrame` Objects\n",
    "Now let's try performing binary UFunc operations on DataFrames."
   ]
  },
  {
   "cell_type": "markdown",
   "metadata": {},
   "source": [
    "#### Operations between 2 DataFrames\n",
    "\n",
    "To demonstate how arithmetic operations work between two different `DataFrame` objects I'll need to construct a couple of simple objects.\n",
    "\n",
    "I'll go ahead and create two imaginary objects that hold sales data over two different years for the burger joint: **In-N-Out**"
   ]
  },
  {
   "cell_type": "code",
   "execution_count": null,
   "metadata": {},
   "outputs": [],
   "source": [
    "import pandas as pd\n",
    "\n",
    "# 2015 Sales DataFrame\n",
    "sales_2015 = pd.DataFrame([\n",
    "        {'Burgers': 9574265, 'Fries': 7124736, 'Drinks': 11563762},\n",
    "        {'Burgers': 6574265, 'Fries': 5124736, 'Drinks': 13563762},\n",
    "    ], \n",
    "    index=['California', 'Texas'])\n",
    "\n",
    "# 2016 Sales DataFrame\n",
    "# They open their first Indiana store at Notre Dame!!!\n",
    "# And they sell Irish Shakes nationwide to celebrate.\n",
    "sales_2016 = pd.DataFrame([\n",
    "        {'Burgers': 9742652, 'Fries': 7354736, 'Drinks': 11133762, 'Irish Shakes': 75812},\n",
    "        {'Burgers': 7774222, 'Fries': 6214736, 'Drinks': 14563762, 'Irish Shakes': 15525},\n",
    "        {'Burgers': 74265, 'Fries': 54736, 'Drinks': 43762, 'Irish Shakes': 23612},\n",
    "    ], \n",
    "    index=['California', 'Texas', 'Indiana'])\n"
   ]
  },
  {
   "cell_type": "markdown",
   "metadata": {},
   "source": [
    "Here's what those `DataFrames` look like separately:"
   ]
  },
  {
   "cell_type": "code",
   "execution_count": null,
   "metadata": {},
   "outputs": [],
   "source": [
    "print(sales_2015, sales_2016, sep='\\n\\n\\n')"
   ]
  },
  {
   "cell_type": "code",
   "execution_count": null,
   "metadata": {},
   "outputs": [],
   "source": [
    "sales_2015 + sales_2016"
   ]
  },
  {
   "cell_type": "markdown",
   "metadata": {},
   "source": [
    "To have a value in the results of an operation between two `DataFrame` objects, there must be a value in both of the objects for a given Index/Column combination.\n",
    "\n",
    "This is why there is no data for Indiana in our results (that index only existed in 2016) and no results for Irish Shakes (that column only existed in 2016)."
   ]
  },
  {
   "cell_type": "markdown",
   "metadata": {},
   "source": [
    "## Loading JSON Files\n",
    "In terms of web APIs, JSON is the dominant data transmission format on the internet right now - so you'll need to be familar with how to load it into **`DataFrame`** objects as well.\n",
    "\n",
    "There are a wide variety of ways that JSON documents can be structured. Unless you want to really start getting down into the,  there are really only a few formats that Pandas will read without problems.\n",
    "\n",
    "For our purposes, we'll use a pretty basic file that conforms to one of the standard formats just to get our feet wet.\n",
    "\n",
    "I've uploaded a JSON formatted file `pokedex.json` for us to use.  Hopefully, you are a Pokemon fan."
   ]
  },
  {
   "cell_type": "code",
   "execution_count": null,
   "metadata": {},
   "outputs": [],
   "source": [
    "# We use the `orient` parameter to tell Pandas what the basic \n",
    "# structure of the JSON is.  The other options are:\n",
    "# split, index, columns, and values\n",
    "# More Info: https://pandas.pydata.org/pandas-docs/stable/generated/pandas.read_json.html\n",
    "pokedex = pd.read_json('./data/pokedex.json', orient='records')\n",
    "pokedex.head()"
   ]
  },
  {
   "cell_type": "markdown",
   "metadata": {},
   "source": [
    "## Practice Dictionary Activity\n",
    "\n",
    "1. Accept a string as an input from the user\n",
    "2. Create a dictionary that contains the frequency of each word in the string.\n",
    "3. Print the dictionary\n",
    "\n",
    "Below is the sample interaction"
   ]
  },
  {
   "cell_type": "raw",
   "metadata": {},
   "source": [
    "Enter a sentence: My name is My name is My name is Jonathan\n",
    "\n",
    "{'My': 3, 'name': 3, 'is': 3, 'Jonathan': 1}"
   ]
  },
  {
   "cell_type": "code",
   "execution_count": null,
   "metadata": {},
   "outputs": [],
   "source": [
    "# Accept a setence\n",
    "sentence = input(\"Enter a sentence\")\n",
    "\n",
    "# Convert the sentence to a list of words using split() function\n",
    "words_list = sentence.split()\n",
    "\n",
    "# Create an empty dictionary that contains words and frequencies\n",
    "\n",
    "\n",
    "# Iterate through every word in the list\n",
    "\n",
    "# Finally print the dictionary\n"
   ]
  }
 ],
 "metadata": {
  "kernelspec": {
   "display_name": "Python 3",
   "language": "python",
   "name": "python3"
  },
  "language_info": {
   "codemirror_mode": {
    "name": "ipython",
    "version": 3
   },
   "file_extension": ".py",
   "mimetype": "text/x-python",
   "name": "python",
   "nbconvert_exporter": "python",
   "pygments_lexer": "ipython3",
   "version": "3.7.4"
  }
 },
 "nbformat": 4,
 "nbformat_minor": 2
}
