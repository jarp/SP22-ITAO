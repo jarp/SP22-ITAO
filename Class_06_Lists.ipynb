{
 "cells": [
  {
   "cell_type": "markdown",
   "metadata": {},
   "source": [
    "## List: Practice"
   ]
  },
  {
   "cell_type": "code",
   "execution_count": 1,
   "metadata": {},
   "outputs": [],
   "source": [
    "list_one = [10,20,30,40,50]"
   ]
  },
  {
   "cell_type": "markdown",
   "metadata": {},
   "source": [
    "## List: Basics and Accessing"
   ]
  },
  {
   "cell_type": "code",
   "execution_count": 2,
   "metadata": {},
   "outputs": [
    {
     "name": "stdout",
     "output_type": "stream",
     "text": [
      "10\n",
      "30\n"
     ]
    }
   ],
   "source": [
    "# zero indexed, accessing items in a list\n",
    "print(list_one[0])\n",
    "print(list_one[2])"
   ]
  },
  {
   "cell_type": "code",
   "execution_count": 3,
   "metadata": {},
   "outputs": [],
   "source": [
    "# update a list by referencing via zero-index\n",
    "list_one[0] = 5"
   ]
  },
  {
   "cell_type": "code",
   "execution_count": 4,
   "metadata": {},
   "outputs": [
    {
     "data": {
      "text/plain": [
       "[5, 20, 30, 40, 50]"
      ]
     },
     "execution_count": 4,
     "metadata": {},
     "output_type": "execute_result"
    }
   ],
   "source": [
    "list_one"
   ]
  },
  {
   "cell_type": "markdown",
   "metadata": {},
   "source": [
    "### Negative index accessing"
   ]
  },
  {
   "cell_type": "code",
   "execution_count": 5,
   "metadata": {},
   "outputs": [
    {
     "name": "stdout",
     "output_type": "stream",
     "text": [
      "[5, 20, 30, 40, 50]\n",
      "50\n",
      "40\n"
     ]
    }
   ],
   "source": [
    "# more on access list items via index\n",
    "print(list_one)\n",
    "print(list_one[-1])\n",
    "print(list_one[-2])"
   ]
  },
  {
   "cell_type": "markdown",
   "metadata": {},
   "source": [
    "### List: Sublist - x[a:b] means give the list from index a (included) to index b (not included)"
   ]
  },
  {
   "cell_type": "code",
   "execution_count": 6,
   "metadata": {},
   "outputs": [
    {
     "data": {
      "text/plain": [
       "[20, 30]"
      ]
     },
     "execution_count": 6,
     "metadata": {},
     "output_type": "execute_result"
    }
   ],
   "source": [
    "# create smaller list from lager list\n",
    "list_one[1:3]"
   ]
  },
  {
   "cell_type": "code",
   "execution_count": 7,
   "metadata": {},
   "outputs": [],
   "source": [
    "list_two = [10,20,30,40,50,60,70,80,90]"
   ]
  },
  {
   "cell_type": "markdown",
   "metadata": {},
   "source": [
    "### List: Sublist - x[a:b:c] means give the list from index a (included) to index b (not included) with step increments in index by c"
   ]
  },
  {
   "cell_type": "code",
   "execution_count": 8,
   "metadata": {},
   "outputs": [
    {
     "data": {
      "text/plain": [
       "[10, 40, 70]"
      ]
     },
     "execution_count": 8,
     "metadata": {},
     "output_type": "execute_result"
    }
   ],
   "source": [
    "# more powerful sublisting with indexes and steps\n",
    "list_two[0:8:3]"
   ]
  },
  {
   "cell_type": "markdown",
   "metadata": {},
   "source": [
    "### When the step size is negative - the list is accessed in the reverse order"
   ]
  },
  {
   "cell_type": "code",
   "execution_count": 9,
   "metadata": {},
   "outputs": [
    {
     "data": {
      "text/plain": [
       "[10, 20, 30, 40, 50, 60, 70, 80, 90]"
      ]
     },
     "execution_count": 9,
     "metadata": {},
     "output_type": "execute_result"
    }
   ],
   "source": [
    "# what does this do?\n",
    "list_two[:]"
   ]
  },
  {
   "cell_type": "code",
   "execution_count": 10,
   "metadata": {},
   "outputs": [
    {
     "data": {
      "text/plain": [
       "[90, 80, 70, 60, 50, 40, 30, 20, 10]"
      ]
     },
     "execution_count": 10,
     "metadata": {},
     "output_type": "execute_result"
    }
   ],
   "source": [
    "# whoa!\n",
    "list_two[::-1]"
   ]
  },
  {
   "cell_type": "code",
   "execution_count": 11,
   "metadata": {},
   "outputs": [
    {
     "data": {
      "text/plain": [
       "[90, 70, 50, 30, 10]"
      ]
     },
     "execution_count": 11,
     "metadata": {},
     "output_type": "execute_result"
    }
   ],
   "source": [
    "# cool\n",
    "list_two[::-2]"
   ]
  },
  {
   "cell_type": "code",
   "execution_count": 12,
   "metadata": {},
   "outputs": [
    {
     "data": {
      "text/plain": [
       "[]"
      ]
     },
     "execution_count": 12,
     "metadata": {},
     "output_type": "execute_result"
    }
   ],
   "source": [
    "# well, ok\n",
    "list_two[-2:2]"
   ]
  },
  {
   "cell_type": "code",
   "execution_count": 13,
   "metadata": {},
   "outputs": [
    {
     "data": {
      "text/plain": [
       "[80, 70, 60, 50, 40]"
      ]
     },
     "execution_count": 13,
     "metadata": {},
     "output_type": "execute_result"
    }
   ],
   "source": [
    "# omg\n",
    "list_two[-2:2:-1]"
   ]
  },
  {
   "cell_type": "markdown",
   "metadata": {},
   "source": [
    "## List Assignment happens by reference \n",
    "\n",
    "More about memory and how it affects python"
   ]
  },
  {
   "cell_type": "code",
   "execution_count": 14,
   "metadata": {},
   "outputs": [
    {
     "name": "stdout",
     "output_type": "stream",
     "text": [
      "100\n"
     ]
    }
   ],
   "source": [
    "var1 = 100\n",
    "var2 = var1 # Assignment by value\n",
    "var2 = var2 + 50\n",
    "print(var1)"
   ]
  },
  {
   "cell_type": "code",
   "execution_count": 15,
   "metadata": {},
   "outputs": [
    {
     "name": "stdout",
     "output_type": "stream",
     "text": [
      "[1, 2, 100, 4]\n",
      "[343, 2, 100, 4]\n",
      "[343, 2, 100, 4]\n"
     ]
    }
   ],
   "source": [
    "list1 = [1,2,3,4]\n",
    "list1[2] = 100\n",
    "list2 = list1 # Assignment by reference\n",
    "print(list2)\n",
    "list2[0] = 343\n",
    "print(list2)\n",
    "print(list1)"
   ]
  },
  {
   "cell_type": "code",
   "execution_count": null,
   "metadata": {},
   "outputs": [],
   "source": [
    "list3 = [1,2,3,4]\n",
    "list3[2] = 100\n",
    "list4 = list3[:] # Assignment by copying\n",
    "print(list4)\n",
    "list4[0] = 343\n",
    "print(list3)\n",
    "print(list4)"
   ]
  },
  {
   "cell_type": "code",
   "execution_count": null,
   "metadata": {},
   "outputs": [],
   "source": [
    "list_one = [10,20,30,40,50]\n",
    "list_two = list_one\n",
    "\n",
    "list_two[0] = 100\n",
    "print(list_one)"
   ]
  },
  {
   "cell_type": "markdown",
   "metadata": {},
   "source": [
    "## List sent as arguments to a function are also assigned by reference"
   ]
  },
  {
   "cell_type": "code",
   "execution_count": 16,
   "metadata": {},
   "outputs": [
    {
     "name": "stdout",
     "output_type": "stream",
     "text": [
      "11\n",
      "10\n"
     ]
    }
   ],
   "source": [
    "def function_by_value(num_value):\n",
    "    num_value = num_value + 1\n",
    "    print(num_value)\n",
    "    \n",
    "number = 10\n",
    "function_by_value(number)\n",
    "print(number)"
   ]
  },
  {
   "cell_type": "markdown",
   "metadata": {},
   "source": [
    "You should observe that the value _number_ has not changed, but we observe what happens when a list is sent as an argument "
   ]
  },
  {
   "cell_type": "code",
   "execution_count": 17,
   "metadata": {},
   "outputs": [
    {
     "name": "stdout",
     "output_type": "stream",
     "text": [
      "[5, 2, 3, 4]\n"
     ]
    }
   ],
   "source": [
    "def function_by_reference(lis):\n",
    "    lis[0] = 5\n",
    "    \n",
    "my_list = [1,2,3,4]\n",
    "function_by_reference(my_list)\n",
    "print(my_list)"
   ]
  },
  {
   "cell_type": "markdown",
   "metadata": {},
   "source": [
    "We observe that `my_list` is sent to the function and gets modified within the function"
   ]
  },
  {
   "cell_type": "code",
   "execution_count": null,
   "metadata": {},
   "outputs": [],
   "source": [
    "def function_by_reference(lis):\n",
    "    lis[0] = 5\n",
    "    \n",
    "my_list = [1,2,3,4]\n",
    "function_by_reference(my_list[:])\n",
    "print(my_list)"
   ]
  },
  {
   "cell_type": "markdown",
   "metadata": {},
   "source": [
    "In the above case my_list outside the function is NOT modified"
   ]
  },
  {
   "cell_type": "markdown",
   "metadata": {},
   "source": [
    "### Heterogeneous Lists\n",
    "So far, all of the elements in our two lists were the same type. Integers in `list_one` and strings in `list_two`. But this is not a requirement in Python.  You can place any number of different data types in a single list. For example: "
   ]
  },
  {
   "cell_type": "code",
   "execution_count": 18,
   "metadata": {},
   "outputs": [
    {
     "name": "stdout",
     "output_type": "stream",
     "text": [
      "<class 'bool'>\n",
      "<class 'str'>\n",
      "<class 'float'>\n"
     ]
    }
   ],
   "source": [
    "list_het = [True, \"2\", 3.0, 4]\n",
    "print(type(list_het[0]))\n",
    "print(type(list_het[1]))\n",
    "print(type(list_het[2]))"
   ]
  },
  {
   "cell_type": "markdown",
   "metadata": {},
   "source": [
    "That's super flexible and pretty cool, but it does come at a performance cost.\n",
    "\n",
    "We'll learn in the next few classes that Python List take up additional space and they are further become space _inefficient_ with these heterogeneous lists. \n",
    "\n",
    "For this reason, when dealing with large datasets heterogeneous lists are avoided. "
   ]
  },
  {
   "cell_type": "markdown",
   "metadata": {},
   "source": [
    "## Yo Dawg... I heard you like lists"
   ]
  },
  {
   "cell_type": "code",
   "execution_count": 19,
   "metadata": {},
   "outputs": [],
   "source": [
    "list_of_list = [ [1,2,3], [4,5,6], [7, 8,9] ]"
   ]
  },
  {
   "cell_type": "code",
   "execution_count": 20,
   "metadata": {},
   "outputs": [
    {
     "data": {
      "text/plain": [
       "[4, 5, 6]"
      ]
     },
     "execution_count": 20,
     "metadata": {},
     "output_type": "execute_result"
    }
   ],
   "source": [
    "list_of_list[1]"
   ]
  },
  {
   "cell_type": "code",
   "execution_count": 21,
   "metadata": {},
   "outputs": [
    {
     "data": {
      "text/plain": [
       "[4, 5]"
      ]
     },
     "execution_count": 21,
     "metadata": {},
     "output_type": "execute_result"
    }
   ],
   "source": [
    "list_of_list[1][:2]"
   ]
  },
  {
   "cell_type": "markdown",
   "metadata": {},
   "source": [
    "## Using List in a for Loop"
   ]
  },
  {
   "cell_type": "code",
   "execution_count": 22,
   "metadata": {},
   "outputs": [
    {
     "name": "stdout",
     "output_type": "stream",
     "text": [
      "0\n",
      "1\n",
      "2\n",
      "3\n",
      "4\n"
     ]
    }
   ],
   "source": [
    "for var in range(0,5):\n",
    "    print(var)"
   ]
  },
  {
   "cell_type": "code",
   "execution_count": 23,
   "metadata": {},
   "outputs": [
    {
     "name": "stdout",
     "output_type": "stream",
     "text": [
      "20\n",
      "30\n",
      "50\n",
      "70\n"
     ]
    }
   ],
   "source": [
    "my_list = [20,30,50,70]\n",
    "for x in my_list:\n",
    "    print(x)"
   ]
  },
  {
   "cell_type": "code",
   "execution_count": 24,
   "metadata": {},
   "outputs": [
    {
     "name": "stdout",
     "output_type": "stream",
     "text": [
      "<class 'bool'>\n",
      "<class 'str'>\n",
      "<class 'float'>\n",
      "<class 'int'>\n",
      "<class 'NoneType'>\n",
      "<class 'list'>\n"
     ]
    }
   ],
   "source": [
    "list_het = [True, \"2\", 3.0, 4, None, [1,2,3]]\n",
    "\n",
    "for i in list_het:\n",
    "    print(type(i))"
   ]
  },
  {
   "cell_type": "markdown",
   "metadata": {},
   "source": [
    "## Operations on List\n",
    "\n",
    "* len()\n",
    "\n",
    "\n",
    "* sum() \n",
    "\n",
    "\n",
    "\n",
    "* max()\n",
    "\n",
    "\n",
    "\n",
    "* min()\n"
   ]
  },
  {
   "cell_type": "code",
   "execution_count": 25,
   "metadata": {},
   "outputs": [],
   "source": [
    "lis = [1,2, 5, 2, 4,-2, 10]"
   ]
  },
  {
   "cell_type": "code",
   "execution_count": 26,
   "metadata": {},
   "outputs": [
    {
     "name": "stdout",
     "output_type": "stream",
     "text": [
      "7\n"
     ]
    }
   ],
   "source": [
    "# find how many items are in a list\n",
    "len_list = len(lis)\n",
    "print(len_list)"
   ]
  },
  {
   "cell_type": "code",
   "execution_count": 27,
   "metadata": {},
   "outputs": [
    {
     "name": "stdout",
     "output_type": "stream",
     "text": [
      "22\n"
     ]
    }
   ],
   "source": [
    "# add all the values in a list\n",
    "sum_list = sum(lis)\n",
    "print(sum_list)"
   ]
  },
  {
   "cell_type": "code",
   "execution_count": 28,
   "metadata": {},
   "outputs": [
    {
     "name": "stdout",
     "output_type": "stream",
     "text": [
      "-2\n"
     ]
    }
   ],
   "source": [
    "# find the smallest value\n",
    "min_list = min(lis)\n",
    "print(min_list)"
   ]
  },
  {
   "cell_type": "code",
   "execution_count": 29,
   "metadata": {},
   "outputs": [
    {
     "name": "stdout",
     "output_type": "stream",
     "text": [
      "10\n"
     ]
    }
   ],
   "source": [
    "# find largest value\n",
    "max_list = max(lis)\n",
    "print(max_list)"
   ]
  },
  {
   "cell_type": "markdown",
   "metadata": {},
   "source": [
    "## Practice List with for loop #1\n",
    "\n",
    "Write a function that takes a list as input and returns the number of 0s in the list. Also, **assume the list contains only 1s and 0s**\n",
    "\n",
    "Write a program that creates a sample list and prints the returned value of the above function. Verify if your function is working correctly."
   ]
  },
  {
   "cell_type": "markdown",
   "metadata": {},
   "source": [
    "For example\n",
    "```python\n",
    "lis = [1, 0, 1, 1, 0, 1, 0]\n",
    "num_zeros = find_num_zeros(lis)\n",
    "print(num_zeros)\n",
    "```\n",
    "The above program should print `3`"
   ]
  },
  {
   "cell_type": "code",
   "execution_count": 30,
   "metadata": {},
   "outputs": [],
   "source": [
    "def find_num_zeros(lis):\n",
    "    \"\"\"\n",
    "    Returns the number of 0s in the list of 1's and 0's\n",
    "    \"\"\"\n",
    "    count = 0\n",
    "    for i in lis:\n",
    "        if i == 0:\n",
    "            count = count + 1\n",
    "    return count\n",
    "        "
   ]
  },
  {
   "cell_type": "code",
   "execution_count": 31,
   "metadata": {},
   "outputs": [
    {
     "name": "stdout",
     "output_type": "stream",
     "text": [
      "8\n"
     ]
    }
   ],
   "source": [
    "lis = [1, 0, 1, 1, 0, 1, 0, 0, 0, 1, 0, 0, 1, 0]\n",
    "num_zeros = find_num_zeros(lis)\n",
    "print(num_zeros)\n"
   ]
  },
  {
   "cell_type": "code",
   "execution_count": 32,
   "metadata": {},
   "outputs": [],
   "source": [
    "# using functions to complete the same task\n",
    "def find_num_zeros_quick(lis):\n",
    "    \"\"\"\n",
    "    Returns the number of 0s in the list of 1's and 0's\n",
    "    But... with a single line of code\n",
    "    \"\"\"\n",
    "    return len(lis) - sum(lis)"
   ]
  },
  {
   "cell_type": "code",
   "execution_count": 33,
   "metadata": {},
   "outputs": [
    {
     "name": "stdout",
     "output_type": "stream",
     "text": [
      "8\n"
     ]
    }
   ],
   "source": [
    "lis = [1, 0, 1, 1, 0, 1, 0, 0, 0, 1, 0, 0, 1, 0]\n",
    "num_zeros = find_num_zeros_quick(lis)\n",
    "print(num_zeros)"
   ]
  },
  {
   "cell_type": "markdown",
   "metadata": {},
   "source": [
    "## List: append(), insert(), remove(), and sort()"
   ]
  },
  {
   "cell_type": "code",
   "execution_count": 35,
   "metadata": {},
   "outputs": [
    {
     "data": {
      "text/plain": [
       "0"
      ]
     },
     "execution_count": 35,
     "metadata": {},
     "output_type": "execute_result"
    }
   ],
   "source": [
    "lis = []\n",
    "len(lis)"
   ]
  },
  {
   "cell_type": "code",
   "execution_count": 36,
   "metadata": {},
   "outputs": [],
   "source": [
    "lis.append(1)\n",
    "lis.append(13)\n",
    "lis.append(8)\n",
    "lis.append(2)"
   ]
  },
  {
   "cell_type": "code",
   "execution_count": 37,
   "metadata": {},
   "outputs": [
    {
     "data": {
      "text/plain": [
       "[1, 13, 8, 2]"
      ]
     },
     "execution_count": 37,
     "metadata": {},
     "output_type": "execute_result"
    }
   ],
   "source": [
    "lis"
   ]
  },
  {
   "cell_type": "code",
   "execution_count": null,
   "metadata": {},
   "outputs": [],
   "source": [
    "list.insert?"
   ]
  },
  {
   "cell_type": "code",
   "execution_count": 38,
   "metadata": {},
   "outputs": [
    {
     "data": {
      "text/plain": [
       "[1, 13, 4, 8, 2]"
      ]
     },
     "execution_count": 38,
     "metadata": {},
     "output_type": "execute_result"
    }
   ],
   "source": [
    "lis.insert(2,4)\n",
    "\n",
    "lis"
   ]
  },
  {
   "cell_type": "code",
   "execution_count": null,
   "metadata": {},
   "outputs": [],
   "source": [
    "list.remove?"
   ]
  },
  {
   "cell_type": "code",
   "execution_count": 39,
   "metadata": {},
   "outputs": [
    {
     "name": "stdout",
     "output_type": "stream",
     "text": [
      "[1, 13, 4, 8, 2, 15, 9, 15]\n"
     ]
    },
    {
     "data": {
      "text/plain": [
       "[1, 13, 4, 8, 2, 9, 15]"
      ]
     },
     "execution_count": 39,
     "metadata": {},
     "output_type": "execute_result"
    }
   ],
   "source": [
    "lis.append(15)\n",
    "lis.append(9)\n",
    "lis.append(15)\n",
    "print(lis)\n",
    "lis.remove(15)\n",
    "lis\n"
   ]
  },
  {
   "cell_type": "code",
   "execution_count": 40,
   "metadata": {},
   "outputs": [
    {
     "name": "stdout",
     "output_type": "stream",
     "text": [
      "[1, 2, 4, 8, 9, 13, 15]\n"
     ]
    }
   ],
   "source": [
    "lis.sort()\n",
    "print(lis)"
   ]
  },
  {
   "cell_type": "code",
   "execution_count": 41,
   "metadata": {},
   "outputs": [
    {
     "name": "stdout",
     "output_type": "stream",
     "text": [
      "['Jonathan', 'albert', 'lily']\n"
     ]
    }
   ],
   "source": [
    "str_list = [\"Jonathan\", \"lily\", \"albert\"]\n",
    "str_list.sort()\n",
    "print(str_list)"
   ]
  },
  {
   "cell_type": "code",
   "execution_count": 42,
   "metadata": {},
   "outputs": [
    {
     "ename": "TypeError",
     "evalue": "'<' not supported between instances of 'str' and 'int'",
     "output_type": "error",
     "traceback": [
      "\u001b[0;31m---------------------------------------------------------------------------\u001b[0m",
      "\u001b[0;31mTypeError\u001b[0m                                 Traceback (most recent call last)",
      "\u001b[0;32m<ipython-input-42-d04964666ecd>\u001b[0m in \u001b[0;36m<module>\u001b[0;34m\u001b[0m\n\u001b[1;32m      1\u001b[0m \u001b[0mhlist\u001b[0m \u001b[0;34m=\u001b[0m \u001b[0;34m[\u001b[0m\u001b[0;36m7\u001b[0m\u001b[0;34m,\u001b[0m \u001b[0;34m\"Jonathan\"\u001b[0m\u001b[0;34m,\u001b[0m \u001b[0;36m3\u001b[0m\u001b[0;34m,\u001b[0m \u001b[0;36m1\u001b[0m\u001b[0;34m,\u001b[0m \u001b[0;34m\"lily\"\u001b[0m\u001b[0;34m]\u001b[0m\u001b[0;34m\u001b[0m\u001b[0;34m\u001b[0m\u001b[0m\n\u001b[0;32m----> 2\u001b[0;31m \u001b[0mhlist\u001b[0m\u001b[0;34m.\u001b[0m\u001b[0msort\u001b[0m\u001b[0;34m(\u001b[0m\u001b[0;34m)\u001b[0m\u001b[0;34m\u001b[0m\u001b[0;34m\u001b[0m\u001b[0m\n\u001b[0m\u001b[1;32m      3\u001b[0m \u001b[0mprint\u001b[0m\u001b[0;34m(\u001b[0m\u001b[0mhlist\u001b[0m\u001b[0;34m)\u001b[0m\u001b[0;34m\u001b[0m\u001b[0;34m\u001b[0m\u001b[0m\n",
      "\u001b[0;31mTypeError\u001b[0m: '<' not supported between instances of 'str' and 'int'"
     ]
    }
   ],
   "source": [
    "hlist = [7, \"Jonathan\", 3, 1, \"lily\"]\n",
    "hlist.sort()\n",
    "print(hlist)"
   ]
  },
  {
   "cell_type": "markdown",
   "metadata": {},
   "source": [
    "## List with 'in' operator"
   ]
  },
  {
   "cell_type": "code",
   "execution_count": 43,
   "metadata": {},
   "outputs": [
    {
     "data": {
      "text/plain": [
       "True"
      ]
     },
     "execution_count": 43,
     "metadata": {},
     "output_type": "execute_result"
    }
   ],
   "source": [
    "my_list = ['I', 'Love', 'Python']\n",
    "'Python' in my_list"
   ]
  },
  {
   "cell_type": "code",
   "execution_count": 44,
   "metadata": {},
   "outputs": [
    {
     "data": {
      "text/plain": [
       "False"
      ]
     },
     "execution_count": 44,
     "metadata": {},
     "output_type": "execute_result"
    }
   ],
   "source": [
    "'love' in my_list"
   ]
  },
  {
   "cell_type": "markdown",
   "metadata": {},
   "source": [
    "## Practice list appending and 'in' operations #2\n",
    "\n",
    "Ask a user to enter 5 words and use a list to save all words. Further, verify if there are words 'I', 'Love', 'Python' in them.\n",
    "\n",
    "1. Create an empty list\n",
    "2. Use append() function to keep appending to the list\n",
    "3. Veify if the list contained _ALL_ of the words 'I', 'Love', 'Python' \n",
    "\n"
   ]
  },
  {
   "cell_type": "markdown",
   "metadata": {},
   "source": [
    "#### Contains _ALL_ of the words 'I', 'Love', 'Python'"
   ]
  },
  {
   "cell_type": "code",
   "execution_count": 49,
   "metadata": {},
   "outputs": [
    {
     "name": "stdout",
     "output_type": "stream",
     "text": [
      "Give me a word! I\n",
      "Give me a word! DO\n",
      "Give me a word! NOT\n",
      "Give me a word! Love\n",
      "Give me a word! Python\n",
      "['I', 'DO', 'NOT', 'Love', 'Python']\n",
      "Glad you love python!!!\n"
     ]
    }
   ],
   "source": [
    "# Step 1: Already done for you\n",
    "words = []\n",
    "\n",
    "# Step 2: Accept 5 words\n",
    "\n",
    "for i in range(5):\n",
    "    new_word = input(\"Give me a word! \")\n",
    "    words.append(new_word)\n",
    "    \n",
    "print(words)\n",
    "# Step 3: Verify if it contains ALL of the words I, Love, Python    \n",
    "\n",
    "if \"I\" in words and \"Love\" in words and \"Python\" in words:\n",
    "    print(\"Glad you love python!!!\")\n",
    "else:\n",
    "    print('boo')\n",
    "    \n",
    "# Extra challenge.... What if you want to prevent adding duplicate words?\n",
    "# Rewrite this to not allow duplicate words but still ask for 5 words\n",
    "# Hint: use while"
   ]
  },
  {
   "cell_type": "code",
   "execution_count": 62,
   "metadata": {},
   "outputs": [
    {
     "name": "stdout",
     "output_type": "stream",
     "text": [
      "Word Please: i\n",
      "Word Please: love\n",
      "Word Please: python\n",
      "Word Please: sometimes\n",
      "Word Please: yes\n",
      "Glad you love python!!!\n"
     ]
    }
   ],
   "source": [
    "words = []\n",
    "\n",
    "while len(words) < 5:\n",
    "    new_word = input(\"Word Please: \")\n",
    "    if new_word not in words:\n",
    "        words.append(new_word)\n",
    "    else:\n",
    "        print(\"** word already used **\")\n",
    "\n",
    "words_lower = [ word.lower() for word in words ]\n",
    "\n",
    "if \"i\" in words_lower  and \"love\" in words_lower and \"python\" in words_lower:\n",
    "    print(\"Glad you love python!!!\")\n",
    "else:\n",
    "    print('boo')"
   ]
  },
  {
   "cell_type": "markdown",
   "metadata": {},
   "source": [
    "## Practice List with for loop #3 \n",
    "\n",
    "Write a function that takes a list as input and returns the sum of squared values of each element in the list. \n",
    "\n",
    "Further, write a program that creates a sample list and prints the returned value of the above function. Verify if your function is working correctly. \n"
   ]
  },
  {
   "cell_type": "code",
   "execution_count": 55,
   "metadata": {},
   "outputs": [],
   "source": [
    "def sum_square(lis):\n",
    "    \"\"\"\n",
    "    Returns the sum of squares of all elements in the list\n",
    "    \"\"\"\n",
    "    ## WRITE YOUR CODE HERE\n",
    "    sqr_lis = []\n",
    "    for i in lis:\n",
    "        sqr_lis.append(i*i)\n",
    "    return sum(sqr_lis)"
   ]
  },
  {
   "cell_type": "code",
   "execution_count": 56,
   "metadata": {},
   "outputs": [
    {
     "name": "stdout",
     "output_type": "stream",
     "text": [
      "81\n"
     ]
    }
   ],
   "source": [
    "lis = [2,4,5,6]\n",
    "print(sum_square(lis))"
   ]
  }
 ],
 "metadata": {
  "kernelspec": {
   "display_name": "Python 3",
   "language": "python",
   "name": "python3"
  },
  "language_info": {
   "codemirror_mode": {
    "name": "ipython",
    "version": 3
   },
   "file_extension": ".py",
   "mimetype": "text/x-python",
   "name": "python",
   "nbconvert_exporter": "python",
   "pygments_lexer": "ipython3",
   "version": "3.7.4"
  }
 },
 "nbformat": 4,
 "nbformat_minor": 2
}
