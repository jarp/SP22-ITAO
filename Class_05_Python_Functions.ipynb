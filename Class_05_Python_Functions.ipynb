{
 "cells": [
  {
   "cell_type": "markdown",
   "metadata": {},
   "source": [
    "## Functions: Defining your first function"
   ]
  },
  {
   "cell_type": "code",
   "execution_count": 10,
   "metadata": {},
   "outputs": [
    {
     "name": "stdout",
     "output_type": "stream",
     "text": [
      "11626146.115643\n"
     ]
    }
   ],
   "source": [
    "#Simple code to show the reusability of code using functions\n",
    "\n",
    "x = 15\n",
    "x = x + 20\n",
    "x = x**2\n",
    "x = x +156\n",
    "x = x**3\n",
    "x = x**0.75\n",
    "print(x)"
   ]
  },
  {
   "cell_type": "code",
   "execution_count": 9,
   "metadata": {},
   "outputs": [
    {
     "name": "stdout",
     "output_type": "stream",
     "text": [
      "42619072.191864125\n"
     ]
    }
   ],
   "source": [
    "# What if I need to know what happens if I assign the value of the variable to 28 initially\n",
    "\n",
    "y = 28\n",
    "y = y + 20\n",
    "y = y**2\n",
    "y = y + 156\n",
    "y = y**3\n",
    "y = y**0.75\n",
    "print(y)"
   ]
  },
  {
   "cell_type": "code",
   "execution_count": 14,
   "metadata": {},
   "outputs": [],
   "source": [
    "def set_of_operations(x):\n",
    "    x = x + 20\n",
    "    x = x**2\n",
    "    x = x +156\n",
    "    x = x**3\n",
    "    x = x**0.75\n",
    "#     print(\"returning value: \", x)\n",
    "    return x"
   ]
  },
  {
   "cell_type": "code",
   "execution_count": 15,
   "metadata": {},
   "outputs": [
    {
     "name": "stdout",
     "output_type": "stream",
     "text": [
      "11626146.115643\n",
      "42619072.191864125\n"
     ]
    }
   ],
   "source": [
    "print(set_of_operations(15))\n",
    "print(set_of_operations(28))"
   ]
  },
  {
   "cell_type": "code",
   "execution_count": 16,
   "metadata": {},
   "outputs": [
    {
     "name": "stdout",
     "output_type": "stream",
     "text": [
      "5412271016.103508\n"
     ]
    }
   ],
   "source": [
    "print(set_of_operations(125))"
   ]
  },
  {
   "cell_type": "code",
   "execution_count": 17,
   "metadata": {},
   "outputs": [
    {
     "name": "stdout",
     "output_type": "stream",
     "text": [
      "32506876.968722593\n"
     ]
    }
   ],
   "source": [
    "# THE RETURN VALUE OF A FUNCTION IS STORED IN A VARIABLE IN THE BELOW ASSIGNMENT\n",
    "\n",
    "answer = set_of_operations(25)\n",
    "print(answer)"
   ]
  },
  {
   "cell_type": "markdown",
   "metadata": {},
   "source": [
    "## Functions with no return statement"
   ]
  },
  {
   "cell_type": "code",
   "execution_count": 18,
   "metadata": {},
   "outputs": [
    {
     "name": "stdout",
     "output_type": "stream",
     "text": [
      "116226146.7\n",
      "<class 'float'>\n"
     ]
    }
   ],
   "source": [
    "def function_with_return(num):\n",
    "    return num ** num * .3\n",
    "\n",
    "print(function_with_return(9))\n",
    "print(type(function_with_return(9)))\n"
   ]
  },
  {
   "cell_type": "code",
   "execution_count": 19,
   "metadata": {},
   "outputs": [
    {
     "name": "stdout",
     "output_type": "stream",
     "text": [
      "None\n",
      "<class 'NoneType'>\n"
     ]
    }
   ],
   "source": [
    "def function_with_no_return(num):\n",
    "    num ** num\n",
    "\n",
    "print(function_with_no_return(9))\n",
    "print(type(function_with_no_return(9)))\n"
   ]
  },
  {
   "cell_type": "code",
   "execution_count": 20,
   "metadata": {},
   "outputs": [
    {
     "name": "stdout",
     "output_type": "stream",
     "text": [
      "I'm printing '9' using a function\n",
      "I'm printing 'ITAO' using a function\n",
      "I'm printing '9' using a function\n"
     ]
    },
    {
     "data": {
      "text/plain": [
       "NoneType"
      ]
     },
     "execution_count": 20,
     "metadata": {},
     "output_type": "execute_result"
    }
   ],
   "source": [
    "def print_fancy(x):\n",
    "    print(\"I'm printing '{}' using a function\".format(x))\n",
    "\n",
    "print_fancy(9)\n",
    "print_fancy('ITAO')\n",
    "return_val = print_fancy(9)\n",
    "type(return_val)"
   ]
  },
  {
   "cell_type": "code",
   "execution_count": 21,
   "metadata": {},
   "outputs": [
    {
     "name": "stdout",
     "output_type": "stream",
     "text": [
      "I'm printing '232' using a function\n",
      "True\n",
      "None\n"
     ]
    }
   ],
   "source": [
    "testing = print_fancy(232)\n",
    "print(testing == None)\n",
    "print(testing)"
   ]
  },
  {
   "cell_type": "code",
   "execution_count": 25,
   "metadata": {},
   "outputs": [
    {
     "name": "stdout",
     "output_type": "stream",
     "text": [
      "none is like false\n"
     ]
    }
   ],
   "source": [
    "if None:\n",
    "    print(\"none is like false\")\n",
    "else:\n",
    "    print(\"None is like true?\")"
   ]
  },
  {
   "cell_type": "markdown",
   "metadata": {},
   "source": [
    "## Muliple Assignment\n",
    "you can assign values to multiple variables in a single line"
   ]
  },
  {
   "cell_type": "code",
   "execution_count": 28,
   "metadata": {},
   "outputs": [
    {
     "name": "stdout",
     "output_type": "stream",
     "text": [
      "1\n",
      "2\n",
      "3\n"
     ]
    }
   ],
   "source": [
    "a,b,c = 1,2,3\n",
    "print(a)\n",
    "print(b)\n",
    "print(c)"
   ]
  },
  {
   "cell_type": "code",
   "execution_count": 30,
   "metadata": {},
   "outputs": [
    {
     "name": "stdout",
     "output_type": "stream",
     "text": [
      "25\n",
      "108\n",
      "18223\n"
     ]
    }
   ],
   "source": [
    "import random\n",
    "def three_random_numbers():\n",
    "    return random.randint(0,100), random.randint(100,1000), random.randint(1000,100000)\n",
    "\n",
    "a,b,c = three_random_numbers()\n",
    "\n",
    "print(a)\n",
    "print(b)\n",
    "print(c)"
   ]
  },
  {
   "cell_type": "markdown",
   "metadata": {},
   "source": [
    "## Practice: Function that sums positive even numbers up to 𝑁\n",
    "\n",
    "* Write a function that sums the positive even numbers up to 𝑁, where 𝑁 is a parameter to the function.\n",
    "    * The function should **return** the summation. \n",
    "\n",
    "* Write a program that tests the function with various parameter values. \n",
    "    * Store the returned value in a variable and print it.\n"
   ]
  },
  {
   "cell_type": "code",
   "execution_count": 56,
   "metadata": {},
   "outputs": [
    {
     "name": "stdout",
     "output_type": "stream",
     "text": [
      "function created!\n"
     ]
    }
   ],
   "source": [
    "# Function called `sum_even` here\n",
    "\n",
    "def sum_even(limit):\n",
    "    total = 0\n",
    "    for n in range(limit):\n",
    "        if n % 2 == 0:\n",
    "            total = total + n\n",
    "            \n",
    "    return total\n",
    "print('function created!')"
   ]
  },
  {
   "cell_type": "code",
   "execution_count": 57,
   "metadata": {},
   "outputs": [
    {
     "name": "stdout",
     "output_type": "stream",
     "text": [
      "42\n"
     ]
    }
   ],
   "source": [
    "# this should run if function is created\n",
    "# enter 7 returns 12 (2,4,6)\n",
    "# enter 16 returns 56\n",
    "sum_total = sum_even(7) + sum_even(12)\n",
    "print(sum_total)"
   ]
  },
  {
   "cell_type": "markdown",
   "metadata": {},
   "source": [
    "## Fibonacci Series with Functions\n",
    "\n"
   ]
  },
  {
   "cell_type": "code",
   "execution_count": 54,
   "metadata": {},
   "outputs": [],
   "source": [
    "# create a function called `fibonacci`\n",
    "def fibonacci(limit):\n",
    "    num_1, num_2 = 0,1\n",
    "    \n",
    "    while num_1 <= limit:\n",
    "        print(num_1)\n",
    "        \n",
    "        next_num = num_1 + num_2\n",
    "        num_1 = num_2\n",
    "        num_2 = next_num\n",
    "        "
   ]
  },
  {
   "cell_type": "code",
   "execution_count": 58,
   "metadata": {},
   "outputs": [
    {
     "name": "stdout",
     "output_type": "stream",
     "text": [
      "0\n",
      "1\n",
      "1\n",
      "2\n",
      "3\n",
      "5\n",
      "8\n",
      "13\n",
      "21\n",
      "34\n",
      "55\n",
      "89\n",
      "144\n",
      "233\n",
      "377\n",
      "610\n",
      "987\n"
     ]
    }
   ],
   "source": [
    "# call the function and pass the number of  100\n",
    "# correct sequence will be 0, 1, 1, 2, 3, 5, 8, 13, 21, 34, ...\n",
    "fibonacci(1000)"
   ]
  },
  {
   "cell_type": "markdown",
   "metadata": {},
   "source": [
    "## Global vs. Local Scope"
   ]
  },
  {
   "cell_type": "code",
   "execution_count": 46,
   "metadata": {},
   "outputs": [
    {
     "name": "stdout",
     "output_type": "stream",
     "text": [
      "Sin of 5 is -0.9589242746631385 and cos is 0.2836621854632263\n"
     ]
    }
   ],
   "source": [
    "import math\n",
    "number = 5\n",
    "sin = math.sin(number)\n",
    "cos = math.cos(number)\n",
    "print(\"Sin of {0} is {1} and cos is {2}\".format(number, sin, cos))"
   ]
  },
  {
   "cell_type": "markdown",
   "metadata": {},
   "source": [
    "### Local variables in a function are not visible outside the function"
   ]
  },
  {
   "cell_type": "code",
   "execution_count": 47,
   "metadata": {},
   "outputs": [
    {
     "ename": "NameError",
     "evalue": "name 'sin_f' is not defined",
     "output_type": "error",
     "traceback": [
      "\u001b[0;31m---------------------------------------------------------------------------\u001b[0m",
      "\u001b[0;31mNameError\u001b[0m                                 Traceback (most recent call last)",
      "\u001b[0;32m<ipython-input-47-c3aef3696856>\u001b[0m in \u001b[0;36m<module>\u001b[0;34m\u001b[0m\n\u001b[1;32m      6\u001b[0m \u001b[0mnumber\u001b[0m \u001b[0;34m=\u001b[0m \u001b[0;36m10\u001b[0m\u001b[0;34m\u001b[0m\u001b[0;34m\u001b[0m\u001b[0m\n\u001b[1;32m      7\u001b[0m \u001b[0mmath_operations\u001b[0m\u001b[0;34m(\u001b[0m\u001b[0mnumber\u001b[0m\u001b[0;34m)\u001b[0m\u001b[0;34m\u001b[0m\u001b[0;34m\u001b[0m\u001b[0m\n\u001b[0;32m----> 8\u001b[0;31m \u001b[0mprint\u001b[0m\u001b[0;34m(\u001b[0m\u001b[0;34m\"Sin of {0} is {1} and cos is {2}\"\u001b[0m\u001b[0;34m.\u001b[0m\u001b[0mformat\u001b[0m\u001b[0;34m(\u001b[0m\u001b[0mnumber\u001b[0m\u001b[0;34m,\u001b[0m \u001b[0msin_f\u001b[0m\u001b[0;34m,\u001b[0m \u001b[0mcos_f\u001b[0m\u001b[0;34m)\u001b[0m\u001b[0;34m)\u001b[0m\u001b[0;34m\u001b[0m\u001b[0;34m\u001b[0m\u001b[0m\n\u001b[0m",
      "\u001b[0;31mNameError\u001b[0m: name 'sin_f' is not defined"
     ]
    }
   ],
   "source": [
    "import math\n",
    "def math_operations(num):\n",
    "    sin_f = math.sin(num) # sin_f is a local variable\n",
    "    cos_f = math.cos(num) # cos_f is a local variable\n",
    "\n",
    "number = 10\n",
    "math_operations(number)\n",
    "print(\"Sin of {0} is {1} and cos is {2}\".format(number, sin_f, cos_f))"
   ]
  },
  {
   "cell_type": "markdown",
   "metadata": {},
   "source": [
    "### Local variables with same name as global variables do not get modified"
   ]
  },
  {
   "cell_type": "code",
   "execution_count": 48,
   "metadata": {},
   "outputs": [
    {
     "name": "stdout",
     "output_type": "stream",
     "text": [
      "sin: 5, cos: 20\n"
     ]
    }
   ],
   "source": [
    "import math\n",
    "def math_operations(num):\n",
    "    sin = math.sin(num)\n",
    "    cos = math.cos(num)\n",
    "\n",
    "number = 5\n",
    "sin = 5\n",
    "cos = 20\n",
    "math_operations(number)\n",
    "print(\"sin: {}, cos: {}\".format(sin, cos))"
   ]
  },
  {
   "cell_type": "markdown",
   "metadata": {},
   "source": [
    "### Each function has it's own local variables and they are not accessible across in other places"
   ]
  },
  {
   "cell_type": "code",
   "execution_count": 49,
   "metadata": {},
   "outputs": [
    {
     "name": "stdout",
     "output_type": "stream",
     "text": [
      "I'm trying to print local variables 10, 20 and a global variable 20\n"
     ]
    },
    {
     "ename": "NameError",
     "evalue": "name 'local2' is not defined",
     "output_type": "error",
     "traceback": [
      "\u001b[0;31m---------------------------------------------------------------------------\u001b[0m",
      "\u001b[0;31mNameError\u001b[0m                                 Traceback (most recent call last)",
      "\u001b[0;32m<ipython-input-49-8c50c3e9ad1e>\u001b[0m in \u001b[0;36m<module>\u001b[0;34m\u001b[0m\n\u001b[1;32m     12\u001b[0m \u001b[0;34m\u001b[0m\u001b[0m\n\u001b[1;32m     13\u001b[0m \u001b[0mfunc1\u001b[0m\u001b[0;34m(\u001b[0m\u001b[0;36m10\u001b[0m\u001b[0;34m)\u001b[0m\u001b[0;34m\u001b[0m\u001b[0;34m\u001b[0m\u001b[0m\n\u001b[0;32m---> 14\u001b[0;31m \u001b[0mfunc2\u001b[0m\u001b[0;34m(\u001b[0m\u001b[0;36m10\u001b[0m\u001b[0;34m)\u001b[0m\u001b[0;34m\u001b[0m\u001b[0;34m\u001b[0m\u001b[0m\n\u001b[0m",
      "\u001b[0;32m<ipython-input-49-8c50c3e9ad1e>\u001b[0m in \u001b[0;36mfunc2\u001b[0;34m(num)\u001b[0m\n\u001b[1;32m      9\u001b[0m \u001b[0;32mdef\u001b[0m \u001b[0mfunc2\u001b[0m\u001b[0;34m(\u001b[0m\u001b[0mnum\u001b[0m\u001b[0;34m)\u001b[0m\u001b[0;34m:\u001b[0m\u001b[0;34m\u001b[0m\u001b[0;34m\u001b[0m\u001b[0m\n\u001b[1;32m     10\u001b[0m     \u001b[0mlocal1\u001b[0m \u001b[0;34m=\u001b[0m \u001b[0;36m10\u001b[0m\u001b[0;34m\u001b[0m\u001b[0;34m\u001b[0m\u001b[0m\n\u001b[0;32m---> 11\u001b[0;31m     \u001b[0mprint\u001b[0m\u001b[0;34m(\u001b[0m\u001b[0;34m\"I'm trying to print local variables {}, {} and a global variable{}\"\u001b[0m\u001b[0;34m.\u001b[0m\u001b[0mformat\u001b[0m\u001b[0;34m(\u001b[0m\u001b[0mlocal1\u001b[0m\u001b[0;34m,\u001b[0m \u001b[0mlocal2\u001b[0m\u001b[0;34m,\u001b[0m \u001b[0mglobal_var\u001b[0m\u001b[0;34m)\u001b[0m\u001b[0;34m)\u001b[0m\u001b[0;34m\u001b[0m\u001b[0;34m\u001b[0m\u001b[0m\n\u001b[0m\u001b[1;32m     12\u001b[0m \u001b[0;34m\u001b[0m\u001b[0m\n\u001b[1;32m     13\u001b[0m \u001b[0mfunc1\u001b[0m\u001b[0;34m(\u001b[0m\u001b[0;36m10\u001b[0m\u001b[0;34m)\u001b[0m\u001b[0;34m\u001b[0m\u001b[0;34m\u001b[0m\u001b[0m\n",
      "\u001b[0;31mNameError\u001b[0m: name 'local2' is not defined"
     ]
    }
   ],
   "source": [
    "global_var = 20\n",
    "\n",
    "def func1(num):\n",
    "    local1 = 10\n",
    "    local2 = 20\n",
    "    print(\"I'm trying to print local variables {}, {} and a global variable {}\".format(local1, local2, global_var))\n",
    "    \n",
    "\n",
    "def func2(num):\n",
    "    local1 = 10\n",
    "    print(\"I'm trying to print local variables {}, {} and a global variable{}\".format(local1, local2, global_var))\n",
    "\n",
    "func1(10)\n",
    "func2(10)"
   ]
  },
  {
   "cell_type": "markdown",
   "metadata": {},
   "source": [
    "## Named Arguments: default values for arguments"
   ]
  },
  {
   "cell_type": "code",
   "execution_count": 50,
   "metadata": {},
   "outputs": [
    {
     "name": "stdout",
     "output_type": "stream",
     "text": [
      "3.0\n",
      "9\n"
     ]
    }
   ],
   "source": [
    "def calc_summary(var1, var2, var3, calc_mean = True):\n",
    "    '''this is about thr funcion'''\n",
    "    if calc_mean:\n",
    "        return (var1+var2+var3)/3\n",
    "    else:\n",
    "        return var1+var2+var3\n",
    "\n",
    "summary = calc_summary(2, 3, 4,True)\n",
    "print(summary)\n",
    "\n",
    "summary = calc_summary(2, 3, 4, calc_mean=False)\n",
    "print(summary)"
   ]
  },
  {
   "cell_type": "markdown",
   "metadata": {},
   "source": [
    "## Helpers\n",
    "\n",
    "add a `?` at the end of most functions to get documentation"
   ]
  },
  {
   "cell_type": "code",
   "execution_count": null,
   "metadata": {},
   "outputs": [],
   "source": [
    "print?"
   ]
  },
  {
   "cell_type": "code",
   "execution_count": null,
   "metadata": {},
   "outputs": [],
   "source": [
    "random?"
   ]
  },
  {
   "cell_type": "code",
   "execution_count": null,
   "metadata": {},
   "outputs": [],
   "source": [
    "random.randint?"
   ]
  },
  {
   "cell_type": "code",
   "execution_count": 51,
   "metadata": {},
   "outputs": [],
   "source": [
    "calc_summary?"
   ]
  }
 ],
 "metadata": {
  "kernelspec": {
   "display_name": "Python 3",
   "language": "python",
   "name": "python3"
  },
  "language_info": {
   "codemirror_mode": {
    "name": "ipython",
    "version": 3
   },
   "file_extension": ".py",
   "mimetype": "text/x-python",
   "name": "python",
   "nbconvert_exporter": "python",
   "pygments_lexer": "ipython3",
   "version": "3.7.4"
  }
 },
 "nbformat": 4,
 "nbformat_minor": 2
}
