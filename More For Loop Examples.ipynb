{
 "cells": [
  {
   "cell_type": "markdown",
   "metadata": {},
   "source": [
    "# For Loop Examples"
   ]
  },
  {
   "cell_type": "code",
   "execution_count": null,
   "metadata": {},
   "outputs": [],
   "source": [
    "# loop x number of times\n",
    "\n",
    "num_loop = int(input(\"how many times do you want to loop?\"))\n",
    "\n",
    "for i in range(num_loop):\n",
    "    print(\"assigning {}  to i\".format(i))"
   ]
  },
  {
   "cell_type": "code",
   "execution_count": null,
   "metadata": {},
   "outputs": [],
   "source": [
    "# using a for loop to loop from a first number to (and including the last number)\n",
    "# using a silly variable name, because it can be anything even if something like 'i' is common\n",
    "\n",
    "first_num = int(input(\"where do you want to start the loop?\"))\n",
    "last_num = int(input(\"where do you want to end the loop?\"))\n",
    "\n",
    "for i_made_this_variable_up in range(first_num, last_num + 1):\n",
    "    print(\"assigning {} to 'i_made_this_variable_up'\".format(i_made_this_variable_up))"
   ]
  },
  {
   "cell_type": "code",
   "execution_count": null,
   "metadata": {},
   "outputs": [],
   "source": [
    "# compose a sentence, one word at a time using both a while loop and a for loop...\n",
    "\n",
    "print(\"you will be prompted to enter words. When you are done, enter '0'\")\n",
    "submitted_word = \"\"\n",
    "words = []\n",
    "while submitted_word != '0':\n",
    "    word = input(\"enter a word: \")\n",
    "    \n",
    "    if word == '0':\n",
    "        break\n",
    "    else:\n",
    "        words.append(word)\n",
    "\n",
    "print(\"here is your sentence\")\n",
    "for word in words:\n",
    "    print(word)"
   ]
  }
 ],
 "metadata": {
  "kernelspec": {
   "display_name": "Python 3",
   "language": "python",
   "name": "python3"
  },
  "language_info": {
   "codemirror_mode": {
    "name": "ipython",
    "version": 3
   },
   "file_extension": ".py",
   "mimetype": "text/x-python",
   "name": "python",
   "nbconvert_exporter": "python",
   "pygments_lexer": "ipython3",
   "version": "3.7.4"
  }
 },
 "nbformat": 4,
 "nbformat_minor": 2
}
