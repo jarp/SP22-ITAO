{
 "cells": [
  {
   "cell_type": "code",
   "execution_count": null,
   "metadata": {},
   "outputs": [],
   "source": [
    "import pandas as pd\n",
    "import numpy as np"
   ]
  },
  {
   "cell_type": "markdown",
   "metadata": {},
   "source": [
    "# Multiindex\n",
    "\n",
    "If you set an index to more than one columnn you are creating multi index or Hieararchical index. This makes asking questions based on indexes a lot more easier, and also opens the possibility of working with multidimensional data. \n",
    "\n",
    "We'll use the example sourced from [here](https://chrisalbon.com/python/pandas_hierarchical_data.html). "
   ]
  },
  {
   "cell_type": "code",
   "execution_count": null,
   "metadata": {},
   "outputs": [],
   "source": [
    "# Create dataframe\n",
    "raw_data = {'regiment': ['Nighthawks', 'Nighthawks', 'Nighthawks', 'Nighthawks', 'Dragoons', 'Dragoons', 'Dragoons', 'Dragoons', 'Scouts', 'Scouts', 'Scouts', 'Scouts'], \n",
    "        'company': ['1st', '1st', '2nd', '2nd', '1st', '1st', '2nd', '2nd','1st', '1st', '2nd', '2nd'], \n",
    "        'name': ['Miller', 'Jacobson', 'Ali', 'Milner', 'Cooze', 'Jacon', 'Ryaner', 'Sone', 'Sloan', 'Piger', 'Riani', 'Ali'], \n",
    "        'preTestScore': [4, 24, 31, 2, 3, 4, 24, 31, 2, 3, 2, 3],\n",
    "        'postTestScore': [25, 94, 57, 62, 70, 25, 94, 57, 62, 70, 62, 70]}\n",
    "df = pd.DataFrame(raw_data, columns = ['regiment', 'company', 'name', 'preTestScore', 'postTestScore'])\n",
    "df"
   ]
  },
  {
   "cell_type": "code",
   "execution_count": null,
   "metadata": {},
   "outputs": [],
   "source": [
    "df_1_ind = df.set_index('regiment')\n",
    "df_1_ind"
   ]
  },
  {
   "cell_type": "code",
   "execution_count": null,
   "metadata": {},
   "outputs": [],
   "source": [
    "# How do we get the average scores, based on the regiment? \n",
    "df_1_ind.mean(level = 'regiment')"
   ]
  },
  {
   "cell_type": "code",
   "execution_count": null,
   "metadata": {},
   "outputs": [],
   "source": [
    "# How about you want to get the mean scores, based on the company but not the regiment? \n",
    "\n",
    "# Set the hierarchical index to be by regiment, and then by company\n",
    "df_2_ind = df.set_index(['regiment', 'company'])\n",
    "df_2_ind"
   ]
  },
  {
   "cell_type": "markdown",
   "metadata": {},
   "source": [
    "<div class=\"alert alert-block alert-info\">\n",
    "<p>\n",
    "Having multiple indexes will give you an easy way to model more than two dimensional data with DataFrames, which are by default a two dimensional data structures. \n",
    "</p>\n",
    "<p>\n",
    "For the above example, you can imagine each regiment is a two-dimensional array giving details about the company, names and the scores, and they are stacked one below the other. \n",
    "</p>\n",
    "</div>"
   ]
  },
  {
   "cell_type": "code",
   "execution_count": null,
   "metadata": {},
   "outputs": [],
   "source": [
    "df_2_ind.mean(level='company')\n",
    "df_2_ind.mean(level='regiment')\n",
    "df_2_ind.mean(level=['regiment','company'])"
   ]
  },
  {
   "cell_type": "markdown",
   "metadata": {},
   "source": [
    "# Pandas Aggregation\n"
   ]
  },
  {
   "cell_type": "code",
   "execution_count": null,
   "metadata": {},
   "outputs": [],
   "source": [
    "# We'll be using our college scorecard dataset in this tutorial.\n",
    "college_scorecard = pd.read_csv(\n",
    "    './data/college-scorecard-data-scrubbed.csv', \n",
    "    encoding='latin-1')"
   ]
  },
  {
   "cell_type": "markdown",
   "metadata": {},
   "source": [
    "### The `describe()` method\n",
    "The `describe()` method is available on both **`Series`** and **`DataFrame`** objects and outputs a variety of aggregations that are very useful in getting the general \"sense\" of a dataset.\n"
   ]
  },
  {
   "cell_type": "code",
   "execution_count": null,
   "metadata": {
    "scrolled": true
   },
   "outputs": [],
   "source": [
    "# You can specify **`include='all'`** to force Pandas\n",
    "# to evaluate all columns.  It will inject NaN where\n",
    "# a calculation cannot be done.\n",
    "college_scorecard.describe()\n",
    "# college_scorecard.describe(include='all')"
   ]
  },
  {
   "cell_type": "markdown",
   "metadata": {},
   "source": [
    "## Airline Data"
   ]
  },
  {
   "cell_type": "markdown",
   "metadata": {},
   "source": [
    "We will using a sample dataset of the flight schedules data that is available on Kaggle [here](https://www.kaggle.com/usdot/flight-delays)\n",
    "\n",
    "This is only a sample of the original data. You will use the original data in your Group Project!"
   ]
  },
  {
   "cell_type": "code",
   "execution_count": null,
   "metadata": {},
   "outputs": [],
   "source": [
    "flights = pd.read_csv('./data/flight_sample.csv')\n",
    "flights.sample(10)\n",
    "# flights.describe(include=\"all\")"
   ]
  },
  {
   "cell_type": "markdown",
   "metadata": {},
   "source": [
    "## Activity\n",
    "\n",
    "\n",
    "### Selection Without using GroupBy\n",
    "\n",
    "**NOTE**: The following three questions does not involve any `groupby`\n",
    "\n",
    "1. Returning to the `flights` dataframe, extract only the flight details of the American Airlines (AA) using a mask. \n",
    "2. What is the median DISTANCE, TAXI_IN times and TAXI_OUT times? \n",
    "3. How about median DISTANCE, TAXI_IN and TAXI_OUT times for United Airlines (UA)? \n"
   ]
  },
  {
   "cell_type": "code",
   "execution_count": null,
   "metadata": {},
   "outputs": [],
   "source": [
    "# Question 1\n",
    "# aa_flights = get all flights using masking\n",
    "# aa_flights"
   ]
  },
  {
   "cell_type": "code",
   "execution_count": null,
   "metadata": {},
   "outputs": [],
   "source": [
    "# Question 2\n"
   ]
  },
  {
   "cell_type": "code",
   "execution_count": null,
   "metadata": {},
   "outputs": [],
   "source": [
    "# Question 3\n"
   ]
  },
  {
   "cell_type": "markdown",
   "metadata": {},
   "source": [
    "# Pandas Grouping"
   ]
  },
  {
   "cell_type": "markdown",
   "metadata": {},
   "source": [
    "## The `groupby()` Method\n",
    "\n",
    "So far, all the calculations that we've done on **`DataFrame`** objects have looked at the values of columns as a whole.\n",
    "\n",
    "The `groupby()` method allows you to move into deeper forms analysis by splitting up the rows of a dataset into groups by the values in specified row(s). You can think of this in some ways as putting rows into buckets for evaluation."
   ]
  },
  {
   "cell_type": "markdown",
   "metadata": {},
   "source": [
    "### Specifying how to Split your Dataset into Groups\n",
    "Of course, before we can perform evaluations on groups, we have to create them from an existing dataframe. \n",
    "\n",
    "Let's explore how **`groupby()`** provides a variety of ways to split up your datasets. We'll explore some of these here, starting with the most simple."
   ]
  },
  {
   "cell_type": "markdown",
   "metadata": {},
   "source": [
    "#### Single Column Grouping"
   ]
  },
  {
   "cell_type": "code",
   "execution_count": null,
   "metadata": {},
   "outputs": [],
   "source": [
    "flights_by_airline = flights.groupby(['AIRLINE'])\n",
    "# print(flights_by_airline.groups)\n",
    "# flights_by_airline.head( )"
   ]
  },
  {
   "cell_type": "markdown",
   "metadata": {},
   "source": [
    "The **`groupby()`** method returns an type called **`DataFrameGroupBy`**. We will explore it in more depth shortly, but for now just know that it has an attribute called **`groups`** which provides a *`dict`* object with the **labels** of each group and the **corresponding index values** in the original dataframe that belong to that group.\n",
    "\n",
    "If you look above, you can see there is a group labelled 'AA' will index values [2,   19,   43,   55,   59,   64,   71,   74,   82,   92, ...].\n",
    "\n",
    "You can think of this as a record of all the groups that we will perform calculations on later."
   ]
  },
  {
   "cell_type": "markdown",
   "metadata": {},
   "source": [
    "#### Multi Column Grouping\n",
    "\n",
    "You can specify multiple columns if you wish to split your data up in multiple levels:"
   ]
  },
  {
   "cell_type": "code",
   "execution_count": null,
   "metadata": {},
   "outputs": [],
   "source": [
    "flights_by_airline_month = flights.groupby(['AIRLINE', 'MONTH'])\n",
    "flights_by_airline_month.groups"
   ]
  },
  {
   "cell_type": "markdown",
   "metadata": {},
   "source": [
    "### Aggregations after GroupBy\n",
    "\n",
    "For example, let us say you want to find out the average distance traveled by each airline, you can do that using the following aggregeate function"
   ]
  },
  {
   "cell_type": "code",
   "execution_count": null,
   "metadata": {},
   "outputs": [],
   "source": [
    "flights.head()"
   ]
  },
  {
   "cell_type": "code",
   "execution_count": null,
   "metadata": {},
   "outputs": [],
   "source": [
    "flights_by_airline = flights.groupby(['AIRLINE'])"
   ]
  },
  {
   "cell_type": "code",
   "execution_count": null,
   "metadata": {},
   "outputs": [],
   "source": [
    "flights_by_airline.mean()[:10]"
   ]
  },
  {
   "cell_type": "code",
   "execution_count": null,
   "metadata": {},
   "outputs": [],
   "source": [
    "avg_by_airline = flights_by_airline[['DISTANCE', 'TAXI_OUT', 'TAXI_IN']].mean()"
   ]
  },
  {
   "cell_type": "markdown",
   "metadata": {},
   "source": [
    "**NOTE**: The double [[ ]] for computing the summary stististics. The first pair [] is used to look into the `DataFrameGroupyBy` object the second pair [] is used to list all the columns you want to produce the summary statistics. "
   ]
  },
  {
   "cell_type": "code",
   "execution_count": null,
   "metadata": {},
   "outputs": [],
   "source": [
    "avg_by_airline"
   ]
  },
  {
   "cell_type": "markdown",
   "metadata": {},
   "source": [
    "## Activity\n",
    "### Gerneralizing using GroupBy\n",
    "\n",
    "4. Instead of doing this for each airline separately, can you do this for all airlines at a the same time using `groupby`?\n",
    "5. Extract the median DISTANCE for SouthWest airlines (WN) and assign it a variable `median_distance_WN`. \n",
    "6. What is the median DISTANCE, TAXI_IN times and TAXI_OUT times per airline per month? Hint: Notice that we want to group by two different columns.\n",
    "7. Extract the median TAXI_OUT for SouthWest airlines (WN) in December (12) and assign it a variable `median_distance_WN_12`. "
   ]
  },
  {
   "cell_type": "code",
   "execution_count": null,
   "metadata": {},
   "outputs": [],
   "source": [
    "# Question 4\n",
    "# get median 'DISTANCE', 'TAXI_IN', 'TAXI_OUT' for all airlines\n"
   ]
  },
  {
   "cell_type": "code",
   "execution_count": null,
   "metadata": {},
   "outputs": [],
   "source": [
    "# Question 5\n",
    "# Extract the median DISTANCE for SouthWest airlines (WN) using loc[]\n",
    "# Assign it a variable median_distance_WN\n"
   ]
  },
  {
   "cell_type": "code",
   "execution_count": null,
   "metadata": {},
   "outputs": [],
   "source": [
    "# Question 6\n",
    "# What is the median DISTANCE, TAXI_IN times and TAXI_OUT times per airline per month? \n"
   ]
  },
  {
   "cell_type": "code",
   "execution_count": null,
   "metadata": {},
   "outputs": [],
   "source": [
    "# Question 7: \n",
    "# Extract the median TAXI_OUT for SouthWest airlines (WN) in December (12) \n",
    "# Assign it a variable median_distance_WN_12\n"
   ]
  },
  {
   "cell_type": "markdown",
   "metadata": {},
   "source": [
    "### Understanding the Aggregation After GroupBy: Method Dispatching\n",
    "\n",
    "Let us now look at how the Aggregations on the DataFrameGroupBy objects work. In the **`DataFrameGroupBy`** objects, any method not found on the object itself is forwarded (\"**dispatched**\") to all the groups that it contains.\n",
    "\n",
    "That is why we were able to ask for the *`median`* of a **`flights_by_airline`** object above and get something back: it is (1) \"dispatching\" the *`median`* method call to each group (that is each airline), (2) collecting the results and (3) presenting them to us."
   ]
  },
  {
   "cell_type": "code",
   "execution_count": null,
   "metadata": {},
   "outputs": [],
   "source": [
    "flights_by_airline = flights.groupby(['AIRLINE'])"
   ]
  },
  {
   "cell_type": "code",
   "execution_count": null,
   "metadata": {},
   "outputs": [],
   "source": [
    "flights_by_airline.median()"
   ]
  },
  {
   "cell_type": "code",
   "execution_count": null,
   "metadata": {},
   "outputs": [],
   "source": [
    "# Compute the median for the entire DataFrameGroupBy object and then select 'DISTANCE' column \n",
    "flights_by_airline.median()[['DISTANCE']]"
   ]
  },
  {
   "cell_type": "code",
   "execution_count": null,
   "metadata": {},
   "outputs": [],
   "source": [
    "# Select the 'DISTANCE' Column as a dataframe and then compute the median\n",
    "flights_by_airline[ ['DISTANCE'] ].median()"
   ]
  },
  {
   "cell_type": "code",
   "execution_count": null,
   "metadata": {},
   "outputs": [],
   "source": [
    "# Select the 'DISTANCE' Column as a numpy array and then compute the median\n",
    "flights_by_airline['DISTANCE'].median()"
   ]
  },
  {
   "cell_type": "markdown",
   "metadata": {},
   "source": [
    "**Question**: Which of the above methods should be preferred? "
   ]
  },
  {
   "cell_type": "markdown",
   "metadata": {},
   "source": [
    "### Methods of `DataFrameGroupBy` Objects\n",
    "Now we will understand the various operations built into the `DataFrameGroupBy` object type."
   ]
  },
  {
   "cell_type": "markdown",
   "metadata": {},
   "source": [
    "#### The `aggregate()` Method\n",
    "At first, the `aggregate()` method appears to be quite similiar to what we just covered when we talked about method dispatching. It performs aggregations on the groups in a **`DataFrameGroupBy`** object."
   ]
  },
  {
   "cell_type": "code",
   "execution_count": null,
   "metadata": {},
   "outputs": [],
   "source": [
    "flights_by_airline.aggregate('mean')"
   ]
  },
  {
   "cell_type": "markdown",
   "metadata": {},
   "source": [
    "The difference is that the **`aggregate()`** method gives you some additional options that are not available if you rely on method dispatching as shown above."
   ]
  },
  {
   "cell_type": "code",
   "execution_count": null,
   "metadata": {},
   "outputs": [],
   "source": [
    "# You can pass multiple aggregates as a list.\n",
    "# Here will we get various aggregates for each\n",
    "# column of our flights_by_airline object.\n",
    "flights_by_airline.aggregate([np.mean, 'min', 'max'])[:5]"
   ]
  },
  {
   "cell_type": "markdown",
   "metadata": {},
   "source": [
    "<div class=\"alert alert-block alert-warning\">\n",
    "<p>\n",
    "It is important to notice that you are able to pass both strings and functions to the `aggregate()` method. It is probably best to choose one approach and stick with it rather than mixing and matching like I've done here.\n",
    "</p>\n",
    "</div>"
   ]
  },
  {
   "cell_type": "code",
   "execution_count": null,
   "metadata": {},
   "outputs": [],
   "source": [
    "flights_by_airline.aggregate([np.mean, np.min, np.max]).head(5)"
   ]
  },
  {
   "cell_type": "markdown",
   "metadata": {},
   "source": [
    "Your textbook also talks about using a dict to apply labels to the aggregation columns so that they can have user friendly names like 'Longest Distance' rather than just 'max'.\n",
    "\n",
    "This sort of functionality is, however, deprecated in Pandas, which means that it will be removed in future versions.\n",
    "\n",
    "To accomplish the same thing, we should instead append a `rename()` method after our `aggregate()` method like so:"
   ]
  },
  {
   "cell_type": "code",
   "execution_count": null,
   "metadata": {},
   "outputs": [],
   "source": [
    "# Using `rename()` to apply friendly labels to output columns\n",
    "flights_by_airline[['DISTANCE','TAXI_OUT']].aggregate(\n",
    "    [np.mean, np.min, np.max]).rename(\n",
    "        columns={'mean': 'Avg. Distance', \n",
    "                 'amin': 'Shortest Distance', \n",
    "                 'amax': 'Longest Distance'})"
   ]
  },
  {
   "cell_type": "markdown",
   "metadata": {},
   "source": [
    "<div class=\"alert alert-block alert-danger\">\n",
    "<p>\n",
    "Note, there are three main things happening in the above statement. \n",
    "<ul>\n",
    "<li> flights_by_airline['DISTANCE'] selects the distance column for analysis</li>\n",
    "<li> flights_by_airline['DISTANCE'].aggregate([np.mean, np.min, np.max]) computes the average, min and max of the distance column selected</li>\n",
    "<li> Finally .rename() function is appropriately renaming the columns according the dictionary we have given  </li>\n",
    "</ul>\n",
    "</p>\n",
    "</div>"
   ]
  },
  {
   "cell_type": "markdown",
   "metadata": {},
   "source": [
    "The recommended way of using a **`dict`** with the **`aggregate()`** method is actually to specify which aggregation(s) to perform on what columns. You can use it to specify different aggregation(s) on a per-column basis.\n",
    "\n",
    "Here I'll use it to get the high/low values for DISTANCE and the mean for TAXI_IN on our *`flights_by_airline_month`* object."
   ]
  },
  {
   "cell_type": "code",
   "execution_count": null,
   "metadata": {},
   "outputs": [],
   "source": [
    "flights_by_airline_month = flights.groupby(['AIRLINE', 'MONTH'])\n",
    "\n",
    "# Notice how using this style automatically filters\n",
    "# out all columns you don't specify.\n",
    "flights_by_airline_month.aggregate(\n",
    "        {'DISTANCE': [np.min, np.max], \n",
    "         'TAXI_IN': np.mean}\n",
    ").tail(20)"
   ]
  },
  {
   "cell_type": "markdown",
   "metadata": {},
   "source": [
    "## Activity: \n",
    "\n",
    "We will work again on the `college-loan-default-rates.csv` and `college-scorecard-data-scrubbed.csv` datasets. \n",
    "\n",
    "Use `aggregate()` method to produce\n",
    "\n",
    "1. The average, minimum and maximum `full_time_retention_rate_4_year` per state using `college-scorecard-data-scrubbed.csv` dataset. \n",
    "    * After producing the above summary statistics, make sure you rename your columns for average, minimum and maximum as `Avg. Retention`, `Low Retention`, and `High Retention` respectively. \n",
    "2. Produce per state and city, minimum and maximum for the `sat_average` column and average for the `full_time_retention_rate_4_year` column. \n",
    "\n",
    "3. Which state has the highest average four year retention rate (`full_time_retention_rate_4_year`)? Which has the lowest average? \n"
   ]
  },
  {
   "cell_type": "code",
   "execution_count": null,
   "metadata": {},
   "outputs": [],
   "source": [
    "# For this tutorial, we will need both of our datasets.\n",
    "college_loan_defaults = pd.read_csv(\n",
    "    './data/college-loan-default-rates.csv')\n",
    "\n",
    "college_scorecard = pd.read_csv(\n",
    "    './data/college-scorecard-data-scrubbed.csv', \n",
    "    encoding='latin-1')\n",
    "\n",
    "college_scorecard.head()"
   ]
  },
  {
   "cell_type": "code",
   "execution_count": null,
   "metadata": {
    "scrolled": true
   },
   "outputs": [],
   "source": [
    "# Question 1\n",
    "# The average, minimum and maximum full_time_retention_rate_4_year \n",
    "# per state using college-scorecard-data-scrubbed.csv dataset.\n",
    "# After producing the above summary statistics, \n",
    "# make sure you rename your columns for \n",
    "# average, minimum and maximum as Avg. Retention, Low Retention, and High Retention respectively.\n",
    "\n",
    "# scores_by_state = \n",
    "# scores_by_state_summary = \n"
   ]
  },
  {
   "cell_type": "code",
   "execution_count": null,
   "metadata": {},
   "outputs": [],
   "source": [
    "# Question 2\n",
    "# Produce per state and city, minimum and maximum for the sat_average column \n",
    "# and average for the full_time_retention_rate_4_year column\n",
    "\n",
    "# scores_by_state_city = \n",
    "# scores_by_state_city_summary =  "
   ]
  },
  {
   "cell_type": "code",
   "execution_count": null,
   "metadata": {},
   "outputs": [],
   "source": [
    "# Question 3\n",
    "# Return to the summary of state scores from first step...\n",
    "# Which state has the highest average four year retention rate (full_time_retention_rate_4_year)? \n",
    "# Which has the lowest average?\n",
    "\n"
   ]
  },
  {
   "cell_type": "markdown",
   "metadata": {},
   "source": [
    "<div class=\"alert alert-block alert-warning\">\n",
    "<h3> Important Notes</h3>\n",
    "<p> </p> \n",
    "When producing any of the summary statistics using group by, you can assign your intermediate operations to the variables. In the entire section above, I have been mostly trying to produce the results to show them to you. However, you can assign the results to a variable for using it in the future. **See the example below.** \n",
    "</div>"
   ]
  },
  {
   "cell_type": "code",
   "execution_count": null,
   "metadata": {},
   "outputs": [],
   "source": [
    "flights_by_airline_month = flights.groupby(['AIRLINE', 'MONTH'])\n",
    "aggregation = {\n",
    "                'DISTANCE': [np.min, np.max], \n",
    "                 'TAXI_IN': np.mean\n",
    "              }\n",
    "column_names = { 'amin': \"Minimum\", 'amax': 'Maximum', 'mean': 'Average' }\n",
    "\n",
    "summary_distance_taxi_in = flights_by_airline_month.aggregate(aggregation).rename(columns=column_names)"
   ]
  },
  {
   "cell_type": "code",
   "execution_count": null,
   "metadata": {},
   "outputs": [],
   "source": [
    "summary_distance_taxi_in.head()"
   ]
  },
  {
   "cell_type": "code",
   "execution_count": null,
   "metadata": {},
   "outputs": [],
   "source": [
    "# Remember from the last class that we can do aggregations at multiple levels using Hierarchical index. \n",
    "summary_distance_taxi_in.mean(level='AIRLINE')"
   ]
  },
  {
   "cell_type": "code",
   "execution_count": null,
   "metadata": {},
   "outputs": [],
   "source": [
    "summary_distance_taxi_in.mean(level='MONTH')"
   ]
  }
 ],
 "metadata": {
  "kernelspec": {
   "display_name": "Python 3",
   "language": "python",
   "name": "python3"
  },
  "language_info": {
   "codemirror_mode": {
    "name": "ipython",
    "version": 3
   },
   "file_extension": ".py",
   "mimetype": "text/x-python",
   "name": "python",
   "nbconvert_exporter": "python",
   "pygments_lexer": "ipython3",
   "version": "3.7.4"
  }
 },
 "nbformat": 4,
 "nbformat_minor": 2
}
