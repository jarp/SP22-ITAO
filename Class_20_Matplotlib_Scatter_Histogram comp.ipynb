{
 "cells": [
  {
   "cell_type": "code",
   "execution_count": null,
   "metadata": {},
   "outputs": [],
   "source": [
    "import pandas as pd\n",
    "import numpy as np"
   ]
  },
  {
   "cell_type": "code",
   "execution_count": null,
   "metadata": {},
   "outputs": [],
   "source": [
    "import matplotlib as mpl\n",
    "import matplotlib.pyplot as plt"
   ]
  },
  {
   "cell_type": "code",
   "execution_count": null,
   "metadata": {},
   "outputs": [],
   "source": [
    "plt.style.use('seaborn')\n",
    "%matplotlib inline"
   ]
  },
  {
   "cell_type": "markdown",
   "metadata": {},
   "source": [
    "# Matplotlib Scatter Plots\n",
    "\n",
    "In this section we are going to learn how to create scatter plots in Matplotlib with the **`axes.scatter()`** method."
   ]
  },
  {
   "cell_type": "markdown",
   "metadata": {},
   "source": [
    "<div class=\"alert alert-block alert-info\">\n",
    "<p>You _can_ actually use the `plot()` method we covered in the previous tutorial to generate scatter plots as well.</p>\n",
    "<p>\n",
    "But you should generally use the method we are covering in this tutorial unless you are having significant performance problems.\n",
    "</p>\n",
    "<p>The reason for this is that the `axes.scatter()` method provides more control over the visualization. It does this at the cost of performance, but this should only be a factor for plots with huge amounts of data points.</p>\n",
    "</div> "
   ]
  },
  {
   "cell_type": "markdown",
   "metadata": {},
   "source": [
    "### Load Necessary Data Set(s)"
   ]
  },
  {
   "cell_type": "code",
   "execution_count": null,
   "metadata": {},
   "outputs": [],
   "source": [
    "seattle_weather_2015_2016 = pd.read_csv(\n",
    "    './data/seattle_weather_2015_2016.csv')\n",
    "seattle_weather_2015_2016.head()"
   ]
  },
  {
   "cell_type": "code",
   "execution_count": null,
   "metadata": {},
   "outputs": [],
   "source": [
    "seattle_weather_2015_2016.describe(include=\"all\")"
   ]
  },
  {
   "cell_type": "markdown",
   "metadata": {},
   "source": [
    "## Scatter Plots\n",
    "Let's start exploring Matplotlib's **`axes.scatter()`** method's functionality by charting the precipitation records from our dataframe."
   ]
  },
  {
   "cell_type": "markdown",
   "metadata": {},
   "source": [
    "### A Simple Line Plot"
   ]
  },
  {
   "cell_type": "code",
   "execution_count": null,
   "metadata": {},
   "outputs": [],
   "source": [
    "figure, axes = plt.subplots()\n",
    "\n",
    "axes.plot(seattle_weather_2015_2016.index, \n",
    "             seattle_weather_2015_2016['low_temp'])"
   ]
  },
  {
   "cell_type": "markdown",
   "metadata": {},
   "source": [
    "### A Simple Scatter Plot"
   ]
  },
  {
   "cell_type": "code",
   "execution_count": null,
   "metadata": {},
   "outputs": [],
   "source": [
    "figure, axes = plt.subplots()\n",
    "\n",
    "axes.scatter(seattle_weather_2015_2016.index, \n",
    "             seattle_weather_2015_2016['low_temp'])"
   ]
  },
  {
   "cell_type": "markdown",
   "metadata": {},
   "source": [
    "#### Adjusting Marker Color(s)\n",
    "With scatter plots, you can assign a single color to each plot, just like you can with line plots. The only difference here is that you use the **`c`** parameter rather than **`color`**."
   ]
  },
  {
   "cell_type": "code",
   "execution_count": null,
   "metadata": {},
   "outputs": [],
   "source": [
    "figure, axes = plt.subplots()\n",
    "\n",
    "# We'll plot high and low temps with different colors.\n",
    "axes.scatter(seattle_weather_2015_2016.index, \n",
    "             seattle_weather_2015_2016['low_temp'], \n",
    "             c='blue')\n",
    "\n",
    "axes.scatter(seattle_weather_2015_2016.index, \n",
    "             seattle_weather_2015_2016['high_temp'], \n",
    "             c='red')"
   ]
  },
  {
   "cell_type": "markdown",
   "metadata": {},
   "source": [
    "<div class=\"alert alert-block alert-info\">\n",
    "<p>Technically, you can use the `color` argument, but if you do, it won't work with the next technique.</p>\n",
    "</div> "
   ]
  },
  {
   "cell_type": "markdown",
   "metadata": {},
   "source": [
    "But you can also assign a unique color to each marker in your plot - which can lead to some very cool and powerful visualizations.\n",
    "\n",
    "The key here is that you have to use two arguments in combination: \n",
    "* **`c`**: Previously, we only used this as a single value argument, but now you have to pass it a list/array that contains a numeric element for each data point in your plot. You have to have the exact same number of elements as plot items or you will get an error.\n",
    "* **`cmap`**: A valid colormap name. Matplotlib automatically converts all your numeric values in **`c`** to a float between 0 and 1 and then picks the corresponding color out of a given colormap for each marker. There are many different colormaps available. You can see many of the available options in Matplotlib's <a href=\"https://matplotlib.org/users/colormaps.html\" target=\"_blank\">online documentation</a>.\n",
    "\n",
    "Now let's provide a couple of examples:"
   ]
  },
  {
   "cell_type": "code",
   "execution_count": null,
   "metadata": {},
   "outputs": [],
   "source": [
    "figure, axes = plt.subplots()\n",
    "\n",
    "# We'll plot high and low temps with different colors.\n",
    "# We will pair our low temp ratings to the colormap\n",
    "# itself so that low temps will get mapped to one\n",
    "# end of the colormap and higher temps to the other.\n",
    "axes.scatter(seattle_weather_2015_2016.index, \n",
    "             seattle_weather_2015_2016['low_temp'], \n",
    "             c=seattle_weather_2015_2016['low_temp'], \n",
    "             cmap='coolwarm')"
   ]
  },
  {
   "cell_type": "code",
   "execution_count": null,
   "metadata": {},
   "outputs": [],
   "source": [
    "figure, axes = plt.subplots()\n",
    "\n",
    "# We'll plot high and low temps with different colors.\n",
    "# We will pair our low temp ratings to the colormap\n",
    "# itself so that low temps will get mapped to one\n",
    "# end of the colormap and higher temps to the other.\n",
    "axes.scatter(seattle_weather_2015_2016.index, \n",
    "             seattle_weather_2015_2016['low_temp'], \n",
    "             c=seattle_weather_2015_2016['high_temp'], \n",
    "             cmap='coolwarm')"
   ]
  },
  {
   "cell_type": "code",
   "execution_count": null,
   "metadata": {},
   "outputs": [],
   "source": [
    "figure, axes = plt.subplots()\n",
    "\n",
    "# Now for something really cool\n",
    "# We can pass the average wind speed to the color map\n",
    "# Now we are tracking two different metrics on the scatter plot\n",
    "# Is there any coroloation between wind speed and temperature?\n",
    "\n",
    "axes.scatter(seattle_weather_2015_2016.index, \n",
    "             seattle_weather_2015_2016['low_temp'], \n",
    "             c=seattle_weather_2015_2016['avgwindspeed'], \n",
    "             cmap='coolwarm')"
   ]
  },
  {
   "cell_type": "markdown",
   "metadata": {},
   "source": [
    "#### Adding a Colorbar"
   ]
  },
  {
   "cell_type": "markdown",
   "metadata": {},
   "source": [
    "<div class=\"alert alert-block alert-warning\">\n",
    "<p>Adding a colorbar requires interacting with the `figure` object directly. This is the first time that we've done this.</p>\n",
    "<p>Make sure when you are working on your assignments not to try adding colorbars to the `axes` object or you'll have all sorts of problems.</p>\n",
    "</div> "
   ]
  },
  {
   "cell_type": "markdown",
   "metadata": {},
   "source": [
    "When you have a plot of a continous variable(s) where color is used to signify the values of the variable a colorbar is a great addition to your plot.\n",
    "\n",
    "To add a colorbar to your plot, you use the **`figure.colorbar()`** method.\n",
    "\n",
    "The method requires a single argument: an image which has been \"painted\" onto an *`axes`* object.\n",
    "\n",
    "It just so happens that when you call the *`axes.scatter`* method, it not only plots such an image, but it also returns a reference to that image.\n",
    "\n",
    "Up until now, we've just ignored it, but now let's capture it so that we can pass it along to **`figure.colorbar`**:"
   ]
  },
  {
   "cell_type": "code",
   "execution_count": null,
   "metadata": {},
   "outputs": [],
   "source": [
    "figure, axes = plt.subplots()\n",
    "\n",
    "scatter_image = axes.scatter(seattle_weather_2015_2016.index, \n",
    "             seattle_weather_2015_2016['low_temp'])\n",
    "\n",
    "print(type(scatter_image))"
   ]
  },
  {
   "cell_type": "code",
   "execution_count": null,
   "metadata": {},
   "outputs": [],
   "source": [
    "figure, axes = plt.subplots()\n",
    "\n",
    "scatter_image = axes.scatter(seattle_weather_2015_2016.index, \n",
    "             seattle_weather_2015_2016['low_temp'], \n",
    "             c=seattle_weather_2015_2016['low_temp'], \n",
    "             cmap='coolwarm')\n",
    "\n",
    "figure.colorbar(\n",
    "    scatter_image,\n",
    "    label='Temperature' # You can also add a label\n",
    ")"
   ]
  },
  {
   "cell_type": "code",
   "execution_count": null,
   "metadata": {},
   "outputs": [],
   "source": [
    "figure, axes = plt.subplots()\n",
    "\n",
    "scatter_image = axes.scatter(seattle_weather_2015_2016.index, \n",
    "             seattle_weather_2015_2016['low_temp'], \n",
    "             c=seattle_weather_2015_2016['avgwindspeed'], \n",
    "             cmap='coolwarm')\n",
    "\n",
    "figure.colorbar(\n",
    "    scatter_image,\n",
    "    label='Avg. Wind Speed'\n",
    ")\n",
    "\n",
    "axes.set_title(\"Temperature and Wind Speed\")\n",
    "axes.set_xlabel(\"record number\")\n",
    "axes.set_ylabel(\"Low Temperature\")"
   ]
  },
  {
   "cell_type": "markdown",
   "metadata": {},
   "source": [
    "You can also add multiple colorbars:"
   ]
  },
  {
   "cell_type": "code",
   "execution_count": null,
   "metadata": {},
   "outputs": [],
   "source": [
    "# Plotting high & low temps with different colormaps\n",
    "# along with separate colorbars\n",
    "figure, axes = plt.subplots()\n",
    "\n",
    "low_temps = axes.scatter(seattle_weather_2015_2016.index, \n",
    "             seattle_weather_2015_2016['low_temp'], \n",
    "             c=seattle_weather_2015_2016['low_temp'], \n",
    "             cmap='PuBu')\n",
    "\n",
    "high_temps = axes.scatter(seattle_weather_2015_2016.index, \n",
    "             seattle_weather_2015_2016['high_temp'],\n",
    "             c=seattle_weather_2015_2016['high_temp'], \n",
    "             cmap='YlOrRd')\n",
    "\n",
    "figure.colorbar(low_temps, label=\"Low Temperature\", orientation = 'horizontal')\n",
    "figure.colorbar(high_temps, label = \"High Temperature\", orientation = 'horizontal')"
   ]
  },
  {
   "cell_type": "markdown",
   "metadata": {},
   "source": [
    "# Activity\n",
    "\n",
    "### Scatter plot\n",
    "\n",
    "* Plot a scatter plot for 'avgwindspeed' in the seattle dataset. \n",
    "    * Adjust the following parameters for color map based on windspeed\n",
    "        * c\n",
    "        * cmap\n",
    "    * Show a colorbar indicating the mapping of the speed of wind to color. "
   ]
  },
  {
   "cell_type": "code",
   "execution_count": null,
   "metadata": {},
   "outputs": [],
   "source": [
    "# create axes and figure\n",
    "fig,ax = plt.subplots()\n",
    "# plot avg wind speed with a color map and color bar\n",
    "wind_img = ax.scatter(\n",
    "    seattle_weather_2015_2016.index, \n",
    "    seattle_weather_2015_2016['avgwindspeed'],\n",
    "    c=seattle_weather_2015_2016['avgwindspeed'],\n",
    "    cmap=\"Blues\"\n",
    ")\n",
    "# set title and labels\n",
    "ax.set_title('Avg Wind Speed')\n",
    "ax.set_ylabel('Speed')\n",
    "ax.set_xlabel('Records')\n",
    "\n",
    "fig.colorbar(wind_img)"
   ]
  },
  {
   "cell_type": "markdown",
   "metadata": {},
   "source": [
    "# Matplotlib Histograms\n",
    "\n",
    "In this section, we are going to learn how to create histograms, which are a great way of summarizing data sets.\n",
    "\n",
    "The basic idea of a histogram is to create \"buckets\" into which your data points fall into and display those rather than individually displaying all the data points."
   ]
  },
  {
   "cell_type": "code",
   "execution_count": null,
   "metadata": {},
   "outputs": [],
   "source": [
    "nd_football_roster = pd.read_csv('./data/nd-football-2018-roster.csv')\n",
    "seattle_weather_2015_2016 = pd.read_csv(\n",
    "    './data/seattle_weather_2015_2016.csv')"
   ]
  },
  {
   "cell_type": "code",
   "execution_count": null,
   "metadata": {},
   "outputs": [],
   "source": [
    "# Select a style, it will affect all subsequent plots.\n",
    "# Showing you different style 'fivethirtyeight'\n",
    "plt.style.use('fivethirtyeight')"
   ]
  },
  {
   "cell_type": "markdown",
   "metadata": {},
   "source": [
    "## One Dimensional Histograms\n",
    "Simple, one dimensional histograms are created with the **`axes.hist()`** method."
   ]
  },
  {
   "cell_type": "markdown",
   "metadata": {},
   "source": [
    "### A Basic Histogram\n",
    "This create a basic histogram: you simply have to pass a NumPy array or Pandas series object to it. \n",
    "\n",
    "By default, it will create a set of buckets from the values in your array/series along the x-axis and then display how many elements fall in each bucket via the y-axis."
   ]
  },
  {
   "cell_type": "code",
   "execution_count": null,
   "metadata": {},
   "outputs": [],
   "source": [
    "# Create a histogram of ND Football Player Heights\n",
    "# You can quickly see the most common height bucket\n",
    "# on the team.\n",
    "figure, axes = plt.subplots()\n",
    "axes.hist(nd_football_roster['Height'])"
   ]
  },
  {
   "cell_type": "markdown",
   "metadata": {},
   "source": [
    "As always, you can adjust the title, label, and legend properties of the **`axes`** object."
   ]
  },
  {
   "cell_type": "code",
   "execution_count": null,
   "metadata": {},
   "outputs": [],
   "source": [
    "# Adding title, labels, and legend\n",
    "figure, axes = plt.subplots()\n",
    "axes.hist(nd_football_roster['Height'], label=\"Height\")\n",
    "axes.legend()\n",
    "axes.set_title('ND Football Player Height Distribution')\n",
    "axes.set_xlabel('Height (in)')\n",
    "axes.set_ylabel('Count of Players')"
   ]
  },
  {
   "cell_type": "markdown",
   "metadata": {},
   "source": [
    "### Customizing Histograms"
   ]
  },
  {
   "cell_type": "markdown",
   "metadata": {},
   "source": [
    "#### Changing the Number of Bins\n",
    "Matplotlib tries to guess the number of bins you want for your histograms and it generally does a good job at this. Nonetheless, you may want to increase/decrease the default to adjust the granularity of your plot.\n",
    "\n",
    "You can do so with the `bins` parameter."
   ]
  },
  {
   "cell_type": "code",
   "execution_count": null,
   "metadata": {},
   "outputs": [],
   "source": [
    "figure, axes = plt.subplots()\n",
    "\n",
    "# Adjust the number of bins to 15\n",
    "# The increased granularity will\n",
    "# expose some heights that aren't represented\n",
    "# on the team.\n",
    "axes.hist(nd_football_roster['Height'], bins=12)"
   ]
  },
  {
   "cell_type": "markdown",
   "metadata": {},
   "source": [
    "#### Changing a Range for Bins\n",
    "We know that we can use the `axes.set_xlim` and `axes.set_ylim` methods to focus/zoom into one area of a plot.\n",
    "\n",
    "The **`range`** parameter is somewhat similar functionally to this in that it allows you to specify the range of input values to plot.\n",
    "\n",
    "The key difference is that when you use the **`range`** parameter, Matplotlib does all the binning/grouping within the range specified.\n",
    "\n",
    "With `set_xlim`/`set_ylim` you would simply zoom into a smaller area of the plot. This parameter allows you to calculate the histogram with a subset of your data.\n",
    "\n",
    "Let's demonstrate using our Seattle Weather dataset."
   ]
  },
  {
   "cell_type": "code",
   "execution_count": null,
   "metadata": {},
   "outputs": [],
   "source": [
    "# Simply plot the precipitation records\n",
    "# with default parameters.\n",
    "figure, axes = plt.subplots()\n",
    "axes.hist(seattle_weather_2015_2016['precipitation'])"
   ]
  },
  {
   "cell_type": "markdown",
   "metadata": {},
   "source": [
    "Because there are so many records with no rain, it skews the chart. If fact, the distortion is so high, that we can't visually make out any records above 2 inches (though we know they must be there because of the bins Matplotlib created).\n",
    "\n",
    "Let's focus our histogram between .5 and 2.5 inches:"
   ]
  },
  {
   "cell_type": "code",
   "execution_count": null,
   "metadata": {},
   "outputs": [],
   "source": [
    "# Simply plot the precipitation records\n",
    "# with default parameters.\n",
    "figure, axes = plt.subplots()\n",
    "axes.hist(seattle_weather_2015_2016['precipitation'])\n",
    "axes.set_xlim(0.5,2.5)"
   ]
  },
  {
   "cell_type": "markdown",
   "metadata": {},
   "source": [
    "As you can see above, it did zoom in the range we wanted between 0.5 and 2.5, but the \"binning\" is still too coarse. **This is why using range parameter rather than set_xlim**"
   ]
  },
  {
   "cell_type": "code",
   "execution_count": null,
   "metadata": {},
   "outputs": [],
   "source": [
    "# This will give us a plot of how many\n",
    "# reasonably, but not extremely, raining days\n",
    "# Seattle experienced in 2015-2016\n",
    "figure, axes = plt.subplots()\n",
    "axes.hist(\n",
    "    seattle_weather_2015_2016['precipitation'], \n",
    "    range=(.5, 2.5), \n",
    "    bins=20)"
   ]
  },
  {
   "cell_type": "markdown",
   "metadata": {},
   "source": [
    "## Activity\n",
    "\n",
    "### Histograms\n",
    "\n",
    "* Plot the histogram of the distance ('DISTANCE') travelled by all the flights in the dataset. \n",
    "    * Adjust the parameters\n",
    "        * bins\n",
    "        * range\n",
    "        * color"
   ]
  },
  {
   "cell_type": "code",
   "execution_count": 11,
   "metadata": {},
   "outputs": [
    {
     "data": {
      "text/html": [
       "<div>\n",
       "<style scoped>\n",
       "    .dataframe tbody tr th:only-of-type {\n",
       "        vertical-align: middle;\n",
       "    }\n",
       "\n",
       "    .dataframe tbody tr th {\n",
       "        vertical-align: top;\n",
       "    }\n",
       "\n",
       "    .dataframe thead th {\n",
       "        text-align: right;\n",
       "    }\n",
       "</style>\n",
       "<table border=\"1\" class=\"dataframe\">\n",
       "  <thead>\n",
       "    <tr style=\"text-align: right;\">\n",
       "      <th></th>\n",
       "      <th>YEAR</th>\n",
       "      <th>MONTH</th>\n",
       "      <th>DAY</th>\n",
       "      <th>DAY_OF_WEEK</th>\n",
       "      <th>AIRLINE</th>\n",
       "      <th>FLIGHT_NUMBER</th>\n",
       "      <th>TAXI_IN</th>\n",
       "      <th>TAXI_OUT</th>\n",
       "      <th>DISTANCE</th>\n",
       "    </tr>\n",
       "  </thead>\n",
       "  <tbody>\n",
       "    <tr>\n",
       "      <td>0</td>\n",
       "      <td>2015</td>\n",
       "      <td>8</td>\n",
       "      <td>19</td>\n",
       "      <td>3</td>\n",
       "      <td>EV</td>\n",
       "      <td>3260</td>\n",
       "      <td>7.0</td>\n",
       "      <td>20.0</td>\n",
       "      <td>1091</td>\n",
       "    </tr>\n",
       "    <tr>\n",
       "      <td>1</td>\n",
       "      <td>2015</td>\n",
       "      <td>9</td>\n",
       "      <td>23</td>\n",
       "      <td>3</td>\n",
       "      <td>WN</td>\n",
       "      <td>3050</td>\n",
       "      <td>4.0</td>\n",
       "      <td>9.0</td>\n",
       "      <td>837</td>\n",
       "    </tr>\n",
       "    <tr>\n",
       "      <td>2</td>\n",
       "      <td>2015</td>\n",
       "      <td>10</td>\n",
       "      <td>16</td>\n",
       "      <td>5</td>\n",
       "      <td>AA</td>\n",
       "      <td>1382</td>\n",
       "      <td>13.0</td>\n",
       "      <td>25.0</td>\n",
       "      <td>761</td>\n",
       "    </tr>\n",
       "    <tr>\n",
       "      <td>3</td>\n",
       "      <td>2015</td>\n",
       "      <td>1</td>\n",
       "      <td>19</td>\n",
       "      <td>1</td>\n",
       "      <td>WN</td>\n",
       "      <td>4274</td>\n",
       "      <td>5.0</td>\n",
       "      <td>23.0</td>\n",
       "      <td>1547</td>\n",
       "    </tr>\n",
       "    <tr>\n",
       "      <td>4</td>\n",
       "      <td>2015</td>\n",
       "      <td>4</td>\n",
       "      <td>22</td>\n",
       "      <td>3</td>\n",
       "      <td>WN</td>\n",
       "      <td>2237</td>\n",
       "      <td>5.0</td>\n",
       "      <td>18.0</td>\n",
       "      <td>872</td>\n",
       "    </tr>\n",
       "  </tbody>\n",
       "</table>\n",
       "</div>"
      ],
      "text/plain": [
       "   YEAR  MONTH  DAY  DAY_OF_WEEK AIRLINE  FLIGHT_NUMBER  TAXI_IN  TAXI_OUT  \\\n",
       "0  2015      8   19            3      EV           3260      7.0      20.0   \n",
       "1  2015      9   23            3      WN           3050      4.0       9.0   \n",
       "2  2015     10   16            5      AA           1382     13.0      25.0   \n",
       "3  2015      1   19            1      WN           4274      5.0      23.0   \n",
       "4  2015      4   22            3      WN           2237      5.0      18.0   \n",
       "\n",
       "   DISTANCE  \n",
       "0      1091  \n",
       "1       837  \n",
       "2       761  \n",
       "3      1547  \n",
       "4       872  "
      ]
     },
     "execution_count": 11,
     "metadata": {},
     "output_type": "execute_result"
    }
   ],
   "source": [
    "flights = pd.read_csv(\"./data/flight_sample.csv\")\n",
    "flights.head()"
   ]
  },
  {
   "cell_type": "code",
   "execution_count": 12,
   "metadata": {},
   "outputs": [],
   "source": [
    "# histograms doesn't know how to handle missing data\n",
    "# so drop missing data\n",
    "flights.dropna(inplace=True)\n",
    "\n"
   ]
  },
  {
   "cell_type": "code",
   "execution_count": null,
   "metadata": {},
   "outputs": [],
   "source": [
    "# create subplots\n",
    "fig,ax = plt.subplots()\n",
    "# plot historgram  with a reasonable range, 20 bins and make it red\n",
    "ax.hist(flights['DISTANCE'],\n",
    "       range=(0,2500),\n",
    "       bins=16)\n",
    "# add title, labels and a legend\n",
    "ax.set_title(\"Flight Distance\")\n",
    "ax.set_xlabel(\"Distance\")\n",
    "ax.set_ylabel(\"Number of flights\")"
   ]
  },
  {
   "cell_type": "markdown",
   "metadata": {},
   "source": [
    "### Overlaying Multiple Histograms\n",
    "Just like we are able to plot multiple lines on a single axes, we can plot multiple histograms. "
   ]
  },
  {
   "cell_type": "code",
   "execution_count": null,
   "metadata": {},
   "outputs": [],
   "source": [
    "figure, axes = plt.subplots()\n",
    "axes.hist(\n",
    "    seattle_weather_2015_2016['high_temp'], \n",
    "    bins=20)\n",
    "axes.hist(\n",
    "    seattle_weather_2015_2016['low_temp'], \n",
    "    bins=20)"
   ]
  },
  {
   "cell_type": "markdown",
   "metadata": {},
   "source": [
    "That is pretty cool, but there are a number of things that are not ideal with our plot:\n",
    "1. The low temperatures are in red. \n",
    "2. The low temperatures are covering up the high temperatures.\n",
    "3. There is no legend to clearly deliniate which is which.\n",
    "\n",
    "Let's combine what we've learned so far about Matplotlib to address these issues."
   ]
  },
  {
   "cell_type": "code",
   "execution_count": null,
   "metadata": {},
   "outputs": [],
   "source": [
    "figure, axes = plt.subplots()\n",
    "axes.hist(\n",
    "    seattle_weather_2015_2016['high_temp'], \n",
    "    bins=20, \n",
    "    label='High Temps', # Use label to specify legend name\n",
    "    color='orange'\n",
    ")\n",
    "axes.hist(\n",
    "    seattle_weather_2015_2016['low_temp'], \n",
    "    bins=20, \n",
    "    label='Low Temps', # Use label to specify legend name\n",
    "    alpha=.75 # Adjust alpha to allow both datasets to appear\n",
    ")\n",
    "\n",
    "# Enable the legend\n",
    "axes.legend()"
   ]
  },
  {
   "cell_type": "markdown",
   "metadata": {},
   "source": [
    "## Activity\n",
    "\n",
    "### Two Histograms\n",
    "\n",
    "* Create two DataFrames by extracting flight details of 'AS' (Alaskan Airlines) and 'HA' (Hawaiin Airlines)\n",
    "\n",
    "\n",
    "\n",
    "* Plot the histograms of the distance ('DISTANCE') travelled by each of 'AS' and 'HA' airlines\n",
    "    * Adjust the parameters for each histogram\n",
    "        * bins\n",
    "        * range\n",
    "        * color\n",
    "        * alpha (opacity)\n",
    "        * label\n",
    "    * Provide a legend on the upper right corner to indicate which airline"
   ]
  },
  {
   "cell_type": "code",
   "execution_count": 13,
   "metadata": {},
   "outputs": [],
   "source": [
    "# get subsets of data by airline \n",
    "as_flights = flights[ flights['AIRLINE'] == 'AS']\n",
    "ha_flights = flights[ flights['AIRLINE'] == 'HA']"
   ]
  },
  {
   "cell_type": "code",
   "execution_count": 21,
   "metadata": {},
   "outputs": [
    {
     "data": {
      "text/plain": [
       "<matplotlib.legend.Legend at 0x7fefd8ed5ed0>"
      ]
     },
     "execution_count": 21,
     "metadata": {},
     "output_type": "execute_result"
    },
    {
     "data": {
      "image/png": "[encoded data removed]",
      "text/plain": [
       "<Figure size 432x288 with 1 Axes>"
      ]
     },
     "metadata": {
      "needs_background": "light"
     },
     "output_type": "display_data"
    }
   ],
   "source": [
    "# subplots\n",
    "fig,ax = plt.subplots()\n",
    "# plot both with opacity, color and label\n",
    "ax.hist(as_flights['DISTANCE'], label=\"Alaska\", bins=10, color=\"blue\")\n",
    "ax.hist(ha_flights['DISTANCE'], label=\"Hawaii\", bins=10, alpha=.7, color=\"orange\")\n",
    "# meta data\n",
    "ax.set_title(\"Alaska vs Hawaii\")\n",
    "ax.set_ylabel(\"Number of Flights\")\n",
    "ax.set_xlabel(\"Distance\")\n",
    "ax.legend()\n",
    "fig.legend() # look, you can do this too"
   ]
  },
  {
   "cell_type": "markdown",
   "metadata": {},
   "source": [
    "## Two Dimensional Histograms"
   ]
  },
  {
   "cell_type": "markdown",
   "metadata": {},
   "source": [
    "In the previous section, we demonstrated how to generate a histogram on a single variable in a data set. In this section, we are going to cover how you can create 2 dimensional histograms to visualize the relationship between two variables in a data set.\n",
    "\n",
    "We will start by going back to our ND football roster and create a plot that shows the relationships between player heights and weights."
   ]
  },
  {
   "cell_type": "code",
   "execution_count": null,
   "metadata": {},
   "outputs": [],
   "source": [
    "figure, axes = plt.subplots()\n",
    "image = axes.hist2d(\n",
    "    nd_football_roster['Height'],\n",
    "    nd_football_roster['Weight'], \n",
    "    cmap='Greens', # Notice we use `cmap` to specify color range\n",
    ")\n",
    "\n",
    "axes.set_xlabel(\"Height\")\n",
    "axes.set_ylabel(\"Weight\")"
   ]
  },
  {
   "cell_type": "markdown",
   "metadata": {},
   "source": [
    "If you recall from our previous section, we have to pass an image to the *`figure.colorbar()`* method in order for it to work correctly.\n",
    "\n",
    "Unlike the *`axes.scatter()`* method, the *`axes.hist2d`* method returns a 4 element tuple. The last element is the image reference that we need to pass into *`figure.colorbar()`*. **This is a idiosyncratic thing to keep track**"
   ]
  },
  {
   "cell_type": "code",
   "execution_count": null,
   "metadata": {},
   "outputs": [],
   "source": [
    "figure, axes = plt.subplots()\n",
    "\n",
    "results = axes.hist2d(\n",
    "    nd_football_roster['Height'],\n",
    "    nd_football_roster['Weight'], \n",
    "    cmap='coolwarm')\n",
    "print(results)\n",
    "# # Pass in the 4th element (index 3)\n",
    "figure.colorbar(results[3], label='Count of Occurrence')\n",
    "\n",
    "\n",
    "axes.set_xlabel(\"Height\")\n",
    "axes.set_ylabel(\"Weight\")"
   ]
  },
  {
   "cell_type": "code",
   "execution_count": null,
   "metadata": {},
   "outputs": [],
   "source": [
    "results"
   ]
  },
  {
   "cell_type": "markdown",
   "metadata": {},
   "source": [
    "### Reduce clutter with the `cmin` & `cmax` arguments\n",
    "In both of our examples, there is a lot of visual noise that comes from the bins that have 0 occurences. We can remove this clutter by specifying the `cmin` (count minimum) argument."
   ]
  },
  {
   "cell_type": "code",
   "execution_count": null,
   "metadata": {},
   "outputs": [],
   "source": [
    "figure, axes = plt.subplots()\n",
    "results = axes.hist2d(\n",
    "    nd_football_roster['Height'],\n",
    "    nd_football_roster['Weight'],\n",
    "    cmap='coolwarm',\n",
    "    cmin=1)\n",
    "figure.colorbar(results[3], label='Count of Occurence')"
   ]
  },
  {
   "cell_type": "code",
   "execution_count": null,
   "metadata": {},
   "outputs": [],
   "source": [
    "# notice how range works with this type of visualization...\n",
    "\n",
    "figure, axes = plt.subplots()\n",
    "results = axes.hist2d(\n",
    "    nd_football_roster['Height'],\n",
    "    nd_football_roster['Weight'],\n",
    "    cmap='coolwarm',\n",
    "    cmin=1,\n",
    "    range=((70,76),(200,260))\n",
    "    )\n",
    "figure.colorbar(results[3], label='Count of Occurence')"
   ]
  },
  {
   "cell_type": "code",
   "execution_count": null,
   "metadata": {},
   "outputs": [],
   "source": [
    "for i in results: \n",
    "    print(type(i))"
   ]
  },
  {
   "cell_type": "markdown",
   "metadata": {},
   "source": [
    "## Activity\n",
    "\n",
    "### 2D Histograms\n",
    "\n",
    "* Plot the 2D histograms of the distance ('DISTANCE') travelled and 'TAXI_IN' time. \n",
    "    * Adjust the parameters for each histogram\n",
    "        * cmin\n",
    "        * cmap\n",
    "        * bins\n",
    "        * range\n",
    "    * Provide a colorbar for 'Number of flights'"
   ]
  },
  {
   "cell_type": "code",
   "execution_count": 1,
   "metadata": {},
   "outputs": [
    {
     "ename": "NameError",
     "evalue": "name 'plt' is not defined",
     "output_type": "error",
     "traceback": [
      "\u001b[0;31m---------------------------------------------------------------------------\u001b[0m",
      "\u001b[0;31mNameError\u001b[0m                                 Traceback (most recent call last)",
      "\u001b[0;32m<ipython-input-1-f088cf0b35aa>\u001b[0m in \u001b[0;36m<module>\u001b[0;34m\u001b[0m\n\u001b[1;32m      1\u001b[0m \u001b[0;31m# subplots\u001b[0m\u001b[0;34m\u001b[0m\u001b[0;34m\u001b[0m\u001b[0;34m\u001b[0m\u001b[0m\n\u001b[0;32m----> 2\u001b[0;31m \u001b[0mfig\u001b[0m\u001b[0;34m,\u001b[0m\u001b[0max\u001b[0m \u001b[0;34m=\u001b[0m \u001b[0mplt\u001b[0m\u001b[0;34m.\u001b[0m\u001b[0msubplots\u001b[0m\u001b[0;34m(\u001b[0m\u001b[0;34m)\u001b[0m\u001b[0;34m\u001b[0m\u001b[0;34m\u001b[0m\u001b[0m\n\u001b[0m\u001b[1;32m      3\u001b[0m \u001b[0;31m# plot 2d histogram with distance and taxi in\u001b[0m\u001b[0;34m\u001b[0m\u001b[0;34m\u001b[0m\u001b[0;34m\u001b[0m\u001b[0m\n\u001b[1;32m      4\u001b[0m \u001b[0mflights_small\u001b[0m \u001b[0;34m=\u001b[0m \u001b[0mflights\u001b[0m\u001b[0;34m[\u001b[0m\u001b[0;34m[\u001b[0m\u001b[0;34m'DISTANCE'\u001b[0m\u001b[0;34m,\u001b[0m \u001b[0;34m'TAXI_IN'\u001b[0m\u001b[0;34m]\u001b[0m\u001b[0;34m]\u001b[0m\u001b[0;34m.\u001b[0m\u001b[0mdropna\u001b[0m\u001b[0;34m(\u001b[0m\u001b[0;34m)\u001b[0m\u001b[0;34m\u001b[0m\u001b[0;34m\u001b[0m\u001b[0m\n\u001b[1;32m      5\u001b[0m result = ax.hist2d(flights['DISTANCE'], flights['TAXI_IN'],\n",
      "\u001b[0;31mNameError\u001b[0m: name 'plt' is not defined"
     ]
    }
   ],
   "source": [
    "# subplots\n",
    "fig,ax = plt.subplots()\n",
    "# plot 2d histogram with distance and taxi in\n",
    "result = ax.hist2d(flights['DISTANCE'], flights['TAXI_IN'],\n",
    "                cmap='viridis', \n",
    "                cmin=1,\n",
    "                range=((0,3000), (0,70)),\n",
    "                bins=30\n",
    "                )[3]\n",
    "# set the cmap to viridis\n",
    "# clean up the map with range, and cmin/cmax\n",
    "\n",
    "# add color bar\n",
    "fig.colorbar(result, label=\"Occurances\")\n",
    "# set title\n",
    "ax.set_title(\"Distance and Taxi Time\")\n",
    "ax.set_xlabel(\"Distance\")\n",
    "ax.set_ylabel(\"Taxi In Time\")\n"
   ]
  },
  {
   "cell_type": "markdown",
   "metadata": {},
   "source": [
    "# Making Interactive Plots\n",
    "\n",
    "Instead of saying `%matplotlib inline` if you used **`%matplotlib notebook`** you can interact with your plots. This is makes visualization even more **fun**!"
   ]
  },
  {
   "cell_type": "code",
   "execution_count": 1,
   "metadata": {},
   "outputs": [],
   "source": [
    "import pandas as pd\n",
    "import numpy as np\n",
    "import matplotlib as mpl\n",
    "import matplotlib.pyplot as plt\n",
    "\n",
    "# Add this after your imports to configure Jupyter to \n",
    "# display your plots and INTERACT with them\n",
    "%matplotlib notebook"
   ]
  },
  {
   "cell_type": "code",
   "execution_count": 2,
   "metadata": {},
   "outputs": [
    {
     "data": {
      "text/html": [
       "<div>\n",
       "<style scoped>\n",
       "    .dataframe tbody tr th:only-of-type {\n",
       "        vertical-align: middle;\n",
       "    }\n",
       "\n",
       "    .dataframe tbody tr th {\n",
       "        vertical-align: top;\n",
       "    }\n",
       "\n",
       "    .dataframe thead th {\n",
       "        text-align: right;\n",
       "    }\n",
       "</style>\n",
       "<table border=\"1\" class=\"dataframe\">\n",
       "  <thead>\n",
       "    <tr style=\"text-align: right;\">\n",
       "      <th></th>\n",
       "      <th>date</th>\n",
       "      <th>low_temp</th>\n",
       "      <th>high_temp</th>\n",
       "      <th>precipitation</th>\n",
       "      <th>snowfall</th>\n",
       "      <th>snowdepth</th>\n",
       "      <th>avgwindspeed</th>\n",
       "      <th>fog</th>\n",
       "      <th>mist</th>\n",
       "      <th>rain</th>\n",
       "      <th>ice</th>\n",
       "      <th>snow</th>\n",
       "      <th>freezingrain</th>\n",
       "      <th>thunder</th>\n",
       "      <th>highwind</th>\n",
       "      <th>hail</th>\n",
       "    </tr>\n",
       "  </thead>\n",
       "  <tbody>\n",
       "    <tr>\n",
       "      <td>0</td>\n",
       "      <td>1/1/15</td>\n",
       "      <td>23.2</td>\n",
       "      <td>51.1</td>\n",
       "      <td>0.00</td>\n",
       "      <td>0.0</td>\n",
       "      <td>0.0</td>\n",
       "      <td>4.70</td>\n",
       "      <td>No</td>\n",
       "      <td>No</td>\n",
       "      <td>No</td>\n",
       "      <td>No</td>\n",
       "      <td>No</td>\n",
       "      <td>No</td>\n",
       "      <td>No</td>\n",
       "      <td>No</td>\n",
       "      <td>No</td>\n",
       "    </tr>\n",
       "    <tr>\n",
       "      <td>1</td>\n",
       "      <td>1/2/15</td>\n",
       "      <td>41.0</td>\n",
       "      <td>54.0</td>\n",
       "      <td>0.00</td>\n",
       "      <td>0.0</td>\n",
       "      <td>0.0</td>\n",
       "      <td>2.91</td>\n",
       "      <td>No</td>\n",
       "      <td>No</td>\n",
       "      <td>No</td>\n",
       "      <td>No</td>\n",
       "      <td>No</td>\n",
       "      <td>No</td>\n",
       "      <td>No</td>\n",
       "      <td>No</td>\n",
       "      <td>No</td>\n",
       "    </tr>\n",
       "    <tr>\n",
       "      <td>2</td>\n",
       "      <td>1/3/15</td>\n",
       "      <td>46.0</td>\n",
       "      <td>51.1</td>\n",
       "      <td>0.16</td>\n",
       "      <td>0.0</td>\n",
       "      <td>0.0</td>\n",
       "      <td>3.80</td>\n",
       "      <td>Yes</td>\n",
       "      <td>No</td>\n",
       "      <td>No</td>\n",
       "      <td>No</td>\n",
       "      <td>No</td>\n",
       "      <td>No</td>\n",
       "      <td>No</td>\n",
       "      <td>No</td>\n",
       "      <td>No</td>\n",
       "    </tr>\n",
       "    <tr>\n",
       "      <td>3</td>\n",
       "      <td>1/4/15</td>\n",
       "      <td>48.9</td>\n",
       "      <td>69.1</td>\n",
       "      <td>0.29</td>\n",
       "      <td>0.0</td>\n",
       "      <td>0.0</td>\n",
       "      <td>10.07</td>\n",
       "      <td>Yes</td>\n",
       "      <td>No</td>\n",
       "      <td>No</td>\n",
       "      <td>No</td>\n",
       "      <td>No</td>\n",
       "      <td>No</td>\n",
       "      <td>No</td>\n",
       "      <td>No</td>\n",
       "      <td>No</td>\n",
       "    </tr>\n",
       "    <tr>\n",
       "      <td>4</td>\n",
       "      <td>1/5/15</td>\n",
       "      <td>32.0</td>\n",
       "      <td>55.9</td>\n",
       "      <td>0.00</td>\n",
       "      <td>0.0</td>\n",
       "      <td>0.0</td>\n",
       "      <td>5.37</td>\n",
       "      <td>No</td>\n",
       "      <td>No</td>\n",
       "      <td>No</td>\n",
       "      <td>No</td>\n",
       "      <td>No</td>\n",
       "      <td>No</td>\n",
       "      <td>No</td>\n",
       "      <td>No</td>\n",
       "      <td>No</td>\n",
       "    </tr>\n",
       "  </tbody>\n",
       "</table>\n",
       "</div>"
      ],
      "text/plain": [
       "     date  low_temp  high_temp  precipitation  snowfall  snowdepth  \\\n",
       "0  1/1/15      23.2       51.1           0.00       0.0        0.0   \n",
       "1  1/2/15      41.0       54.0           0.00       0.0        0.0   \n",
       "2  1/3/15      46.0       51.1           0.16       0.0        0.0   \n",
       "3  1/4/15      48.9       69.1           0.29       0.0        0.0   \n",
       "4  1/5/15      32.0       55.9           0.00       0.0        0.0   \n",
       "\n",
       "   avgwindspeed  fog mist rain ice snow freezingrain thunder highwind hail  \n",
       "0          4.70   No   No   No  No   No           No      No       No   No  \n",
       "1          2.91   No   No   No  No   No           No      No       No   No  \n",
       "2          3.80  Yes   No   No  No   No           No      No       No   No  \n",
       "3         10.07  Yes   No   No  No   No           No      No       No   No  \n",
       "4          5.37   No   No   No  No   No           No      No       No   No  "
      ]
     },
     "execution_count": 2,
     "metadata": {},
     "output_type": "execute_result"
    }
   ],
   "source": [
    "seattle_weather_2015_2016 = pd.read_csv(\n",
    "    './data/seattle_weather_2015_2016.csv')\n",
    "seattle_weather_2015_2016.head()"
   ]
  },
  {
   "cell_type": "code",
   "execution_count": 3,
   "metadata": {},
   "outputs": [
    {
     "data": {
      "text/plain": [
       "<matplotlib.colorbar.Colorbar at 0x7fefa8872f10>"
      ]
     },
     "execution_count": 3,
     "metadata": {},
     "output_type": "execute_result"
    },
    {
     "data": {
      "image/png": "[encoded data removed]",
      "text/plain": [
       "<Figure size 432x288 with 3 Axes>"
      ]
     },
     "metadata": {
      "needs_background": "light"
     },
     "output_type": "display_data"
    }
   ],
   "source": [
    "# Plotting high & low temps with different colormaps\n",
    "# along with separate colorbars\n",
    "figure, axes = plt.subplots()\n",
    "\n",
    "low_temps = axes.scatter(seattle_weather_2015_2016.index, \n",
    "             seattle_weather_2015_2016['low_temp'], \n",
    "             c=seattle_weather_2015_2016['low_temp'], \n",
    "             cmap='PuBu')\n",
    "\n",
    "high_temps = axes.scatter(seattle_weather_2015_2016.index, \n",
    "             seattle_weather_2015_2016['high_temp'],\n",
    "             c=seattle_weather_2015_2016['high_temp'], \n",
    "             cmap='YlOrRd')\n",
    "\n",
    "figure.colorbar(low_temps, label=\"Low Temperature\")\n",
    "figure.colorbar(high_temps, label = \"High Temperature\")"
   ]
  },
  {
   "cell_type": "markdown",
   "metadata": {},
   "source": [
    "# Matplotlib Subplots"
   ]
  },
  {
   "cell_type": "markdown",
   "metadata": {},
   "source": [
    "## Introduction\n",
    "In this section we are going to learn how to create multiple plots that are connected to each other in a single *`figure`* object. In Matplotlib, these are called \"subplots\". You may also think of them as linked plots."
   ]
  },
  {
   "cell_type": "code",
   "execution_count": 4,
   "metadata": {},
   "outputs": [],
   "source": [
    "nd_football_roster = pd.read_csv('./data/nd-football-2018-roster.csv')\n",
    "seattle_weather_2015_2016 = pd.read_csv(\n",
    "    './data/seattle_weather_2015_2016.csv')"
   ]
  },
  {
   "cell_type": "markdown",
   "metadata": {},
   "source": [
    "## Generating Subplots\n",
    "You've actually been using the method needed to create a grid of subplots from the very beginning of this chapter.\n",
    "\n",
    "We've used **`plt.subplots()`** function to return a single figure and axes objects, but it is also capable of generating a grid of axes objects with supplied with the correct arguments.\n",
    "\n",
    "In the following example, I will generate a 1x2 grid of axes for us to work with."
   ]
  },
  {
   "cell_type": "code",
   "execution_count": 5,
   "metadata": {},
   "outputs": [
    {
     "name": "stdout",
     "output_type": "stream",
     "text": [
      "<class 'numpy.ndarray'>\n",
      "[<matplotlib.axes._subplots.AxesSubplot object at 0x7fefc854bbd0>\n",
      " <matplotlib.axes._subplots.AxesSubplot object at 0x7fefa8883b10>]\n"
     ]
    },
    {
     "data": {
      "image/png": "[encoded data removed]",
      "text/plain": [
       "<Figure size 432x288 with 2 Axes>"
      ]
     },
     "metadata": {
      "needs_background": "light"
     },
     "output_type": "display_data"
    }
   ],
   "source": [
    "%matplotlib inline\n",
    "figure, axes = plt.subplots(1, 2)\n",
    "print(type(axes), axes, sep='\\n')"
   ]
  },
  {
   "cell_type": "markdown",
   "metadata": {},
   "source": [
    "Notice that the *`axes`* variable now points to a Numpy array filled with **`AxesSubplot`** objects. If we attempt to plot something on the *`axes`* variable itself it will fail because a Numpy array can't plot anything!"
   ]
  },
  {
   "cell_type": "code",
   "execution_count": 6,
   "metadata": {},
   "outputs": [
    {
     "ename": "AttributeError",
     "evalue": "'numpy.ndarray' object has no attribute 'scatter'",
     "output_type": "error",
     "traceback": [
      "\u001b[0;31m---------------------------------------------------------------------------\u001b[0m",
      "\u001b[0;31mAttributeError\u001b[0m                            Traceback (most recent call last)",
      "\u001b[0;32m<ipython-input-6-39f752c6bcc3>\u001b[0m in \u001b[0;36m<module>\u001b[0;34m\u001b[0m\n\u001b[1;32m      1\u001b[0m \u001b[0mfigure\u001b[0m\u001b[0;34m,\u001b[0m \u001b[0maxes\u001b[0m \u001b[0;34m=\u001b[0m \u001b[0mplt\u001b[0m\u001b[0;34m.\u001b[0m\u001b[0msubplots\u001b[0m\u001b[0;34m(\u001b[0m\u001b[0;36m1\u001b[0m\u001b[0;34m,\u001b[0m \u001b[0;36m2\u001b[0m\u001b[0;34m)\u001b[0m\u001b[0;34m\u001b[0m\u001b[0;34m\u001b[0m\u001b[0m\n\u001b[0;32m----> 2\u001b[0;31m \u001b[0maxes\u001b[0m\u001b[0;34m.\u001b[0m\u001b[0mscatter\u001b[0m\u001b[0;34m(\u001b[0m\u001b[0mnd_football_roster\u001b[0m\u001b[0;34m[\u001b[0m\u001b[0;34m'Height'\u001b[0m\u001b[0;34m]\u001b[0m\u001b[0;34m)\u001b[0m\u001b[0;34m\u001b[0m\u001b[0;34m\u001b[0m\u001b[0m\n\u001b[0m",
      "\u001b[0;31mAttributeError\u001b[0m: 'numpy.ndarray' object has no attribute 'scatter'"
     ]
    },
    {
     "data": {
      "image/png": "[encoded data removed]",
      "text/plain": [
       "<Figure size 432x288 with 2 Axes>"
      ]
     },
     "metadata": {
      "needs_background": "light"
     },
     "output_type": "display_data"
    }
   ],
   "source": [
    "figure, axes = plt.subplots(1, 2)\n",
    "axes.scatter(nd_football_roster['Height'])"
   ]
  },
  {
   "cell_type": "markdown",
   "metadata": {},
   "source": [
    "Instead we have to address the specific **`AxesSubplot`** objects inside of the Numpy array that we want to plot with:"
   ]
  },
  {
   "cell_type": "code",
   "execution_count": 7,
   "metadata": {},
   "outputs": [
    {
     "data": {
      "text/plain": [
       "Text(0.5, 1.0, 'ND Football Player Weights')"
      ]
     },
     "execution_count": 7,
     "metadata": {},
     "output_type": "execute_result"
    },
    {
     "data": {
      "image/png": "[encoded data removed]",
      "text/plain": [
       "<Figure size 432x288 with 2 Axes>"
      ]
     },
     "metadata": {
      "needs_background": "light"
     },
     "output_type": "display_data"
    }
   ],
   "source": [
    "figure, axes = plt.subplots(1, 2)\n",
    "axes[0].scatter(\n",
    "    nd_football_roster.index, nd_football_roster['Height'])\n",
    "axes[0].set_title('ND Football Player Heights')\n",
    "\n",
    "axes[1].scatter(\n",
    "    nd_football_roster.index, nd_football_roster['Weight'])\n",
    "axes[1].set_title('ND Football Player Weights')"
   ]
  },
  {
   "cell_type": "markdown",
   "metadata": {},
   "source": [
    "A potentially confusing case arises when you create a grid with multiple rows as this results in a 2 dimensional Numpy array being returned from the *`plt.subplots()`* method.\n",
    "\n",
    "When you have this condition, you have to specify both the row and column indices of the *`AxesSubplot`* objects you want to plot with.\n",
    "\n",
    "In the following example, I will only plot on the top-left and bottom-right subplots to demonstrate."
   ]
  },
  {
   "cell_type": "code",
   "execution_count": 8,
   "metadata": {},
   "outputs": [
    {
     "data": {
      "text/plain": [
       "<matplotlib.collections.PathCollection at 0x7fefb8563f10>"
      ]
     },
     "execution_count": 8,
     "metadata": {},
     "output_type": "execute_result"
    },
    {
     "data": {
      "image/png": "[encoded data removed]",
      "text/plain": [
       "<Figure size 432x288 with 4 Axes>"
      ]
     },
     "metadata": {
      "needs_background": "light"
     },
     "output_type": "display_data"
    }
   ],
   "source": [
    "figure, axes = plt.subplots(2, 2)\n",
    "axes[0, 0].scatter(\n",
    "    nd_football_roster.index, nd_football_roster['Height'])\n",
    "\n",
    "axes[1, 1].scatter(\n",
    "    nd_football_roster.index, nd_football_roster['Weight'])"
   ]
  },
  {
   "cell_type": "markdown",
   "metadata": {},
   "source": [
    "### Sharing X/Y Axis between Subplots\n",
    "In our examples above, each subplot is given a separate x and y axis. This can become somewhat cluttered as you can see.\n",
    "\n",
    "The *`plt.subplots()`* method gives use the ability to share x/y axis between multiple subplots via the `sharex` and `sharey` arguments.\n",
    "\n",
    "Let's show how we might use this with some Seattle weather subplots."
   ]
  },
  {
   "cell_type": "code",
   "execution_count": 9,
   "metadata": {},
   "outputs": [
    {
     "data": {
      "text/plain": [
       "<matplotlib.collections.PathCollection at 0x7fefc8698d90>"
      ]
     },
     "execution_count": 9,
     "metadata": {},
     "output_type": "execute_result"
    },
    {
     "data": {
      "image/png": "[encoded data removed]",
      "text/plain": [
       "<Figure size 432x288 with 2 Axes>"
      ]
     },
     "metadata": {
      "needs_background": "light"
     },
     "output_type": "display_data"
    }
   ],
   "source": [
    "# Here we'll generate two plots\n",
    "# The low/high temps for Seattle\n",
    "figure, axes = plt.subplots(1, 2)\n",
    "\n",
    "axes[0].scatter(seattle_weather_2015_2016.index, \n",
    "             seattle_weather_2015_2016['low_temp'], \n",
    "             c=seattle_weather_2015_2016['low_temp'], \n",
    "             cmap='PuBu')\n",
    "\n",
    "axes[1].scatter(seattle_weather_2015_2016.index, \n",
    "             seattle_weather_2015_2016['high_temp'],\n",
    "             c=seattle_weather_2015_2016['high_temp'], \n",
    "             cmap='YlOrRd')"
   ]
  },
  {
   "cell_type": "markdown",
   "metadata": {},
   "source": [
    "Each of the subplots has been given its own x-axis and y-axis. Let's specify that they should share their y-axis and see how that changes the appearance of our figure:"
   ]
  },
  {
   "cell_type": "code",
   "execution_count": 10,
   "metadata": {},
   "outputs": [
    {
     "data": {
      "text/plain": [
       "<matplotlib.collections.PathCollection at 0x7fef6842fd90>"
      ]
     },
     "execution_count": 10,
     "metadata": {},
     "output_type": "execute_result"
    },
    {
     "data": {
      "image/png": "[encoded data removed]",
      "text/plain": [
       "<Figure size 432x288 with 2 Axes>"
      ]
     },
     "metadata": {
      "needs_background": "light"
     },
     "output_type": "display_data"
    }
   ],
   "source": [
    "figure, axes = plt.subplots(1, 2, sharey=True)\n",
    "\n",
    "axes[0].scatter(seattle_weather_2015_2016.index, \n",
    "             seattle_weather_2015_2016['low_temp'], \n",
    "             c=seattle_weather_2015_2016['low_temp'], \n",
    "             cmap='PuBu')\n",
    "\n",
    "axes[1].scatter(seattle_weather_2015_2016.index, \n",
    "             seattle_weather_2015_2016['high_temp'],\n",
    "             c=seattle_weather_2015_2016['high_temp'], \n",
    "             cmap='YlOrRd')"
   ]
  },
  {
   "cell_type": "markdown",
   "metadata": {},
   "source": [
    "Very nice. You can see now that there is a single y-axis that is shared between the two subplots. Matplotlib automatically expands the values in the axis to the range necessary to cover the two subplots.\n",
    "\n",
    "Doing this not only reduced the complexity of the two plots, but also visually aligned the data so that the low temperatures appear lower than the high temperatures."
   ]
  }
 ],
 "metadata": {
  "kernelspec": {
   "display_name": "Python 3",
   "language": "python",
   "name": "python3"
  },
  "language_info": {
   "codemirror_mode": {
    "name": "ipython",
    "version": 3
   },
   "file_extension": ".py",
   "mimetype": "text/x-python",
   "name": "python",
   "nbconvert_exporter": "python",
   "pygments_lexer": "ipython3",
   "version": "3.7.4"
  }
 },
 "nbformat": 4,
 "nbformat_minor": 2
}
