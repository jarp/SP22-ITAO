{
 "cells": [
  {
   "cell_type": "markdown",
   "metadata": {},
   "source": [
    "## List: Practice"
   ]
  },
  {
   "cell_type": "code",
   "execution_count": null,
   "metadata": {},
   "outputs": [],
   "source": [
    "list_one = [10,20,30,40,50]"
   ]
  },
  {
   "cell_type": "markdown",
   "metadata": {},
   "source": [
    "## List: Basics and Accessing"
   ]
  },
  {
   "cell_type": "code",
   "execution_count": null,
   "metadata": {},
   "outputs": [],
   "source": [
    "# zero indexed, accessing items in a list\n",
    "print(list_one[0])\n",
    "print(list_one[2])"
   ]
  },
  {
   "cell_type": "code",
   "execution_count": null,
   "metadata": {},
   "outputs": [],
   "source": [
    "# update a list by referencing via zero-index\n",
    "list_one[0] = 5"
   ]
  },
  {
   "cell_type": "code",
   "execution_count": null,
   "metadata": {},
   "outputs": [],
   "source": [
    "list_one"
   ]
  },
  {
   "cell_type": "markdown",
   "metadata": {},
   "source": [
    "### Negative index accessing"
   ]
  },
  {
   "cell_type": "code",
   "execution_count": null,
   "metadata": {},
   "outputs": [],
   "source": [
    "# more on access list items via index\n",
    "print(list_one)\n",
    "print(list_one[-1])\n",
    "print(list_one[-2])"
   ]
  },
  {
   "cell_type": "markdown",
   "metadata": {},
   "source": [
    "### List: Sublist - x[a:b] means give the list from index a (included) to index b (not included)"
   ]
  },
  {
   "cell_type": "code",
   "execution_count": null,
   "metadata": {},
   "outputs": [],
   "source": [
    "# create smaller list from lager list\n",
    "list_one[1:3]"
   ]
  },
  {
   "cell_type": "code",
   "execution_count": null,
   "metadata": {},
   "outputs": [],
   "source": [
    "list_two = [10,20,30,40,50,60,70,80,90]"
   ]
  },
  {
   "cell_type": "markdown",
   "metadata": {},
   "source": [
    "### List: Sublist - x[a:b:c] means give the list from index a (included) to index b (not included) with step increments in index by c"
   ]
  },
  {
   "cell_type": "code",
   "execution_count": null,
   "metadata": {},
   "outputs": [],
   "source": [
    "# more powerful sublisting with indexes and steps\n",
    "list_two[0:8:3]"
   ]
  },
  {
   "cell_type": "markdown",
   "metadata": {},
   "source": [
    "### When the step size is negative - the list is accessed in the reverse order"
   ]
  },
  {
   "cell_type": "code",
   "execution_count": null,
   "metadata": {},
   "outputs": [],
   "source": [
    "# what does this do?\n",
    "list_two[:]"
   ]
  },
  {
   "cell_type": "code",
   "execution_count": null,
   "metadata": {},
   "outputs": [],
   "source": [
    "# whoa!\n",
    "list_two[::-1]"
   ]
  },
  {
   "cell_type": "code",
   "execution_count": null,
   "metadata": {},
   "outputs": [],
   "source": [
    "# cool\n",
    "list_two[::-2]"
   ]
  },
  {
   "cell_type": "code",
   "execution_count": null,
   "metadata": {},
   "outputs": [],
   "source": [
    "# well, ok\n",
    "list_two[-2:2]"
   ]
  },
  {
   "cell_type": "code",
   "execution_count": null,
   "metadata": {},
   "outputs": [],
   "source": [
    "# omg\n",
    "list_two[-2:2:-1]"
   ]
  },
  {
   "cell_type": "markdown",
   "metadata": {},
   "source": [
    "## List Assignment happens by reference \n",
    "\n",
    "More about memory and how it affects python"
   ]
  },
  {
   "cell_type": "code",
   "execution_count": null,
   "metadata": {},
   "outputs": [],
   "source": [
    "var1 = 100\n",
    "var2 = var1 # Assignment by value\n",
    "var2 = var2 + 50\n",
    "print(var1)"
   ]
  },
  {
   "cell_type": "code",
   "execution_count": null,
   "metadata": {},
   "outputs": [],
   "source": [
    "list1 = [1,2,3,4]\n",
    "list1[2] = 100\n",
    "list2 = list1 # Assignment by reference\n",
    "print(list2)\n",
    "list2[0] = 343\n",
    "print(list2)\n",
    "print(list1)"
   ]
  },
  {
   "cell_type": "code",
   "execution_count": null,
   "metadata": {},
   "outputs": [],
   "source": [
    "list3 = [1,2,3,4]\n",
    "list3[2] = 100\n",
    "list4 = list3[:] # Assignment by copying\n",
    "print(list4)\n",
    "list4[0] = 343\n",
    "print(list3)\n",
    "print(list4)"
   ]
  },
  {
   "cell_type": "code",
   "execution_count": null,
   "metadata": {},
   "outputs": [],
   "source": [
    "list_one = [10,20,30,40,50]\n",
    "list_two = list_one\n",
    "\n",
    "list_two[0] = 100\n",
    "print(list_one)"
   ]
  },
  {
   "cell_type": "markdown",
   "metadata": {},
   "source": [
    "## List sent as arguments to a function are also assigned by reference"
   ]
  },
  {
   "cell_type": "code",
   "execution_count": null,
   "metadata": {},
   "outputs": [],
   "source": [
    "def function_by_value(num_value):\n",
    "    num_value = num_value + 1\n",
    "    print(num_value)\n",
    "    \n",
    "number = 10\n",
    "function_by_value(number)\n",
    "print(number)"
   ]
  },
  {
   "cell_type": "markdown",
   "metadata": {},
   "source": [
    "You should observe that the value _number_ has not changed, but we observe what happens when a list is sent as an argument "
   ]
  },
  {
   "cell_type": "code",
   "execution_count": null,
   "metadata": {},
   "outputs": [],
   "source": [
    "def function_by_reference(lis):\n",
    "    lis[0] = 5\n",
    "    \n",
    "my_list = [1,2,3,4]\n",
    "function_by_reference(my_list)\n",
    "print(my_list)"
   ]
  },
  {
   "cell_type": "markdown",
   "metadata": {},
   "source": [
    "We observe that `my_list` is sent to the function and gets modified within the function"
   ]
  },
  {
   "cell_type": "code",
   "execution_count": null,
   "metadata": {},
   "outputs": [],
   "source": [
    "def function_by_reference(lis):\n",
    "    lis[0] = 5\n",
    "    \n",
    "my_list = [1,2,3,4]\n",
    "function_by_reference(my_list[:])\n",
    "print(my_list)"
   ]
  },
  {
   "cell_type": "markdown",
   "metadata": {},
   "source": [
    "In the above case my_list outside the function is NOT modified"
   ]
  },
  {
   "cell_type": "markdown",
   "metadata": {},
   "source": [
    "### Heterogeneous Lists\n",
    "So far, all of the elements in our two lists were the same type. Integers in `list_one` and strings in `list_two`. But this is not a requirement in Python.  You can place any number of different data types in a single list. For example: "
   ]
  },
  {
   "cell_type": "code",
   "execution_count": null,
   "metadata": {},
   "outputs": [],
   "source": [
    "list_het = [True, \"2\", 3.0, 4]\n",
    "print(type(list_het[0]))\n",
    "print(type(list_het[1]))\n",
    "print(type(list_het[2]))"
   ]
  },
  {
   "cell_type": "markdown",
   "metadata": {},
   "source": [
    "That's super flexible and pretty cool, but it does come at a performance cost.\n",
    "\n",
    "We'll learn in the next few classes that Python List take up additional space and they are further become space _inefficient_ with these heterogeneous lists. \n",
    "\n",
    "For this reason, when dealing with large datasets heterogeneous lists are avoided. "
   ]
  },
  {
   "cell_type": "markdown",
   "metadata": {},
   "source": [
    "## Yo Dawg... I heard you like lists"
   ]
  },
  {
   "cell_type": "code",
   "execution_count": null,
   "metadata": {},
   "outputs": [],
   "source": [
    "list_of_list = [ [1,2,3], [4,5,6], [7, 8,9] ]"
   ]
  },
  {
   "cell_type": "code",
   "execution_count": null,
   "metadata": {},
   "outputs": [],
   "source": [
    "list_of_list[1]"
   ]
  },
  {
   "cell_type": "code",
   "execution_count": null,
   "metadata": {},
   "outputs": [],
   "source": [
    "list_of_list[1][:2]"
   ]
  },
  {
   "cell_type": "markdown",
   "metadata": {},
   "source": [
    "## Using List in a for Loop"
   ]
  },
  {
   "cell_type": "code",
   "execution_count": null,
   "metadata": {},
   "outputs": [],
   "source": [
    "for var in range(0,5):\n",
    "    print(var)"
   ]
  },
  {
   "cell_type": "code",
   "execution_count": null,
   "metadata": {},
   "outputs": [],
   "source": [
    "my_list = [20,30,50,70]\n",
    "for x in my_list:\n",
    "    print(x)"
   ]
  },
  {
   "cell_type": "code",
   "execution_count": null,
   "metadata": {},
   "outputs": [],
   "source": [
    "list_het = [True, \"2\", 3.0, 4, None, [1,2,3]]\n",
    "\n",
    "for i in list_het:\n",
    "    print(type(i))"
   ]
  },
  {
   "cell_type": "markdown",
   "metadata": {},
   "source": [
    "## Operations on List\n",
    "\n",
    "* len()\n",
    "\n",
    "\n",
    "* sum() \n",
    "\n",
    "\n",
    "\n",
    "* max()\n",
    "\n",
    "\n",
    "\n",
    "* min()\n"
   ]
  },
  {
   "cell_type": "code",
   "execution_count": null,
   "metadata": {},
   "outputs": [],
   "source": [
    "lis = [1,2, 5, 2, 4,-2, 10]"
   ]
  },
  {
   "cell_type": "code",
   "execution_count": null,
   "metadata": {},
   "outputs": [],
   "source": [
    "# find how many items are in a list\n",
    "len_list = len(lis)\n",
    "print(len_list)"
   ]
  },
  {
   "cell_type": "code",
   "execution_count": null,
   "metadata": {},
   "outputs": [],
   "source": [
    "# add all the values in a list\n",
    "sum_list = sum(lis)\n",
    "print(sum_list)"
   ]
  },
  {
   "cell_type": "code",
   "execution_count": null,
   "metadata": {},
   "outputs": [],
   "source": [
    "# find the smallest value\n",
    "min_list = min(lis)\n",
    "print(min_list)"
   ]
  },
  {
   "cell_type": "code",
   "execution_count": null,
   "metadata": {},
   "outputs": [],
   "source": [
    "# find largest value\n",
    "max_list = max(lis)\n",
    "print(max_list)"
   ]
  },
  {
   "cell_type": "markdown",
   "metadata": {},
   "source": [
    "## Practice List with for loop #1\n",
    "\n",
    "Write a function that takes a list as input and returns the number of 0s in the list. Also, **assume the list contains only 1s and 0s**\n",
    "\n",
    "Write a program that creates a sample list and prints the returned value of the above function. Verify if your function is working correctly."
   ]
  },
  {
   "cell_type": "markdown",
   "metadata": {},
   "source": [
    "For example\n",
    "```python\n",
    "lis = [1, 0, 1, 1, 0, 1, 0]\n",
    "num_zeros = find_num_zeros(lis)\n",
    "print(num_zeros)\n",
    "```\n",
    "The above program should print `3`"
   ]
  },
  {
   "cell_type": "code",
   "execution_count": null,
   "metadata": {},
   "outputs": [],
   "source": [
    "def find_num_zeros(lis):\n",
    "    \"\"\"\n",
    "    Returns the number of 0s in the list of 1's and 0's\n",
    "    \"\"\"\n"
   ]
  },
  {
   "cell_type": "code",
   "execution_count": null,
   "metadata": {},
   "outputs": [],
   "source": [
    "lis = [1, 0, 1, 1, 0, 1, 0, 0, 0, 1, 0, 0, 1, 0]\n",
    "num_zeros = find_num_zeros(lis)\n",
    "print(num_zeros)\n"
   ]
  },
  {
   "cell_type": "code",
   "execution_count": null,
   "metadata": {},
   "outputs": [],
   "source": [
    "# using functions to complete the same task\n",
    "def find_num_zeros_quick(lis):\n",
    "    \"\"\"\n",
    "    Returns the number of 0s in the list of 1's and 0's\n",
    "    But... with a single line of code\n",
    "    \"\"\""
   ]
  },
  {
   "cell_type": "code",
   "execution_count": null,
   "metadata": {},
   "outputs": [],
   "source": [
    "lis = [1, 0, 1, 1, 0, 1, 0, 0, 0, 1, 0, 0, 1, 0]\n",
    "num_zeros = find_num_zeros_quick(lis)\n",
    "print(num_zeros)"
   ]
  },
  {
   "cell_type": "markdown",
   "metadata": {},
   "source": [
    "## List: append(), insert(), remove(), and sort()"
   ]
  },
  {
   "cell_type": "code",
   "execution_count": null,
   "metadata": {},
   "outputs": [],
   "source": [
    "lis = []\n",
    "len(lis)"
   ]
  },
  {
   "cell_type": "code",
   "execution_count": null,
   "metadata": {},
   "outputs": [],
   "source": [
    "lis.append(1)\n",
    "lis.append(13)\n",
    "lis.append(8)\n",
    "lis.append(2)"
   ]
  },
  {
   "cell_type": "code",
   "execution_count": null,
   "metadata": {},
   "outputs": [],
   "source": [
    "lis"
   ]
  },
  {
   "cell_type": "code",
   "execution_count": null,
   "metadata": {},
   "outputs": [],
   "source": [
    "list.insert?"
   ]
  },
  {
   "cell_type": "code",
   "execution_count": null,
   "metadata": {},
   "outputs": [],
   "source": [
    "lis.insert(2,4)\n",
    "\n",
    "lis"
   ]
  },
  {
   "cell_type": "code",
   "execution_count": null,
   "metadata": {},
   "outputs": [],
   "source": [
    "list.remove?"
   ]
  },
  {
   "cell_type": "code",
   "execution_count": null,
   "metadata": {},
   "outputs": [],
   "source": [
    "lis.append(15)\n",
    "lis.append(9)\n",
    "lis.append(15)\n",
    "print(lis)\n",
    "lis.remove(15)\n",
    "lis\n"
   ]
  },
  {
   "cell_type": "code",
   "execution_count": null,
   "metadata": {},
   "outputs": [],
   "source": [
    "lis.sort()\n",
    "print(lis)"
   ]
  },
  {
   "cell_type": "markdown",
   "metadata": {},
   "source": [
    "## List with 'in' operator"
   ]
  },
  {
   "cell_type": "code",
   "execution_count": null,
   "metadata": {},
   "outputs": [],
   "source": [
    "my_list = ['I', 'Love', 'Python']\n",
    "'Python' in my_list"
   ]
  },
  {
   "cell_type": "code",
   "execution_count": null,
   "metadata": {},
   "outputs": [],
   "source": [
    "'love' in my_list"
   ]
  },
  {
   "cell_type": "markdown",
   "metadata": {},
   "source": [
    "## Practice list appending and 'in' operations\n",
    "\n",
    "Ask a user to enter 5 words and use a list to save all words. Further, verify if there are words 'I', 'Love', 'Python' in them.\n",
    "\n",
    "1. Create an empty list\n",
    "2. Use append() function to keep appending to the list\n",
    "3. Veify if the list contained _ALL_ of the words 'I', 'Love', 'Python' \n",
    "\n"
   ]
  },
  {
   "cell_type": "markdown",
   "metadata": {},
   "source": [
    "#### Contains _ALL_ of the words 'I', 'Love', 'Python'"
   ]
  },
  {
   "cell_type": "code",
   "execution_count": null,
   "metadata": {},
   "outputs": [],
   "source": [
    "# Step 1: Already done for you\n",
    "words = []\n",
    "\n",
    "# Step 2: Accept 5 words\n",
    "\n",
    "# Step 3: Verify if it contains ALL of the words I, Love, Python    \n"
   ]
  },
  {
   "cell_type": "markdown",
   "metadata": {},
   "source": [
    "## Practice List with for loop #2 \n",
    "\n",
    "Write a function that takes a list as input and returns the sum of squared values of each element in the list. \n",
    "\n",
    "Further, write a program that creates a sample list and prints the returned value of the above function. Verify if your function is working correctly. \n"
   ]
  },
  {
   "cell_type": "code",
   "execution_count": null,
   "metadata": {},
   "outputs": [],
   "source": [
    "def sum_square(lis):\n",
    "    \"\"\"\n",
    "    Returns the sum of squares of all elements in the list\n",
    "    \"\"\"\n",
    "    ## WRITE YOUR CODE HERE\n"
   ]
  },
  {
   "cell_type": "code",
   "execution_count": null,
   "metadata": {},
   "outputs": [],
   "source": [
    "# a second way of doing this...\n",
    "def sum_square(lis):\n",
    "    \"\"\"\n",
    "    Returns the sum of squares of all elements in the list\n",
    "    \"\"\"\n",
    "    ## WRITE YOUR CODE HERE\n",
    "    "
   ]
  },
  {
   "cell_type": "code",
   "execution_count": null,
   "metadata": {},
   "outputs": [],
   "source": [
    "lis = [2,4,5,6]\n",
    "print(sum_square(lis))"
   ]
  }
 ],
 "metadata": {
  "kernelspec": {
   "display_name": "Python 3",
   "language": "python",
   "name": "python3"
  },
  "language_info": {
   "codemirror_mode": {
    "name": "ipython",
    "version": 3
   },
   "file_extension": ".py",
   "mimetype": "text/x-python",
   "name": "python",
   "nbconvert_exporter": "python",
   "pygments_lexer": "ipython3",
   "version": "3.7.4"
  }
 },
 "nbformat": 4,
 "nbformat_minor": 2
}
