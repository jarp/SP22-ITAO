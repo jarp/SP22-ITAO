{
 "cells": [
  {
   "cell_type": "code",
   "execution_count": null,
   "metadata": {},
   "outputs": [],
   "source": [
    "import pandas as pd\n",
    "import numpy as np\n",
    "\n",
    "import matplotlib as mpl\n",
    "import matplotlib.pyplot as plt\n",
    "\n",
    "plt.style.use('seaborn')\n",
    "%matplotlib inline"
   ]
  },
  {
   "cell_type": "code",
   "execution_count": null,
   "metadata": {},
   "outputs": [],
   "source": [
    "weather_df = pd.read_csv('./data/seattle_weather_2015_2016.csv')\n",
    "weather_df.head()"
   ]
  },
  {
   "cell_type": "code",
   "execution_count": null,
   "metadata": {},
   "outputs": [],
   "source": [
    "flights = pd.read_csv(\"./data/flight_sample.csv\")\n",
    "flights.head()"
   ]
  },
  {
   "cell_type": "markdown",
   "metadata": {},
   "source": [
    "# Challenge #1"
   ]
  },
  {
   "cell_type": "code",
   "execution_count": null,
   "metadata": {},
   "outputs": [],
   "source": [
    "flights_by_airline_day = flights.groupby(['AIRLINE', 'DAY_OF_WEEK'])\n",
    "taxi_out_mean = flights_by_airline_day['TAXI_OUT'].mean()\n",
    "taxi_out_mean"
   ]
  },
  {
   "cell_type": "code",
   "execution_count": null,
   "metadata": {},
   "outputs": [],
   "source": [
    "f,a = plt.subplots()\n",
    "a.plot(taxi_out_mean.loc['AA'].index, taxi_out_mean.loc['AA'], label=\"AA\")\n",
    "a.plot(taxi_out_mean.loc['WN'].index, taxi_out_mean.loc['WN'], label=\"WN\")\n",
    "a.plot(taxi_out_mean.loc['DL'].index, taxi_out_mean.loc['DL'], label=\"DL\")\n",
    "a.legend()\n",
    "a.set_title(label=\"Average Taxi Out times for Airlines by Day of Week\")\n",
    "a.set_xlabel(\"Day of Week\")\n",
    "a.set_ylabel(\"Minutes\")"
   ]
  },
  {
   "cell_type": "markdown",
   "metadata": {},
   "source": [
    "# Challenge #2"
   ]
  },
  {
   "cell_type": "code",
   "execution_count": null,
   "metadata": {
    "scrolled": true
   },
   "outputs": [],
   "source": [
    "aa_taxi = flights[ flights['AIRLINE'] == 'AA'][['TAXI_OUT', 'TAXI_IN', 'DISTANCE']]\n",
    "dl_taxi = flights[ flights['AIRLINE'] == 'DL'][['TAXI_OUT', 'TAXI_IN', 'DISTANCE']]\n",
    "fig,ax = plt.subplots()\n",
    "ax.hist(aa_taxi['TAXI_OUT'], bins=30, label=\"AA\")\n",
    "ax.hist(dl_taxi['TAXI_OUT'], alpha=.6, bins=30, label=\"DL\")\n",
    "\n",
    "ax.set_xlim(0,60)\n",
    "ax.set_ylim(0,300)\n",
    "\n",
    "ax.set_title(label=\"Distribution of Taxi Out times\")\n",
    "ax.set_xlabel(\"Time of Taxiing\")\n",
    "ax.set_ylabel(\"Number of Flights\")\n",
    "\n",
    "ax.legend()\n"
   ]
  },
  {
   "cell_type": "code",
   "execution_count": null,
   "metadata": {},
   "outputs": [],
   "source": [
    "aa_taxi = flights[ flights['AIRLINE'] == 'AA'][['TAXI_OUT', 'TAXI_IN', 'DISTANCE']]\n",
    "ha_taxi = flights[ flights['AIRLINE'] == 'HA'][['TAXI_OUT', 'TAXI_IN', 'DISTANCE']]\n",
    "fig,ax = plt.subplots()\n",
    "ax.hist(aa_taxi['TAXI_OUT'], bins=30, label=\"AA\")\n",
    "ax.hist(ha_taxi['TAXI_OUT'], alpha=.6, bins=30, label=\"HA\")\n",
    "\n",
    "ax.set_xlim(0,60)\n",
    "ax.set_ylim(0,300)\n",
    "ax.set_ylabel(\"Distance\")\n",
    "ax.set_xlabel(\"Distribution\")\n",
    "ax.set_title(label=\"Distribution of Flights by Distance\")\n",
    "\n",
    "ax.legend()"
   ]
  },
  {
   "cell_type": "markdown",
   "metadata": {},
   "source": [
    "# Challenge #3"
   ]
  },
  {
   "cell_type": "code",
   "execution_count": null,
   "metadata": {
    "scrolled": true
   },
   "outputs": [],
   "source": [
    "fig,ax = plt.subplots()\n",
    "img1 = ax.scatter(weather_df['precipitation'], weather_df['high_temp'],\n",
    "          c=weather_df['avgwindspeed'], cmap=\"coolwarm\")\n",
    "\n",
    "ax.set_xlim(0,2)\n",
    "fig.colorbar(img1, label=\"Avg Windspeed\")\n",
    "ax.set_ylabel(\"Temperature\")\n",
    "ax.set_xlabel(\"Precipitation\")\n",
    "ax.set_title(label=\"Precipition vs. Temperature vs, Wind speed\")"
   ]
  },
  {
   "cell_type": "markdown",
   "metadata": {},
   "source": [
    "# Challenge #4"
   ]
  },
  {
   "cell_type": "code",
   "execution_count": null,
   "metadata": {},
   "outputs": [],
   "source": [
    "flights_by_airline_and_day = flights.groupby(['AIRLINE', 'DAY_OF_WEEK'])\n",
    "taxi_out_summary = flights_by_airline_and_day['TAXI_OUT'].median()\n",
    "taxi_out_summary"
   ]
  },
  {
   "cell_type": "code",
   "execution_count": null,
   "metadata": {
    "scrolled": true
   },
   "outputs": [],
   "source": [
    "\n",
    "fig,ax = plt.subplots()\n",
    "\n",
    "ax.plot(taxi_out_summary.loc['AA'].index, taxi_out_summary.loc['AA'], label=\"AA\" )\n",
    "ax.plot(taxi_out_summary.loc['HA'].index, taxi_out_summary.loc['HA'], label=\"HA\" )\n",
    "ax.set_xticks(range(1,8))\n",
    "ax.set_xticklabels(['Mon', 'Tue', 'Wed', 'Thur', 'Fri', 'Sat', 'Sun'])\n",
    "\n",
    "ax.set_xlabel(\"Days\")\n",
    "ax.set_ylabel(\"Median Taxi Out\")\n",
    "ax.legend()\n",
    "ax.set_title(\"Taxi Out by Day of Week\")"
   ]
  },
  {
   "cell_type": "markdown",
   "metadata": {},
   "source": [
    "# Challenge #5"
   ]
  },
  {
   "cell_type": "code",
   "execution_count": null,
   "metadata": {},
   "outputs": [],
   "source": [
    "def month_segment(day):\n",
    "    if day < 8:\n",
    "        return 1\n",
    "    elif day < 15:\n",
    "        return 2\n",
    "    elif day < 23:\n",
    "        return 3\n",
    "    else:\n",
    "        return 4\n",
    "\n",
    "flights['MONTH_SEGMENT'] = flights['DAY'].apply(month_segment)\n",
    "flights.head()"
   ]
  },
  {
   "cell_type": "code",
   "execution_count": null,
   "metadata": {},
   "outputs": [],
   "source": [
    "flights_by_airline_and_segment = flights.groupby(['AIRLINE', 'MONTH_SEGMENT'])\n",
    "summary = flights_by_airline_and_segment['TAXI_IN', 'TAXI_OUT'].mean()\n",
    "summary[:4]"
   ]
  },
  {
   "cell_type": "code",
   "execution_count": null,
   "metadata": {},
   "outputs": [],
   "source": [
    "fig,ax = plt.subplots(1,2, sharey=True, figsize=(10,5))\n",
    "width = .44\n",
    "ax[0].bar(summary.loc['AA'].index - width, summary.loc['AA']['TAXI_IN'], width=width, label=\"Taxi in for AA\")\n",
    "ax[0].bar(summary.loc['UA'].index, summary.loc['UA']['TAXI_IN'], width=width, label=\"Taxi in for UA\")\n",
    "\n",
    "ax[0].set_xticks(range(1,5))\n",
    "ax[0].set_xticklabels( ['Early', 'Early Mid', 'Late Mid', 'Late' ], rotation=75 )\n",
    "\n",
    "ax[1].bar(summary.loc['AA'].index - width, summary.loc['AA']['TAXI_OUT'], width=width, label=\"Taxi Out for AA\")\n",
    "ax[1].bar(summary.loc['UA'].index, summary.loc['UA']['TAXI_OUT'], width=width, label=\"Taxi out for UA\")\n",
    "\n",
    "ax[1].set_xticks(range(1,5))\n",
    "ax[1].set_xticklabels( ['Early', 'Early Mid', 'Late Mid', 'Late' ], rotation=75 )\n",
    "\n",
    "\n",
    "ax[0].set_ylim(0,25)\n",
    "\n",
    "ax[0].set_ylabel(\"Taxi In\")\n",
    "ax[1].set_ylabel(\"Taxi Out\")\n",
    "ax[0].set_title(label=\"Taxi In\")\n",
    "ax[1].set_title(label=\"Taxi Out\")\n",
    "\n",
    "ax[0].legend(facecolor=\"white\", frameon=True)\n",
    "ax[1].legend(facecolor=\"white\", frameon=True)"
   ]
  }
 ],
 "metadata": {
  "kernelspec": {
   "display_name": "Python 3",
   "language": "python",
   "name": "python3"
  },
  "language_info": {
   "codemirror_mode": {
    "name": "ipython",
    "version": 3
   },
   "file_extension": ".py",
   "mimetype": "text/x-python",
   "name": "python",
   "nbconvert_exporter": "python",
   "pygments_lexer": "ipython3",
   "version": "3.7.4"
  }
 },
 "nbformat": 4,
 "nbformat_minor": 2
}
