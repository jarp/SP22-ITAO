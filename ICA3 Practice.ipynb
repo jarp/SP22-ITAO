{
 "cells": [
  {
   "cell_type": "code",
   "execution_count": 77,
   "metadata": {},
   "outputs": [],
   "source": [
    "import pandas as pd\n",
    "import numpy as np\n",
    "\n",
    "import matplotlib as mpl\n",
    "import matplotlib.pyplot as plt\n",
    "\n",
    "plt.style.use('seaborn')\n",
    "%matplotlib inline"
   ]
  },
  {
   "cell_type": "code",
   "execution_count": 4,
   "metadata": {},
   "outputs": [],
   "source": [
    "weather_df = pd.read_csv('./data/seattle_weather_2015_2016.csv')\n",
    "# weather_df.head()"
   ]
  },
  {
   "cell_type": "code",
   "execution_count": 78,
   "metadata": {},
   "outputs": [
    {
     "data": {
      "text/html": [
       "<div>\n",
       "<style scoped>\n",
       "    .dataframe tbody tr th:only-of-type {\n",
       "        vertical-align: middle;\n",
       "    }\n",
       "\n",
       "    .dataframe tbody tr th {\n",
       "        vertical-align: top;\n",
       "    }\n",
       "\n",
       "    .dataframe thead th {\n",
       "        text-align: right;\n",
       "    }\n",
       "</style>\n",
       "<table border=\"1\" class=\"dataframe\">\n",
       "  <thead>\n",
       "    <tr style=\"text-align: right;\">\n",
       "      <th></th>\n",
       "      <th>YEAR</th>\n",
       "      <th>MONTH</th>\n",
       "      <th>DAY</th>\n",
       "      <th>DAY_OF_WEEK</th>\n",
       "      <th>AIRLINE</th>\n",
       "      <th>FLIGHT_NUMBER</th>\n",
       "      <th>TAXI_IN</th>\n",
       "      <th>TAXI_OUT</th>\n",
       "      <th>DISTANCE</th>\n",
       "    </tr>\n",
       "  </thead>\n",
       "  <tbody>\n",
       "    <tr>\n",
       "      <td>0</td>\n",
       "      <td>2015</td>\n",
       "      <td>8</td>\n",
       "      <td>19</td>\n",
       "      <td>3</td>\n",
       "      <td>EV</td>\n",
       "      <td>3260</td>\n",
       "      <td>7.0</td>\n",
       "      <td>20.0</td>\n",
       "      <td>1091</td>\n",
       "    </tr>\n",
       "    <tr>\n",
       "      <td>1</td>\n",
       "      <td>2015</td>\n",
       "      <td>9</td>\n",
       "      <td>23</td>\n",
       "      <td>3</td>\n",
       "      <td>WN</td>\n",
       "      <td>3050</td>\n",
       "      <td>4.0</td>\n",
       "      <td>9.0</td>\n",
       "      <td>837</td>\n",
       "    </tr>\n",
       "    <tr>\n",
       "      <td>2</td>\n",
       "      <td>2015</td>\n",
       "      <td>10</td>\n",
       "      <td>16</td>\n",
       "      <td>5</td>\n",
       "      <td>AA</td>\n",
       "      <td>1382</td>\n",
       "      <td>13.0</td>\n",
       "      <td>25.0</td>\n",
       "      <td>761</td>\n",
       "    </tr>\n",
       "    <tr>\n",
       "      <td>3</td>\n",
       "      <td>2015</td>\n",
       "      <td>1</td>\n",
       "      <td>19</td>\n",
       "      <td>1</td>\n",
       "      <td>WN</td>\n",
       "      <td>4274</td>\n",
       "      <td>5.0</td>\n",
       "      <td>23.0</td>\n",
       "      <td>1547</td>\n",
       "    </tr>\n",
       "    <tr>\n",
       "      <td>4</td>\n",
       "      <td>2015</td>\n",
       "      <td>4</td>\n",
       "      <td>22</td>\n",
       "      <td>3</td>\n",
       "      <td>WN</td>\n",
       "      <td>2237</td>\n",
       "      <td>5.0</td>\n",
       "      <td>18.0</td>\n",
       "      <td>872</td>\n",
       "    </tr>\n",
       "  </tbody>\n",
       "</table>\n",
       "</div>"
      ],
      "text/plain": [
       "   YEAR  MONTH  DAY  DAY_OF_WEEK AIRLINE  FLIGHT_NUMBER  TAXI_IN  TAXI_OUT  \\\n",
       "0  2015      8   19            3      EV           3260      7.0      20.0   \n",
       "1  2015      9   23            3      WN           3050      4.0       9.0   \n",
       "2  2015     10   16            5      AA           1382     13.0      25.0   \n",
       "3  2015      1   19            1      WN           4274      5.0      23.0   \n",
       "4  2015      4   22            3      WN           2237      5.0      18.0   \n",
       "\n",
       "   DISTANCE  \n",
       "0      1091  \n",
       "1       837  \n",
       "2       761  \n",
       "3      1547  \n",
       "4       872  "
      ]
     },
     "execution_count": 78,
     "metadata": {},
     "output_type": "execute_result"
    }
   ],
   "source": [
    "flights = pd.read_csv(\"./data/flight_sample.csv\")\n",
    "flights.head()"
   ]
  },
  {
   "cell_type": "code",
   "execution_count": 79,
   "metadata": {},
   "outputs": [
    {
     "data": {
      "text/plain": [
       "AIRLINE  DAY_OF_WEEK\n",
       "AA       1              17.753012\n",
       "         2              17.857143\n",
       "         3              17.114865\n",
       "         4              19.252809\n",
       "         5              17.442857\n",
       "                          ...    \n",
       "WN       3              11.876221\n",
       "         4              12.523810\n",
       "         5              12.373860\n",
       "         6              11.100000\n",
       "         7              11.621019\n",
       "Name: TAXI_OUT, Length: 98, dtype: float64"
      ]
     },
     "execution_count": 79,
     "metadata": {},
     "output_type": "execute_result"
    }
   ],
   "source": [
    "flights_by_airline_day = flights.groupby(['AIRLINE', 'DAY_OF_WEEK'])\n",
    "taxi_out_mean = flights_by_airline_day['TAXI_OUT'].mean()\n",
    "taxi_out_mean\n"
   ]
  },
  {
   "cell_type": "code",
   "execution_count": 85,
   "metadata": {},
   "outputs": [
    {
     "data": {
      "text/plain": [
       "Text(0, 0.5, 'Minutes')"
      ]
     },
     "execution_count": 85,
     "metadata": {},
     "output_type": "execute_result"
    },
    {
     "data": {
      "image/png": "[encoded data removed]",
      "text/plain": [
       "<Figure size 432x288 with 1 Axes>"
      ]
     },
     "metadata": {
      "needs_background": "light"
     },
     "output_type": "display_data"
    }
   ],
   "source": [
    "f,a = plt.subplots()\n",
    "a.plot(taxi_out_mean.loc['AA'].index, taxi_out_mean.loc['AA'], label=\"AA\")\n",
    "a.plot(taxi_out_mean.loc['WN'].index, taxi_out_mean.loc['WN'], label=\"WN\")\n",
    "a.plot(taxi_out_mean.loc['DL'].index, taxi_out_mean.loc['DL'], label=\"DL\")\n",
    "a.legend()\n",
    "a.set_title(label=\"Average Taxi Out times for Airlines by Day of Week\")\n",
    "a.set_xlabel(\"Day of Week\")\n",
    "a.set_ylabel(\"Minutes\")"
   ]
  },
  {
   "cell_type": "code",
   "execution_count": 88,
   "metadata": {},
   "outputs": [
    {
     "data": {
      "text/plain": [
       "<matplotlib.legend.Legend at 0x7f7c91e65c10>"
      ]
     },
     "execution_count": 88,
     "metadata": {},
     "output_type": "execute_result"
    },
    {
     "data": {
      "image/png": "[encoded data removed]",
      "text/plain": [
       "<Figure size 432x288 with 1 Axes>"
      ]
     },
     "metadata": {
      "needs_background": "light"
     },
     "output_type": "display_data"
    }
   ],
   "source": [
    "aa_taxi = flights[ flights['AIRLINE'] == 'AA'][['TAXI_OUT', 'TAXI_IN', 'DISTANCE']]\n",
    "dl_taxi = flights[ flights['AIRLINE'] == 'DL'][['TAXI_OUT', 'TAXI_IN', 'DISTANCE']]\n",
    "fig,ax = plt.subplots()\n",
    "ax.hist(aa_taxi['TAXI_OUT'], bins=30, label=\"AA\")\n",
    "ax.hist(dl_taxi['TAXI_OUT'], alpha=.6, bins=30, label=\"DL\")\n",
    "\n",
    "ax.set_xlim(0,60)\n",
    "ax.set_ylim(0,300)\n",
    "\n",
    "ax.set_title(label=\"Distribution of Taxi Out times\")\n",
    "ax.set_xlabel(\"Time of Taxiing\")\n",
    "ax.set_ylabel(\"Number of Flights\")\n",
    "\n",
    "ax.legend()\n"
   ]
  },
  {
   "cell_type": "code",
   "execution_count": 22,
   "metadata": {},
   "outputs": [
    {
     "data": {
      "text/plain": [
       "(0, 300)"
      ]
     },
     "execution_count": 22,
     "metadata": {},
     "output_type": "execute_result"
    },
    {
     "data": {
      "image/png": "[encoded data removed]",
      "text/plain": [
       "<Figure size 432x288 with 1 Axes>"
      ]
     },
     "metadata": {
      "needs_background": "light"
     },
     "output_type": "display_data"
    }
   ],
   "source": [
    "aa_taxi = flights[ flights['AIRLINE'] == 'AA'][['TAXI_OUT', 'TAXI_IN', 'DISTANCE']]\n",
    "ha_taxi = flights[ flights['AIRLINE'] == 'HA'][['TAXI_OUT', 'TAXI_IN', 'DISTANCE']]\n",
    "fig,ax = plt.subplots()\n",
    "ax.hist(aa_taxi['TAXI_OUT'], bins=30)\n",
    "ax.hist(ha_taxi['TAXI_OUT'], alpha=.6, bins=30)\n",
    "\n",
    "ax.set_xlim(0,60)\n",
    "ax.set_ylim(0,300)"
   ]
  },
  {
   "cell_type": "code",
   "execution_count": 91,
   "metadata": {},
   "outputs": [
    {
     "data": {
      "text/plain": [
       "<matplotlib.colorbar.Colorbar at 0x7f7ca1dedbd0>"
      ]
     },
     "execution_count": 91,
     "metadata": {},
     "output_type": "execute_result"
    },
    {
     "data": {
      "image/png": "[encoded data removed]",
      "text/plain": [
       "<Figure size 432x288 with 2 Axes>"
      ]
     },
     "metadata": {
      "needs_background": "light"
     },
     "output_type": "display_data"
    }
   ],
   "source": [
    "fig,ax = plt.subplots()\n",
    "img1 = ax.scatter(flights['DISTANCE'],flights['TAXI_IN'],\n",
    "          c=flights['TAXI_OUT'], cmap=\"coolwarm\", label=\"AA\")\n",
    "\n",
    "\n",
    "fig.colorbar(img1, label=\"Taxi Out for AA\")\n"
   ]
  },
  {
   "cell_type": "code",
   "execution_count": 30,
   "metadata": {},
   "outputs": [
    {
     "data": {
      "text/plain": [
       "AIRLINE  DAY_OF_WEEK\n",
       "AA       1              15.0\n",
       "         2              15.0\n",
       "         3              15.0\n",
       "         4              17.0\n",
       "         5              16.0\n",
       "                        ... \n",
       "WN       3              10.0\n",
       "         4              11.0\n",
       "         5              11.0\n",
       "         6              10.0\n",
       "         7              10.0\n",
       "Name: TAXI_OUT, Length: 98, dtype: float64"
      ]
     },
     "execution_count": 30,
     "metadata": {},
     "output_type": "execute_result"
    }
   ],
   "source": [
    "flights_by_airline_and_day = flights.groupby(['AIRLINE', 'DAY_OF_WEEK'])\n",
    "summary = flights_by_airline_and_day['TAXI_OUT'].median()\n",
    "summary\n"
   ]
  },
  {
   "cell_type": "code",
   "execution_count": 31,
   "metadata": {},
   "outputs": [
    {
     "data": {
      "text/plain": [
       "[Text(0, 0, 'Mon'),\n",
       " Text(0, 0, 'Tue'),\n",
       " Text(0, 0, 'Wed'),\n",
       " Text(0, 0, 'Thur'),\n",
       " Text(0, 0, 'Fri'),\n",
       " Text(0, 0, 'Sat'),\n",
       " Text(0, 0, 'Sun')]"
      ]
     },
     "execution_count": 31,
     "metadata": {},
     "output_type": "execute_result"
    },
    {
     "data": {
      "image/png": "[encoded data removed]",
      "text/plain": [
       "<Figure size 432x288 with 1 Axes>"
      ]
     },
     "metadata": {
      "needs_background": "light"
     },
     "output_type": "display_data"
    }
   ],
   "source": [
    "\n",
    "fig,ax = plt.subplots()\n",
    "\n",
    "ax.plot(summary.loc['AA'].index,summary.loc['AA'] )\n",
    "ax.plot(summary.loc['HA'].index,summary.loc['HA'] )\n",
    "ax.set_xticks(range(1,8))\n",
    "ax.set_xticklabels(['Mon', 'Tue', 'Wed', 'Thur', 'Fri', 'Sat', 'Sun'])"
   ]
  },
  {
   "cell_type": "code",
   "execution_count": 36,
   "metadata": {},
   "outputs": [
    {
     "data": {
      "text/html": [
       "<div>\n",
       "<style scoped>\n",
       "    .dataframe tbody tr th:only-of-type {\n",
       "        vertical-align: middle;\n",
       "    }\n",
       "\n",
       "    .dataframe tbody tr th {\n",
       "        vertical-align: top;\n",
       "    }\n",
       "\n",
       "    .dataframe thead th {\n",
       "        text-align: right;\n",
       "    }\n",
       "</style>\n",
       "<table border=\"1\" class=\"dataframe\">\n",
       "  <thead>\n",
       "    <tr style=\"text-align: right;\">\n",
       "      <th></th>\n",
       "      <th>YEAR</th>\n",
       "      <th>MONTH</th>\n",
       "      <th>DAY</th>\n",
       "      <th>DAY_OF_WEEK</th>\n",
       "      <th>AIRLINE</th>\n",
       "      <th>FLIGHT_NUMBER</th>\n",
       "      <th>TAXI_IN</th>\n",
       "      <th>TAXI_OUT</th>\n",
       "      <th>DISTANCE</th>\n",
       "      <th>MONTH_SEGMENT</th>\n",
       "    </tr>\n",
       "  </thead>\n",
       "  <tbody>\n",
       "    <tr>\n",
       "      <td>0</td>\n",
       "      <td>2015</td>\n",
       "      <td>8</td>\n",
       "      <td>19</td>\n",
       "      <td>3</td>\n",
       "      <td>EV</td>\n",
       "      <td>3260</td>\n",
       "      <td>7.0</td>\n",
       "      <td>20.0</td>\n",
       "      <td>1091</td>\n",
       "      <td>3</td>\n",
       "    </tr>\n",
       "    <tr>\n",
       "      <td>1</td>\n",
       "      <td>2015</td>\n",
       "      <td>9</td>\n",
       "      <td>23</td>\n",
       "      <td>3</td>\n",
       "      <td>WN</td>\n",
       "      <td>3050</td>\n",
       "      <td>4.0</td>\n",
       "      <td>9.0</td>\n",
       "      <td>837</td>\n",
       "      <td>4</td>\n",
       "    </tr>\n",
       "    <tr>\n",
       "      <td>2</td>\n",
       "      <td>2015</td>\n",
       "      <td>10</td>\n",
       "      <td>16</td>\n",
       "      <td>5</td>\n",
       "      <td>AA</td>\n",
       "      <td>1382</td>\n",
       "      <td>13.0</td>\n",
       "      <td>25.0</td>\n",
       "      <td>761</td>\n",
       "      <td>3</td>\n",
       "    </tr>\n",
       "    <tr>\n",
       "      <td>3</td>\n",
       "      <td>2015</td>\n",
       "      <td>1</td>\n",
       "      <td>19</td>\n",
       "      <td>1</td>\n",
       "      <td>WN</td>\n",
       "      <td>4274</td>\n",
       "      <td>5.0</td>\n",
       "      <td>23.0</td>\n",
       "      <td>1547</td>\n",
       "      <td>3</td>\n",
       "    </tr>\n",
       "    <tr>\n",
       "      <td>4</td>\n",
       "      <td>2015</td>\n",
       "      <td>4</td>\n",
       "      <td>22</td>\n",
       "      <td>3</td>\n",
       "      <td>WN</td>\n",
       "      <td>2237</td>\n",
       "      <td>5.0</td>\n",
       "      <td>18.0</td>\n",
       "      <td>872</td>\n",
       "      <td>3</td>\n",
       "    </tr>\n",
       "  </tbody>\n",
       "</table>\n",
       "</div>"
      ],
      "text/plain": [
       "   YEAR  MONTH  DAY  DAY_OF_WEEK AIRLINE  FLIGHT_NUMBER  TAXI_IN  TAXI_OUT  \\\n",
       "0  2015      8   19            3      EV           3260      7.0      20.0   \n",
       "1  2015      9   23            3      WN           3050      4.0       9.0   \n",
       "2  2015     10   16            5      AA           1382     13.0      25.0   \n",
       "3  2015      1   19            1      WN           4274      5.0      23.0   \n",
       "4  2015      4   22            3      WN           2237      5.0      18.0   \n",
       "\n",
       "   DISTANCE  MONTH_SEGMENT  \n",
       "0      1091              3  \n",
       "1       837              4  \n",
       "2       761              3  \n",
       "3      1547              3  \n",
       "4       872              3  "
      ]
     },
     "execution_count": 36,
     "metadata": {},
     "output_type": "execute_result"
    }
   ],
   "source": [
    "def month_segment(day):\n",
    "    if day < 8:\n",
    "        return 1\n",
    "    elif day < 15:\n",
    "        return 2\n",
    "    elif day < 23:\n",
    "        return 3\n",
    "    else:\n",
    "        return 4\n",
    "\n",
    "flights['MONTH_SEGMENT'] = flights['DAY'].apply(month_segment)\n",
    "flights.head()"
   ]
  },
  {
   "cell_type": "code",
   "execution_count": 54,
   "metadata": {},
   "outputs": [
    {
     "data": {
      "text/html": [
       "<div>\n",
       "<style scoped>\n",
       "    .dataframe tbody tr th:only-of-type {\n",
       "        vertical-align: middle;\n",
       "    }\n",
       "\n",
       "    .dataframe tbody tr th {\n",
       "        vertical-align: top;\n",
       "    }\n",
       "\n",
       "    .dataframe thead th {\n",
       "        text-align: right;\n",
       "    }\n",
       "</style>\n",
       "<table border=\"1\" class=\"dataframe\">\n",
       "  <thead>\n",
       "    <tr style=\"text-align: right;\">\n",
       "      <th></th>\n",
       "      <th></th>\n",
       "      <th>TAXI_IN</th>\n",
       "      <th>TAXI_OUT</th>\n",
       "    </tr>\n",
       "    <tr>\n",
       "      <th>AIRLINE</th>\n",
       "      <th>MONTH_SEGMENT</th>\n",
       "      <th></th>\n",
       "      <th></th>\n",
       "    </tr>\n",
       "  </thead>\n",
       "  <tbody>\n",
       "    <tr>\n",
       "      <td rowspan=\"4\" valign=\"top\">AA</td>\n",
       "      <td>1</td>\n",
       "      <td>8.924686</td>\n",
       "      <td>17.711297</td>\n",
       "    </tr>\n",
       "    <tr>\n",
       "      <td>2</td>\n",
       "      <td>9.257426</td>\n",
       "      <td>17.214521</td>\n",
       "    </tr>\n",
       "    <tr>\n",
       "      <td>3</td>\n",
       "      <td>9.024465</td>\n",
       "      <td>18.339450</td>\n",
       "    </tr>\n",
       "    <tr>\n",
       "      <td>4</td>\n",
       "      <td>9.131661</td>\n",
       "      <td>17.815047</td>\n",
       "    </tr>\n",
       "  </tbody>\n",
       "</table>\n",
       "</div>"
      ],
      "text/plain": [
       "                        TAXI_IN   TAXI_OUT\n",
       "AIRLINE MONTH_SEGMENT                     \n",
       "AA      1              8.924686  17.711297\n",
       "        2              9.257426  17.214521\n",
       "        3              9.024465  18.339450\n",
       "        4              9.131661  17.815047"
      ]
     },
     "execution_count": 54,
     "metadata": {},
     "output_type": "execute_result"
    }
   ],
   "source": [
    "flights_by_airline_and_segment = flights.groupby(['AIRLINE', 'MONTH_SEGMENT'])\n",
    "summary = flights_by_airline_and_segment['TAXI_IN', 'TAXI_OUT'].mean()\n",
    "summary[:4]"
   ]
  },
  {
   "cell_type": "code",
   "execution_count": 75,
   "metadata": {},
   "outputs": [
    {
     "data": {
      "text/plain": [
       "<matplotlib.legend.Legend at 0x7f7c98612a10>"
      ]
     },
     "execution_count": 75,
     "metadata": {},
     "output_type": "execute_result"
    },
    {
     "data": {
      "image/png": "[encoded data removed]",
      "text/plain": [
       "<Figure size 720x360 with 2 Axes>"
      ]
     },
     "metadata": {
      "needs_background": "light"
     },
     "output_type": "display_data"
    }
   ],
   "source": [
    "fig,ax = plt.subplots(1,2, sharey=True, figsize=(10,5))\n",
    "width = .44\n",
    "ax[0].bar(summary.loc['AA'].index - width, summary.loc['AA']['TAXI_IN'], width=width, label=\"Taxi in for AA\")\n",
    "ax[0].bar(summary.loc['UA'].index, summary.loc['UA']['TAXI_IN'], width=width, label=\"Taxi in for UA\")\n",
    "\n",
    "ax[0].set_xticks(range(1,5))\n",
    "\n",
    "\n",
    "ax[1].bar(summary.loc['AA'].index - width, summary.loc['AA']['TAXI_OUT'], width=width, label=\"Taxi Out for AA\")\n",
    "ax[1].bar(summary.loc['UA'].index, summary.loc['UA']['TAXI_OUT'], width=width, label=\"Taxi out for UA\")\n",
    "\n",
    "ax[1].set_xticks(range(1,5))\n",
    "\n",
    "ax[0].set_ylim(0,25)\n",
    "\n",
    "ax[0].set_title(label=\"Taxi In\")\n",
    "ax[1].set_title(label=\"Taxi Out\")\n",
    "\n",
    "ax[0].legend(facecolor=\"white\", frameon=True)\n",
    "ax[1].legend(facecolor=\"white\", frameon=True)"
   ]
  }
 ],
 "metadata": {
  "kernelspec": {
   "display_name": "Python 3",
   "language": "python",
   "name": "python3"
  },
  "language_info": {
   "codemirror_mode": {
    "name": "ipython",
    "version": 3
   },
   "file_extension": ".py",
   "mimetype": "text/x-python",
   "name": "python",
   "nbconvert_exporter": "python",
   "pygments_lexer": "ipython3",
   "version": "3.7.4"
  }
 },
 "nbformat": 4,
 "nbformat_minor": 2
}
