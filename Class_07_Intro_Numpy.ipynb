{
 "cells": [
  {
   "cell_type": "markdown",
   "metadata": {},
   "source": [
    "## List comprehension\n",
    "\n",
    "Just think of it as a one-line way to create a list from another list.\n",
    "\n",
    "Here it is adding a one to each number of `my_list` and storing the results in `compre_list`"
   ]
  },
  {
   "cell_type": "code",
   "execution_count": null,
   "metadata": {},
   "outputs": [],
   "source": [
    "my_list = [1,2,3,4,5]\n",
    "\n",
    "compre_list = [i**2+10 for i in my_list]\n",
    "print(my_list)\n",
    "print(compre_list)"
   ]
  },
  {
   "cell_type": "code",
   "execution_count": null,
   "metadata": {},
   "outputs": [],
   "source": [
    "my_list = ['Notre Dame', 'Michigan', 'Notre Dame','Michigan','Michigan']\n",
    "\n",
    "count = 0\n",
    "for i in my_list:\n",
    "    if i == 'Notre Dame':\n",
    "        count += 1\n",
    "        \n",
    "print(\"there are {} items that are Notre Dame\".format(count))\n",
    "    "
   ]
  },
  {
   "cell_type": "code",
   "execution_count": null,
   "metadata": {},
   "outputs": [],
   "source": [
    "my_list = ['Notre Dame', 'Michigan', 'Notre Dame','Michigan','Michigan']\n",
    "\n",
    "mendoza_indicator = [1 if x=='Notre Dame' else 0 for x in my_list]\n",
    "\n",
    "print( sum(mendoza_indicator))\n",
    "\n",
    "print(my_list)\n",
    "print(mendoza_indicator)\n",
    "print(\"Notre Dame is listed {} number of times\".format(sum(mendoza_indicator)))"
   ]
  },
  {
   "cell_type": "markdown",
   "metadata": {},
   "source": [
    "## Fixed Type Arrays in Python (Available since Python 3.3)"
   ]
  },
  {
   "cell_type": "code",
   "execution_count": null,
   "metadata": {},
   "outputs": [],
   "source": [
    "# arrays are part of python core but not automatically available\n",
    "import array"
   ]
  },
  {
   "cell_type": "code",
   "execution_count": null,
   "metadata": {},
   "outputs": [],
   "source": [
    "basic_list = list(range(10))\n",
    "print(basic_list)\n",
    "basic_array = array.array('i',basic_list)\n",
    "basic_array"
   ]
  },
  {
   "cell_type": "code",
   "execution_count": null,
   "metadata": {},
   "outputs": [],
   "source": [
    "# force list items into floats\n",
    "\n",
    "basic_list = list(range(10))\n",
    "basic_array_of_floats = array.array('f',basic_list)\n",
    "basic_array_of_floats"
   ]
  },
  {
   "cell_type": "code",
   "execution_count": null,
   "metadata": {},
   "outputs": [],
   "source": [
    "basic_array_of_floats.append(42)\n",
    "print(basic_array_of_floats)\n",
    "basic_array_of_floats.append('wat?')"
   ]
  },
  {
   "cell_type": "markdown",
   "metadata": {},
   "source": [
    "# NumPy - Numerical Python "
   ]
  },
  {
   "cell_type": "markdown",
   "metadata": {},
   "source": [
    "## Importing numpy array"
   ]
  },
  {
   "cell_type": "code",
   "execution_count": null,
   "metadata": {},
   "outputs": [],
   "source": [
    "import numpy as np\n",
    "np.__version__"
   ]
  },
  {
   "cell_type": "markdown",
   "metadata": {},
   "source": [
    "Note: Some of the examples and content are from our text book PDSH Ch. 2"
   ]
  },
  {
   "cell_type": "markdown",
   "metadata": {},
   "source": [
    "## Fundamentals of NumPy Arrays\n"
   ]
  },
  {
   "cell_type": "markdown",
   "metadata": {},
   "source": [
    "### Creating NumPy array from a list"
   ]
  },
  {
   "cell_type": "code",
   "execution_count": null,
   "metadata": {},
   "outputs": [],
   "source": [
    "list_of_ints = [0, 1, 2, 3, 4, 5]\n",
    "np_ints = np.array(list_of_ints)"
   ]
  },
  {
   "cell_type": "code",
   "execution_count": null,
   "metadata": {},
   "outputs": [],
   "source": [
    "print(np_ints)"
   ]
  },
  {
   "cell_type": "markdown",
   "metadata": {},
   "source": [
    "### Creating NumPy array from scratch"
   ]
  },
  {
   "cell_type": "code",
   "execution_count": null,
   "metadata": {},
   "outputs": [],
   "source": [
    "np.zeros(10)"
   ]
  },
  {
   "cell_type": "code",
   "execution_count": null,
   "metadata": {},
   "outputs": [],
   "source": [
    "np.full(10, 3.1415)"
   ]
  },
  {
   "cell_type": "code",
   "execution_count": null,
   "metadata": {},
   "outputs": [],
   "source": [
    "np.arange(5,25, 5)"
   ]
  },
  {
   "cell_type": "code",
   "execution_count": null,
   "metadata": {},
   "outputs": [],
   "source": [
    "np.arange?"
   ]
  },
  {
   "cell_type": "markdown",
   "metadata": {},
   "source": [
    "## Accessing NumPy Array\n",
    "\n",
    "In the last two classes we have used Python's built-in `list` and now we are using array type provided by the NumPy package. \n",
    "\n",
    "<div class=\"alert alert-block alert-info\">\n",
    "The actual name of the NumPy array type is `ndarray`. So, when we refer to a Numpy Array or an `ndarray` we are talking about the same thing.</div> \n",
    "\n",
    "Another similiarity between the two types is how you can retrieve the data elements they contain.\n",
    "\n",
    "For either type, you can access an element by simple adding brackets to the end of the object name with the index of the element you want inside the bracket.\n",
    "\n",
    "<div class=\"alert alert-block alert-warning\">\n",
    "Just remember the first element is `0`, not `1`. Forget this and you'll have all sorts of problems.\n",
    "</div> \n"
   ]
  },
  {
   "cell_type": "code",
   "execution_count": null,
   "metadata": {},
   "outputs": [],
   "source": [
    "numeric_array = np.array(range(1, 11))\n",
    "numeric_array"
   ]
  },
  {
   "cell_type": "code",
   "execution_count": null,
   "metadata": {},
   "outputs": [],
   "source": [
    "print(numeric_array[5])\n",
    "print(numeric_array[0])\n",
    "print(numeric_array[3:8])\n",
    "print(numeric_array[-1])"
   ]
  },
  {
   "cell_type": "code",
   "execution_count": null,
   "metadata": {},
   "outputs": [],
   "source": [
    "print(numeric_array[10])"
   ]
  },
  {
   "cell_type": "markdown",
   "metadata": {},
   "source": [
    "## Array Slicing: Accessing Subarrays <a name=\"slicing\"></a>"
   ]
  },
  {
   "cell_type": "markdown",
   "metadata": {},
   "source": [
    "Just as we can use square brackets to access individual array elements, we can also use them to access subarrays with the *slice* notation. \n",
    "\n",
    "The NumPy slicing syntax follows that of the standard Python `list`; to access a slice of an array `x`, use the `start:stop:step` notation inside of brackets:\n",
    "``` python\n",
    "x[start:stop:step]\n",
    "```\n",
    "\n",
    "If any of these are unspecified, they default to the values: \n",
    "* `start=0`\n",
    "* `stop=`*`size of dimension`*\n",
    "* `step=1`.\n",
    "\n",
    "#### Sample Slice Notations\n",
    "Here are some sample slice notations and their meanings.\n",
    "* `1:5:1`: Return elements 2 through 5 in normal order. (Remember that with 0-based indexing, 1 is the second element.\n",
    "* `:8:1`: Return elements 0 through 8 in normal order. Since the `start` parameter is left out, it assumes it's default value.\n",
    "* `::-1`: Return all elements (first two parameters are default values) in reserve order.\n",
    "\n",
    "Let's try slice notations"
   ]
  },
  {
   "cell_type": "code",
   "execution_count": null,
   "metadata": {},
   "outputs": [],
   "source": [
    "numeric_array = np.array(range(1, 11))\n",
    "numeric_array"
   ]
  },
  {
   "cell_type": "code",
   "execution_count": null,
   "metadata": {},
   "outputs": [],
   "source": [
    "# appending more elements to a numpy array\n",
    "# numeric_array.append(9) ## does not work\n",
    "np.append(numeric_array, [11,12,13])"
   ]
  },
  {
   "cell_type": "code",
   "execution_count": null,
   "metadata": {},
   "outputs": [],
   "source": [
    "# Return everything up to the 4th element\n",
    "numeric_array[:4]"
   ]
  },
  {
   "cell_type": "code",
   "execution_count": null,
   "metadata": {},
   "outputs": [],
   "source": [
    "# Return the 4th up to 8th skipping every other\n",
    "numeric_array[3:8:2]"
   ]
  },
  {
   "cell_type": "code",
   "execution_count": null,
   "metadata": {},
   "outputs": [],
   "source": [
    "# Go in reverse\n",
    "numeric_array[::-1]"
   ]
  },
  {
   "cell_type": "markdown",
   "metadata": {},
   "source": [
    "## `ndarray` Slices are Segments, not Copies <a name=\"subcopy\"></a>\n",
    "\n",
    "This is the last topic for this tutorial.\n",
    "\n",
    "When we use slice notation on an `ndarray`, it returns a segment of the original - as opposed to a copy. This means that if you change the elements of a slice, you will also change them in the original array.\n",
    "\n",
    "<div class=\"alert alert-block alert-danger\">\n",
    "It is very important for experienced Python programmers to note since this is the opposite of what happens when you slice a `list` object.\n",
    "</div> \n",
    "\n",
    "While this may seem like a bad thing at first, particular for those of us who are used to slicing `list` objects, this can actually help us when we want to process little chuncks of data at a time.\n",
    "\n",
    "Let's demonstrate:"
   ]
  },
  {
   "cell_type": "code",
   "execution_count": null,
   "metadata": {},
   "outputs": [],
   "source": [
    "# assignment by reference like lists\n",
    "\n",
    "na_1 = np.random.randint(10, size=10)  \n",
    "na_2 = na_1\n",
    "na_2[0] = \"42\"\n",
    "na_1"
   ]
  },
  {
   "cell_type": "code",
   "execution_count": null,
   "metadata": {},
   "outputs": [],
   "source": [
    "numeric_array = np.random.randint(100, size=10)  \n",
    "numeric_array"
   ]
  },
  {
   "cell_type": "code",
   "execution_count": null,
   "metadata": {
    "scrolled": true
   },
   "outputs": [],
   "source": [
    "part_of_it = numeric_array[3:6]\n",
    "part_of_it"
   ]
  },
  {
   "cell_type": "code",
   "execution_count": null,
   "metadata": {},
   "outputs": [],
   "source": [
    "part_of_it[0:2] = [1000, 2000]\n",
    "\n",
    "# And re-output `numeric_array`\n",
    "numeric_array"
   ]
  },
  {
   "cell_type": "markdown",
   "metadata": {},
   "source": [
    "### Numpy Arrays are Homogeneous\n",
    "You can only have one data type in the array but it works a little different than python arrays"
   ]
  },
  {
   "cell_type": "code",
   "execution_count": null,
   "metadata": {},
   "outputs": [],
   "source": [
    "random_list = [1, 2.2, \"three\"]\n",
    "random_nparray = np.array(random_list)\n",
    "random_nparray"
   ]
  },
  {
   "cell_type": "code",
   "execution_count": null,
   "metadata": {},
   "outputs": [],
   "source": [
    "floaty_array = np.array([1.1,2.2,3.3])\n",
    "floaty_array"
   ]
  },
  {
   "cell_type": "code",
   "execution_count": null,
   "metadata": {},
   "outputs": [],
   "source": [
    "wordy_array = np.array(['one', 'two', 'three'])\n",
    "np.append(floaty_array, wordy_array)"
   ]
  },
  {
   "cell_type": "markdown",
   "metadata": {},
   "source": [
    "### Forcing an Array's Data Type\n",
    "You also have the option of forcing all NumPy array elements to have a specific data type.  Here I'll take a `list` of `float` objects and coerce them into `int` objects by specifying the **`dtype`** parameter on the `np.array` function."
   ]
  },
  {
   "cell_type": "code",
   "execution_count": null,
   "metadata": {},
   "outputs": [],
   "source": [
    "list_of_floats = [11.2, 57.6, 95.1]\n",
    "forced_int_array = np.array(list_of_floats, dtype=int)\n",
    "forced_int_array\n"
   ]
  },
  {
   "cell_type": "code",
   "execution_count": null,
   "metadata": {},
   "outputs": [],
   "source": [
    "# but it won't remember...\n",
    "\n",
    "np.append(forced_int_array, wordy_array)"
   ]
  },
  {
   "cell_type": "markdown",
   "metadata": {},
   "source": [
    "<div class=\"alert alert-block alert-info\">\n",
    "<p>The <code>dtype</code> parameter can take many different values in additional these standard Python types: <code>int, float, bool, complex</code>.</p>\n",
    "\n",
    "<p>For a complete list, you can visit <a href=\"https://docs.scipy.org/doc/numpy/user/basics.types.html\" target=\"_blank\">NumPy website.</a>\n",
    "</div>"
   ]
  },
  {
   "cell_type": "markdown",
   "metadata": {},
   "source": [
    "### Arrays can be Multi-Dimensional\n",
    "NumPy arrays can be multi-dimensional. We'll start with a two dimensional array, which can be thought of a grid with x and y coordinates."
   ]
  },
  {
   "cell_type": "code",
   "execution_count": null,
   "metadata": {},
   "outputs": [],
   "source": [
    "# Don't focus on how this is being created. Just focus on the output.\n",
    "two_dimensional_array = np.array([range(i, i + 3) for i in [2, 4, 6]])\n",
    "two_dimensional_array"
   ]
  },
  {
   "cell_type": "markdown",
   "metadata": {},
   "source": [
    "#### Accessing Multi-Dimensional Arrays"
   ]
  },
  {
   "cell_type": "code",
   "execution_count": null,
   "metadata": {},
   "outputs": [],
   "source": [
    "# Get the 0th indexed row (only specify an \"x\" coordinate)\n",
    "print(two_dimensional_array[0])\n",
    "\n",
    "# Get the 3rd row (index of 2)\n",
    "print(two_dimensional_array[2])\n",
    "\n",
    "# Get 3rd indexed row ([2]) and then get the 2nd indexed column ([1]) in that row. \n",
    "print(two_dimensional_array[2][1])\n"
   ]
  },
  {
   "cell_type": "code",
   "execution_count": null,
   "metadata": {},
   "outputs": [],
   "source": [
    "print(two_dimensional_array,\"\\n\")\n",
    "\n",
    "print('\\n Go through second ([1]) and third ([2]) array and collect the first element in each')\n",
    "print(\"This will return a new array\")\n",
    "print(two_dimensional_array[1:3,0])\n",
    "\n",
    "print('\\nGo through second ([1]) and third ([2]) array and return the first of those arrays')\n",
    "print(\"This will return an existing array in the larger 2D array\")\n",
    "print(two_dimensional_array[1:3][0])"
   ]
  },
  {
   "cell_type": "code",
   "execution_count": null,
   "metadata": {},
   "outputs": [],
   "source": [
    "two_dimensional_array"
   ]
  },
  {
   "cell_type": "code",
   "execution_count": null,
   "metadata": {},
   "outputs": [],
   "source": [
    "# Same as above\n",
    "two_dimensional_array[:3,1]"
   ]
  },
  {
   "cell_type": "code",
   "execution_count": null,
   "metadata": {},
   "outputs": [],
   "source": [
    "# grab a slice of the array (' : ' returns the entire thing) \n",
    "# then slice again return a sub array of i element\n",
    "# this returns a 2D array\n",
    "two_dimensional_array[:,:2]"
   ]
  },
  {
   "cell_type": "code",
   "execution_count": null,
   "metadata": {},
   "outputs": [],
   "source": [
    "two_dimensional_array"
   ]
  },
  {
   "cell_type": "code",
   "execution_count": null,
   "metadata": {},
   "outputs": [],
   "source": [
    "# This gets translated in the Python as two_dimensional_array[0:3, 1]\n",
    "two_dimensional_array[:,1]"
   ]
  },
  {
   "cell_type": "code",
   "execution_count": null,
   "metadata": {},
   "outputs": [],
   "source": [
    "# Same as above but first element\n",
    "two_dimensional_array[:,0]"
   ]
  },
  {
   "cell_type": "code",
   "execution_count": null,
   "metadata": {},
   "outputs": [],
   "source": [
    "# grab a slice of the array (again the whole thing) then return a slice of the first two elements\n",
    "two_dimensional_array[:,:1]"
   ]
  },
  {
   "cell_type": "code",
   "execution_count": null,
   "metadata": {},
   "outputs": [],
   "source": [
    "# grab a slice of the array (up to the 3rd) then return a slice of the first two elements\n",
    "two_dimensional_array[0:2,:2]"
   ]
  },
  {
   "cell_type": "markdown",
   "metadata": {},
   "source": [
    "**NOTE**: See the distiction of accessing `two_dimensional_array[:,0]` which gets you the 0th indexed column as an array (single dimensional), whereas `two_dimensional_array[:,:1]` gets you the same 0th indexed column but as a two dimensional array. "
   ]
  },
  {
   "cell_type": "markdown",
   "metadata": {
    "collapsed": true
   },
   "source": [
    "## NumPy Array Attributes\n",
    "Like all objects, NumPy Arrays have a set of attributes. Let's take moment to discuss some that you may find particularly helpful:\n",
    "\n",
    "1. `ndim`\n",
    "1. `shape`\n",
    "1. `size`\n",
    "1. `dtype`\n",
    "\n",
    "To get started, let's create 3 arrays."
   ]
  },
  {
   "cell_type": "code",
   "execution_count": null,
   "metadata": {},
   "outputs": [],
   "source": [
    "x1 = np.random.randint(10, size=6)  # One-dimensional array\n",
    "x2 = np.random.randint(10, size=(3, 4))  # Two-dimensional array\n",
    "x3 = np.random.randint(10, size=(3, 4, 5))  # Three-dimensional array\n",
    "\n",
    "print(\"One Dimensional Array\",   x1, sep='\\n')\n",
    "print(\"Two Dimensional Array\",   x2, sep='\\n')\n",
    "print(\"Three Dimensional Array\", x3, sep='\\n')"
   ]
  },
  {
   "cell_type": "markdown",
   "metadata": {},
   "source": [
    "### `ndim` Attribute\n",
    "Returns the number of dimensions a given array has."
   ]
  },
  {
   "cell_type": "code",
   "execution_count": null,
   "metadata": {},
   "outputs": [],
   "source": [
    "print(x1.ndim, x2.ndim, x3.ndim)"
   ]
  },
  {
   "cell_type": "markdown",
   "metadata": {},
   "source": [
    "### `shape` Attribute\n",
    "Returns the number of elements a given dimension has. For our `x2` array we'd get this output:\n",
    "\n",
    "```python\n",
    "x2.shape\n",
    "(3, 4)\n",
    "```\n",
    "\n",
    "If you look above, you'll see that the full represenation of our `x2` array was like this:\n",
    "\n",
    "```\n",
    "[[6 7 9 1]\n",
    " [3 4 1 2]\n",
    " [6 7 0 7]]\n",
    "```\n",
    "\n",
    "The `(3, 4)` returned by `x2.shape` is referring to the fact that our array had three \"rows\" and four \"columns\" in each row."
   ]
  },
  {
   "cell_type": "code",
   "execution_count": null,
   "metadata": {},
   "outputs": [],
   "source": [
    "print(x2)\n",
    "print(x2.shape)"
   ]
  },
  {
   "cell_type": "code",
   "execution_count": null,
   "metadata": {},
   "outputs": [],
   "source": [
    "print(x3.shape)"
   ]
  },
  {
   "cell_type": "code",
   "execution_count": null,
   "metadata": {},
   "outputs": [],
   "source": [
    "row,col = x2.shape\n",
    "print(row)\n",
    "print(col)"
   ]
  },
  {
   "cell_type": "code",
   "execution_count": null,
   "metadata": {},
   "outputs": [],
   "source": [
    "# you must have matching number of values\n",
    "row,col = x3.shape\n",
    "print(row)\n",
    "print(col)"
   ]
  },
  {
   "cell_type": "markdown",
   "metadata": {},
   "source": [
    "### `size` Attribute\n",
    "Returns the total number of elements across all dimensions of an array.\n",
    "\n",
    "So, for our one-dimensional array `size` will be 6.  \n",
    "For our 2 dimensional array had dimensions of 3 & 4 elements, so `size` will be 12.  \n",
    "Our 3 dimensional array had dimensions of 3, 4, and 5. Therefore it will have a total size of 60 elements."
   ]
  },
  {
   "cell_type": "code",
   "execution_count": null,
   "metadata": {},
   "outputs": [],
   "source": [
    "print(\"x1 size:\", x1.size)\n",
    "print(\"x2 size:\", x2.size)\n",
    "print(\"x3 size:\", x3.size)"
   ]
  },
  {
   "cell_type": "markdown",
   "metadata": {},
   "source": [
    "### `dtype` Attribute\n",
    "Previously, we passed a `dtype` argument to the `np.array` constructor function to coerce the data type of the array's elements.\n",
    "\n",
    "It comes about again here, but this time as an attribute of all NumPy array's. Unsurprisingly, it tells you the data type of the objects held inside the array."
   ]
  },
  {
   "cell_type": "code",
   "execution_count": null,
   "metadata": {},
   "outputs": [],
   "source": [
    "float_array = np.array([1, 2, 3.1])\n",
    "float_array.dtype"
   ]
  },
  {
   "cell_type": "code",
   "execution_count": null,
   "metadata": {},
   "outputs": [],
   "source": [
    "float_array = np.array([1, 2, 3])\n",
    "float_array.dtype"
   ]
  },
  {
   "cell_type": "code",
   "execution_count": null,
   "metadata": {},
   "outputs": [],
   "source": [
    "string_array = np.array(\"Python is something else\".split())\n",
    "print(string_array)\n",
    "string_array.dtype"
   ]
  },
  {
   "cell_type": "markdown",
   "metadata": {},
   "source": [
    "### `itemsize` and `nbytes` Attributes\n",
    "Other attributes include ``itemsize``, which lists the size (in bytes) of each array element, and ``nbytes``, which lists the total size (in bytes) of the array:"
   ]
  },
  {
   "cell_type": "code",
   "execution_count": null,
   "metadata": {},
   "outputs": [],
   "source": [
    "print(\"array size:\", x3.size)\n",
    "print(\"itemsize:\", x3.itemsize, \"bytes\")\n",
    "print(\"nbytes:\", x3.nbytes, \"bytes\")\n",
    "print(\"calulated nbytes: \",x3.itemsize * x3.size)"
   ]
  },
  {
   "cell_type": "markdown",
   "metadata": {},
   "source": [
    "In general, we expect that ``nbytes`` is equal to ``itemsize`` times ``size``."
   ]
  },
  {
   "cell_type": "markdown",
   "metadata": {},
   "source": [
    "# NumPy Array Sorting, Merging, Reshaping and Splitting"
   ]
  },
  {
   "cell_type": "markdown",
   "metadata": {},
   "source": [
    "## ND Football roster data\n",
    "\n",
    "The Notre Dame football athletes information is a publicly accessible data that provides information about the athletes, their jersey number, name, position, height, weight, class and hometown. \n",
    "\n",
    "To get start, we will work with an array of football player weights from your tutorial dataset."
   ]
  },
  {
   "cell_type": "code",
   "execution_count": null,
   "metadata": {},
   "outputs": [],
   "source": [
    "# We will understand each of the packages in the course as we move along, for now let us import them\n",
    "import numpy as np\n",
    "import pandas as pd\n",
    "import matplotlib.pyplot as plt\n",
    "plt.style.use('seaborn')\n",
    "%matplotlib inline"
   ]
  },
  {
   "cell_type": "markdown",
   "metadata": {},
   "source": [
    "### Make sure this Jupyter file (and all others)  and the 'data' folder are in the same folder. Also make sure the 'data' folder contains the data file 'nd-football-2017-roster.csv' downloaded from Sakai (or Google drive) "
   ]
  },
  {
   "cell_type": "code",
   "execution_count": null,
   "metadata": {},
   "outputs": [],
   "source": [
    "# At this point you don't have to know the details of following data loading. \n",
    "# However, understand that it is loading the weights of all the athletes\n",
    "nd_player_weights = np.array(pd.read_csv('./data/nd-football-2018-roster.csv')['Weight'])"
   ]
  },
  {
   "cell_type": "code",
   "execution_count": null,
   "metadata": {},
   "outputs": [],
   "source": [
    "nd_player_weights"
   ]
  },
  {
   "cell_type": "markdown",
   "metadata": {},
   "source": [
    "## Activity:\n",
    "\n",
    "Compute the following details\n",
    "\n",
    "* Number of players in the dataset\n",
    "* The average weight of the players\n",
    "* The weight of the lightest player\n",
    "* The weight of the heaviest player"
   ]
  },
  {
   "cell_type": "code",
   "execution_count": null,
   "metadata": {},
   "outputs": [],
   "source": [
    "# number of players using basic python and/or numpy's .size()\n"
   ]
  },
  {
   "cell_type": "code",
   "execution_count": null,
   "metadata": {},
   "outputs": [],
   "source": [
    "# averge weight with basic python and/or numpy's and/or .size()\n"
   ]
  },
  {
   "cell_type": "code",
   "execution_count": null,
   "metadata": {},
   "outputs": [],
   "source": [
    "# lighest weight using python\n"
   ]
  },
  {
   "cell_type": "code",
   "execution_count": null,
   "metadata": {},
   "outputs": [],
   "source": [
    "# heaviest weight using python\n"
   ]
  },
  {
   "cell_type": "markdown",
   "metadata": {},
   "source": [
    "## Array Sorting\n",
    "A very common use case for real world datasets is that they aren't going to be sorted in the ways we want. This is the case with our football player weights array.  Take a look at the messy order it is in right now."
   ]
  },
  {
   "cell_type": "code",
   "execution_count": null,
   "metadata": {},
   "outputs": [],
   "source": [
    "nd_player_weights"
   ]
  },
  {
   "cell_type": "code",
   "execution_count": null,
   "metadata": {},
   "outputs": [],
   "source": [
    "# And look how that would be visualized...You don't have to know the details!\n",
    "plt.axes().plot(nd_player_weights)"
   ]
  },
  {
   "cell_type": "markdown",
   "metadata": {},
   "source": [
    "### np.sort\n",
    "The `np.sort` function returns a sorted copy of an array. Let's go ahead and use that to get a sorted version of our player's weights."
   ]
  },
  {
   "cell_type": "code",
   "execution_count": null,
   "metadata": {},
   "outputs": [],
   "source": [
    "sorted_player_weights = np.sort(nd_player_weights)\n",
    "print(sorted_player_weights)"
   ]
  },
  {
   "cell_type": "code",
   "execution_count": null,
   "metadata": {},
   "outputs": [],
   "source": [
    "axes = plt.axes()\n",
    "axes.plot(sorted_player_weights) "
   ]
  },
  {
   "cell_type": "code",
   "execution_count": null,
   "metadata": {},
   "outputs": [],
   "source": [
    "axes = plt.axes()\n",
    "axes.plot(nd_player_weights) "
   ]
  },
  {
   "cell_type": "markdown",
   "metadata": {},
   "source": [
    "<div class=\"alert alert-block alert-info\">\n",
    "<p>You can also sort an array by calling the `sort` method on the array itself. For example, `nd_player_weights.sort()` would also get you a sorted list.</p>\n",
    "<p>There is one important difference however. If you call `sort` on the array itself like this, it sorts the array **\"in-place\"**. This means that the original array elements are rearranged. Using `np.sort` on the other hand returns a new sorted copy of the original array.\n",
    "</p>\n",
    "</div> "
   ]
  },
  {
   "cell_type": "code",
   "execution_count": null,
   "metadata": {},
   "outputs": [],
   "source": [
    "nd_player_weights"
   ]
  },
  {
   "cell_type": "code",
   "execution_count": null,
   "metadata": {},
   "outputs": [],
   "source": [
    "nd_player_weights.sort()\n",
    "print(nd_player_weights)"
   ]
  },
  {
   "cell_type": "code",
   "execution_count": null,
   "metadata": {},
   "outputs": [],
   "source": [
    "nd_player_weights"
   ]
  },
  {
   "cell_type": "markdown",
   "metadata": {},
   "source": [
    "## Activity: \n",
    "\n",
    "Print the weights of five lightest and five heaviest players"
   ]
  },
  {
   "cell_type": "code",
   "execution_count": null,
   "metadata": {},
   "outputs": [],
   "source": [
    "# 5 lightest\n"
   ]
  },
  {
   "cell_type": "code",
   "execution_count": null,
   "metadata": {},
   "outputs": [],
   "source": [
    "# 5 heaviest\n"
   ]
  },
  {
   "cell_type": "markdown",
   "metadata": {},
   "source": [
    "### Activity on heights\n",
    "\n",
    "* Tallest Height\n",
    "* Shortest Height\n",
    "* 3 Tallest Heights\n",
    "* 3 Shortest Heights"
   ]
  },
  {
   "cell_type": "code",
   "execution_count": null,
   "metadata": {},
   "outputs": [],
   "source": [
    "nd_player_heights = np.array(pd.read_csv('./data/nd-football-2018-roster.csv')['Height'])\n",
    "nd_player_heights"
   ]
  },
  {
   "cell_type": "code",
   "execution_count": null,
   "metadata": {},
   "outputs": [],
   "source": [
    "# tallest\n"
   ]
  },
  {
   "cell_type": "code",
   "execution_count": null,
   "metadata": {},
   "outputs": [],
   "source": [
    "# shortest\n"
   ]
  },
  {
   "cell_type": "code",
   "execution_count": null,
   "metadata": {},
   "outputs": [],
   "source": [
    "# sort numbers\n"
   ]
  },
  {
   "cell_type": "code",
   "execution_count": null,
   "metadata": {},
   "outputs": [],
   "source": [
    "# 3 tallest\n"
   ]
  },
  {
   "cell_type": "code",
   "execution_count": null,
   "metadata": {},
   "outputs": [],
   "source": [
    "# 3 shortest\n"
   ]
  },
  {
   "cell_type": "markdown",
   "metadata": {},
   "source": [
    "## Array Merging\n",
    "Now that we've discussed how to split arrays apart, let's explore how we can piece multiple arrays together with the `np.concatenate`, `np.hstack`, and `np.vstack` functions."
   ]
  },
  {
   "cell_type": "markdown",
   "metadata": {},
   "source": [
    "### `np.concatenate`\n"
   ]
  },
  {
   "cell_type": "markdown",
   "metadata": {},
   "source": [
    "For some reason, the weight information for the football team has been send to you in two different emails. Now, you've got 2 separate arrays that you need to put together in order to generate the correct statistics for the team."
   ]
  },
  {
   "cell_type": "code",
   "execution_count": null,
   "metadata": {},
   "outputs": [],
   "source": [
    "# Here are your two arrays\n",
    "# One has 25 data points and the other has the remaining 91\n",
    "nd_player_weights_1 = nd_player_weights[:25]\n",
    "nd_player_weights_2 = nd_player_weights[25:]\n",
    "print(len(nd_player_weights_1), len(nd_player_weights_2))"
   ]
  },
  {
   "cell_type": "code",
   "execution_count": null,
   "metadata": {},
   "outputs": [],
   "source": [
    "# It is super easy to concatenate them together with `np.concatenate`\n",
    "merged_array = np.concatenate([nd_player_weights_1, nd_player_weights_2])\n",
    "print(len(merged_array))"
   ]
  },
  {
   "cell_type": "markdown",
   "metadata": {},
   "source": [
    "## Array Reshaping\n",
    "\n",
    "If you recall, every array has a `shape` attribute which conveys the dimensions of the array."
   ]
  },
  {
   "cell_type": "code",
   "execution_count": null,
   "metadata": {},
   "outputs": [],
   "source": [
    "# Reshape our 116 records into 29 rows with 4 columns\n",
    "nd_player_weights_grid = nd_player_weights.reshape(29, 4)\n",
    "nd_player_weights_grid"
   ]
  },
  {
   "cell_type": "code",
   "execution_count": null,
   "metadata": {},
   "outputs": [],
   "source": [
    "# Or into a single row of 116 elements\n",
    "nd_player_weights_grid.reshape(116)"
   ]
  },
  {
   "cell_type": "markdown",
   "metadata": {},
   "source": [
    "## Array Splitting\n",
    "\n",
    "Now let's turn our attention to how we can split arrays into smaller chuncks using the `np.split`, `np.array_split`, `np.hsplit`, and `np.vsplit` functions."
   ]
  },
  {
   "cell_type": "markdown",
   "metadata": {},
   "source": [
    "### `np.split`"
   ]
  },
  {
   "cell_type": "code",
   "execution_count": null,
   "metadata": {},
   "outputs": [],
   "source": [
    "# You can split a single dimensional array with `np.split` \n",
    "# by specifying the index values on which to split the array.\n",
    "\n",
    "# Here we will use it to split the array into 5 arrays. \n",
    "np.split(nd_player_weights, indices_or_sections=[10, 30, 60, 70, 80])"
   ]
  },
  {
   "cell_type": "markdown",
   "metadata": {},
   "source": [
    "<div class=\"alert alert-block alert-info\">\n",
    "<p>It is important to note that the index values you provide will become the first element of the new arrays rather than the last element of the previous split.</p> \n",
    "<p>So, in this case, the elements at indexes 10, 30, 60, 70, 80 become the first elements of the new arrays.</p>\n",
    "</div> "
   ]
  },
  {
   "cell_type": "markdown",
   "metadata": {},
   "source": [
    "### `np.array_split`"
   ]
  },
  {
   "cell_type": "code",
   "execution_count": null,
   "metadata": {},
   "outputs": [],
   "source": [
    "# If you want to split an array into equal parts \n",
    "# (or a close to equal as possible), use `np.array_split`\n",
    "\n",
    "# Here we will divided our team into 6 parts.\n",
    "np.array_split(nd_player_weights, 6)"
   ]
  },
  {
   "cell_type": "markdown",
   "metadata": {},
   "source": [
    "### MORE INFORMATION: Slicing with Multi-Dimentional Arrays"
   ]
  },
  {
   "cell_type": "code",
   "execution_count": null,
   "metadata": {},
   "outputs": [],
   "source": [
    "two_dim_array = np.random.randint(10, size=(5, 3))  \n",
    "two_dim_array"
   ]
  },
  {
   "cell_type": "code",
   "execution_count": null,
   "metadata": {},
   "outputs": [],
   "source": [
    "# Slice the first 4 rows and 1st column of each row\n",
    "two_dim_array[:4, :1]"
   ]
  },
  {
   "cell_type": "code",
   "execution_count": null,
   "metadata": {},
   "outputs": [],
   "source": [
    "# Slice the first 4 rows and then select the last one\n",
    "print(two_dim_array[:4][-1])\n",
    "print(two_dim_array[3])\n"
   ]
  },
  {
   "cell_type": "code",
   "execution_count": null,
   "metadata": {},
   "outputs": [],
   "source": [
    "# Slice the first 4 rows and collect the last element\n",
    "two_dim_array[:4,-1]"
   ]
  },
  {
   "cell_type": "markdown",
   "metadata": {},
   "source": [
    "<div class=\"alert alert-block alert-danger\">\n",
    "<h5>Warning</h5>\n",
    "<p>When we were selecting individual elements of arrays, we demonstrated that there were two ways of getting to a specific element of a multi-dimensional array.\n",
    "</p>\n",
    "<ul>\n",
    "    <li><code>two_dim_array[1, 1]</code></li>\n",
    "    <li><code>two_dim_array[1][1]</code></li>\n",
    "</ul>\n",
    "\n",
    "You can <strong>not</strong> use the second form when slicing an array.\n",
    "<code>two_dim_array[:4, :1]</code> will give very different results than <code>two_dim_array[:4][:1]</code>\n",
    "\n",
    "</div> "
   ]
  }
 ],
 "metadata": {
  "kernelspec": {
   "display_name": "Python 3",
   "language": "python",
   "name": "python3"
  },
  "language_info": {
   "codemirror_mode": {
    "name": "ipython",
    "version": 3
   },
   "file_extension": ".py",
   "mimetype": "text/x-python",
   "name": "python",
   "nbconvert_exporter": "python",
   "pygments_lexer": "ipython3",
   "version": "3.7.4"
  }
 },
 "nbformat": 4,
 "nbformat_minor": 2
}
