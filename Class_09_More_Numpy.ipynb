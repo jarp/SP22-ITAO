{
 "cells": [
  {
   "cell_type": "markdown",
   "metadata": {},
   "source": [
    "# Understanding Memory Efficiency of Numpy Arrays"
   ]
  },
  {
   "cell_type": "code",
   "execution_count": null,
   "metadata": {},
   "outputs": [],
   "source": [
    "import numpy as np\n",
    "import pandas as pd\n",
    "import random\n",
    "import sys"
   ]
  },
  {
   "cell_type": "code",
   "execution_count": null,
   "metadata": {},
   "outputs": [],
   "source": [
    "my_list = [10,12,14]\n",
    "my_list"
   ]
  },
  {
   "cell_type": "markdown",
   "metadata": {},
   "source": [
    "<div class=\"alert alert-block alert-info\">\n",
    "<p><b>`sys.getsizeof()`</b></p>\n",
    "\n",
    "<p>Returns the number of bytes occupied by a container (or any object) in the memory. It is a good practice to often check the size of the containers that are created in a program. <b> Make sure you `import sys` to use this function</b></p>\n",
    "\n",
    "<p> [More info](https://docs.python.org/3/library/sys.html#sys.getsizeof)</p>\n",
    "</div>"
   ]
  },
  {
   "cell_type": "code",
   "execution_count": null,
   "metadata": {},
   "outputs": [],
   "source": [
    "sys.getsizeof?"
   ]
  },
  {
   "cell_type": "code",
   "execution_count": null,
   "metadata": {},
   "outputs": [],
   "source": [
    "print(sys.getsizeof(my_list))"
   ]
  },
  {
   "cell_type": "code",
   "execution_count": null,
   "metadata": {},
   "outputs": [],
   "source": [
    "my_numpy = np.array(my_list)\n",
    "my_numpy"
   ]
  },
  {
   "cell_type": "code",
   "execution_count": null,
   "metadata": {},
   "outputs": [],
   "source": [
    "print(sys.getsizeof(my_numpy))"
   ]
  },
  {
   "cell_type": "code",
   "execution_count": null,
   "metadata": {},
   "outputs": [],
   "source": [
    "my_list = [x for x in range(0,1000000)]"
   ]
  },
  {
   "cell_type": "code",
   "execution_count": null,
   "metadata": {},
   "outputs": [],
   "source": [
    "list_bytes = sys.getsizeof(my_list)\n",
    "print(list_bytes/1000000)"
   ]
  },
  {
   "cell_type": "code",
   "execution_count": null,
   "metadata": {},
   "outputs": [],
   "source": [
    "my_numpy = np.array(my_list)\n",
    "my_numpy"
   ]
  },
  {
   "cell_type": "code",
   "execution_count": null,
   "metadata": {},
   "outputs": [],
   "source": [
    "numpy_bytes = sys.getsizeof(my_numpy)\n",
    "print(numpy_bytes/1000000)"
   ]
  },
  {
   "cell_type": "code",
   "execution_count": null,
   "metadata": {},
   "outputs": [],
   "source": [
    "numpy_bytes / list_bytes"
   ]
  },
  {
   "cell_type": "markdown",
   "metadata": {},
   "source": [
    "### Python lists are not memory efficient\n",
    "\n",
    "As you saw in the above example, whenever the list is of a descent size, Python List was occupying a lot more memory (more bytes) than a Numpy Array. This is one of the main reasons to use Numpy Arrays. "
   ]
  },
  {
   "cell_type": "markdown",
   "metadata": {},
   "source": [
    "# Time Efficiency: Numpy Universal Functions (UFuncs) to the Rescue"
   ]
  },
  {
   "cell_type": "markdown",
   "metadata": {},
   "source": [
    "## The Slow Python Lists \n",
    "\n",
    "We saw earlier that the python lists are **not memory efficient**, but we'll also see that they are  **not time efficient** when performing operations on a large number of data elements. \n",
    "\n",
    "This is **very bad news** for us, since that's pretty much the core of what we do as data scientists. Thankfully, NumPy provides us a way to perform repetitive operations with lightning speed.\n",
    "\n",
    "<div class=\"alert alert-block alert-info\">\n",
    "\n",
    "Python has a <strong>huge</strong> community of developers and users who create awesome libraries like NumPy and give them away for free.\n",
    "\n",
    "</div> \n",
    "\n",
    "\n",
    "Before we show how awesome NumPy is, let's show how bad the problem can be in normal Python. We'll start by using an example that is similar to your textbook.\n"
   ]
  },
  {
   "cell_type": "markdown",
   "metadata": {},
   "source": [
    "### Reciprocals with Python Lists"
   ]
  },
  {
   "cell_type": "code",
   "execution_count": null,
   "metadata": {},
   "outputs": [],
   "source": [
    "# Define a function that will take an argument (parameter) called `lst`\n",
    "# It will return another list with the reciprocal values\n",
    "def compute_reciprocals_list(lst):\n",
    "    \n",
    "    #Create an empty list that gets appended with reciprocal values one at a time\n",
    "    reciproc = []\n",
    "    \n",
    "    # For each element 'elem' in the 'lst', compute the reciprocal and append it to \n",
    "    # the output list\n",
    "    for elem in lst:\n",
    "        reciproc.append(1/elem)\n",
    "    return reciproc\n",
    "\n",
    "list_one = [1,2,3,4,5,6,7]\n",
    "compute_reciprocals_list(list_one)"
   ]
  },
  {
   "cell_type": "code",
   "execution_count": null,
   "metadata": {},
   "outputs": [],
   "source": [
    "list_one = range(1,10)\n",
    "%timeit -n 1 compute_reciprocals_list(list_one)"
   ]
  },
  {
   "cell_type": "markdown",
   "metadata": {},
   "source": [
    "#### Timing Code Execution: `%timeit` \n",
    "\n",
    "When dealing with large amounts of data, you are going to want to learn how to make your code run fast. To be able to make it faster, you have to be able to see how long the various parts of your code take to execute.\n",
    "\n",
    "IPython (Jupyter) makes this extremely easy to do with the **`%timeit` magic command.**\n",
    "\n",
    "<div class=\"alert alert-block alert-info\">\n",
    "`%timeit -n 1`: means that you are asking Jupyter to run it once and report the time it took to run it \n",
    "</div>\n"
   ]
  },
  {
   "cell_type": "code",
   "execution_count": null,
   "metadata": {},
   "outputs": [],
   "source": [
    "%timeit?"
   ]
  },
  {
   "cell_type": "markdown",
   "metadata": {},
   "source": [
    "<div class=\"alert alert-block alert-info\">\n",
    "<h5> Measures of execution time </h5>\n",
    "<p>$ ns $ - Nano second, it is equal to 1/1,000,000,000 of a second (1 billionth of a second)</p>\n",
    "<p>$\\mu s$ - Micro second, it is equal to 1/1,000,000 of a second ( 1 millionth of a second)</p>\n",
    "<p>$ ms$ - Milli second, it is equal to 1/1000 of a second ( 1 thousandth of a second) </p>\n",
    "<p>$ s$ - Second</p>\n",
    "</div>"
   ]
  },
  {
   "cell_type": "markdown",
   "metadata": {},
   "source": [
    "### Reciprocals with Numpy Arrays and For loops"
   ]
  },
  {
   "cell_type": "code",
   "execution_count": null,
   "metadata": {},
   "outputs": [],
   "source": [
    "# Define a function that will take an argument (parameter) called `array_one`\n",
    "# It will return another array with the reciprocal values\n",
    "def compute_reciprocals_numpy(array_one):\n",
    "    \n",
    "    # Create an `output` array that starts with the same number \n",
    "    # of elements that are in the `array_one` parameter.\n",
    "    output = np.empty(len(array_one)) \n",
    "    \n",
    "    # For each item in the `array_one` parameter\n",
    "    # Retrieve its value and index.\n",
    "    for index, value in enumerate(array_one):\n",
    "        \n",
    "        # Update the same index position in the `output` object\n",
    "        # With 1.0 divided by the current interation value\n",
    "        output[index] = 1.0 / value\n",
    "        \n",
    "    # Return the updated `output` array.    \n",
    "    return output\n",
    "\n",
    "array_one = np.arange(1,10)\n",
    "compute_reciprocals_numpy(array_one)"
   ]
  },
  {
   "cell_type": "code",
   "execution_count": null,
   "metadata": {},
   "outputs": [],
   "source": [
    "array_one = np.arange(1,10)\n",
    "%timeit -n 1 compute_reciprocals_numpy(array_one)"
   ]
  },
  {
   "cell_type": "code",
   "execution_count": null,
   "metadata": {},
   "outputs": [],
   "source": [
    "big_list = [random.randint(1,100) for x in range(1,1000000)]\n",
    "%timeit -n 1 compute_reciprocals_list(big_list)"
   ]
  },
  {
   "cell_type": "code",
   "execution_count": null,
   "metadata": {},
   "outputs": [],
   "source": [
    "big_array = np.random.randint(1, 100, size=1000000)\n",
    "%timeit -n 1 compute_reciprocals_numpy(big_array)"
   ]
  },
  {
   "cell_type": "markdown",
   "metadata": {},
   "source": [
    "### Wait! Why is a NumPy array slower than a list? \n",
    "\n",
    "You could be thinking, why are NumPy arrays slower than a Python List? This is because, though we have created a memory efficient NumPy array, but we are still using it in the traditional loops and **LOOPS ARE SLOW**. \n",
    "\n",
    "## UFuncs to the Rescue <a name=\"ufuncs\"></a>\n",
    "\n",
    "The NumPy package has **UFuncs**, or **Universal Functions** which can dramatically improve the speed operations on array elements. They are also referred to a **vectorized** operations.\n",
    "\n",
    "Basically, these functions push the loop processing into the C code that lies underneath Python/NumPy so that the operations are performed much faster than normal.\n",
    "\n",
    "This only works because all the data elements of an array are of the same type."
   ]
  },
  {
   "cell_type": "code",
   "execution_count": null,
   "metadata": {},
   "outputs": [],
   "source": [
    "value = 10\n",
    "print(1/value)"
   ]
  },
  {
   "cell_type": "code",
   "execution_count": null,
   "metadata": {},
   "outputs": [],
   "source": [
    "array_one = np.arange(1,10)\n",
    "\n",
    "print(array_one)\n",
    "print(compute_reciprocals_numpy(array_one))"
   ]
  },
  {
   "cell_type": "code",
   "execution_count": null,
   "metadata": {},
   "outputs": [],
   "source": [
    "# UFunc / Vectorized Version\n",
    "# This notation is as if you are saying take 1 and divide each by each element \n",
    "# of `array_one` and store the results\n",
    "print(1 / array_one)"
   ]
  },
  {
   "cell_type": "code",
   "execution_count": null,
   "metadata": {},
   "outputs": [],
   "source": [
    "# You can also assign it to a new variable the reciprocal values\n",
    "new_array = 1 / array_one\n",
    "print(new_array)"
   ]
  },
  {
   "cell_type": "code",
   "execution_count": null,
   "metadata": {},
   "outputs": [],
   "source": [
    "# Time it takes using a list\n",
    "%timeit -n 1 compute_reciprocals_list(big_list)"
   ]
  },
  {
   "cell_type": "code",
   "execution_count": null,
   "metadata": {},
   "outputs": [],
   "source": [
    "# Time it takes using a np array\n",
    "%timeit -n 1 compute_reciprocals_numpy(big_array)"
   ]
  },
  {
   "cell_type": "code",
   "execution_count": null,
   "metadata": {},
   "outputs": [],
   "source": [
    "# Now time the UFunc approach\n",
    "# Remember, the other way took a looooong time.\n",
    "%timeit -n 1 (1.0 / big_array)\n"
   ]
  },
  {
   "cell_type": "markdown",
   "metadata": {},
   "source": [
    "### Takeaway: Loops are a big NO! NO!\n",
    "\n",
    "As you could see there is dramatic improvements in terms of speed by using vecotrized functions (UFuncs) instead of loops. This is a very important when working with large datasets. Hence, **avoid writing loops and use the built-in functions in NumPy** to improve the speed. "
   ]
  },
  {
   "cell_type": "markdown",
   "metadata": {},
   "source": [
    "### Arithmetic UFuncs\n",
    "As we just demonstrated, there is a UFunc for division operations. It probably will not surprise you then to discover that all the normal Python arithmetic operations are replicated with UFuncs.\n",
    "\n",
    "Here are some examples:"
   ]
  },
  {
   "cell_type": "code",
   "execution_count": null,
   "metadata": {},
   "outputs": [],
   "source": [
    "simple_int_array = np.arange(1, 6)\n",
    "print(simple_int_array)"
   ]
  },
  {
   "cell_type": "code",
   "execution_count": null,
   "metadata": {},
   "outputs": [],
   "source": [
    "# Add 5 to each array element\n",
    "simple_int_array + 5"
   ]
  },
  {
   "cell_type": "code",
   "execution_count": null,
   "metadata": {},
   "outputs": [],
   "source": [
    "# Subtract each element from 10\n",
    "# Notice the somewhat subtle difference here.  It's important.\n",
    "10 - simple_int_array"
   ]
  },
  {
   "cell_type": "code",
   "execution_count": null,
   "metadata": {},
   "outputs": [],
   "source": [
    "# You can perform multiple operations.\n",
    "# Standard math order of operations is followed\n",
    "\n",
    "# Raise each element to the 3rd power and subtract 10\n",
    "new_math_operation_array = simple_int_array ** 3 - 10\n",
    "print(new_math_operation_array)"
   ]
  },
  {
   "cell_type": "markdown",
   "metadata": {},
   "source": [
    "#### An Alternative Syntax\n",
    "In additional to using standard mathematical operators (i.e. `+, -, *, /, **`) you can also accomplish the same thing by invoking the UFuncs by their names.\n",
    "\n",
    "For example:"
   ]
  },
  {
   "cell_type": "code",
   "execution_count": null,
   "metadata": {},
   "outputs": [],
   "source": [
    "# Add 3.5 to each element of our `simple_int_array`\n",
    "# Notice how the ints are \"upcasted\" to floats?\n",
    "np.add(3.5, simple_int_array)"
   ]
  },
  {
   "cell_type": "code",
   "execution_count": null,
   "metadata": {},
   "outputs": [],
   "source": [
    "# Divide each array element by 3\n",
    "np.divide(simple_int_array, 4)"
   ]
  },
  {
   "cell_type": "code",
   "execution_count": null,
   "metadata": {},
   "outputs": [],
   "source": [
    "# And notice that the order of parameters is important\n",
    "# When dividing and substracting...\n",
    "np.divide(4, simple_int_array)"
   ]
  },
  {
   "cell_type": "code",
   "execution_count": null,
   "metadata": {},
   "outputs": [],
   "source": [
    "4 / simple_int_array"
   ]
  },
  {
   "cell_type": "markdown",
   "metadata": {},
   "source": [
    "#### Summary Table\n",
    "Here is the summary table of common arithmetic UFuncs availble to you.\n"
   ]
  },
  {
   "cell_type": "markdown",
   "metadata": {},
   "source": [
    "| Operator      | Equivalent ufunc    | Description |                         \n",
    "|---------------|---------------------|---------------------------------------|\n",
    "|``+``          |``np.add``           |Addition (e.g., ``1 + 1 = 2``)         |\n",
    "|``-``          |``np.subtract``      |Subtraction (e.g., ``3 - 2 = 1``)      |\n",
    "|``-``          |``np.negative``      |Unary negation (e.g., ``-2``)          |\n",
    "|``*``          |``np.multiply``      |Multiplication (e.g., ``2 * 3 = 6``)   |\n",
    "|``/``          |``np.divide``        |Division (e.g., ``3 / 2 = 1.5``)       |\n",
    "|``//``         |``np.floor_divide``  |Floor division (e.g., ``3 // 2 = 1``)  |\n",
    "|``**``         |``np.power``         |Exponentiation (e.g., ``2 ** 3 = 8``)  |\n",
    "|``%``          |``np.mod``           |Modulus/remainder (e.g., ``9 % 4 = 1``)|"
   ]
  },
  {
   "cell_type": "markdown",
   "metadata": {},
   "source": [
    "#### Operations between Two NumPy Arrays\n",
    "In your textbook, it talks about how you have invoke arithmetic UFuncs with `scalar` values or other arrays.\n",
    "\n",
    "For those who are not programming experts, a **scalar** value simply means that is in an object with a single value -- like a number. This is opposed to a **container**-type object like a `list` or `ndarray` that holds multiple values.\n",
    "\n",
    "Let's see how you can use UFuncs where both objects are arrays.\n",
    "\n"
   ]
  },
  {
   "cell_type": "code",
   "execution_count": null,
   "metadata": {},
   "outputs": [],
   "source": [
    "# Let's create two new arrays.\n",
    "# One will have the numbers 1-5 and the other 6-10\n",
    "one_to_five = np.arange(1, 6)\n",
    "six_to_ten = np.arange(6, 11)\n",
    "\n",
    "print(one_to_five, six_to_ten)"
   ]
  },
  {
   "cell_type": "code",
   "execution_count": null,
   "metadata": {},
   "outputs": [],
   "source": [
    "# Now lets add them together.\n",
    "# Notice how it takes the 1st element of both and adds them together\n",
    "# then the second and so on...\n",
    "print(np.add(one_to_five, six_to_ten))\n",
    "print(one_to_five + six_to_ten)"
   ]
  },
  {
   "cell_type": "code",
   "execution_count": null,
   "metadata": {},
   "outputs": [],
   "source": [
    "# The same thing will happen with other operations.\n",
    "# Here will we divide each element of `one_to_five` by `six_to_ten`\n",
    "print(np.divide(one_to_five, six_to_ten))\n",
    "print(one_to_five / six_to_ten)"
   ]
  },
  {
   "cell_type": "markdown",
   "metadata": {},
   "source": [
    "<div class=\"alert alert-block alert-warning\">\n",
    "<h5>Important Note!</h5>\n",
    "\n",
    "<p>Being able to perform mathematical operations between two arrays is a really powerful tool.  But, take note that this only works when you have two arrays of the same size and shape.</p>\n",
    "\n",
    "</div>"
   ]
  },
  {
   "cell_type": "code",
   "execution_count": null,
   "metadata": {},
   "outputs": [],
   "source": [
    "# Shape mismatched arrays will cause problems...\n",
    "np.arange(5) + np.arange(10)"
   ]
  },
  {
   "cell_type": "markdown",
   "metadata": {},
   "source": [
    "## Many more mathematical operations\n",
    "\n",
    "* **`np.abs`**: get the absolute value\n",
    "* **`np.sin`, `np.cos`, `np.tan`**: trignometric operations\n",
    "* **`np.power`, `np.exp`, `np.exp2`**: exponent operations\n",
    "* **`np.log`, `np.log2`, `np.log10`**: logorithmic operations"
   ]
  },
  {
   "cell_type": "markdown",
   "metadata": {},
   "source": [
    "# Array Aggregation with NumPy\n",
    "\n",
    "We can use NumPy to compute summary statistics for the data in question. In the following, we will see some important summary statistics performed using NumPy functions"
   ]
  },
  {
   "cell_type": "markdown",
   "metadata": {},
   "source": [
    "## `np.sum`"
   ]
  },
  {
   "cell_type": "code",
   "execution_count": null,
   "metadata": {},
   "outputs": [],
   "source": [
    "# Let's get our familiar int array with 1 to 10 in it.\n",
    "simple_int_array = np.arange(1, 11)\n",
    "simple_int_array"
   ]
  },
  {
   "cell_type": "code",
   "execution_count": null,
   "metadata": {},
   "outputs": [],
   "source": [
    "# Here's how easy it is to get the sum all of element values.\n",
    "print(np.sum(simple_int_array))\n",
    "print(simple_int_array.sum())"
   ]
  },
  {
   "cell_type": "markdown",
   "metadata": {},
   "source": [
    "<div class=\"alert alert-block alert-warning\">\n",
    "<h3>NumPy Aggregations vs. Built-in Aggregations</h3>\n",
    "<p>We have seen in an earlier class that Python has a built-in standard `sum` method ( as well as functions like `min` & `max`)</p>\n",
    "\n",
    "<p>\n",
    "However, it is important to note that you will almost always want to use the NumPy versions of this functions. <b> The standard Python versions won't have the speed advantages of the NumPy ones </b> and then do not always support multi-dimensional arrays.\n",
    "</p>\n",
    "\n",
    "</div>"
   ]
  },
  {
   "cell_type": "code",
   "execution_count": null,
   "metadata": {},
   "outputs": [],
   "source": [
    "big_array = np.random.rand(1000000)\n",
    "%timeit -n 1 sum(big_array)\n",
    "%timeit -n 1 np.sum(big_array)\n",
    "%timeit -n 1 big_array.sum()"
   ]
  },
  {
   "cell_type": "markdown",
   "metadata": {},
   "source": [
    "<div class=\"alert alert-block alert-info\">\n",
    "<p>\n",
    "Though not discussed here **practice `np.sum` on two-dimensional arrays by using optional axis parameter**. PDSH Page 60 and [online resources](https://docs.scipy.org/doc/numpy/reference/generated/numpy.sum.html)\n",
    "</p>\n",
    "</div>"
   ]
  },
  {
   "cell_type": "markdown",
   "metadata": {},
   "source": [
    "### Aggregation functions available in NumPy\n",
    "\n",
    "| Equivalent ufunc    | Description |                         \n",
    "|---------------------|---------------------------------------|\n",
    "|``np.sum``           |Compute sum of elements                |\n",
    "|``np.prod``          |Compute product of elements            |\n",
    "|``np.mean``          |Compute mean of elements               |\n",
    "|``np.std``           |Compute standard deviation of elements |\n",
    "|``np.var``           |Compute variance of elements           |\n",
    "|``np.min``           |Find the minimum value                 |\n",
    "|``np.max``           |Find the maximum value                 |\n",
    "|``np.argmin``        |Find the index of minimum value        |\n",
    "|``np.argmax``        |Find the index of maximum value        |\n",
    "|``np.median``        |Compute median of elements             |\n",
    "|``np.percentile``    |Compute rank based stats of elements   |\n",
    "|``np.any``           |Evaluate whether any elements are true |\n",
    "|``np.all``           |Evaluate whether all elements are true |"
   ]
  },
  {
   "cell_type": "markdown",
   "metadata": {},
   "source": [
    "## Revisit: ND Football Roster Example"
   ]
  },
  {
   "cell_type": "code",
   "execution_count": null,
   "metadata": {},
   "outputs": [],
   "source": [
    "# At this point you don't have to know the details of following data loading. \n",
    "# However, understand that it is loading the weights of all the athletes\n",
    "nd_player_weights = np.array(pd.read_csv('./data/nd-football-2018-roster.csv')['Weight'])\n",
    "nd_player_names = np.array(pd.read_csv('./data/nd-football-2018-roster.csv')['Name'])\n",
    "nd_player_heights = np.array(pd.read_csv('./data/nd-football-2018-roster.csv')['Height'])\n",
    "print(nd_player_heights[:5])\n",
    "print(nd_player_weights[:5])\n",
    "print(nd_player_names[:5])"
   ]
  },
  {
   "cell_type": "markdown",
   "metadata": {},
   "source": [
    "## Activity:\n",
    "\n",
    "Use NumPy `nd_player_weights`,`nd_player_heights` and `nd_player_names` arrays to compute the following details. Also, these arrays are aligned in such a way that the $i^{th}$ indexed element in one array corresponds to $i^{th}$ indexed element in another array. \n",
    "\n",
    "* Average weight, average height `232.xx / 73.xx`\n",
    "* The median weight, height `222 / 74`\n",
    "* Variance of weights, heights `1789 / 5.78xx`\n",
    "* Name of lightest player (**Hint**: Use np.argmin) `Lawrence Keys`\n",
    "* Name of talest player (**Hint**: Use np.argmax) `Josh Lugg`"
   ]
  },
  {
   "cell_type": "code",
   "execution_count": null,
   "metadata": {},
   "outputs": [],
   "source": []
  },
  {
   "cell_type": "markdown",
   "metadata": {},
   "source": [
    "# NumPy Array Comparisons & Masking\n",
    "\n",
    "Now, we will learn another set of Numpy functions that will compare the value of each element to a given condition and (generally) return a new array specifying if each element did or did not meet that condition."
   ]
  },
  {
   "cell_type": "markdown",
   "metadata": {},
   "source": [
    "## Available Numpy Comparison Functions\n",
    "You can invoke Numpy's comparison functions either through an operator or by an explicit function call. You need to be familiar with both styles as you will see both in other people's code. \n",
    "\n",
    "Here are the available functions:\n",
    "\n",
    "| Operator    | Equivalent ufunc    |\n",
    "|---------------|---------------------|\n",
    "|``==``         |``np.equal``         |\n",
    "|``!=``         |``np.not_equal``     |\n",
    "|``<``          |``np.less``          |\n",
    "|``<=``         |``np.less_equal``    |\n",
    "|``>``          |``np.greater``       |\n",
    "|``>=``         |``np.greater_equal`` |"
   ]
  },
  {
   "cell_type": "code",
   "execution_count": null,
   "metadata": {},
   "outputs": [],
   "source": [
    "nd_player_weights"
   ]
  },
  {
   "cell_type": "code",
   "execution_count": null,
   "metadata": {},
   "outputs": [],
   "source": [
    "# Which players weigh more than 200lbs?\n",
    "# I'll use the operator syntax this time.\n",
    "nd_player_weights > 200"
   ]
  },
  {
   "cell_type": "markdown",
   "metadata": {},
   "source": [
    "Interesting. It returns a new array that is full of `boolean` values. If the value is `true` at a given index, it means that specific player's weight was over 200 lbs.\n",
    "\n",
    "<div class=\"alert alert-block alert-info\">\n",
    "<p>\n",
    "For our purposes here, a boolean just means it is either true or false.\n",
    "</p>\n",
    "</div> "
   ]
  },
  {
   "cell_type": "code",
   "execution_count": null,
   "metadata": {},
   "outputs": [],
   "source": [
    "# Which players are not 6ft (72 in) tall?\n",
    "# This time I'll explicitly call the UFunc.\n",
    "np.not_equal(nd_player_heights, 72)"
   ]
  },
  {
   "cell_type": "markdown",
   "metadata": {},
   "source": [
    "### Comparison UFuncs + `np.sum`, `np.all`, or `np.any`\n",
    "Above, we answered the question, *which players weigh more than 200 lbs?* Now we will combine that information with additional functions to answer the following:"
   ]
  },
  {
   "cell_type": "code",
   "execution_count": null,
   "metadata": {},
   "outputs": [],
   "source": [
    "nd_player_weights > 200"
   ]
  },
  {
   "cell_type": "code",
   "execution_count": null,
   "metadata": {},
   "outputs": [],
   "source": [
    "# Are any of the players > 200 lbs?\n",
    "# The `np.any` function will return true if any array values are `True`.\n",
    "np.any( nd_player_weights > 200 )"
   ]
  },
  {
   "cell_type": "code",
   "execution_count": null,
   "metadata": {},
   "outputs": [],
   "source": [
    "# Are ALL of the players > 200 lbs?\n",
    "# The `np.all` function returns true if ALL the array values are true.\n",
    "np.all( nd_player_heights > 200 )"
   ]
  },
  {
   "cell_type": "code",
   "execution_count": null,
   "metadata": {},
   "outputs": [],
   "source": [
    "# How many players weigh > 200 lbs?\n",
    "np.sum( nd_player_weights > 200 )"
   ]
  },
  {
   "cell_type": "markdown",
   "metadata": {},
   "source": [
    "<div class=\"alert alert-block alert-info\">\n",
    "<h5>Where is `np.sum` getting a number from?</h5>\n",
    "<p>\n",
    "In an earlier tutorial we learned that the `np.sum` aggregate function adds all the values of an array together. But, there are no numeric values in an array full of `True/False` so where do these come from?\n",
    "</p>\n",
    "<p>\n",
    "Turns out, that in Python the boolean `True` value has a corresponding numeric value of `1`. So, each time `np.sum` encounters `True` in the boolean array, it adds a `1` to its running total.\n",
    "</p>\n",
    "</div> "
   ]
  },
  {
   "cell_type": "code",
   "execution_count": null,
   "metadata": {},
   "outputs": [],
   "source": [
    "np.mean( nd_player_weights > 200 )"
   ]
  },
  {
   "cell_type": "markdown",
   "metadata": {},
   "source": [
    "<div class=\"alert alert-block alert-info\">\n",
    "<h5>What does `np.mean` getting us?</h5>\n",
    "<p>\n",
    "Since the `nd_player_weights>200` returns boolean values True/False, and we know from above that `True` is considered a `1` and `False` is considered a `0`, when we take an average we are getting a fraction of players who are above 200. \n",
    "</p>\n",
    "</div> "
   ]
  },
  {
   "cell_type": "markdown",
   "metadata": {},
   "source": [
    "### Comparison UFuncs + Bitwise Boolean Operators\n",
    "This one might be a little bit confusing at first, so we'll start with a practical example.\n",
    "\n",
    "Let's say that we wanted to know which players were between 72 and 75 inches tall? **Bitwise boolean operators** allow us to combine & join comparisons together and get the net result.\n",
    "\n",
    "Let's demonstrate."
   ]
  },
  {
   "cell_type": "code",
   "execution_count": null,
   "metadata": {},
   "outputs": [],
   "source": [
    "# Which plays are between 72 and 75 inches tall?\n",
    "(nd_player_heights >= 72) & (nd_player_heights <= 75)"
   ]
  },
  {
   "cell_type": "markdown",
   "metadata": {},
   "source": [
    "<div class=\"alert alert-block alert-danger\">\n",
    "<h5>Parenthesis are Important Here</h5>\n",
    "<p>\n",
    "The parenthesis here are important because of \n",
    "<a href=\"https://docs.python.org/3/reference/expressions.html#operator-precedence\" target=\"_blank\">\n",
    "Python's operator precedence rules</a> which would lead to the following evaluation if I hadn't included the parenthesis: `player_heights >= (72 & player_heights) <= 75`\n",
    "</p>\n",
    "<p>\n",
    "This would obviously have a different result. So, be mindful to use parathesis to force the correct order of operations when combining UFuncs with bitwise boolean operators.\n",
    "</p>\n",
    "</div> "
   ]
  },
  {
   "cell_type": "code",
   "execution_count": null,
   "metadata": {},
   "outputs": [],
   "source": [
    "# Ok, now let's bring back in `np.sum` to get a \n",
    "# count of the players that match this criteria\n",
    "np.sum(  (nd_player_heights >= 72) & (nd_player_heights <= 75)  )"
   ]
  },
  {
   "cell_type": "code",
   "execution_count": null,
   "metadata": {},
   "outputs": [],
   "source": [
    "nd_player_heights > 72"
   ]
  },
  {
   "cell_type": "code",
   "execution_count": null,
   "metadata": {},
   "outputs": [],
   "source": [
    "~(nd_player_heights > 72)"
   ]
  },
  {
   "cell_type": "markdown",
   "metadata": {},
   "source": [
    "What we've done here is utilize a couple of **bitwise boolean operators**. When used, these operators evaluate each element of the two arrays being compared. For each element, it evaluates whether the two values match the operator condition, and then returns `True` or `False` for that element pair accordingly.\n",
    "\n",
    "Yes, that is a mouthful of a sentence. So, practice how this works with a smaller set of arrays. But first, here is the full list of operators:\n",
    "\n",
    "| Operator   | Equivalent ufunc  |\n",
    "|------------|-------------------|\n",
    "|`&`         |np.bitwise_and   |\n",
    "|&#124;      |`np.bitwise_or`    |\n",
    "|`^`         |`np.bitwise_xor`   |\n",
    "|`~`         |`np.bitwise_not`   |"
   ]
  },
  {
   "cell_type": "markdown",
   "metadata": {},
   "source": [
    "## Activity:\n",
    "\n",
    "Use NumPy `nd_player_weights`,`nd_player_heights` and `nd_player_names` arrays to compute the following details. Also, these arrays are aligned in such a way that the $i^{th}$ indexed element in one array corresponds to $i^{th}$ indexed element in another array. \n",
    "\n",
    "* How many players are above 72 inches in Height?  `77`\n",
    "* Are there any players between 250 lbs to 260 lbs? `True`\n",
    "* How many players are either above 75 inches or below 70 inches? `34` \n",
    "* How many players are not below 250 lbs? `31`\n",
    "* What percentage of players are above 75 inches in Height? `25.8`"
   ]
  },
  {
   "cell_type": "code",
   "execution_count": null,
   "metadata": {},
   "outputs": [],
   "source": []
  },
  {
   "cell_type": "code",
   "execution_count": null,
   "metadata": {},
   "outputs": [],
   "source": []
  },
  {
   "cell_type": "code",
   "execution_count": null,
   "metadata": {},
   "outputs": [],
   "source": []
  },
  {
   "cell_type": "code",
   "execution_count": null,
   "metadata": {},
   "outputs": [],
   "source": []
  },
  {
   "cell_type": "code",
   "execution_count": null,
   "metadata": {},
   "outputs": [],
   "source": []
  },
  {
   "cell_type": "markdown",
   "metadata": {},
   "source": [
    "#### Special Note for `bitwise.not (~)`\n",
    "Up above, I said that the bitwise boolean operators evaluate two arrays. Well, in the case of `bitwise.not`, that isn't true.\n",
    "\n",
    "Unlike the other bitwise operators, this one simply reverses the values in a boolean array."
   ]
  }
 ],
 "metadata": {
  "kernelspec": {
   "display_name": "Python 3",
   "language": "python",
   "name": "python3"
  },
  "language_info": {
   "codemirror_mode": {
    "name": "ipython",
    "version": 3
   },
   "file_extension": ".py",
   "mimetype": "text/x-python",
   "name": "python",
   "nbconvert_exporter": "python",
   "pygments_lexer": "ipython3",
   "version": "3.7.4"
  }
 },
 "nbformat": 4,
 "nbformat_minor": 2
}
