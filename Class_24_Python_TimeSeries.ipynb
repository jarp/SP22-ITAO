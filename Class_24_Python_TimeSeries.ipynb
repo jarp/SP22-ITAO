{
 "cells": [
  {
   "cell_type": "markdown",
   "metadata": {},
   "source": [
    "# Date and Time\n",
    "\n",
    "The date and time information is uniquitous in real-world datasets. It is important to understand how date and time are handled in Python and more specificaally in the `pandas` package.\n",
    "\n",
    "Some of the material discussed here was borrowed from [here](https://github.com/ResearchComputing/Meetup-Fall-2013). "
   ]
  },
  {
   "cell_type": "markdown",
   "metadata": {},
   "source": [
    "## The `datetime` type"
   ]
  },
  {
   "cell_type": "code",
   "execution_count": null,
   "metadata": {},
   "outputs": [],
   "source": [
    "from datetime import datetime, date, time\n",
    "from datetime import timedelta"
   ]
  },
  {
   "cell_type": "markdown",
   "metadata": {},
   "source": [
    "Note the not so typical way of import statements here. If you want to import specific things you will use it. \n",
    "\n",
    "The interpretation here is that you are importing specific subpackages like `datetime, date, time, timedelta` from the `datetime` package. "
   ]
  },
  {
   "cell_type": "code",
   "execution_count": null,
   "metadata": {},
   "outputs": [],
   "source": [
    "now = datetime.now()\n",
    "print(now)\n",
    "print(now.year, now.month, now.day)\n",
    "print(now.hour, now.minute, now.second)\n",
    "print(now.microsecond)\n",
    "print(now.hour, now.year)"
   ]
  },
  {
   "cell_type": "code",
   "execution_count": null,
   "metadata": {},
   "outputs": [],
   "source": [
    "soon = datetime(2021,day=20, month=5)\n",
    "print(soon)"
   ]
  },
  {
   "cell_type": "markdown",
   "metadata": {},
   "source": [
    "## datetime.timedelta"
   ]
  },
  {
   "cell_type": "code",
   "execution_count": null,
   "metadata": {},
   "outputs": [],
   "source": [
    "delta = datetime(2013,12,3) - datetime(2012,12,3)\n",
    "print(type(delta))\n",
    "print(delta.days)\n",
    "print(delta.seconds)"
   ]
  },
  {
   "cell_type": "code",
   "execution_count": null,
   "metadata": {},
   "outputs": [],
   "source": [
    "print(now)\n",
    "print(now + timedelta(seconds=600)) #10 minutes"
   ]
  },
  {
   "cell_type": "markdown",
   "metadata": {},
   "source": [
    "## Converting between strings with strftime, strptime, and dateutil.parser\n",
    "\n",
    "Often times when you load the data from a file you might have to know how to convert a column that is in a string to a DateTime format, or you might want to know how to convert a time to a specific string format. "
   ]
  },
  {
   "cell_type": "markdown",
   "metadata": {},
   "source": [
    "### Converting datetime to a string"
   ]
  },
  {
   "cell_type": "code",
   "execution_count": null,
   "metadata": {},
   "outputs": [],
   "source": [
    "print(str(now))\n",
    "print(str(soon))"
   ]
  },
  {
   "cell_type": "markdown",
   "metadata": {},
   "source": [
    "To string with more control... (string format time -> str**f**time)"
   ]
  },
  {
   "cell_type": "markdown",
   "metadata": {},
   "source": [
    "[Documentation](https://docs.python.org/3/library/datetime.html#strftime-and-strptime-behavior) provides the meaning for various behaviors, like `%Y`, `%b`, `%A`, etc. "
   ]
  },
  {
   "cell_type": "code",
   "execution_count": null,
   "metadata": {},
   "outputs": [],
   "source": [
    "print(now.strftime('%Y-%b-%d'))\n",
    "print(now.strftime('%Y/%b/%d'))\n",
    "print(now.strftime('%D'))"
   ]
  },
  {
   "cell_type": "code",
   "execution_count": null,
   "metadata": {},
   "outputs": [],
   "source": [
    "now = datetime.now()\n",
    "print(now.strftime('%a, %d %b %Y %H:%M:%S %p %P'))"
   ]
  },
  {
   "cell_type": "markdown",
   "metadata": {},
   "source": [
    "### Converting string to a datetime\n",
    "\n",
    "We will use the method str**p**time to parse the time\n"
   ]
  },
  {
   "cell_type": "code",
   "execution_count": null,
   "metadata": {},
   "outputs": [],
   "source": [
    "print(datetime.strptime('2018-12-4', '%Y-%m-%d'))"
   ]
  },
  {
   "cell_type": "code",
   "execution_count": null,
   "metadata": {},
   "outputs": [],
   "source": [
    "date_list = ['2018-12-19 05:26:39', \n",
    "             '2018-12-19 07:00:39', \n",
    "             '2018-12-19 09:00:39']\n",
    "\n",
    "[ datetime.strptime(x, '%Y-%m-%d %H:%M:%S') for x in date_list ]"
   ]
  },
  {
   "cell_type": "code",
   "execution_count": null,
   "metadata": {},
   "outputs": [],
   "source": [
    "date_list = ['2018-12-19 05:26:39', \n",
    "             '2018-12-19 07:00', \n",
    "             '2018-12-19 09:00']\n",
    "\n",
    "[datetime.strptime(x, '%Y-%m-%d %H:%M:%S') for x in date_list]"
   ]
  },
  {
   "cell_type": "markdown",
   "metadata": {},
   "source": [
    "The above conversion failed because the second time is not formatted like the rest of them, it only has hour information but not the minute and second information. "
   ]
  },
  {
   "cell_type": "markdown",
   "metadata": {},
   "source": [
    "### `dateutil.parser` to the rescue\n",
    "\n",
    "This parse is smart to figure out the format as much as possible. "
   ]
  },
  {
   "cell_type": "code",
   "execution_count": null,
   "metadata": {},
   "outputs": [],
   "source": [
    "from dateutil.parser import parse\n",
    "\n",
    "print(parse('2018-04-25'))\n",
    "print(parse('2018/04/25'))"
   ]
  },
  {
   "cell_type": "code",
   "execution_count": null,
   "metadata": {},
   "outputs": [],
   "source": [
    "# It smartly parses the text to convert to date time. \n",
    "\n",
    "print(parse('April 4th, 2018 at 11:30am'))"
   ]
  },
  {
   "cell_type": "code",
   "execution_count": null,
   "metadata": {},
   "outputs": [],
   "source": [
    "# Though it is not super smart\n",
    "\n",
    "print(parse('tomorrow at 11:30am'))"
   ]
  },
  {
   "cell_type": "code",
   "execution_count": null,
   "metadata": {},
   "outputs": [],
   "source": [
    "date_list = ['2018-12-19 05:26:39', \n",
    "             '2018-12-19 07', \n",
    "             '2018-12-19 09:00']\n",
    "\n",
    "dates = [parse(x) for x in date_list]\n",
    "for dt in dates:\n",
    "    print(dt)"
   ]
  },
  {
   "cell_type": "markdown",
   "metadata": {},
   "source": [
    "# Time Series with pandas\n",
    "\n",
    "`pandas` package has a lot of functionality in handling time based data sets. \n",
    "\n",
    "The pandas was developed by people working in finance industry, so it is no wonder they were able to build very efficient methods for handling time series in pandas. "
   ]
  },
  {
   "cell_type": "code",
   "execution_count": null,
   "metadata": {},
   "outputs": [],
   "source": [
    "import numpy as np\n",
    "import pandas as pd\n",
    "\n",
    "import matplotlib as mpl\n",
    "import matplotlib.pyplot as plt\n",
    "%matplotlib inline\n",
    "\n",
    "plt.style.use('seaborn')"
   ]
  },
  {
   "cell_type": "code",
   "execution_count": null,
   "metadata": {},
   "outputs": [],
   "source": [
    "date = pd.to_datetime(\"4th July, 2018\")\n",
    "date.strftime('%A')"
   ]
  },
  {
   "cell_type": "code",
   "execution_count": null,
   "metadata": {},
   "outputs": [],
   "source": [
    "date = pd.to_datetime(\"15th Nov, 2018 at 12:30:45 PM\")\n",
    "date + pd.to_timedelta(2, 'D')"
   ]
  },
  {
   "cell_type": "markdown",
   "metadata": {},
   "source": [
    "The 'D' represented the day, you can use 'M' for the month. The following characters and the corresponding description\n",
    "\n",
    "| Code      | Description |                         \n",
    "|-----------|-------------|\n",
    "|``D``      |Calendar Day |\n",
    "|``W``      |Week |\n",
    "|``M``      |Month |\n",
    "|``Y``      |Year |\n",
    "|``H``      |Hour |\n",
    "|``T``      |Minute |\n",
    "|``S``      |Seconds |\n"
   ]
  },
  {
   "cell_type": "code",
   "execution_count": null,
   "metadata": {},
   "outputs": [],
   "source": [
    "print(\"original date: \", date)\n",
    "print(date + pd.to_timedelta(1, 'M'))\n",
    "print(date + pd.to_timedelta(1, 'T'))\n",
    "print(date + pd.to_timedelta(1, 'W'))\n",
    "print(date + pd.to_timedelta(365, 'D'))\n"
   ]
  },
  {
   "cell_type": "markdown",
   "metadata": {},
   "source": [
    "## Working with Google stock price data\n",
    "\n",
    "This data was extracted from [Yahoo-finance](https://finance.yahoo.com/quote/GOOG/chart?p=GOOG) data. "
   ]
  },
  {
   "cell_type": "code",
   "execution_count": null,
   "metadata": {},
   "outputs": [],
   "source": [
    "goog = pd.read_csv(\"./data/Google_Stock_Price.csv\")\n",
    "goog.head()"
   ]
  },
  {
   "cell_type": "code",
   "execution_count": null,
   "metadata": {},
   "outputs": [],
   "source": [
    "goog.dtypes"
   ]
  },
  {
   "cell_type": "markdown",
   "metadata": {},
   "source": [
    "Note that the `Date` column is read as an `object` which is equivalent to a string. However, it'll be a lot more beneficial if we convert it to a datetime format. "
   ]
  },
  {
   "cell_type": "markdown",
   "metadata": {},
   "source": [
    "## `pd.to_datetime` \n",
    "\n",
    "`pd.to_datetime` is used to convert a column read as string to a datetime object. \n",
    "\n",
    "Oftentimes, the `to_datetime()` method is smart to figure out the format of the date, however, sometimes it might be necessary to provide the `format` parameter. [Look](http://pandas.pydata.org/pandas-docs/stable/generated/pandas.to_datetime.html) here for more options. "
   ]
  },
  {
   "cell_type": "code",
   "execution_count": null,
   "metadata": {},
   "outputs": [],
   "source": [
    "# Converting the date and replacing it with the same column \n",
    "goog['Date'] = pd.to_datetime(goog['Date'])\n",
    "goog.dtypes"
   ]
  },
  {
   "cell_type": "markdown",
   "metadata": {},
   "source": [
    "Now notice that the `Date` column is no more an object but as a `datetime64` data type. Though, it might not change it visually it has a lot more advantages as we will see later. "
   ]
  },
  {
   "cell_type": "code",
   "execution_count": null,
   "metadata": {},
   "outputs": [],
   "source": [
    "goog.head()"
   ]
  },
  {
   "cell_type": "code",
   "execution_count": null,
   "metadata": {},
   "outputs": [],
   "source": [
    "goog['Date'].max()"
   ]
  },
  {
   "cell_type": "code",
   "execution_count": null,
   "metadata": {},
   "outputs": [],
   "source": [
    "goog['Date'].min()"
   ]
  },
  {
   "cell_type": "markdown",
   "metadata": {},
   "source": [
    "# Pandas Time Series"
   ]
  },
  {
   "cell_type": "markdown",
   "metadata": {},
   "source": [
    "## Setting the index"
   ]
  },
  {
   "cell_type": "markdown",
   "metadata": {},
   "source": [
    "You can use `set_index` method to set a specific column as an index. \n",
    "\n",
    "In here we are setting `Date` column as a index. "
   ]
  },
  {
   "cell_type": "code",
   "execution_count": null,
   "metadata": {},
   "outputs": [],
   "source": [
    "goog.set_index('Date', inplace=True)\n",
    "goog.head()"
   ]
  },
  {
   "cell_type": "markdown",
   "metadata": {},
   "source": [
    "## Indexing by Time\n",
    "\n",
    "DateTime object as an index is very useful for selection, grouping and doing a lot of timeseries manipulations. "
   ]
  },
  {
   "cell_type": "markdown",
   "metadata": {},
   "source": [
    "### Selection based on the index"
   ]
  },
  {
   "cell_type": "code",
   "execution_count": null,
   "metadata": {},
   "outputs": [],
   "source": [
    "#Selecting the range of dates \n",
    "goog.loc['2007-09-17': '2007-09-21']"
   ]
  },
  {
   "cell_type": "code",
   "execution_count": null,
   "metadata": {},
   "outputs": [],
   "source": [
    "#The indexing is now smart to read your dates for indexing\n",
    "goog.loc['Nov 7th 2015':'Nov 16th 2015']"
   ]
  },
  {
   "cell_type": "code",
   "execution_count": null,
   "metadata": {},
   "outputs": [],
   "source": [
    "#You can select the whole month or year\n",
    "goog.loc['Dec 2015']"
   ]
  },
  {
   "cell_type": "code",
   "execution_count": null,
   "metadata": {},
   "outputs": [],
   "source": [
    "# You can do the average stock price in the month of Jan in 2014\n",
    "\n",
    "goog.loc['Jan 2014']['Close'].mean()"
   ]
  },
  {
   "cell_type": "markdown",
   "metadata": {},
   "source": [
    "Notice that there are three things happening in the above statement in computing the mean closing price in the month of January. \n",
    "* First we are selecting all the rows with index or dates in January of 2014\n",
    "* Then we are selecing the 'Close' column which is the closing price of the stock \n",
    "* We are computing the mean. "
   ]
  },
  {
   "cell_type": "code",
   "execution_count": null,
   "metadata": {},
   "outputs": [],
   "source": [
    "# You can also do a very smart indexing with pandas time series objects\n",
    "\n",
    "# NOTICE HOW YOU CAN SPECIFY THE DATES IN ANY FORMAT YOU WANT\n",
    "\n",
    "goog.loc['Nov 2011':'12/2011':4]"
   ]
  },
  {
   "cell_type": "markdown",
   "metadata": {},
   "source": [
    "Notice that it is getting the rows from Nov 2011 to Dec 2011, and the last :4 is saying get every 4th day in the data. "
   ]
  },
  {
   "cell_type": "markdown",
   "metadata": {},
   "source": [
    "# Activity\n",
    "\n",
    "We will work with dataset based on the Group Project 1, but now work with time series data based on departure time. "
   ]
  },
  {
   "cell_type": "code",
   "execution_count": null,
   "metadata": {},
   "outputs": [],
   "source": [
    "flights = pd.read_csv(\"./data/flights_departures.csv\")\n",
    "flights.head()"
   ]
  },
  {
   "cell_type": "code",
   "execution_count": null,
   "metadata": {},
   "outputs": [],
   "source": [
    "flights.dtypes"
   ]
  },
  {
   "cell_type": "markdown",
   "metadata": {},
   "source": [
    "#### Step 1\n",
    "\n",
    "* Convert the 'DEPARTURE_DATETIME' to a datetime data type.\n",
    "* Now look at the dtypes of the 'flights' DataFrame by typing flights.dtypes"
   ]
  },
  {
   "cell_type": "code",
   "execution_count": null,
   "metadata": {},
   "outputs": [],
   "source": []
  },
  {
   "cell_type": "markdown",
   "metadata": {},
   "source": [
    "#### Step 2\n",
    "\n",
    "* Set the 'DEPARTURE_DATETIME' as an index for the flights DataFrame. "
   ]
  },
  {
   "cell_type": "code",
   "execution_count": null,
   "metadata": {},
   "outputs": [],
   "source": []
  },
  {
   "cell_type": "markdown",
   "metadata": {},
   "source": [
    "#### Step 3: Selecting and producing summary statistics by using DateTime index\n",
    "\n",
    "Keep in mind that all these summary statistis are on the sample of the data and not on the actual datasets. \n",
    "\n",
    "* Select all the flights that are on Nov 15th 2015. \n",
    "* How many flights are in the dataset on July 4th 2015? \n",
    "* How many unique airlines were there are on the labor day of 2015? \n",
    "    * You might have to google the date for the labor day in 2015 as pandas is not smart to figure this out. \n",
    "* What is the median distance traveled by flights between July 15th 2015 and July 20th 2015? "
   ]
  },
  {
   "cell_type": "code",
   "execution_count": null,
   "metadata": {},
   "outputs": [],
   "source": []
  },
  {
   "cell_type": "markdown",
   "metadata": {},
   "source": [
    "# Plotting TimeSeries data\n",
    "\n",
    "Once you have the timeseries as an index for a DataFrame or Series, it becomes really easy to plot using `matplotlib`"
   ]
  },
  {
   "cell_type": "code",
   "execution_count": null,
   "metadata": {},
   "outputs": [],
   "source": [
    "# Extract the OHLC (Open, High, Low, Close) columns of the dataset. \n",
    "\n",
    "goog_new = goog[['Open','High','Low','Close']]"
   ]
  },
  {
   "cell_type": "code",
   "execution_count": null,
   "metadata": {},
   "outputs": [],
   "source": [
    "goog_new.head()"
   ]
  },
  {
   "cell_type": "markdown",
   "metadata": {},
   "source": [
    "### Plotting timeseries data"
   ]
  },
  {
   "cell_type": "code",
   "execution_count": null,
   "metadata": {},
   "outputs": [],
   "source": [
    "figure, axes = plt.subplots(figsize=(12,8))\n",
    "\n",
    "goog_new.plot(ax=axes)"
   ]
  },
  {
   "cell_type": "markdown",
   "metadata": {},
   "source": [
    "The above plot is plotting the four lines for each of the Open, High, Low and Close price of Google for each day. "
   ]
  },
  {
   "cell_type": "markdown",
   "metadata": {},
   "source": [
    "### Plotting only slices of the dataset\n",
    "\n",
    "For example let us see the price of Google in Nov 2008 (during the time of financial crisis)"
   ]
  },
  {
   "cell_type": "code",
   "execution_count": null,
   "metadata": {},
   "outputs": [],
   "source": [
    "figure, axes = plt.subplots()\n",
    "\n",
    "goog_new.loc['Nov 2008'].plot(ax = axes)"
   ]
  },
  {
   "cell_type": "markdown",
   "metadata": {},
   "source": [
    "### Plotting the closing price of Google\n",
    "\n",
    "Since all the four columns (Open, High, Low, Close) are on the same scale, it makes sense to plot all of them. However, not all times the columns of a DataFrame are on the same scale. So you can select the column you want to plot. "
   ]
  },
  {
   "cell_type": "code",
   "execution_count": null,
   "metadata": {},
   "outputs": [],
   "source": [
    "figure, axes = plt.subplots()\n",
    "axes.plot(goog_new['Close'], label=\"Close\")\n",
    "# goog_new['Close'].plot(ax = axes)\n",
    "axes.legend()"
   ]
  },
  {
   "cell_type": "markdown",
   "metadata": {},
   "source": [
    "### Plotting a slice of closing price of Google"
   ]
  },
  {
   "cell_type": "code",
   "execution_count": null,
   "metadata": {},
   "outputs": [],
   "source": [
    "figure, axes = plt.subplots()\n",
    "\n",
    "goog_new.loc['2007 Dec':'2009 May']['Close'].plot(ax = axes)\n",
    "axes.legend()"
   ]
  },
  {
   "cell_type": "markdown",
   "metadata": {},
   "source": [
    "Plot two columns if you think they both are on the same scale. "
   ]
  },
  {
   "cell_type": "code",
   "execution_count": null,
   "metadata": {},
   "outputs": [],
   "source": [
    "goog_new.loc['2007 Dec':'2009 May'][['High', 'Low']]"
   ]
  },
  {
   "cell_type": "code",
   "execution_count": null,
   "metadata": {},
   "outputs": [],
   "source": [
    "figure, axes = plt.subplots()\n",
    "\n",
    "goog_new.loc['2007 Dec':'2009 May'][['High', 'Low']].plot(ax = axes)\n",
    "axes.legend()"
   ]
  },
  {
   "cell_type": "markdown",
   "metadata": {},
   "source": [
    "# Activity\n",
    "\n",
    "We will use the flights DataFrame for this activity. "
   ]
  },
  {
   "cell_type": "code",
   "execution_count": null,
   "metadata": {},
   "outputs": [],
   "source": [
    "figure, axes = plt.subplots()\n",
    "flights.plot(ax = axes)"
   ]
  },
  {
   "cell_type": "markdown",
   "metadata": {},
   "source": [
    "This does not make sense as all of the columns here are not on the same scale. "
   ]
  },
  {
   "cell_type": "markdown",
   "metadata": {},
   "source": [
    "### Plotting Activity\n",
    "\n",
    "Plot the following details from the dataset\n",
    "* Plot the 'AIR_TIME' for the dataset. \n",
    "* Plot the 'DEPARTURE_DELAY' for the flights on 15th August 2015\n",
    "* Plot the 'TAXI_IN' and 'TAXI_OUT' for the flights on July 4th 2015"
   ]
  },
  {
   "cell_type": "code",
   "execution_count": null,
   "metadata": {},
   "outputs": [],
   "source": []
  },
  {
   "cell_type": "markdown",
   "metadata": {},
   "source": [
    "# Time Series Operations: Resampling and Windowing\n",
    "\n",
    "Resampling and windowing techniques are very similar to the groupby operations that we have learned earlier, however, they are much more simple and easy to achieve with DateTime as an index to a DataFrame or Series in `pandas`.  "
   ]
  },
  {
   "cell_type": "markdown",
   "metadata": {},
   "source": [
    "## `resample()` and `asfreq()` methods\n",
    "\n",
    "`resample()` method needs to be provided with a frequency for resampling a given frequency. For example, if you provide the frequencey as 'M' for month, it is similar to the groupby month operation for each unique month in the dataset and then you can apply aggregate operations. \n",
    "\n",
    "`asfreq()` method just provides the the value at the end of that frequency. For example, if the frequency is 'M' for month, then it provides the value all the columns on the last day of each month. \n",
    "\n",
    "The notation used in frequency specification is given by the table along with description. \n",
    "\n",
    "\n",
    "| Code      | Description |                         \n",
    "|-----------|-------------|\n",
    "|``D``      |Calendar Day |\n",
    "|``W``      |Weekly  |\n",
    "|``M``      |Month end |\n",
    "|``Q``      |Quarter end |\n",
    "|``A``      |Year end |\n",
    "|``H``      |Hours |\n",
    "|``T``      |Minutes |\n",
    "|``S``      |Seconds |\n",
    "|``B``      |Business day|\n",
    "|``BM``      |Business Month end|\n",
    "|``BQ``      |Business Quarter end|\n",
    "|``BA``      |Business Year end|\n",
    "|``BH``      |Business Hours|"
   ]
  },
  {
   "cell_type": "code",
   "execution_count": null,
   "metadata": {},
   "outputs": [],
   "source": [
    "# Average Google price for the whole year (from the beginning to) the end of each year\n",
    "goog.resample('A').mean()\n"
   ]
  },
  {
   "cell_type": "markdown",
   "metadata": {},
   "source": [
    "You can think of the above resample() and mean() as groupby the year and then compute the mean for each year. However, this is much more simpler and easy to achieve as you can specify any frequency you want. "
   ]
  },
  {
   "cell_type": "code",
   "execution_count": null,
   "metadata": {},
   "outputs": [],
   "source": [
    "# asfreq gives you the exact price on the very last day of each year. \n",
    "goog.asfreq('A')"
   ]
  },
  {
   "cell_type": "markdown",
   "metadata": {},
   "source": [
    "Notice that there is no price for 31st Dec 2011, because it was a Saturday, not a working day. You can get the last business day of the year by using 'BA'. "
   ]
  },
  {
   "cell_type": "code",
   "execution_count": null,
   "metadata": {},
   "outputs": [],
   "source": [
    "goog.asfreq('BA')"
   ]
  },
  {
   "cell_type": "code",
   "execution_count": null,
   "metadata": {},
   "outputs": [],
   "source": [
    "goog.resample('BM').median().head()"
   ]
  },
  {
   "cell_type": "markdown",
   "metadata": {},
   "source": [
    "**NOTE:** You can also sepcifiy a number for the resampling. For example, you can resample every 5 days using 5D. "
   ]
  },
  {
   "cell_type": "code",
   "execution_count": null,
   "metadata": {},
   "outputs": [],
   "source": [
    "goog.resample('5D').mean().head(10)"
   ]
  },
  {
   "cell_type": "markdown",
   "metadata": {},
   "source": [
    "### Plotting by resampling the data"
   ]
  },
  {
   "cell_type": "code",
   "execution_count": null,
   "metadata": {},
   "outputs": [],
   "source": [
    "goog_close = goog['Close']\n",
    "\n",
    "figure, axes = plt.subplots(figsize=(12,8))\n",
    "\n",
    "goog_close.plot(alpha = 0.5, style = '-', label='original')\n",
    "goog_close.resample('BA').mean().plot(style=':', label='resample')\n",
    "goog_close.asfreq('BA').plot(style='--',label='asfreq')\n",
    "axes.legend()"
   ]
  },
  {
   "cell_type": "markdown",
   "metadata": {},
   "source": [
    "# Rolling Window using `rolling()` method\n",
    "\n",
    "A lot of times you may not want to compute the average at the end of the year or end of the month, but compute the rolling average (or any summary statistic) as the data moves along. You can do that by using `rolling()` method. "
   ]
  },
  {
   "cell_type": "code",
   "execution_count": null,
   "metadata": {
    "scrolled": false
   },
   "outputs": [],
   "source": [
    "goog.rolling(7).mean()"
   ]
  },
  {
   "cell_type": "markdown",
   "metadata": {},
   "source": [
    "**NOTE**: Since in this case, each row is a day it might seem like it is last 7 days, but the parameter means 7 observations (that is, 7 business days). "
   ]
  },
  {
   "cell_type": "markdown",
   "metadata": {},
   "source": [
    "### Plotting the rolling window averages"
   ]
  },
  {
   "cell_type": "code",
   "execution_count": null,
   "metadata": {},
   "outputs": [],
   "source": [
    "goog_close = goog['Close']\n",
    "\n",
    "figure, axes = plt.subplots(figsize=(12,8))\n",
    "goog_close.plot(ax = axes, label = 'actual')\n",
    "goog_close.rolling(365).mean().plot(ax = axes, label = 'rolling_365')\n",
    "axes.legend()"
   ]
  },
  {
   "cell_type": "markdown",
   "metadata": {},
   "source": [
    "# Activity\n",
    "\n",
    "Again we will use flights data for this activity. "
   ]
  },
  {
   "cell_type": "code",
   "execution_count": null,
   "metadata": {},
   "outputs": [],
   "source": [
    "flights.head()"
   ]
  },
  {
   "cell_type": "markdown",
   "metadata": {},
   "source": [
    "### Activity on `resampling()`, `rolling()`\n",
    "\n",
    "* Compute the average DISTANCE travelled by flights in each month\n",
    "* Compute the median AIR_TIME of the flights in 45 days\n",
    "* Compute rolling average of DEPARTURE_DELAY for the last 30 obeservations"
   ]
  },
  {
   "cell_type": "code",
   "execution_count": null,
   "metadata": {},
   "outputs": [],
   "source": []
  },
  {
   "cell_type": "markdown",
   "metadata": {},
   "source": [
    "### Activity on plotting the resampling and rolling data\n",
    "\n",
    "Plot the following details\n",
    "* Plot the rolling average DISTANCE of previous 500 observations in the dataset"
   ]
  },
  {
   "cell_type": "code",
   "execution_count": null,
   "metadata": {},
   "outputs": [],
   "source": []
  }
 ],
 "metadata": {
  "kernelspec": {
   "display_name": "Python 3",
   "language": "python",
   "name": "python3"
  },
  "language_info": {
   "codemirror_mode": {
    "name": "ipython",
    "version": 3
   },
   "file_extension": ".py",
   "mimetype": "text/x-python",
   "name": "python",
   "nbconvert_exporter": "python",
   "pygments_lexer": "ipython3",
   "version": "3.7.4"
  }
 },
 "nbformat": 4,
 "nbformat_minor": 2
}
