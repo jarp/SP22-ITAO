{
 "cells": [
  {
   "cell_type": "code",
   "execution_count": null,
   "metadata": {},
   "outputs": [],
   "source": [
    "price = 2.50\n",
    "\n",
    "amount = float(input(\"How many pounds of apples are you buying? \"))\n",
    "money = float(input(\"How much money do you have? \"))\n",
    "\n",
    "cost = amount * price\n",
    "\n",
    "print(cost)\n",
    "change = money - cost\n",
    "print(change)\n",
    "\n",
    "if change > 0:\n",
    "    print(\"you get ${:.2f} back in change\".format(change))\n",
    "elif change < 0:\n",
    "    print(\"you need to pay me ${:.2f} more\".format(abs(change)))\n",
    "    print(\"you need to pay me ${:.2f} more\".format(change * -1))\n",
    "else:\n",
    "    print(\"Wow exact change!!!!\")"
   ]
  },
  {
   "cell_type": "code",
   "execution_count": null,
   "metadata": {},
   "outputs": [],
   "source": [
    "year = 2008\n",
    "\n",
    "#if year % 4 == 0 and year % 100 != 0:\n",
    "# if year % 4 == 0 and not year % 100 == 0:\n",
    "if ( year % 4 == 0 ) and not ( year % 100 == 0 ):\n",
    "# if ( year % 4 == 0 ) and ( not year % 100 == 0 ):\n",
    "    print('leap!!!!!')\n",
    "else:\n",
    "    print('boring')"
   ]
  }
 ],
 "metadata": {
  "kernelspec": {
   "display_name": "Python 3",
   "language": "python",
   "name": "python3"
  },
  "language_info": {
   "codemirror_mode": {
    "name": "ipython",
    "version": 3
   },
   "file_extension": ".py",
   "mimetype": "text/x-python",
   "name": "python",
   "nbconvert_exporter": "python",
   "pygments_lexer": "ipython3",
   "version": "3.7.4"
  }
 },
 "nbformat": 4,
 "nbformat_minor": 2
}
